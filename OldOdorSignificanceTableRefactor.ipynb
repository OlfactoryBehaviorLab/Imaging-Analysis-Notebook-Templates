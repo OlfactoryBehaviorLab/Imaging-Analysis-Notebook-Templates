{
 "cells": [
  {
   "metadata": {
    "ExecuteTime": {
     "end_time": "2024-09-20T21:41:38.729031Z",
     "start_time": "2024-09-20T21:41:38.254064Z"
    }
   },
   "cell_type": "code",
   "source": [
    "import os\n",
    "os.environ['ISX'] = '0'\n",
    "\n",
    "import numpy as np\n",
    "import pandas as pd\n",
    "from pathlib import Path\n",
    "\n",
    "from dewan_calcium.helpers import IO"
   ],
   "id": "6f49c996a66522df",
   "outputs": [],
   "execution_count": 1
  },
  {
   "cell_type": "code",
   "id": "5d8f7883-7544-4c8d-a2e3-32da1e3ee795",
   "metadata": {
    "ExecuteTime": {
     "end_time": "2024-09-20T21:41:39.888955Z",
     "start_time": "2024-09-20T21:41:39.875932Z"
    }
   },
   "source": [
    " ## animal and date must match old project exactly\n",
    "animal = 'VGAT-39-Conc' \n",
    "date = '5-30-24'\n",
    "\n",
    "fileHeader = animal + '-' + date + '-'"
   ],
   "outputs": [],
   "execution_count": 2
  },
  {
   "cell_type": "code",
   "id": "581d2227-89b4-44cb-8eef-2360b42c869c",
   "metadata": {
    "ExecuteTime": {
     "end_time": "2024-09-20T21:41:42.122721Z",
     "start_time": "2024-09-20T21:41:41.892422Z"
    }
   },
   "source": [
    "folder = ['ImagingAnalysis', 'AUROCData']\n",
    "folder = Path(*folder)\n",
    "\n",
    "onTimeAUROCSignificanceTable = IO.load_data_from_disk('onTimeAUROCSignificanceTable', fileHeader, folder)\n",
    "latentAUROCSignificanceTable = IO.load_data_from_disk('latentAUROCSignificanceTable', fileHeader, folder)\n",
    "\n",
    "folder = ['ImagingAnalysis', 'PreProcessedData']\n",
    "folder = Path(*folder)\n",
    "\n",
    "CellList = IO.load_data_from_disk('CellList', fileHeader, folder)\n",
    "OdorData = IO.load_data_from_disk('OdorData', fileHeader, folder)"
   ],
   "outputs": [
    {
     "name": "stdout",
     "output_type": "stream",
     "text": [
      "VGAT-39-Conc-5-30-24-onTimeAUROCSignificanceTable has loaded successfully!\n",
      "VGAT-39-Conc-5-30-24-latentAUROCSignificanceTable has loaded successfully!\n",
      "VGAT-39-Conc-5-30-24-CellList has loaded successfully!\n",
      "VGAT-39-Conc-5-30-24-OdorData has loaded successfully!\n"
     ]
    }
   ],
   "execution_count": 3
  },
  {
   "metadata": {
    "ExecuteTime": {
     "end_time": "2024-09-20T21:44:35.087932Z",
     "start_time": "2024-09-20T21:44:35.051283Z"
    }
   },
   "cell_type": "code",
   "source": [
    "new_significance_table = pd.DataFrame()\n",
    "\n",
    "CellList = [f'C{num}' for num in CellList]\n",
    "odors = np.unique(OdorData)\n",
    "onTimeAUROCSignificanceTable = pd.DataFrame(onTimeAUROCSignificanceTable).astype(int).T\n",
    "latentAUROCSignificanceTable = pd.DataFrame(latentAUROCSignificanceTable).astype(int).T\n",
    "onTimeAUROCSignificanceTable.columns=CellList\n",
    "latentAUROCSignificanceTable.columns=CellList\n",
    "latentAUROCSignificanceTable[latentAUROCSignificanceTable==1] = 3\n",
    "latentAUROCSignificanceTable[latentAUROCSignificanceTable==2] = 4\n",
    "\n",
    "for cell in CellList:\n",
    "    on_time_data = onTimeAUROCSignificanceTable[cell]\n",
    "    latent_data = latentAUROCSignificanceTable[cell]\n",
    "    \n",
    "    zero_mask = on_time_data == 0\n",
    "    \n",
    "    significance_data = on_time_data.copy()\n",
    "    \n",
    "    significance_data.loc[zero_mask] = latent_data.loc[zero_mask]\n",
    "    new_significance_table = pd.concat([new_significance_table,significance_data], axis=1)\n",
    "    \n",
    "new_significance_table.index=odors\n",
    "\n",
    "significance_table_file_path = f'{fileHeader}SignificanceTable.xlsx'\n",
    "new_significance_table.to_excel(significance_table_file_path)"
   ],
   "id": "a59091d2663eceeb",
   "outputs": [],
   "execution_count": 7
  }
 ],
 "metadata": {
  "kernelspec": {
   "display_name": "Python 3 (ipykernel)",
   "language": "python",
   "name": "python3"
  },
  "language_info": {
   "codemirror_mode": {
    "name": "ipython",
    "version": 3
   },
   "file_extension": ".py",
   "mimetype": "text/x-python",
   "name": "python",
   "nbconvert_exporter": "python",
   "pygments_lexer": "ipython3",
   "version": "3.10.0"
  },
  "vscode": {
   "interpreter": {
    "hash": "977baf04aa409d7582f6e94b1f1f1d2e9ac45da44046a9cec7b1a770a676514b"
   }
  }
 },
 "nbformat": 4,
 "nbformat_minor": 5
}
