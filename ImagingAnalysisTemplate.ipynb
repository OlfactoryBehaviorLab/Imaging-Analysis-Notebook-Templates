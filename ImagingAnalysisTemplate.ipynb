{
 "cells": [
  {
   "cell_type": "markdown",
   "id": "1daf917d-f5f9-42ea-baaa-08fcf28b43ce",
   "metadata": {
    "tags": []
   },
   "source": [
    "# Dewan Lab Image Analysis"
   ]
  },
  {
   "attachments": {},
   "cell_type": "markdown",
   "id": "917d0bf4-3426-4326-911d-9a9e0cd1ed80",
   "metadata": {
    "tags": []
   },
   "source": [
    "## 0: Run once to create all needed directories at beginning of a project"
   ]
  },
  {
   "cell_type": "code",
   "execution_count": 1,
   "id": "c884c75e-38a9-431e-8e99-0d8f9fdd85d4",
   "metadata": {
    "ExecuteTime": {
     "end_time": "2023-08-11T20:40:12.284956300Z",
     "start_time": "2023-08-11T20:40:10.199726200Z"
    }
   },
   "outputs": [],
   "source": [
    "from Python.Helpers import DewanIOhandler\n",
    "DewanIOhandler.createProjectFramework()"
   ]
  },
  {
   "attachments": {},
   "cell_type": "markdown",
   "id": "a1ba1747-903f-4eac-8a48-84b44728f3e7",
   "metadata": {
    "tags": []
   },
   "source": [
    "## 1: Always Execute! Load Libraries and User Settings"
   ]
  },
  {
   "attachments": {},
   "cell_type": "markdown",
   "id": "6d1aec8e-a365-49a6-b3ab-d67525a65bdb",
   "metadata": {
    "tags": []
   },
   "source": [
    "### 1a: Import Libraries"
   ]
  },
  {
   "cell_type": "code",
   "execution_count": 2,
   "id": "1dd422e6-969e-4c1f-8301-2afc3ce3d4b5",
   "metadata": {
    "ExecuteTime": {
     "end_time": "2023-08-14T17:53:46.667592500Z",
     "start_time": "2023-08-14T17:53:46.613593Z"
    }
   },
   "outputs": [],
   "source": [
    "%load_ext autoreload\n",
    "%autoreload 2"
   ]
  },
  {
   "cell_type": "code",
   "execution_count": 3,
   "id": "48174929-fd1b-48cc-ab99-9ff1bcd9f06e",
   "metadata": {
    "tags": [],
    "ExecuteTime": {
     "end_time": "2023-08-14T17:53:54.211401100Z",
     "start_time": "2023-08-14T17:53:47.033387700Z"
    }
   },
   "outputs": [],
   "source": [
    "import numpy as np\n",
    "import pandas as pd\n",
    "from tqdm import trange\n",
    "from Python.Helpers import DewanDataStore\n",
    "from Python.Helpers import DewanImportDataHelper\n",
    "from Python.Helpers import DewanIOhandler\n",
    "from Python import DewanAUROC\n",
    "from Python import DewanPlotting\n",
    "from Python import DewanStats\n",
    "from Python import DewanManualCuration"
   ]
  },
  {
   "attachments": {},
   "cell_type": "markdown",
   "id": "d57a7bb0-be75-4f25-b35d-6732d0ea7dfa",
   "metadata": {
    "tags": []
   },
   "source": [
    "### 1b: User Configurables"
   ]
  },
  {
   "cell_type": "code",
   "execution_count": 4,
   "id": "5d8f7883-7544-4c8d-a2e3-32da1e3ee795",
   "metadata": {
    "ExecuteTime": {
     "end_time": "2023-08-14T17:53:54.307403500Z",
     "start_time": "2023-08-14T17:53:54.224401300Z"
    }
   },
   "outputs": [],
   "source": [
    "animal = 'VGAT5'\n",
    "date = '11-16-22'\n",
    "\n",
    "# Settings for Inscopix box\n",
    "LED_power = 1\n",
    "GAIN = 2.2\n",
    "FOCUS = 250\n",
    "\n",
    "PreTrialTime = 3.5  # Imaging time before the final valve opens\n",
    "PostTrialTime = 3.5  # Imaging time after final valve closes\n",
    "\n",
    "# Criterion for determining good trials vs bad trials, will be used later\n",
    "goodCriterion = 0.5\n",
    "# in the findGoodTrials segment\n",
    "\n",
    "\n",
    "# Configurables for AUROC\n",
    "baselineDuration = 2  # number of seconds before the fvOnTime\n",
    "responseDuration = 2  # number of seconds after the fvOnTime\n",
    "PlotFigures = True\n",
    "\n",
    "fileHeader = animal + '-' + date + '-'\n"
   ]
  },
  {
   "attachments": {},
   "cell_type": "markdown",
   "id": "333708ce-48b1-4382-9e74-a6ae099f190c",
   "metadata": {
    "tags": []
   },
   "source": [
    "## 2: Data Import and Processing"
   ]
  },
  {
   "attachments": {},
   "cell_type": "markdown",
   "id": "85f73484-fb78-4bef-8328-bd312d9abbc3",
   "metadata": {
    "tags": []
   },
   "source": [
    "### 2a: Import and pre-process the raw data"
   ]
  },
  {
   "cell_type": "code",
   "execution_count": 5,
   "outputs": [],
   "source": [
    "# Read in data for processing.  Needs Cell Traces, Odor List, and GPIO file.\n",
    "folder = './ImagingAnalysis/RawData/'\n",
    "\n",
    "CellTraceData = pd.read_csv(\n",
    "    f'{folder}/CellTraces.csv', header=None, skiprows=2, engine='pyarrow')\n",
    "#OdorData = np.array(pd.read_excel(\n",
    "    #f'{folder}/OdorList.xlsx', usecols=[0], header=None))\n",
    "#GPIOData = pd.read_csv(f'{folder}/GPIO.csv', header=None, engine='pyarrow')\n",
    "AllCellProps = pd.read_csv(f'{folder}/Props.csv', header=0, engine='pyarrow')"
   ],
   "metadata": {
    "collapsed": false,
    "ExecuteTime": {
     "end_time": "2023-08-14T17:53:54.668862800Z",
     "start_time": "2023-08-14T17:53:54.309402500Z"
    }
   }
  },
  {
   "cell_type": "code",
   "execution_count": 6,
   "outputs": [],
   "source": [
    "CellKeys, CellOutlines = DewanIOhandler.get_outline_coordinates()"
   ],
   "metadata": {
    "collapsed": false,
    "ExecuteTime": {
     "end_time": "2023-08-14T17:53:54.763000200Z",
     "start_time": "2023-08-14T17:53:54.671864800Z"
    }
   }
  },
  {
   "cell_type": "code",
   "execution_count": 7,
   "outputs": [],
   "source": [
    "# Get indicies where there are only one cell part\n",
    "OnePieceCells = np.where(AllCellProps['NumComponents'] == 1)[0]"
   ],
   "metadata": {
    "collapsed": false,
    "ExecuteTime": {
     "end_time": "2023-08-14T17:53:54.858001500Z",
     "start_time": "2023-08-14T17:53:54.766002700Z"
    }
   }
  },
  {
   "cell_type": "code",
   "execution_count": 8,
   "outputs": [],
   "source": [
    "CellList = np.arange(len(OnePieceCells))\n",
    "# Filter out all the bad cell trace data, leaving only the good cells\n",
    "CellList = CellList[OnePieceCells]\n",
    "CellKeys = CellKeys[OnePieceCells]\n",
    "CellTraceData = CellTraceData.apply(pd.to_numeric, errors='coerce')  # Convert everything to numbers\n",
    "#CellTraceData = np.array(CellTraceData)  # Convert pandas DF to np.array"
   ],
   "metadata": {
    "collapsed": false,
    "ExecuteTime": {
     "end_time": "2023-08-14T17:53:54.970677200Z",
     "start_time": "2023-08-14T17:53:54.861001600Z"
    }
   }
  },
  {
   "cell_type": "code",
   "execution_count": null,
   "outputs": [],
   "source": [
    "# Manual Curation Will Happen; please do not run twice\n",
    "MaxProjection = '.\\\\ImagingAnalysis\\\\RawData\\\\Max_Projection.tiff'\n",
    "\n",
    "GoodCells = DewanManualCuration.manual_curation_gui(CellList, CellTraceData, MaxProjection, CellKeys, CellOutlines)\n",
    "if GoodCells is None:\n",
    "    print('Error!')"
   ],
   "metadata": {
    "collapsed": false
   }
  },
  {
   "cell_type": "code",
   "execution_count": 14,
   "outputs": [],
   "source": [],
   "metadata": {
    "collapsed": false,
    "ExecuteTime": {
     "end_time": "2023-08-14T00:55:15.164138Z",
     "start_time": "2023-08-14T00:55:15.026139Z"
    }
   }
  },
  {
   "cell_type": "code",
   "execution_count": 96,
   "outputs": [],
   "source": [
    "import cv2\n",
    "from PIL import Image, ImageDraw, ImageFont\n",
    "\n",
    "font=ImageFont.truetype('arial.ttf', 10)\n",
    "\n",
    "MaxProjection = '.\\\\ImagingAnalysis\\\\RawData\\\\Max_Projection.tiff'\n",
    "image = cv2.imread(MaxProjection) ## For some reason PIL wont load the image, so we do a little trickery to make it work\n",
    "image = np.array(image)*2 ## Enhance Brightness Slightly\n",
    "image = Image.fromarray(image)\n",
    "\n",
    "drawer = ImageDraw.Draw(image)\n",
    "\n",
    "for each in CellKeys:\n",
    "    points = CellOutlines[each][0]\n",
    "    points = [tuple(x) for x in points]\n",
    "    centroid = tuple(np.mean(points, axis=1).astype(int))\n",
    "    drawer.polygon(points, outline='yellow', width=1)\n",
    "    drawer.text(centroid, str(each[1:]), font=font)\n",
    "\n",
    "\n",
    "scale = 1.5\n",
    "\n",
    "new_size = (int(image.size[0] * scale), int(image.size[1] * scale))\n",
    "image = image.resize(new_size, Image.LANCZOS)\n",
    "\n",
    "image.show()"
   ],
   "metadata": {
    "collapsed": false
   }
  },
  {
   "cell_type": "code",
   "execution_count": null,
   "id": "de8e82bd-0c23-432f-a462-69835dce5805",
   "metadata": {},
   "outputs": [],
   "source": [
    "GoodCellProperties = AllCellProps.iloc[GoodCells,:]\n",
    "GoodCellProperties.reset_index()\n",
    "CellList = CellList[GoodCells]\n",
    "# Insert 1 at the beginning of the truth table, makes filtering bad cells out of trace data easier"
   ]
  },
  {
   "cell_type": "code",
   "execution_count": 14,
   "outputs": [],
   "source": [
    "CellTraceData[:, GoodCells] = CellTraceData[:, GoodCells]\n",
    "CellTraceData[:, 0] = CellTraceData[:, 0].round(2)  # Round the times to 0.2\n",
    "GPIOData.iloc[:, 1] = GPIOData.iloc[:, 1].str.replace(' ', '')  # Remove Random Spaces"
   ],
   "metadata": {
    "collapsed": false,
    "ExecuteTime": {
     "end_time": "2023-07-30T18:50:32.704478500Z",
     "start_time": "2023-07-30T18:50:20.376316Z"
    }
   }
  },
  {
   "cell_type": "code",
   "execution_count": 15,
   "outputs": [],
   "source": [
    "GPIO1 = np.array(GPIOData.iloc[:, 1] == \"GPIO-1\")  # Sniff Sensor Data\n",
    "GPIO2 = np.array(GPIOData.iloc[:, 1] == \"GPIO-2\")  # FV Actuation Data\n",
    "# GPIO3 = np.array(GPIOData.iloc[:,1] == \"GPIO-3\")  # Running Wheel Data\n",
    "# GPIO4 = np.array(GPIOData.iloc[:,1] == \"GPIO-4\")  # Lick Data"
   ],
   "metadata": {
    "collapsed": false,
    "ExecuteTime": {
     "end_time": "2023-07-30T18:50:37.250874Z",
     "start_time": "2023-07-30T18:50:32.708847200Z"
    }
   }
  },
  {
   "cell_type": "code",
   "execution_count": 16,
   "outputs": [],
   "source": [
    "#SniffTable = np.array(GPIOData.iloc[GPIO1,:])\n",
    "FVData = np.array(GPIOData.iloc[GPIO2,:])"
   ],
   "metadata": {
    "collapsed": false,
    "ExecuteTime": {
     "end_time": "2023-07-30T18:51:39.691154600Z",
     "start_time": "2023-07-30T18:51:38.210630900Z"
    }
   }
  },
  {
   "cell_type": "code",
   "execution_count": 17,
   "id": "95d2cdf6-36b3-4067-aa7e-5dd78cbc2f1d",
   "metadata": {
    "ExecuteTime": {
     "end_time": "2023-07-30T18:52:19.660527500Z",
     "start_time": "2023-07-30T18:51:43.636173800Z"
    }
   },
   "outputs": [
    {
     "name": "stdout",
     "output_type": "stream",
     "text": [
      "VGAT4-10-17-22-CellTraceData has been saved!\n",
      "VGAT4-10-17-22-GPIOData has been saved!\n",
      "VGAT4-10-17-22-OdorData has been saved!\n",
      "VGAT4-10-17-22-FVdata has been saved!\n",
      "VGAT4-10-17-22-GoodCellProperties has been saved!\n",
      "VGAT4-10-17-22-CellList has been saved!\n"
     ]
    }
   ],
   "source": [
    "# Pickle the reorganized CellTraceData incase its needed later\n",
    "# Saves Cell Traces, GPIO, Odor List, Sniff, FV data, Good Cell Properties, and the list of Good Cells\n",
    "\n",
    "# Once these have been saved, they don't need to be re-run on the same data again unless\n",
    "# the data itself is changed\n",
    "\n",
    "folder = './ImagingAnalysis/PreProcessedData'\n",
    "\n",
    "DewanIOhandler.saveDataToDisk(\n",
    "    CellTraceData, 'CellTraceData', fileHeader, folder)\n",
    "DewanIOhandler.saveDataToDisk(GPIOData, 'GPIOData', fileHeader, folder)\n",
    "DewanIOhandler.saveDataToDisk(OdorData, 'OdorData', fileHeader, folder)\n",
    "#DewanIOhandler.saveDataToDisk(SniffTable, 'SniffTable', fileHeader, folder)\n",
    "DewanIOhandler.saveDataToDisk(FVData, 'FVdata', fileHeader, folder)\n",
    "DewanIOhandler.saveDataToDisk(GoodCellProperties, 'GoodCellProperties', fileHeader, folder)\n",
    "DewanIOhandler.saveDataToDisk(CellList, 'CellList', fileHeader, folder)\n"
   ]
  },
  {
   "attachments": {},
   "cell_type": "markdown",
   "id": "1ba952d5-9392-413e-bf3a-49086c6a583f",
   "metadata": {
    "tags": []
   },
   "source": [
    "### 2b: Checkpoint: Load Preprocessed Data"
   ]
  },
  {
   "cell_type": "code",
   "execution_count": null,
   "id": "0e1a40e5-f3cc-432c-a415-0dbc157caa00",
   "metadata": {},
   "outputs": [],
   "source": [
    "# Opens the saved pickle files.  If the files have already been saved, code can be re-run\n",
    "# starting from this point\n",
    "folder = 'ImagingAnalysis\\PreProcessedData'\n",
    "\n",
    "CellTraceData = DewanIOhandler.loadDataFromDisk(\n",
    "    'CellTraceData', fileHeader, folder)\n",
    "FVData = DewanIOhandler.loadDataFromDisk('FVData', fileHeader, folder)\n",
    "GPIOData = DewanIOhandler.loadDataFromDisk('GPIOData', fileHeader, folder)\n",
    "OdorData = DewanIOhandler.loadDataFromDisk('OdorData', fileHeader, folder)\n",
    "SniffTable = DewanIOhandler.loadDataFromDisk('SniffTable', fileHeader, folder)\n",
    "GoodCellProperties = DewanIOhandler.loadDataFromDisk(\n",
    "    'GoodCellProperties', fileHeader, folder)\n",
    "CellList = DewanIOhandler.loadDataFromDisk('CellList', fileHeader, folder)\n"
   ]
  },
  {
   "attachments": {},
   "cell_type": "markdown",
   "id": "945f4f52",
   "metadata": {},
   "source": [
    "### 2c: Cell Data Complilation"
   ]
  },
  {
   "cell_type": "code",
   "execution_count": 18,
   "outputs": [
    {
     "name": "stderr",
     "output_type": "stream",
     "text": [
      "Processing: 100%|██████████| 7997935/7997935 [00:08<00:00, 942741.24it/s] \n"
     ]
    }
   ],
   "source": [
    "# Parses the final valve data to identify when the final valve is open vs when it is closed.\n",
    "FinalValveValues = FVData[:, 2].astype(float)\n",
    "NumberOfValues = len(FinalValveValues)\n",
    "\n",
    "ValveStatus = 0\n",
    "FinalValveOffIndex = []\n",
    "FinalValveOnIndex = []\n",
    "for i in trange((NumberOfValues - 1), desc=\"Processing: \"):\n",
    "    ValveDataDiff = FinalValveValues[i + 1] - FinalValveValues[i]\n",
    "\n",
    "    if ValveStatus == 0:\n",
    "        if ValveDataDiff > 10000:\n",
    "            FinalValveOnIndex.append(i + 1)\n",
    "            ValveStatus = 1\n",
    "    else:\n",
    "        if ValveDataDiff < -10000:\n",
    "            FinalValveOffIndex.append(i)\n",
    "            ValveStatus = 0\n",
    "\n",
    "FinalValveOffIndex = np.array(FinalValveOffIndex)  # verified to match MTLB\n",
    "FinalValveOnIndex = np.array(FinalValveOnIndex)  # verified to match MTLB"
   ],
   "metadata": {
    "collapsed": false,
    "ExecuteTime": {
     "end_time": "2023-07-30T18:52:46.861281700Z",
     "start_time": "2023-07-30T18:52:36.231679300Z"
    }
   }
  },
  {
   "cell_type": "code",
   "execution_count": 19,
   "id": "e4f82759-442b-4dca-9462-c8d0eb85d49b",
   "metadata": {
    "ExecuteTime": {
     "end_time": "2023-07-30T18:52:47.085636600Z",
     "start_time": "2023-07-30T18:52:46.855286700Z"
    }
   },
   "outputs": [],
   "source": [
    "# creates a list of data for the start and end time points of trials\n",
    "# eliminates bad trials (trials with too short/long of a trial period etc.)\n",
    "# searches through the start and ends of the good trials for matching timepoints\n",
    "# and outputs indices for the on/off points of good trials\n",
    "TrialStartTimes = np.array(FVData[FinalValveOnIndex, 0].astype(float) - PreTrialTime)\n",
    "TrialEndTimes = np.array(FVData[FinalValveOffIndex, 0].astype(float) + PostTrialTime)\n",
    "CellTraceOnIndexes, GoodTrialsOnTimes = DewanImportDataHelper.findGoodTrials(CellTraceData, TrialStartTimes, goodCriterion)\n",
    "CellTraceOffIndexes, GoodTrialsOffTime = DewanImportDataHelper.findGoodTrials(CellTraceData, TrialEndTimes, goodCriterion)\n",
    "GoodTrials, GoodIndexesOn, GoodIndexesOff = DewanImportDataHelper.intersect_matlab(GoodTrialsOnTimes, GoodTrialsOffTime)\n"
   ]
  },
  {
   "cell_type": "code",
   "execution_count": 20,
   "id": "c529f758-339f-4e4c-8d6a-414663579aa5",
   "metadata": {
    "ExecuteTime": {
     "end_time": "2023-07-30T18:52:47.242762700Z",
     "start_time": "2023-07-30T18:52:47.086639800Z"
    }
   },
   "outputs": [],
   "source": [
    "# Index all data by the good trials to exclude data from bad trials\n",
    "\n",
    "CellTraceOnIndexes = CellTraceOnIndexes[GoodIndexesOn.astype(int)]\n",
    "CellTraceOffIndexes = CellTraceOffIndexes[GoodIndexesOff.astype(int)]\n",
    "\n",
    "# https://knowyourmeme.com/photos/1402268 ?????\n",
    "# goodIdx = GoodTrials.astype(int) - 1\n",
    "\n",
    "FinalValveOnIndex = FinalValveOnIndex[GoodTrials.astype(int)]\n",
    "FinalValveOffIndex = FinalValveOffIndex[GoodTrials.astype(int)]\n",
    "TrialStartTimes = TrialStartTimes[GoodTrials.astype(int)]\n",
    "TrialEndTimes = TrialEndTimes[GoodTrials.astype(int)]\n",
    "OdorData = OdorData[GoodTrials.astype(int)]"
   ]
  },
  {
   "cell_type": "markdown",
   "id": "27aa00a8-91bd-451a-98db-1651396435ed",
   "metadata": {
    "jp-MarkdownHeadingCollapsed": true,
    "tags": []
   },
   "source": [
    "#### Sniffing Data Compilation"
   ]
  },
  {
   "cell_type": "code",
   "execution_count": null,
   "id": "5c0146f7-e1c7-47aa-89eb-d6565e91548a",
   "metadata": {},
   "outputs": [],
   "source": [
    "# # Compiles data for sniffing from good trialss\n",
    "# SniffingStartIndexes = np.zeros(FinalValveOnIndex.size)\n",
    "# SniffingEndIndexes = np.zeros(FinalValveOnIndex.size)\n",
    "#\n",
    "# for i in trange(len(GoodTrials), desc=\"Trial: \"):\n",
    "#     TrialStartTime_s = float(FVData[:, 0][FinalValveOnIndex[i]]) - PreTrialTime\n",
    "#     TrialEndTime_s = float(FVData[:, 0][FinalValveOffIndex[i]]) + PostTrialTime\n",
    "#     SniffingStartIndexes[i] = len(np.nonzero(\n",
    "#         SniffTable[:, 0].astype(float) < TrialStartTime_s)[0])\n",
    "#     SniffingEndIndexes[i] = len(np.nonzero(\n",
    "#         SniffTable[:, 0].astype(float) < TrialEndTime_s)[0]) - 1\n",
    "#\n",
    "# NumSniffPoints = np.max(SniffingEndIndexes - SniffingStartIndexes)\n",
    "#\n",
    "# SniffData = np.zeros((NumSniffPoints.astype(int), len(SniffingStartIndexes)))\n",
    "#\n",
    "# for j in trange(len(SniffingStartIndexes), desc=\"Trial: \"):\n",
    "#     SniffLength = SniffingEndIndexes[j] - SniffingStartIndexes[j]\n",
    "#     SniffData[0:int(SniffLength), j] = SniffTable[SniffingStartIndexes[j].astype(\n",
    "#         int):SniffingEndIndexes[j].astype(int), 2]\n",
    "#\n",
    "# DewanIOhandler.saveDataToDisk(\n",
    "#     SniffData, 'SniffData', fileHeader, 'PreProcessedData')\n"
   ]
  },
  {
   "cell_type": "code",
   "execution_count": null,
   "outputs": [],
   "source": [
    "print(CellTraceOffIndexes[-2])\n",
    "print(CellTraceOnIndexes[-2])"
   ],
   "metadata": {
    "collapsed": false
   }
  },
  {
   "attachments": {},
   "cell_type": "markdown",
   "id": "1ff6cfc3-3ede-47d2-a77f-5ef5bf1e6d66",
   "metadata": {
    "tags": []
   },
   "source": [
    "### 2d: Gather all **cell v. time v. trial** data into single array"
   ]
  },
  {
   "cell_type": "code",
   "execution_count": 21,
   "id": "a65fb3c4-85b6-481b-9b54-2715b1807112",
   "metadata": {
    "ExecuteTime": {
     "end_time": "2023-07-30T18:53:16.201654900Z",
     "start_time": "2023-07-30T18:53:16.047655800Z"
    }
   },
   "outputs": [],
   "source": [
    "MaxDataPoints = np.abs(np.max(CellTraceOffIndexes - CellTraceOnIndexes))\n",
    "\n",
    "Data = np.zeros((len(CellList), len(CellTraceOffIndexes), MaxDataPoints.astype(int)))\n",
    "\n",
    "for cell in range(len(CellList)):\n",
    "    for trial in range(len(CellTraceOnIndexes)):\n",
    "        DataSize = (CellTraceOffIndexes[trial] - CellTraceOnIndexes[trial])\n",
    "        Data[cell, trial, :DataSize[0].astype(int)] = CellTraceData[CellTraceOnIndexes[trial][0].astype(\n",
    "            int):CellTraceOffIndexes[trial][0].astype(int), cell + 1]\n",
    "\n",
    "Data = np.delete(Data, 180, 2)\n",
    "Baseline_Shift_Data = Data + abs(np.min(Data))\n"
   ]
  },
  {
   "cell_type": "code",
   "execution_count": 22,
   "id": "92279fbb-842c-4bed-af09-ee0dcf16c7b9",
   "metadata": {
    "ExecuteTime": {
     "end_time": "2023-07-30T18:53:27.209058700Z",
     "start_time": "2023-07-30T18:53:27.076049Z"
    }
   },
   "outputs": [],
   "source": [
    "# Map of trial times relative to startTrial time\n",
    "FinalValveTimeMap = np.zeros((len(CellTraceOffIndexes), MaxDataPoints.astype(int)))\n",
    "# Map of times per trial in unix time for AUROC\n",
    "UnixTimeArray = np.zeros((len(CellTraceOffIndexes), max(\n",
    "    CellTraceOffIndexes - CellTraceOnIndexes).astype(int)[0]))\n",
    "\n",
    "for trial in range(len(CellTraceOffIndexes)):\n",
    "    DataSize = (CellTraceOffIndexes[trial] - CellTraceOnIndexes[trial])\n",
    "    FinalValveTimeMap[trial, :DataSize[0].astype(int)] = CellTraceData[CellTraceOnIndexes[trial][0].astype(\n",
    "        int):CellTraceOffIndexes[trial][0].astype(int), 0] - float(FVData[FinalValveOnIndex[trial], 0])\n",
    "    UnixTimeArray[trial, :DataSize[0].astype(int)] = CellTraceData[CellTraceOnIndexes[trial][0].astype(\n",
    "        int):CellTraceOffIndexes[trial][0].astype(int), 0]\n",
    "\n",
    "FinalValveTimeMap = np.delete(FinalValveTimeMap, 180, 1)\n",
    "UnixTimeArray = np.delete(UnixTimeArray, 180, 1)\n"
   ]
  },
  {
   "attachments": {},
   "cell_type": "markdown",
   "id": "d4200c9a-8cb6-4762-9e03-78f09764ae5a",
   "metadata": {
    "tags": []
   },
   "source": [
    "### 2e: Combined Data Output"
   ]
  },
  {
   "cell_type": "code",
   "execution_count": 27,
   "id": "d88413e5-fd23-4986-b8dc-9df65f977b7c",
   "metadata": {
    "tags": [],
    "ExecuteTime": {
     "end_time": "2023-07-30T18:54:24.918102600Z",
     "start_time": "2023-07-30T18:54:24.776924300Z"
    }
   },
   "outputs": [],
   "source": [
    "OdorIndexes = []\n",
    "\n",
    "for odor in OdorData:\n",
    "    OdorIndexes.append(odor[0])\n",
    "\n",
    "columnNames = ['CentroidX', 'CentroidY', 'NumComponents', 'Size']\n",
    "TableOfContents = pd.DataFrame(GoodCellProperties.iloc[:, 5:9], index = CellList, columns=columnNames)"
   ]
  },
  {
   "cell_type": "code",
   "execution_count": 30,
   "outputs": [
    {
     "name": "stderr",
     "output_type": "stream",
     "text": [
      "Writing Cell: 100%|██████████| 17/17 [00:17<00:00,  1.05s/it]\n"
     ]
    }
   ],
   "source": [
    "\n",
    "path = f'./ImagingAnalysis/CombinedData/{fileHeader}CombinedData.xlsx'\n",
    "writer = pd.ExcelWriter(path, engine='xlsxwriter')\n",
    "\n",
    "TableOfContents.to_excel(writer, sheet_name='TOC')\n",
    "TimeMapSheet = pd.DataFrame(\n",
    "    FinalValveTimeMap[:, :180], np.arange(1, len(CellTraceOffIndexes) + 1))\n",
    "TimeMapSheet.to_excel(writer, sheet_name='TimeMap')\n",
    "\n",
    "for i in trange(len(CellList), desc=\"Writing Cell: \"):\n",
    "    DataDF = pd.DataFrame(Baseline_Shift_Data[i][:][:], OdorIndexes)\n",
    "    #DataDf.index = indexes\n",
    "    DataDF.to_excel(writer, sheet_name='Cell %d' % CellList[i])\n",
    "\n",
    "writer.close()\n",
    "\n",
    "#headers = []\n",
    "\n",
    "# for i in range(len(Sniff[0,:])):\n",
    "# headers.append('Trial ' + str(i))\n",
    "\n",
    "#SniffDF = pd.DataFrame(Sniff)\n",
    "#SniffDF.to_excel('./ImportOutputs/' + fileHeader + 'SniffData.xlsx', sheet_name = 'Data', header=headers)\n"
   ],
   "metadata": {
    "collapsed": false,
    "ExecuteTime": {
     "end_time": "2023-07-30T18:55:53.303995800Z",
     "start_time": "2023-07-30T18:55:29.927580700Z"
    }
   }
  },
  {
   "cell_type": "markdown",
   "source": [
    "### 2f: Save information needed for AUROC"
   ],
   "metadata": {
    "collapsed": false
   }
  },
  {
   "cell_type": "code",
   "execution_count": 33,
   "outputs": [
    {
     "name": "stdout",
     "output_type": "stream",
     "text": [
      "VGAT4-10-17-22-CombinedData has been saved!\n",
      "VGAT4-10-17-22-FVonIdx has been saved!\n",
      "VGAT4-10-17-22-UnixTimeArray has been saved!\n",
      "VGAT4-10-17-22-FVTimeMap has been saved!\n",
      "VGAT4-10-17-22-OdorData has been saved!\n",
      "VGAT4-10-17-22-Baseline_Shift_Data has been saved!\n"
     ]
    }
   ],
   "source": [
    "DewanIOhandler.saveDataToDisk(Data, 'CombinedData', fileHeader, './ImagingAnalysis/CombinedData')\n",
    "\n",
    "folder = './ImagingAnalysis/AUROCImports'\n",
    "DewanIOhandler.saveDataToDisk(FinalValveOnIndex, 'FVonIdx', fileHeader, folder)\n",
    "DewanIOhandler.saveDataToDisk(\n",
    "    UnixTimeArray, 'UnixTimeArray', fileHeader, folder)\n",
    "DewanIOhandler.saveDataToDisk(FinalValveTimeMap, 'FVTimeMap', fileHeader, folder)\n",
    "DewanIOhandler.saveDataToDisk(OdorData, 'OdorData', fileHeader, folder)\n",
    "DewanIOhandler.saveDataToDisk(\n",
    "    Baseline_Shift_Data, 'Baseline_Shift_Data', fileHeader, folder)\n"
   ],
   "metadata": {
    "collapsed": false,
    "ExecuteTime": {
     "end_time": "2023-07-30T19:05:28.723133300Z",
     "start_time": "2023-07-30T19:05:28.578186600Z"
    }
   }
  },
  {
   "attachments": {},
   "cell_type": "markdown",
   "id": "f1d85a0f-d8ef-49b0-9259-cfa381bdae39",
   "metadata": {},
   "source": [
    "## 3: AUROC"
   ]
  },
  {
   "attachments": {},
   "cell_type": "markdown",
   "id": "5785a0e7-4c69-41a6-94f5-7f82b4373234",
   "metadata": {
    "tags": []
   },
   "source": [
    "### 3a: Import Data "
   ]
  },
  {
   "cell_type": "code",
   "execution_count": null,
   "id": "f51f5276-994e-440c-96fe-93b04ff0c21d",
   "metadata": {},
   "outputs": [],
   "source": [
    "Data = DewanIOhandler.loadDataFromDisk('CombinedData', fileHeader, './ImagingAnalysis/CombinedData')\n",
    "\n",
    "folder = 'ImagingAnalysis/PreProcessedData'\n",
    "FVData = DewanIOhandler.loadDataFromDisk('FVData', fileHeader, folder)\n",
    "CellList = DewanIOhandler.loadDataFromDisk('CellList', fileHeader, folder)\n",
    "\n",
    "folder = 'ImagingAnalysis/AUROCImports'\n",
    "FinalValveOnIndex = DewanIOhandler.loadDataFromDisk('FVonIdx', fileHeader, folder)\n",
    "UnixTimeArray = DewanIOhandler.loadDataFromDisk(\n",
    "    'UnixTimeArray', fileHeader, folder)\n",
    "OdorData = DewanIOhandler.loadDataFromDisk('OdorData', fileHeader, folder)\n",
    "FinalValveTimeMap = DewanIOhandler.loadDataFromDisk('FVTimeMap', fileHeader, folder)\n",
    "Baseline_Shift_Data = DewanIOhandler.loadDataFromDisk(\n",
    "    'Baseline_Shift_Data', fileHeader, folder)\n"
   ]
  },
  {
   "attachments": {},
   "cell_type": "markdown",
   "id": "114ee4f4-9e43-4e84-96da-de6130cc31c2",
   "metadata": {
    "tags": []
   },
   "source": [
    "### 3b: Run AUROC"
   ]
  },
  {
   "cell_type": "code",
   "execution_count": 34,
   "id": "e46b3154-bd60-4548-8ae1-69eb945f31e7",
   "metadata": {
    "tags": [],
    "ExecuteTime": {
     "end_time": "2023-07-30T19:22:16.360834Z",
     "start_time": "2023-07-30T19:08:00.867251500Z"
    }
   },
   "outputs": [],
   "source": [
    "AUROCData = DewanDataStore.AUROCdataStore(\n",
    "    Baseline_Shift_Data, CellList, OdorData, FVData, fileHeader, FinalValveOnIndex, UnixTimeArray, baselineDuration, responseDuration, PlotFigures)\n",
    "onTimeReturnValues = DewanAUROC.AUROC(AUROCData, False)\n",
    "latentReturnValues = DewanAUROC.AUROC(AUROCData, True)"
   ]
  },
  {
   "cell_type": "code",
   "execution_count": 35,
   "id": "ac54d824-f7d2-4eba-98e2-df7bc10162c2",
   "metadata": {
    "ExecuteTime": {
     "end_time": "2023-07-30T19:22:59.047619400Z",
     "start_time": "2023-07-30T19:22:58.743312500Z"
    }
   },
   "outputs": [],
   "source": [
    "onTimeAUROCSignificanceTable = []\n",
    "onTimeAUROCValueTable = []\n",
    "onTimeAUROC_Ubounds = []\n",
    "onTimeAUROC_Lbounds = []\n",
    "onTimeAUROC_prctile = []\n",
    "\n",
    "\n",
    "latentAUROCSignificanceTable = []\n",
    "latentAUROCValueTable = []\n",
    "latentAUROC_Ubounds = []\n",
    "latentAUROC_Lbounds = []\n",
    "latentAUROC_prctile = []\n",
    "\n",
    "baseline_start_indexes = []\n",
    "baseline_end_indexes = []\n",
    "ontime_evoked_start_indexes = []\n",
    "ontime_evoked_end_indexes = []\n",
    "latent_evoked_start_indexes = []\n",
    "latent_evoked_end_indexes = []\n",
    "\n",
    "for returns in onTimeReturnValues:\n",
    "    onTimeAUROCSignificanceTable.append(returns.response_chart)\n",
    "    onTimeAUROCValueTable.append(returns.auroc_values)\n",
    "    onTimeAUROC_Ubounds.append(returns.all_upper_bounds)\n",
    "    onTimeAUROC_Lbounds.append(returns.all_lower_bounds)\n",
    "    onTimeAUROC_prctile.append(returns.percentiles)\n",
    "    baseline_start_indexes.append(returns.baseline_start_indexes)\n",
    "    baseline_end_indexes.append(returns.baseline_end_indexes)\n",
    "    ontime_evoked_start_indexes.append(returns.evoked_start_indexes)\n",
    "    ontime_evoked_end_indexes.append(returns.evoked_end_indexes)\n",
    "\n",
    "\n",
    "for returns in latentReturnValues:\n",
    "    latentAUROCSignificanceTable.append(returns.response_chart)\n",
    "    latentAUROCValueTable.append(returns.auroc_values)\n",
    "    latentAUROC_Ubounds.append(returns.all_upper_bounds)\n",
    "    latentAUROC_Lbounds.append(returns.all_lower_bounds)\n",
    "    latentAUROC_prctile.append(returns.percentiles)\n",
    "    latent_evoked_start_indexes.append(returns.evoked_start_indexes)\n",
    "    latent_evoked_end_indexes.append(returns.evoked_end_indexes)\n",
    "\n",
    "onTimeAUROCSignificanceTable = np.array(onTimeAUROCSignificanceTable)\n",
    "latentAUROCSignificanceTable = np.array(latentAUROCSignificanceTable)\n",
    "onTimeAUROCSignificanceTable = onTimeAUROCSignificanceTable.astype(float)\n",
    "latentAUROCSignificanceTable = latentAUROCSignificanceTable.astype(float)\n",
    "\n",
    "#baseline_start_indexes = np.array(baseline_start_indexes)\n",
    "# baseline_end_indexes = np.array(baseline_end_indexes)\n",
    "# ontime_evoked_start_indexes = np.array(ontime_evoked_start_indexes)\n",
    "# ontime_evoked_end_indexes = np.array(ontime_evoked_end_indexes)\n",
    "# latent_evoked_start_indexes = np.array(latent_evoked_start_indexes)\n",
    "# latent_evoked_end_indexes = np.array(latent_evoked_end_indexes)\n",
    "\n",
    "for rows in range(len(latentAUROCSignificanceTable)):\n",
    "    evokedCells = np.nonzero(onTimeAUROCSignificanceTable[rows] != 0)\n",
    "    latentAUROCSignificanceTable[rows][evokedCells] = 0"
   ]
  },
  {
   "attachments": {},
   "cell_type": "markdown",
   "id": "586dc7e3-f0b5-4fca-8137-014f3f253fd1",
   "metadata": {},
   "source": [
    "### 3c: Save AROC"
   ]
  },
  {
   "cell_type": "code",
   "execution_count": 36,
   "id": "112e160a-a8af-40e4-8a2f-c5a5ec201a2c",
   "metadata": {
    "ExecuteTime": {
     "end_time": "2023-07-30T19:23:01.159292300Z",
     "start_time": "2023-07-30T19:23:00.980302Z"
    }
   },
   "outputs": [
    {
     "name": "stdout",
     "output_type": "stream",
     "text": [
      "VGAT4-10-17-22-onTimeAUROCSignificanceTable has been saved!\n",
      "VGAT4-10-17-22-onTimeAUROCValueTable has been saved!\n",
      "VGAT4-10-17-22-onTimeAUROC_Lbounds has been saved!\n",
      "VGAT4-10-17-22-onTimeAUROC_Ubounds has been saved!\n",
      "VGAT4-10-17-22-onTimeAUROC_prctile has been saved!\n",
      "VGAT4-10-17-22-baseline_start_indexes has been saved!\n",
      "VGAT4-10-17-22-baseline_end_indexes has been saved!\n",
      "VGAT4-10-17-22-ontime_evoked_start_indexes has been saved!\n",
      "VGAT4-10-17-22-ontime_evoked_end_indexes has been saved!\n",
      "VGAT4-10-17-22-latentAUROCSignificanceTable has been saved!\n",
      "VGAT4-10-17-22-latentAUROCValueTable has been saved!\n",
      "VGAT4-10-17-22-latentAUROC_Lbounds has been saved!\n",
      "VGAT4-10-17-22-latentAUROC_Ubounds has been saved!\n",
      "VGAT4-10-17-22-latentAUROC_prctile has been saved!\n",
      "VGAT4-10-17-22-latent_evoked_start_indexes has been saved!\n",
      "VGAT4-10-17-22-latent_evoked_end_indexes has been saved!\n"
     ]
    }
   ],
   "source": [
    "folder = 'ImagingAnalysis/AUROCData'\n",
    "\n",
    "DewanIOhandler.saveDataToDisk(\n",
    "    onTimeAUROCSignificanceTable, 'onTimeAUROCSignificanceTable', fileHeader, folder)\n",
    "DewanIOhandler.saveDataToDisk(\n",
    "    onTimeAUROCValueTable, 'onTimeAUROCValueTable', fileHeader, folder)\n",
    "DewanIOhandler.saveDataToDisk(\n",
    "    onTimeAUROC_Lbounds, 'onTimeAUROC_Lbounds', fileHeader, folder)\n",
    "DewanIOhandler.saveDataToDisk(\n",
    "    onTimeAUROC_Ubounds, 'onTimeAUROC_Ubounds', fileHeader, folder)\n",
    "DewanIOhandler.saveDataToDisk(\n",
    "    onTimeAUROC_prctile, 'onTimeAUROC_prctile', fileHeader, folder)\n",
    "\n",
    "DewanIOhandler.saveDataToDisk(\n",
    "    baseline_start_indexes, 'baseline_start_indexes', fileHeader, folder)\n",
    "DewanIOhandler.saveDataToDisk(\n",
    "    baseline_end_indexes, 'baseline_end_indexes', fileHeader, folder)\n",
    "DewanIOhandler.saveDataToDisk(\n",
    "    ontime_evoked_start_indexes, 'ontime_evoked_start_indexes', fileHeader, folder)\n",
    "DewanIOhandler.saveDataToDisk(\n",
    "    ontime_evoked_end_indexes, 'ontime_evoked_end_indexes', fileHeader, folder)\n",
    "\n",
    "DewanIOhandler.saveDataToDisk(\n",
    "    latentAUROCSignificanceTable, 'latentAUROCSignificanceTable', fileHeader, folder)\n",
    "DewanIOhandler.saveDataToDisk(\n",
    "    latentAUROCValueTable, 'latentAUROCValueTable', fileHeader, folder)\n",
    "DewanIOhandler.saveDataToDisk(\n",
    "    latentAUROC_Lbounds, 'latentAUROC_Lbounds', fileHeader, folder)\n",
    "DewanIOhandler.saveDataToDisk(\n",
    "    latentAUROC_Ubounds, 'latentAUROC_Ubounds', fileHeader, folder)\n",
    "DewanIOhandler.saveDataToDisk(\n",
    "    latentAUROC_prctile, 'latentAUROC_prctile', fileHeader, folder)\n",
    "\n",
    "DewanIOhandler.saveDataToDisk(\n",
    "    latent_evoked_start_indexes, 'latent_evoked_start_indexes', fileHeader, folder)\n",
    "DewanIOhandler.saveDataToDisk(\n",
    "    latent_evoked_end_indexes, 'latent_evoked_end_indexes', fileHeader, folder)"
   ]
  },
  {
   "attachments": {},
   "cell_type": "markdown",
   "id": "c63e3ee4-b33d-4495-b1c4-0e205982dd46",
   "metadata": {
    "tags": []
   },
   "source": [
    "## 4: Plotting"
   ]
  },
  {
   "attachments": {},
   "cell_type": "markdown",
   "id": "afb6f565",
   "metadata": {},
   "source": [
    "### 4a: Import Data"
   ]
  },
  {
   "cell_type": "code",
   "execution_count": 37,
   "id": "581d2227-89b4-44cb-8eef-2360b42c869c",
   "metadata": {
    "ExecuteTime": {
     "end_time": "2023-07-31T16:59:06.437873800Z",
     "start_time": "2023-07-31T16:59:03.422584600Z"
    }
   },
   "outputs": [
    {
     "name": "stdout",
     "output_type": "stream",
     "text": [
      "VGAT4-10-17-22-onTimeAUROCSignificanceTable has loaded successfully!\n",
      "VGAT4-10-17-22-onTimeAUROCValueTable has loaded successfully!\n",
      "VGAT4-10-17-22-onTimeAUROC_Lbounds has loaded successfully!\n",
      "VGAT4-10-17-22-onTimeAUROC_Ubounds has loaded successfully!\n",
      "VGAT4-10-17-22-onTimeAUROC_prctile has loaded successfully!\n",
      "VGAT4-10-17-22-latentAUROCSignificanceTable has loaded successfully!\n",
      "VGAT4-10-17-22-latentAUROCValueTable has loaded successfully!\n",
      "VGAT4-10-17-22-latentAUROC_Lbounds has loaded successfully!\n",
      "VGAT4-10-17-22-latentAUROC_Ubounds has loaded successfully!\n",
      "VGAT4-10-17-22-latentAUROC_prctile has loaded successfully!\n",
      "VGAT4-10-17-22-baseline_start_indexes has loaded successfully!\n",
      "VGAT4-10-17-22-baseline_end_indexes has loaded successfully!\n",
      "VGAT4-10-17-22-ontime_evoked_start_indexes has loaded successfully!\n",
      "VGAT4-10-17-22-ontime_evoked_end_indexes has loaded successfully!\n",
      "VGAT4-10-17-22-latent_evoked_start_indexes has loaded successfully!\n",
      "VGAT4-10-17-22-latent_evoked_end_indexes has loaded successfully!\n",
      "VGAT4-10-17-22-CombinedData has loaded successfully!\n",
      "VGAT4-10-17-22-FVData has loaded successfully!\n",
      "VGAT4-10-17-22-CellList has loaded successfully!\n",
      "VGAT4-10-17-22-FVonIdx has loaded successfully!\n",
      "VGAT4-10-17-22-UnixTimeArray has loaded successfully!\n",
      "VGAT4-10-17-22-OdorData has loaded successfully!\n",
      "VGAT4-10-17-22-FVTimeMap has loaded successfully!\n",
      "VGAT4-10-17-22-Baseline_Shift_Data has loaded successfully!\n"
     ]
    }
   ],
   "source": [
    "folder = 'ImagingAnalysis/AUROCData'\n",
    "\n",
    "onTimeAUROCSignificanceTable = DewanIOhandler.loadDataFromDisk(\n",
    "    'onTimeAUROCSignificanceTable', fileHeader, folder)\n",
    "onTimeAUROCValueTable = DewanIOhandler.loadDataFromDisk(\n",
    "    'onTimeAUROCValueTable', fileHeader, folder)\n",
    "onTimeAUROC_Lbounds = DewanIOhandler.loadDataFromDisk(\n",
    "    'onTimeAUROC_Lbounds', fileHeader, folder)\n",
    "onTimeAUROC_Ubounds = DewanIOhandler.loadDataFromDisk(\n",
    "    'onTimeAUROC_Ubounds', fileHeader, folder)\n",
    "onTimeAUROC_prctile = DewanIOhandler.loadDataFromDisk(\n",
    "    'onTimeAUROC_prctile', fileHeader, folder)\n",
    "\n",
    "latentAUROCSignificanceTable = DewanIOhandler.loadDataFromDisk(\n",
    "    'latentAUROCSignificanceTable', fileHeader, folder)\n",
    "latentAUROCValueTable = DewanIOhandler.loadDataFromDisk(\n",
    "    'latentAUROCValueTable', fileHeader, folder)\n",
    "latentAUROC_Lbounds = DewanIOhandler.loadDataFromDisk(\n",
    "    'latentAUROC_Lbounds', fileHeader, folder)\n",
    "latentAUROC_Ubounds = DewanIOhandler.loadDataFromDisk(\n",
    "    'latentAUROC_Ubounds', fileHeader, folder)\n",
    "latentAUROC_prctile = DewanIOhandler.loadDataFromDisk(\n",
    "    'latentAUROC_prctile', fileHeader, folder)\n",
    "\n",
    "\n",
    "baseline_start_indexes = DewanIOhandler.loadDataFromDisk(\n",
    "    'baseline_start_indexes', fileHeader, folder)\n",
    "baseline_end_indexes = DewanIOhandler.loadDataFromDisk(\n",
    "    'baseline_end_indexes', fileHeader, folder)\n",
    "ontime_evoked_start_indexes = DewanIOhandler.loadDataFromDisk(\n",
    "    'ontime_evoked_start_indexes', fileHeader, folder)\n",
    "ontime_evoked_end_indexes = DewanIOhandler.loadDataFromDisk(\n",
    "    'ontime_evoked_end_indexes', fileHeader, folder)\n",
    "latent_evoked_start_indexes = DewanIOhandler.loadDataFromDisk(\n",
    "    'latent_evoked_start_indexes', fileHeader, folder)\n",
    "latent_evoked_end_indexes = DewanIOhandler.loadDataFromDisk(\n",
    "    'latent_evoked_end_indexes', fileHeader, folder)\n",
    "\n",
    "Data = DewanIOhandler.loadDataFromDisk(\n",
    "    'CombinedData', fileHeader, 'ImagingAnalysis/CombinedData')\n",
    "\n",
    "folder = 'ImagingAnalysis/PreProcessedData'\n",
    "FVData = DewanIOhandler.loadDataFromDisk('FVData', fileHeader, folder)\n",
    "CellList = DewanIOhandler.loadDataFromDisk('CellList', fileHeader, folder)\n",
    "\n",
    "folder = 'ImagingAnalysis/AUROCImports'\n",
    "FinalValveOnIndex = DewanIOhandler.loadDataFromDisk('FVonIdx', fileHeader, folder)\n",
    "UnixTimeArray = DewanIOhandler.loadDataFromDisk(\n",
    "    'UnixTimeArray', fileHeader, folder)\n",
    "OdorData = DewanIOhandler.loadDataFromDisk('OdorData', fileHeader, folder)\n",
    "FinalValveTimeMap = DewanIOhandler.loadDataFromDisk('FVTimeMap', fileHeader, folder)\n",
    "Baseline_Shift_Data = DewanIOhandler.loadDataFromDisk(\n",
    "    'Baseline_Shift_Data', fileHeader, folder)\n"
   ]
  },
  {
   "attachments": {},
   "cell_type": "markdown",
   "id": "565dd979-f777-4297-a731-44d2e321a812",
   "metadata": {
    "tags": []
   },
   "source": [
    "### 4b: Cells v. Odors AUROC Significance"
   ]
  },
  {
   "cell_type": "code",
   "execution_count": 38,
   "id": "47259a9f-88ae-4d74-b61b-d1f634788f8f",
   "metadata": {
    "ExecuteTime": {
     "end_time": "2023-07-31T16:59:09.397270200Z",
     "start_time": "2023-07-31T16:59:09.277269300Z"
    }
   },
   "outputs": [],
   "source": [
    "onTimePlottingData = DewanDataStore.PlottingDataStore(Baseline_Shift_Data, CellList, OdorData, FVData, fileHeader, FinalValveTimeMap, FinalValveOnIndex, UnixTimeArray, baselineDuration, responseDuration, onTimeAUROCSignificanceTable, onTimeAUROC_Lbounds, onTimeAUROC_Ubounds, onTimeAUROC_prctile, baseline_start_indexes, baseline_end_indexes, ontime_evoked_start_indexes, ontime_evoked_end_indexes)\n",
    "\n",
    "latentPlottingData = DewanDataStore.PlottingDataStore(Baseline_Shift_Data, CellList, OdorData, FVData, fileHeader, FinalValveTimeMap, FinalValveOnIndex, UnixTimeArray, baselineDuration, responseDuration, latentAUROCSignificanceTable, latentAUROC_Lbounds, latentAUROC_Ubounds, latentAUROC_prctile, baseline_start_indexes, baseline_end_indexes, latent_evoked_start_indexes, latent_evoked_end_indexes)"
   ]
  },
  {
   "attachments": {},
   "cell_type": "markdown",
   "id": "43a76044",
   "metadata": {},
   "source": [
    "#### 4b-1: Plot Cell v Odor Significance Matricies"
   ]
  },
  {
   "cell_type": "code",
   "execution_count": 39,
   "id": "559f2088",
   "metadata": {
    "ExecuteTime": {
     "end_time": "2023-07-31T16:59:50.490342300Z",
     "start_time": "2023-07-31T16:59:42.458462900Z"
    }
   },
   "outputs": [],
   "source": [
    "DewanPlotting.plotCellvOdorMatricies(onTimePlottingData, False)\n",
    "DewanPlotting.plotCellvOdorMatricies(latentPlottingData, True)"
   ]
  },
  {
   "attachments": {},
   "cell_type": "markdown",
   "id": "82509cfa-a9af-45d3-a89a-50388882dc4f",
   "metadata": {
    "tags": []
   },
   "source": [
    "#### 4b-2: Plot All Cell Traces"
   ]
  },
  {
   "cell_type": "code",
   "execution_count": null,
   "id": "f3dcb30e-5c3d-4250-b88c-6df9c98a0197",
   "metadata": {},
   "outputs": [],
   "source": [
    "# Plot all cells v odors; only needed for AUROC verification\n",
    "DewanPlotting.plotAllCells(onTimePlottingData, False)\n",
    "DewanPlotting.plotAllCells(latentPlottingData, True)"
   ]
  },
  {
   "attachments": {},
   "cell_type": "markdown",
   "id": "c3097709",
   "metadata": {},
   "source": [
    "#### 4b-3: Plot Significant Cell Traces"
   ]
  },
  {
   "cell_type": "code",
   "execution_count": null,
   "id": "089eada6",
   "metadata": {},
   "outputs": [],
   "source": [
    "# Oh no! Nothing here yet :(\n",
    "# https://media.tenor.com/vMvR0gEolCEAAAAC/nothing-to-see-here-explosion.gif"
   ]
  },
  {
   "attachments": {},
   "cell_type": "markdown",
   "id": "95fd1d78",
   "metadata": {},
   "source": [
    "### 4c: Plot Trace Variance"
   ]
  },
  {
   "cell_type": "code",
   "execution_count": 40,
   "id": "0db10c67",
   "metadata": {
    "ExecuteTime": {
     "end_time": "2023-07-31T17:04:28.465377400Z",
     "start_time": "2023-07-31T17:00:32.392260200Z"
    }
   },
   "outputs": [],
   "source": [
    "trialScatterData = DewanDataStore.AUROCdataStore(\n",
    "    Baseline_Shift_Data, CellList, OdorData, FVData, fileHeader, FinalValveOnIndex, UnixTimeArray, baselineDuration, responseDuration, False)\n",
    "\n",
    "\n",
    "DewanPlotting.plotTrialsPerPairing(\n",
    "    trialScatterData, onTimeAUROCSignificanceTable, False)\n",
    "DewanPlotting.plotTrialsPerPairing(\n",
    "    trialScatterData, onTimeAUROCSignificanceTable, True)\n"
   ]
  },
  {
   "cell_type": "markdown",
   "source": [
    "## 5. Statistics"
   ],
   "metadata": {
    "collapsed": false
   }
  },
  {
   "cell_type": "markdown",
   "source": [
    "### 5a. Load Data"
   ],
   "metadata": {
    "collapsed": false
   }
  },
  {
   "cell_type": "code",
   "execution_count": null,
   "outputs": [],
   "source": [
    "#Oh no, nothing here yet :("
   ],
   "metadata": {
    "collapsed": false
   }
  },
  {
   "cell_type": "markdown",
   "source": [
    "### 5b. Correlation Coefficients"
   ],
   "metadata": {
    "collapsed": false
   }
  },
  {
   "cell_type": "code",
   "execution_count": null,
   "id": "6205f756",
   "metadata": {},
   "outputs": [],
   "source": [
    "similarityData = DewanDataStore.AUROCdataStore(Baseline_Shift_Data, CellList, OdorData, FVData, fileHeader, FinalValveOnIndex, UnixTimeArray, baselineDuration, responseDuration, False)\n",
    "CCs = DewanStats.crossTrialConsistency(similarityData, onTimeAUROCSignificanceTable, False)"
   ]
  },
  {
   "cell_type": "code",
   "execution_count": null,
   "outputs": [],
   "source": [],
   "metadata": {
    "collapsed": false
   }
  },
  {
   "cell_type": "markdown",
   "source": [
    "### 5c. Lifetime and Population Sparseness"
   ],
   "metadata": {
    "collapsed": false
   }
  },
  {
   "cell_type": "code",
   "execution_count": null,
   "outputs": [],
   "source": [
    "sparsenessData = DewanDataStore.AUROCdataStore(\n",
    "    Baseline_Shift_Data, CellList, OdorData, FVData, fileHeader, FinalValveOnIndex, UnixTimeArray, baselineDuration, responseDuration, False)\n",
    "\n",
    "lifetimeSparseness, cells = DewanStats.lifetimeSparseness(sparsenessData, onTimeAUROCSignificanceTable)\n",
    "populationSparseness, odors = DewanStats.popSparseness(sparsenessData, onTimeAUROCSignificanceTable)\n",
    "lsPairs = [f'Cell {cells[i]}: {round(lifetimeSparseness[i],5)}' for i in range(len(cells))]\n",
    "psPairs = [f'Odor: {sparsenessData.unique_odors[odors[i]]}: {round(populationSparseness[i],5)}' for i in range(len(odors))]"
   ],
   "metadata": {
    "collapsed": false
   }
  },
  {
   "cell_type": "code",
   "execution_count": null,
   "outputs": [],
   "source": [
    "mineralOilIndex = np.nonzero(sparsenessData.unique_odors == 'MO')[0]\n",
    "OdorIndexes = np.nonzero(sparsenessData.unique_odors != 'MO')[0]\n"
   ],
   "metadata": {
    "collapsed": false
   }
  }
 ],
 "metadata": {
  "kernelspec": {
   "display_name": "ImagingAnalysis",
   "language": "python",
   "name": "python3"
  },
  "language_info": {
   "codemirror_mode": {
    "name": "ipython",
    "version": 3
   },
   "file_extension": ".py",
   "mimetype": "text/x-python",
   "name": "python",
   "nbconvert_exporter": "python",
   "pygments_lexer": "ipython3",
   "version": "3.8.15"
  },
  "vscode": {
   "interpreter": {
    "hash": "977baf04aa409d7582f6e94b1f1f1d2e9ac45da44046a9cec7b1a770a676514b"
   }
  }
 },
 "nbformat": 4,
 "nbformat_minor": 5
}
