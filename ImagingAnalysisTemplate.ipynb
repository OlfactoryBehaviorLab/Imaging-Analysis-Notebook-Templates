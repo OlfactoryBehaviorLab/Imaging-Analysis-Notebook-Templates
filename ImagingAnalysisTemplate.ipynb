{
 "cells": [
  {
   "cell_type": "markdown",
   "id": "1daf917d-f5f9-42ea-baaa-08fcf28b43ce",
   "metadata": {
    "tags": []
   },
   "source": [
    "# Dewan Lab Image Analysis"
   ]
  },
  {
   "attachments": {},
   "cell_type": "markdown",
   "id": "917d0bf4-3426-4326-911d-9a9e0cd1ed80",
   "metadata": {
    "tags": []
   },
   "source": [
    "## 0: Run once to create all needed directories at beginning of a project"
   ]
  },
  {
   "cell_type": "code",
   "execution_count": 1,
   "id": "c884c75e-38a9-431e-8e99-0d8f9fdd85d4",
   "metadata": {},
   "outputs": [],
   "source": [
    "from Python.DewanLabPython.Helpers import DewanIOhandler\n",
    "DewanIOhandler.createProjectFramework()"
   ]
  },
  {
   "attachments": {},
   "cell_type": "markdown",
   "id": "a1ba1747-903f-4eac-8a48-84b44728f3e7",
   "metadata": {
    "tags": []
   },
   "source": [
    "## 1: Always Execute! Load Libraries and User Settings"
   ]
  },
  {
   "attachments": {},
   "cell_type": "markdown",
   "id": "6d1aec8e-a365-49a6-b3ab-d67525a65bdb",
   "metadata": {
    "tags": []
   },
   "source": [
    "### 1a: Import Libraries"
   ]
  },
  {
   "cell_type": "code",
   "execution_count": 2,
   "id": "1dd422e6-969e-4c1f-8301-2afc3ce3d4b5",
   "metadata": {},
   "outputs": [],
   "source": [
    "%load_ext autoreload\n",
    "%autoreload 2"
   ]
  },
  {
   "cell_type": "code",
   "execution_count": 3,
   "id": "48174929-fd1b-48cc-ab99-9ff1bcd9f06e",
   "metadata": {
    "tags": []
   },
   "outputs": [],
   "source": [
    "import numpy as np\n",
    "import pandas as pd\n",
    "from tqdm import trange\n",
    "\n",
    "\n",
    "from Python.DewanLabPython.Helpers import DewanDataStore\n",
    "from Python.DewanLabPython.Helpers import DewanImportDataHelper\n",
    "from Python.DewanLabPython.Helpers import DewanIOhandler\n",
    "from Python.DewanLabPython import DewanAUROC\n",
    "from Python.DewanLabPython import DewanPlotting\n",
    "from Python.DewanLabPython import DewanStats"
   ]
  },
  {
   "attachments": {},
   "cell_type": "markdown",
   "id": "d57a7bb0-be75-4f25-b35d-6732d0ea7dfa",
   "metadata": {
    "tags": []
   },
   "source": [
    "### 1b: User Configurables"
   ]
  },
  {
   "cell_type": "code",
   "execution_count": 4,
   "id": "5d8f7883-7544-4c8d-a2e3-32da1e3ee795",
   "metadata": {},
   "outputs": [],
   "source": [
    "animal = 'VGAT4'\n",
    "date = '10-17-22'\n",
    "\n",
    "# Settings for Inscopix box\n",
    "LED_power = 1\n",
    "GAIN = 2.2\n",
    "FOCUS = 250\n",
    "\n",
    "PreTrialTime = 3.5  # Imaging time before the final valve opens\n",
    "PostTrialTime = 3.5  # Imaging time after final valve closes\n",
    "\n",
    "# Criterion for determining good trials vs bad trials, will be used later\n",
    "goodCriterion = 0.5\n",
    "# in the findGoodTrials segment\n",
    "\n",
    "\n",
    "# Configurables for AUROC\n",
    "baselineDuration = 2  # number of seconds before the fvOnTime\n",
    "responseDuration = 2  # number of seconds after the fvOnTime\n",
    "PlotFigures = True\n",
    "\n",
    "fileHeader = animal + '-' + date + '-'\n"
   ]
  },
  {
   "attachments": {},
   "cell_type": "markdown",
   "id": "333708ce-48b1-4382-9e74-a6ae099f190c",
   "metadata": {
    "tags": []
   },
   "source": [
    "## 2: Data Import and Processing"
   ]
  },
  {
   "attachments": {},
   "cell_type": "markdown",
   "id": "85f73484-fb78-4bef-8328-bd312d9abbc3",
   "metadata": {
    "tags": []
   },
   "source": [
    "### 2a: Import and pre-process the raw data"
   ]
  },
  {
   "cell_type": "code",
   "execution_count": 8,
   "id": "f8f8625f-3098-4c28-ae4e-aeb0f23719c9",
   "metadata": {},
   "outputs": [],
   "source": [
    "# Read in data for processing.  Needs Cell Traces, Odor List, and GPIO file.\n",
    "folder = './ImagingAnalysis/RawData/'\n",
    "\n",
    "CellTraceData = pd.read_csv(\n",
    "    f'{folder}/CellTraces.csv', header=None, skiprows=2, low_memory=False)\n",
    "OdorData = np.array(pd.read_excel(\n",
    "    f'{folder}/OdorList.xlsx', usecols=[0], header=None))\n",
    "GPIOData = pd.read_csv(f'{folder}/GPIO.csv', header=None, low_memory=False)\n",
    "CellProps = pd.read_csv(f'{folder}/CellTraces-props.csv', header=None)\n"
   ]
  },
  {
   "cell_type": "code",
   "execution_count": 9,
   "id": "de8e82bd-0c23-432f-a462-69835dce5805",
   "metadata": {},
   "outputs": [],
   "source": [
    "# Organizes Cell Traces into a numpy array and separates the GPIO information based on indices\n",
    "# for Sniff, Final Valve etc.\n",
    "# Converts cell props into a numpy array, ignore the first row of headers\n",
    "AllCellProps = np.array(CellProps.iloc[1:, :])\n",
    "# Get indicies where status is not rejected, these are good cells\n",
    "GoodCells = (AllCellProps[:, 1] != 'rejected')\n",
    "# Filter the bad cells out of the properites\n",
    "GoodCellProperties = AllCellProps[GoodCells, :]\n",
    "# Generate a list of all the possible cell numbers and assign an index\n",
    "CellList = np.arange(0, len(AllCellProps))\n",
    "# Filter out all the bad cells; associates cell number with an index\n",
    "CellList = CellList[GoodCells]\n",
    "# Insert 1 at the beginning of the truth table, makes filtering bad cells out of trace data easier\n",
    "GoodCells = np.insert(GoodCells, 0, [1])\n",
    "\n",
    "\n",
    "CellTraceData = CellTraceData.apply(\n",
    "    pd.to_numeric, errors='coerce')  # Convert everything to numbers\n",
    "CellTraceData = np.array(CellTraceData)  # Convert pandas DF to np.array\n",
    "# Filter out all the bad cell trace data, leaving only the good cells\n",
    "CellTraceData = CellTraceData[:, GoodCells]\n",
    "CellTraceData[:, 0] = CellTraceData[:, 0].round(2)  # Round the times to 0.2\n",
    "GPIOData.iloc[:, 1] = GPIOData.iloc[:, 1].str.replace(' ', '')  # Remove Random Spaces"
   ]
  },
  {
   "cell_type": "code",
   "execution_count": 10,
   "outputs": [],
   "source": [
    "\n",
    "GPIO1 = np.array(GPIOData.iloc[:, 1] == \"GPIO-1\")  # Sniff Sensor Data\n",
    "GPIO2 = np.array(GPIOData.iloc[:, 1] == \"GPIO-2\")  # FV Actuation Data\n",
    "# GPIO3 = np.array(GPIOData.iloc[:,1] == \"GPIO-3\")  # Running Wheel Data\n",
    "# GPIO4 = np.array(GPIOData.iloc[:,1] == \"GPIO-4\")  # Lick Data\n",
    "\n",
    "SniffTable = np.array(GPIOData.iloc[GPIO1,:])\n",
    "FVData = np.array(GPIOData.iloc[GPIO2,:])"
   ],
   "metadata": {
    "collapsed": false
   }
  },
  {
   "cell_type": "code",
   "execution_count": 11,
   "id": "95d2cdf6-36b3-4067-aa7e-5dd78cbc2f1d",
   "metadata": {},
   "outputs": [
    {
     "name": "stdout",
     "output_type": "stream",
     "text": [
      "VGAT4-10-17-22-CellTraceData has been saved!\n",
      "VGAT4-10-17-22-GPIOData has been saved!\n",
      "VGAT4-10-17-22-OdorData has been saved!\n",
      "VGAT4-10-17-22-SniffTable has been saved!\n",
      "VGAT4-10-17-22-FVdata has been saved!\n",
      "VGAT4-10-17-22-GoodCellProperties has been saved!\n",
      "VGAT4-10-17-22-CellList has been saved!\n"
     ]
    }
   ],
   "source": [
    "# Pickle the reorganized CellTraceData incase its needed later\n",
    "# Saves Cell Traces, GPIO, Odor List, Sniff, FV data, Good Cell Properties, and the list of Good Cells\n",
    "\n",
    "# Once these have been saved, they don't need to be re-run on the same data again unless\n",
    "# the data itself is changed\n",
    "\n",
    "folder = './ImagingAnalysis/PreProcessedData'\n",
    "\n",
    "DewanIOhandler.saveDataToDisk(\n",
    "    CellTraceData, 'CellTraceData', fileHeader, folder)\n",
    "DewanIOhandler.saveDataToDisk(GPIOData, 'GPIOData', fileHeader, folder)\n",
    "DewanIOhandler.saveDataToDisk(OdorData, 'OdorData', fileHeader, folder)\n",
    "DewanIOhandler.saveDataToDisk(SniffTable, 'SniffTable', fileHeader, folder)\n",
    "DewanIOhandler.saveDataToDisk(FVData, 'FVdata', fileHeader, folder)\n",
    "DewanIOhandler.saveDataToDisk(\n",
    "    GoodCellProperties, 'GoodCellProperties', fileHeader, folder)\n",
    "DewanIOhandler.saveDataToDisk(CellList, 'CellList', fileHeader, folder)\n"
   ]
  },
  {
   "attachments": {},
   "cell_type": "markdown",
   "id": "1ba952d5-9392-413e-bf3a-49086c6a583f",
   "metadata": {
    "tags": []
   },
   "source": [
    "### 2b: Checkpoint: Load Preprocessed Data"
   ]
  },
  {
   "cell_type": "code",
   "execution_count": 12,
   "id": "0e1a40e5-f3cc-432c-a415-0dbc157caa00",
   "metadata": {},
   "outputs": [
    {
     "name": "stdout",
     "output_type": "stream",
     "text": [
      "VGAT4-10-17-22-CellTraceData has loaded successfully!\n",
      "VGAT4-10-17-22-FVData has loaded successfully!\n",
      "VGAT4-10-17-22-GPIOData has loaded successfully!\n",
      "VGAT4-10-17-22-OdorData has loaded successfully!\n",
      "VGAT4-10-17-22-SniffTable has loaded successfully!\n",
      "VGAT4-10-17-22-GoodCellProperties has loaded successfully!\n",
      "VGAT4-10-17-22-CellList has loaded successfully!\n"
     ]
    }
   ],
   "source": [
    "# Opens the saved pickle files.  If the files have already been saved, code can be re-run\n",
    "# starting from this point\n",
    "folder = 'ImagingAnalysis\\PreProcessedData'\n",
    "\n",
    "CellTraceData = DewanIOhandler.loadDataFromDisk(\n",
    "    'CellTraceData', fileHeader, folder)\n",
    "FVData = DewanIOhandler.loadDataFromDisk('FVData', fileHeader, folder)\n",
    "GPIOData = DewanIOhandler.loadDataFromDisk('GPIOData', fileHeader, folder)\n",
    "OdorData = DewanIOhandler.loadDataFromDisk('OdorData', fileHeader, folder)\n",
    "SniffTable = DewanIOhandler.loadDataFromDisk('SniffTable', fileHeader, folder)\n",
    "GoodCellProperties = DewanIOhandler.loadDataFromDisk(\n",
    "    'GoodCellProperties', fileHeader, folder)\n",
    "CellList = DewanIOhandler.loadDataFromDisk('CellList', fileHeader, folder)\n"
   ]
  },
  {
   "attachments": {},
   "cell_type": "markdown",
   "id": "945f4f52",
   "metadata": {},
   "source": [
    "### 2c: Cell Data Complilation"
   ]
  },
  {
   "cell_type": "code",
   "execution_count": 13,
   "id": "37bcb974-ca17-4f68-a066-e98c4219a1e2",
   "metadata": {},
   "outputs": [
    {
     "name": "stderr",
     "output_type": "stream",
     "text": [
      "Processing: 100%|██████████| 7997935/7997935 [00:05<00:00, 1513171.06it/s]\n"
     ]
    }
   ],
   "source": [
    "# Parses the final valve data to identify when the final valve is open vs when it is closed.\n",
    "FVValue = FVData[:, 2].astype(float)\n",
    "nValue = len(FVValue)\n",
    "\n",
    "#nOnOff = -1\n",
    "valveStatus = 0\n",
    "FVoffIdx = []\n",
    "FVonIdx = []\n",
    "for i in trange((nValue-1), desc=\"Processing: \"):\n",
    "    vDiff = FVValue[i+1] - FVValue[i]\n",
    "\n",
    "    if valveStatus == 0:\n",
    "        if vDiff > 10000:\n",
    "            #nOnOff += 1\n",
    "            # print(nOnOff)\n",
    "            FVonIdx.append(i+1)\n",
    "            valveStatus = 1\n",
    "            # print(FVonIdx)\n",
    "    else:\n",
    "        if vDiff < -10000:\n",
    "            FVoffIdx.append(i)\n",
    "            valveStatus = 0\n",
    "\n",
    "FVoffIdx = np.array(FVoffIdx)  # verified to match MTLB\n",
    "FVonIdx = np.array(FVonIdx)  # verified to match MTLB\n"
   ]
  },
  {
   "cell_type": "code",
   "execution_count": 15,
   "id": "e4f82759-442b-4dca-9462-c8d0eb85d49b",
   "metadata": {},
   "outputs": [],
   "source": [
    "# creates a list of data for the start and end time points of trials\n",
    "# eliminates bad trials (trials with too short/long of a trial period etc.)\n",
    "# searches through the start and ends of the good trials for matching timepoints\n",
    "# and outputs indices for the on/off points of good trials\n",
    "startTrialTimes = np.array(FVData[FVonIdx, 0].astype(float) - PreTrialTime)  # verified to match MTLB\n",
    "endTrialTimes = np.array(FVData[FVoffIdx, 0].astype(float) + PostTrialTime)  # verified to match MTLB\n",
    "CellTraceonIdx, goodTrialsOn = DewanImportDataHelper.findGoodTrials(CellTraceData, startTrialTimes, goodCriterion)  # verified to match MTLB\n",
    "CellTraceoffIdx, goodTrialsOff = DewanImportDataHelper.findGoodTrials(CellTraceData, endTrialTimes, goodCriterion)  # verified to match MTLB\n",
    "goodTrials, goodIndOn, goodIndOff = DewanImportDataHelper.intersect_matlab(goodTrialsOn, goodTrialsOff)  # verified to match MTLB\n"
   ]
  },
  {
   "cell_type": "code",
   "execution_count": 16,
   "id": "c529f758-339f-4e4c-8d6a-414663579aa5",
   "metadata": {},
   "outputs": [],
   "source": [
    "# Index all data by the good trials to exclude data from bad trials\n",
    "\n",
    "# verified to match MTLB\n",
    "CellTraceonIdx = CellTraceonIdx[goodIndOn.astype(int)]\n",
    "# verified to match MTLB\n",
    "CellTraceoffIdx = CellTraceoffIdx[goodIndOff.astype(int)]\n",
    "\n",
    "# https://knowyourmeme.com/photos/1402268 ?????\n",
    "goodIdx = goodTrials.astype(int)-1\n",
    "\n",
    "FVonIdx = FVonIdx[goodTrials.astype(int)]  # verified to match MTLB\n",
    "FVoffIdx = FVoffIdx[goodTrials.astype(int)]  # verified to match MTLB\n",
    "startTrialTimes = startTrialTimes[goodTrials.astype(int)]  # verified to match MTLB\n",
    "endTrialTimes = endTrialTimes[goodTrials.astype(int)]  # verified to match MTLB\n",
    "OdorData = OdorData[goodTrials.astype(int)]  # verified to match MTLB\n"
   ]
  },
  {
   "cell_type": "markdown",
   "id": "27aa00a8-91bd-451a-98db-1651396435ed",
   "metadata": {
    "jp-MarkdownHeadingCollapsed": true,
    "tags": []
   },
   "source": [
    "#### Sniffing Data Compilation"
   ]
  },
  {
   "cell_type": "code",
   "execution_count": null,
   "id": "5c0146f7-e1c7-47aa-89eb-d6565e91548a",
   "metadata": {},
   "outputs": [],
   "source": [
    "# Compiles data for sniffing from good trialss\n",
    "sniffStartIdx = np.zeros(FVonIdx.size)\n",
    "sniffEndIdx = np.zeros(FVonIdx.size)\n",
    "\n",
    "for i in trange(len(goodTrials), desc=\"Trial: \"):\n",
    "    startTrial_Time_s_ = float(FVData[:, 0][FVonIdx[i]]) - PreTrialTime\n",
    "    endTrial_Time_s_ = float(FVData[:, 0][FVoffIdx[i]]) + PostTrialTime\n",
    "    sniffStartIdx[i] = len(np.nonzero(\n",
    "        SniffTable[:, 0].astype(float) < startTrial_Time_s_)[0])\n",
    "    sniffEndIdx[i] = len(np.nonzero(\n",
    "        SniffTable[:, 0].astype(float) < endTrial_Time_s_)[0]) - 1\n",
    "\n",
    "nSniffPoints = np.max(sniffEndIdx - sniffStartIdx)\n",
    "\n",
    "Sniff = np.zeros((nSniffPoints.astype(int), len(sniffStartIdx)))\n",
    "\n",
    "for numi in trange(len(sniffStartIdx), desc=\"Trial: \"):\n",
    "    nSniff = sniffEndIdx[numi] - sniffStartIdx[numi]\n",
    "    Sniff[0:int(nSniff), numi] = SniffTable[sniffStartIdx[numi].astype(\n",
    "        int):sniffEndIdx[numi].astype(int), 2]\n",
    "\n",
    "DewanIOhandler.saveDataToDisk(\n",
    "    Sniff, 'SniffData', fileHeader, 'PreProcessedData')\n"
   ]
  },
  {
   "attachments": {},
   "cell_type": "markdown",
   "id": "1ff6cfc3-3ede-47d2-a77f-5ef5bf1e6d66",
   "metadata": {
    "tags": []
   },
   "source": [
    "### 2d: Gather all **cell v. time v. trial** data into single array"
   ]
  },
  {
   "cell_type": "code",
   "execution_count": 17,
   "id": "a65fb3c4-85b6-481b-9b54-2715b1807112",
   "metadata": {},
   "outputs": [],
   "source": [
    "nDataPoint = np.max(CellTraceoffIdx - CellTraceonIdx)\n",
    "Data = np.zeros((len(CellList), len(CellTraceoffIdx), nDataPoint.astype(int)))\n",
    "\n",
    "for cells in range(len(CellList)):\n",
    "    for trials in range(len(CellTraceonIdx)):\n",
    "        nDataPoints = (CellTraceoffIdx[trials] - CellTraceonIdx[trials])\n",
    "        Data[cells, trials, :nDataPoints[0].astype(int)] = CellTraceData[CellTraceonIdx[trials][0].astype(\n",
    "            int):CellTraceoffIdx[trials][0].astype(int), cells+1]\n",
    "\n",
    "Data = np.delete(Data, 180, 2)\n",
    "Baseline_Shift_Data = Data + abs(np.min(Data))\n"
   ]
  },
  {
   "cell_type": "code",
   "execution_count": 18,
   "id": "92279fbb-842c-4bed-af09-ee0dcf16c7b9",
   "metadata": {},
   "outputs": [],
   "source": [
    "# Map of trial times relative to startTrial time\n",
    "FVTimeMap = np.zeros((len(CellTraceoffIdx), nDataPoint.astype(int)))\n",
    "# Map of times per trial in unix time for AUROC\n",
    "UnixTimeArray = np.zeros((len(CellTraceoffIdx), max(\n",
    "    CellTraceoffIdx - CellTraceonIdx).astype(int)[0]))\n",
    "\n",
    "for trial in range(len(CellTraceoffIdx)):\n",
    "    nDataPoints = (CellTraceoffIdx[trial] - CellTraceonIdx[trial])\n",
    "    FVTimeMap[trial, :nDataPoints[0].astype(int)] = CellTraceData[CellTraceonIdx[trial][0].astype(\n",
    "        int):CellTraceoffIdx[trial][0].astype(int), 0] - float(FVData[FVonIdx[trial], 0])\n",
    "    UnixTimeArray[trial, :nDataPoints[0].astype(int)] = CellTraceData[CellTraceonIdx[trial][0].astype(\n",
    "        int):CellTraceoffIdx[trial][0].astype(int), 0]\n",
    "\n",
    "FVTimeMap = np.delete(FVTimeMap, 180, 1)\n",
    "UnixTimeArray = np.delete(UnixTimeArray, 180, 1)\n"
   ]
  },
  {
   "attachments": {},
   "cell_type": "markdown",
   "id": "d4200c9a-8cb6-4762-9e03-78f09764ae5a",
   "metadata": {
    "tags": []
   },
   "source": [
    "### 2e: Combined Data Output"
   ]
  },
  {
   "cell_type": "code",
   "execution_count": 22,
   "id": "d88413e5-fd23-4986-b8dc-9df65f977b7c",
   "metadata": {
    "tags": []
   },
   "outputs": [
    {
     "name": "stderr",
     "output_type": "stream",
     "text": [
      "Writing Cell: 100%|██████████| 17/17 [00:09<00:00,  1.84it/s]\n"
     ]
    }
   ],
   "source": [
    "odorIndexes = []\n",
    "\n",
    "for i in OdorData:\n",
    "    odorIndexes.append(i[0])\n",
    "\n",
    "columnNames = ['CentroidX', 'CentroidY', 'NumComponents', 'Size']\n",
    "TOC = pd.DataFrame(GoodCellProperties[:, 5:9], CellList, columnNames)\n",
    "\n",
    "path = f'./ImagingAnalysis/CombinedData/{fileHeader}CombinedData.xlsx'\n",
    "writer = pd.ExcelWriter(path, engine='xlsxwriter')\n",
    "\n",
    "TOC.to_excel(writer, sheet_name='TOC')\n",
    "TimeMapSheet = pd.DataFrame(\n",
    "    FVTimeMap[:, :180], np.arange(1, len(CellTraceoffIdx)+1))\n",
    "TimeMapSheet.to_excel(writer, sheet_name='TimeMap')\n",
    "\n",
    "for i in trange(len(CellList), desc=\"Writing Cell: \"):\n",
    "    DataDf = pd.DataFrame(Baseline_Shift_Data[i][:][:], odorIndexes)\n",
    "    #DataDf.index = indexes\n",
    "    DataDf.to_excel(writer, sheet_name='Cell %d' % CellList[i])\n",
    "\n",
    "writer.close()\n",
    "\n",
    "#headers = []\n",
    "\n",
    "# for i in range(len(Sniff[0,:])):\n",
    "# headers.append('Trial ' + str(i))\n",
    "\n",
    "#SniffDF = pd.DataFrame(Sniff)\n",
    "#SniffDF.to_excel('./ImportOutputs/' + fileHeader + 'SniffData.xlsx', sheet_name = 'Data', header=headers)\n"
   ]
  },
  {
   "cell_type": "markdown",
   "source": [
    "### 2f: Save information needed for AUROC"
   ],
   "metadata": {
    "collapsed": false
   }
  },
  {
   "cell_type": "code",
   "execution_count": 24,
   "outputs": [
    {
     "name": "stdout",
     "output_type": "stream",
     "text": [
      "VGAT4-10-17-22-CombinedData has been saved!\n",
      "VGAT4-10-17-22-FVonIdx has been saved!\n",
      "VGAT4-10-17-22-UnixTimeArray has been saved!\n",
      "VGAT4-10-17-22-FVTimeMap has been saved!\n",
      "VGAT4-10-17-22-OdorData has been saved!\n",
      "VGAT4-10-17-22-Baseline_Shift_Data has been saved!\n"
     ]
    }
   ],
   "source": [
    "DewanIOhandler.saveDataToDisk(Data, 'CombinedData', fileHeader, './ImagingAnalysis/CombinedData')\n",
    "\n",
    "folder = './ImagingAnalysis/AUROCImports'\n",
    "DewanIOhandler.saveDataToDisk(FVonIdx, 'FVonIdx', fileHeader, folder)\n",
    "DewanIOhandler.saveDataToDisk(\n",
    "    UnixTimeArray, 'UnixTimeArray', fileHeader, folder)\n",
    "DewanIOhandler.saveDataToDisk(FVTimeMap, 'FVTimeMap', fileHeader, folder)\n",
    "DewanIOhandler.saveDataToDisk(OdorData, 'OdorData', fileHeader, folder)\n",
    "DewanIOhandler.saveDataToDisk(\n",
    "    Baseline_Shift_Data, 'Baseline_Shift_Data', fileHeader, folder)\n"
   ],
   "metadata": {
    "collapsed": false
   }
  },
  {
   "attachments": {},
   "cell_type": "markdown",
   "id": "f1d85a0f-d8ef-49b0-9259-cfa381bdae39",
   "metadata": {},
   "source": [
    "## 3: AUROC"
   ]
  },
  {
   "attachments": {},
   "cell_type": "markdown",
   "id": "5785a0e7-4c69-41a6-94f5-7f82b4373234",
   "metadata": {
    "tags": []
   },
   "source": [
    "### 3a: Import Data "
   ]
  },
  {
   "cell_type": "code",
   "execution_count": 26,
   "id": "f51f5276-994e-440c-96fe-93b04ff0c21d",
   "metadata": {},
   "outputs": [
    {
     "name": "stdout",
     "output_type": "stream",
     "text": [
      "VGAT4-10-17-22-CombinedData has loaded successfully!\n",
      "VGAT4-10-17-22-FVData has loaded successfully!\n",
      "VGAT4-10-17-22-CellList has loaded successfully!\n",
      "VGAT4-10-17-22-FVonIdx has loaded successfully!\n",
      "VGAT4-10-17-22-UnixTimeArray has loaded successfully!\n",
      "VGAT4-10-17-22-OdorData has loaded successfully!\n",
      "VGAT4-10-17-22-FVTimeMap has loaded successfully!\n",
      "VGAT4-10-17-22-Baseline_Shift_Data has loaded successfully!\n"
     ]
    }
   ],
   "source": [
    "Data = DewanIOhandler.loadDataFromDisk('CombinedData', fileHeader, './ImagingAnalysis/CombinedData')\n",
    "\n",
    "folder = 'ImagingAnalysis/PreProcessedData'\n",
    "FVData = DewanIOhandler.loadDataFromDisk('FVData', fileHeader, folder)\n",
    "CellList = DewanIOhandler.loadDataFromDisk('CellList', fileHeader, folder)\n",
    "\n",
    "folder = 'ImagingAnalysis/AUROCImports'\n",
    "FVonIdx = DewanIOhandler.loadDataFromDisk('FVonIdx', fileHeader, folder)\n",
    "UnixTimeArray = DewanIOhandler.loadDataFromDisk(\n",
    "    'UnixTimeArray', fileHeader, folder)\n",
    "OdorData = DewanIOhandler.loadDataFromDisk('OdorData', fileHeader, folder)\n",
    "FVTimeMap = DewanIOhandler.loadDataFromDisk('FVTimeMap', fileHeader, folder)\n",
    "Baseline_Shift_Data = DewanIOhandler.loadDataFromDisk(\n",
    "    'Baseline_Shift_Data', fileHeader, folder)\n"
   ]
  },
  {
   "attachments": {},
   "cell_type": "markdown",
   "id": "114ee4f4-9e43-4e84-96da-de6130cc31c2",
   "metadata": {
    "tags": []
   },
   "source": [
    "### 3b: Run AUROC"
   ]
  },
  {
   "cell_type": "code",
   "execution_count": 27,
   "id": "e46b3154-bd60-4548-8ae1-69eb945f31e7",
   "metadata": {
    "tags": []
   },
   "outputs": [],
   "source": [
    "AUROCData = DewanDataStore.AUROCdataStore(\n",
    "    Baseline_Shift_Data, CellList, OdorData, FVData, fileHeader, FVonIdx, UnixTimeArray, baselineDuration, responseDuration, PlotFigures)\n",
    "onTimeReturnValues = DewanAUROC.AUROC(AUROCData, False)\n",
    "latentReturnValues = DewanAUROC.AUROC(AUROCData, True)"
   ]
  },
  {
   "cell_type": "code",
   "execution_count": 28,
   "id": "ac54d824-f7d2-4eba-98e2-df7bc10162c2",
   "metadata": {},
   "outputs": [],
   "source": [
    "onTimeAUROCSignificanceTable = []\n",
    "onTimeAUROCValueTable = []\n",
    "onTimeAUROC_Ubounds = []\n",
    "onTimeAUROC_Lbounds = []\n",
    "onTimeAUROC_prctile = []\n",
    "\n",
    "\n",
    "latentAUROCSignificanceTable = []\n",
    "latentAUROCValueTable = []\n",
    "latentAUROC_Ubounds = []\n",
    "latentAUROC_Lbounds = []\n",
    "latentAUROC_prctile = []\n",
    "\n",
    "baseline_start_indexes = []\n",
    "baseline_end_indexes = []\n",
    "ontime_evoked_start_indexes = []\n",
    "ontime_evoked_end_indexes = []\n",
    "latent_evoked_start_indexes = []\n",
    "latent_evoked_end_indexes = []\n",
    "\n",
    "for returns in onTimeReturnValues:\n",
    "    onTimeAUROCSignificanceTable.append(returns.response_chart)\n",
    "    onTimeAUROCValueTable.append(returns.auroc_values)\n",
    "    onTimeAUROC_Ubounds.append(returns.all_upper_bounds)\n",
    "    onTimeAUROC_Lbounds.append(returns.all_lower_bounds)\n",
    "    onTimeAUROC_prctile.append(returns.percentiles)\n",
    "    baseline_start_indexes.append(returns.baseline_start_indexes)\n",
    "    baseline_end_indexes.append(returns.baseline_end_indexes)\n",
    "    ontime_evoked_start_indexes.append(returns.evoked_start_indexes)\n",
    "    ontime_evoked_end_indexes.append(returns.evoked_end_indexes)\n",
    "\n",
    "\n",
    "for returns in latentReturnValues:\n",
    "    latentAUROCSignificanceTable.append(returns.response_chart)\n",
    "    latentAUROCValueTable.append(returns.auroc_values)\n",
    "    latentAUROC_Ubounds.append(returns.all_upper_bounds)\n",
    "    latentAUROC_Lbounds.append(returns.all_lower_bounds)\n",
    "    latentAUROC_prctile.append(returns.percentiles)\n",
    "    latent_evoked_start_indexes.append(returns.evoked_start_indexes)\n",
    "    latent_evoked_end_indexes.append(returns.evoked_end_indexes)\n",
    "\n",
    "onTimeAUROCSignificanceTable = np.array(onTimeAUROCSignificanceTable)\n",
    "latentAUROCSignificanceTable = np.array(latentAUROCSignificanceTable)\n",
    "onTimeAUROCSignificanceTable = onTimeAUROCSignificanceTable.astype(float)\n",
    "latentAUROCSignificanceTable = latentAUROCSignificanceTable.astype(float)\n",
    "\n",
    "#baseline_start_indexes = np.array(baseline_start_indexes)\n",
    "# baseline_end_indexes = np.array(baseline_end_indexes)\n",
    "# ontime_evoked_start_indexes = np.array(ontime_evoked_start_indexes)\n",
    "# ontime_evoked_end_indexes = np.array(ontime_evoked_end_indexes)\n",
    "# latent_evoked_start_indexes = np.array(latent_evoked_start_indexes)\n",
    "# latent_evoked_end_indexes = np.array(latent_evoked_end_indexes)\n",
    "\n",
    "for rows in range(len(latentAUROCSignificanceTable)):\n",
    "    evokedCells = np.nonzero(onTimeAUROCSignificanceTable[rows] != 0)\n",
    "    latentAUROCSignificanceTable[rows][evokedCells] = 0"
   ]
  },
  {
   "attachments": {},
   "cell_type": "markdown",
   "id": "586dc7e3-f0b5-4fca-8137-014f3f253fd1",
   "metadata": {},
   "source": [
    "### 3c: Save AROC"
   ]
  },
  {
   "cell_type": "code",
   "execution_count": 29,
   "id": "112e160a-a8af-40e4-8a2f-c5a5ec201a2c",
   "metadata": {},
   "outputs": [
    {
     "name": "stdout",
     "output_type": "stream",
     "text": [
      "VGAT4-10-17-22-onTimeAUROCSignificanceTable has been saved!\n",
      "VGAT4-10-17-22-onTimeAUROCValueTable has been saved!\n",
      "VGAT4-10-17-22-onTimeAUROC_Lbounds has been saved!\n",
      "VGAT4-10-17-22-onTimeAUROC_Ubounds has been saved!\n",
      "VGAT4-10-17-22-onTimeAUROC_prctile has been saved!\n",
      "VGAT4-10-17-22-baseline_start_indexes has been saved!\n",
      "VGAT4-10-17-22-baseline_end_indexes has been saved!\n",
      "VGAT4-10-17-22-ontime_evoked_start_indexes has been saved!\n",
      "VGAT4-10-17-22-ontime_evoked_end_indexes has been saved!\n",
      "VGAT4-10-17-22-latentAUROCSignificanceTable has been saved!\n",
      "VGAT4-10-17-22-latentAUROCValueTable has been saved!\n",
      "VGAT4-10-17-22-latentAUROC_Lbounds has been saved!\n",
      "VGAT4-10-17-22-latentAUROC_Ubounds has been saved!\n",
      "VGAT4-10-17-22-latentAUROC_prctile has been saved!\n",
      "VGAT4-10-17-22-latent_evoked_start_indexes has been saved!\n",
      "VGAT4-10-17-22-latent_evoked_end_indexes has been saved!\n"
     ]
    }
   ],
   "source": [
    "folder = 'ImagingAnalysis/AUROCData'\n",
    "\n",
    "DewanIOhandler.saveDataToDisk(\n",
    "    onTimeAUROCSignificanceTable, 'onTimeAUROCSignificanceTable', fileHeader, folder)\n",
    "DewanIOhandler.saveDataToDisk(\n",
    "    onTimeAUROCValueTable, 'onTimeAUROCValueTable', fileHeader, folder)\n",
    "DewanIOhandler.saveDataToDisk(\n",
    "    onTimeAUROC_Lbounds, 'onTimeAUROC_Lbounds', fileHeader, folder)\n",
    "DewanIOhandler.saveDataToDisk(\n",
    "    onTimeAUROC_Ubounds, 'onTimeAUROC_Ubounds', fileHeader, folder)\n",
    "DewanIOhandler.saveDataToDisk(\n",
    "    onTimeAUROC_prctile, 'onTimeAUROC_prctile', fileHeader, folder)\n",
    "\n",
    "DewanIOhandler.saveDataToDisk(\n",
    "    baseline_start_indexes, 'baseline_start_indexes', fileHeader, folder)\n",
    "DewanIOhandler.saveDataToDisk(\n",
    "    baseline_end_indexes, 'baseline_end_indexes', fileHeader, folder)\n",
    "DewanIOhandler.saveDataToDisk(\n",
    "    ontime_evoked_start_indexes, 'ontime_evoked_start_indexes', fileHeader, folder)\n",
    "DewanIOhandler.saveDataToDisk(\n",
    "    ontime_evoked_end_indexes, 'ontime_evoked_end_indexes', fileHeader, folder)\n",
    "\n",
    "DewanIOhandler.saveDataToDisk(\n",
    "    latentAUROCSignificanceTable, 'latentAUROCSignificanceTable', fileHeader, folder)\n",
    "DewanIOhandler.saveDataToDisk(\n",
    "    latentAUROCValueTable, 'latentAUROCValueTable', fileHeader, folder)\n",
    "DewanIOhandler.saveDataToDisk(\n",
    "    latentAUROC_Lbounds, 'latentAUROC_Lbounds', fileHeader, folder)\n",
    "DewanIOhandler.saveDataToDisk(\n",
    "    latentAUROC_Ubounds, 'latentAUROC_Ubounds', fileHeader, folder)\n",
    "DewanIOhandler.saveDataToDisk(\n",
    "    latentAUROC_prctile, 'latentAUROC_prctile', fileHeader, folder)\n",
    "\n",
    "DewanIOhandler.saveDataToDisk(\n",
    "    latent_evoked_start_indexes, 'latent_evoked_start_indexes', fileHeader, folder)\n",
    "DewanIOhandler.saveDataToDisk(\n",
    "    latent_evoked_end_indexes, 'latent_evoked_end_indexes', fileHeader, folder)"
   ]
  },
  {
   "attachments": {},
   "cell_type": "markdown",
   "id": "c63e3ee4-b33d-4495-b1c4-0e205982dd46",
   "metadata": {
    "tags": []
   },
   "source": [
    "## 4: Plotting"
   ]
  },
  {
   "attachments": {},
   "cell_type": "markdown",
   "id": "afb6f565",
   "metadata": {},
   "source": [
    "### 4a: Import Data"
   ]
  },
  {
   "cell_type": "code",
   "execution_count": 5,
   "id": "581d2227-89b4-44cb-8eef-2360b42c869c",
   "metadata": {},
   "outputs": [
    {
     "name": "stdout",
     "output_type": "stream",
     "text": [
      "VGAT4-10-17-22-onTimeAUROCSignificanceTable has loaded successfully!\n",
      "VGAT4-10-17-22-onTimeAUROCValueTable has loaded successfully!\n",
      "VGAT4-10-17-22-onTimeAUROC_Lbounds has loaded successfully!\n",
      "VGAT4-10-17-22-onTimeAUROC_Ubounds has loaded successfully!\n",
      "VGAT4-10-17-22-onTimeAUROC_prctile has loaded successfully!\n",
      "VGAT4-10-17-22-latentAUROCSignificanceTable has loaded successfully!\n",
      "VGAT4-10-17-22-latentAUROCValueTable has loaded successfully!\n",
      "VGAT4-10-17-22-latentAUROC_Lbounds has loaded successfully!\n",
      "VGAT4-10-17-22-latentAUROC_Ubounds has loaded successfully!\n",
      "VGAT4-10-17-22-latentAUROC_prctile has loaded successfully!\n",
      "VGAT4-10-17-22-baseline_start_indexes has loaded successfully!\n",
      "VGAT4-10-17-22-baseline_end_indexes has loaded successfully!\n",
      "VGAT4-10-17-22-ontime_evoked_start_indexes has loaded successfully!\n",
      "VGAT4-10-17-22-ontime_evoked_end_indexes has loaded successfully!\n",
      "VGAT4-10-17-22-latent_evoked_start_indexes has loaded successfully!\n",
      "VGAT4-10-17-22-latent_evoked_end_indexes has loaded successfully!\n",
      "VGAT4-10-17-22-CombinedData has loaded successfully!\n",
      "VGAT4-10-17-22-FVData has loaded successfully!\n",
      "VGAT4-10-17-22-CellList has loaded successfully!\n",
      "VGAT4-10-17-22-FVonIdx has loaded successfully!\n",
      "VGAT4-10-17-22-UnixTimeArray has loaded successfully!\n",
      "VGAT4-10-17-22-OdorData has loaded successfully!\n",
      "VGAT4-10-17-22-FVTimeMap has loaded successfully!\n",
      "VGAT4-10-17-22-Baseline_Shift_Data has loaded successfully!\n"
     ]
    }
   ],
   "source": [
    "folder = 'ImagingAnalysis/AUROCData'\n",
    "\n",
    "onTimeAUROCSignificanceTable = DewanIOhandler.loadDataFromDisk(\n",
    "    'onTimeAUROCSignificanceTable', fileHeader, folder)\n",
    "onTimeAUROCValueTable = DewanIOhandler.loadDataFromDisk(\n",
    "    'onTimeAUROCValueTable', fileHeader, folder)\n",
    "onTimeAUROC_Lbounds = DewanIOhandler.loadDataFromDisk(\n",
    "    'onTimeAUROC_Lbounds', fileHeader, folder)\n",
    "onTimeAUROC_Ubounds = DewanIOhandler.loadDataFromDisk(\n",
    "    'onTimeAUROC_Ubounds', fileHeader, folder)\n",
    "onTimeAUROC_prctile = DewanIOhandler.loadDataFromDisk(\n",
    "    'onTimeAUROC_prctile', fileHeader, folder)\n",
    "\n",
    "latentAUROCSignificanceTable = DewanIOhandler.loadDataFromDisk(\n",
    "    'latentAUROCSignificanceTable', fileHeader, folder)\n",
    "latentAUROCValueTable = DewanIOhandler.loadDataFromDisk(\n",
    "    'latentAUROCValueTable', fileHeader, folder)\n",
    "latentAUROC_Lbounds = DewanIOhandler.loadDataFromDisk(\n",
    "    'latentAUROC_Lbounds', fileHeader, folder)\n",
    "latentAUROC_Ubounds = DewanIOhandler.loadDataFromDisk(\n",
    "    'latentAUROC_Ubounds', fileHeader, folder)\n",
    "latentAUROC_prctile = DewanIOhandler.loadDataFromDisk(\n",
    "    'latentAUROC_prctile', fileHeader, folder)\n",
    "\n",
    "\n",
    "baseline_start_indexes = DewanIOhandler.loadDataFromDisk(\n",
    "    'baseline_start_indexes', fileHeader, folder)\n",
    "baseline_end_indexes = DewanIOhandler.loadDataFromDisk(\n",
    "    'baseline_end_indexes', fileHeader, folder)\n",
    "ontime_evoked_start_indexes = DewanIOhandler.loadDataFromDisk(\n",
    "    'ontime_evoked_start_indexes', fileHeader, folder)\n",
    "ontime_evoked_end_indexes = DewanIOhandler.loadDataFromDisk(\n",
    "    'ontime_evoked_end_indexes', fileHeader, folder)\n",
    "latent_evoked_start_indexes = DewanIOhandler.loadDataFromDisk(\n",
    "    'latent_evoked_start_indexes', fileHeader, folder)\n",
    "latent_evoked_end_indexes = DewanIOhandler.loadDataFromDisk(\n",
    "    'latent_evoked_end_indexes', fileHeader, folder)\n",
    "\n",
    "Data = DewanIOhandler.loadDataFromDisk(\n",
    "    'CombinedData', fileHeader, 'ImagingAnalysis/CombinedData')\n",
    "\n",
    "folder = 'ImagingAnalysis/PreProcessedData'\n",
    "FVData = DewanIOhandler.loadDataFromDisk('FVData', fileHeader, folder)\n",
    "CellList = DewanIOhandler.loadDataFromDisk('CellList', fileHeader, folder)\n",
    "\n",
    "folder = 'ImagingAnalysis/AUROCImports'\n",
    "FVonIdx = DewanIOhandler.loadDataFromDisk('FVonIdx', fileHeader, folder)\n",
    "UnixTimeArray = DewanIOhandler.loadDataFromDisk(\n",
    "    'UnixTimeArray', fileHeader, folder)\n",
    "OdorData = DewanIOhandler.loadDataFromDisk('OdorData', fileHeader, folder)\n",
    "FVTimeMap = DewanIOhandler.loadDataFromDisk('FVTimeMap', fileHeader, folder)\n",
    "Baseline_Shift_Data = DewanIOhandler.loadDataFromDisk(\n",
    "    'Baseline_Shift_Data', fileHeader, folder)\n"
   ]
  },
  {
   "attachments": {},
   "cell_type": "markdown",
   "id": "565dd979-f777-4297-a731-44d2e321a812",
   "metadata": {
    "tags": []
   },
   "source": [
    "### 4b: Cells v. Odors AUROC Significance"
   ]
  },
  {
   "cell_type": "code",
   "execution_count": 6,
   "id": "47259a9f-88ae-4d74-b61b-d1f634788f8f",
   "metadata": {},
   "outputs": [],
   "source": [
    "onTimePlottingData = DewanDataStore.PlottingDataStore(Baseline_Shift_Data, CellList, OdorData, FVData, fileHeader, FVTimeMap, FVonIdx, UnixTimeArray, baselineDuration, responseDuration, onTimeAUROCSignificanceTable, onTimeAUROC_Lbounds, onTimeAUROC_Ubounds, onTimeAUROC_prctile, baseline_start_indexes, baseline_end_indexes, ontime_evoked_start_indexes, ontime_evoked_end_indexes)\n",
    "\n",
    "latentPlottingData = DewanDataStore.PlottingDataStore(Baseline_Shift_Data, CellList, OdorData, FVData, fileHeader, FVTimeMap, FVonIdx, UnixTimeArray, baselineDuration, responseDuration, latentAUROCSignificanceTable, latentAUROC_Lbounds, latentAUROC_Ubounds, latentAUROC_prctile, baseline_start_indexes, baseline_end_indexes, latent_evoked_start_indexes, latent_evoked_end_indexes)"
   ]
  },
  {
   "attachments": {},
   "cell_type": "markdown",
   "id": "43a76044",
   "metadata": {},
   "source": [
    "#### 4b-1: Plot Cell v Odor Significance Matricies"
   ]
  },
  {
   "cell_type": "code",
   "execution_count": 32,
   "id": "559f2088",
   "metadata": {},
   "outputs": [],
   "source": [
    "DewanPlotting.plotCellvOdorMatricies(onTimePlottingData, False)\n",
    "DewanPlotting.plotCellvOdorMatricies(latentPlottingData, True)"
   ]
  },
  {
   "attachments": {},
   "cell_type": "markdown",
   "id": "82509cfa-a9af-45d3-a89a-50388882dc4f",
   "metadata": {
    "tags": []
   },
   "source": [
    "#### 4b-2: Plot All Cell Traces"
   ]
  },
  {
   "cell_type": "code",
   "execution_count": 8,
   "id": "f3dcb30e-5c3d-4250-b88c-6df9c98a0197",
   "metadata": {},
   "outputs": [],
   "source": [
    "# Plot all cells v odors; only needed for AUROC verification\n",
    "DewanPlotting.plotAllCells(onTimePlottingData, False)\n",
    "DewanPlotting.plotAllCells(latentPlottingData, True)"
   ]
  },
  {
   "attachments": {},
   "cell_type": "markdown",
   "id": "c3097709",
   "metadata": {},
   "source": [
    "#### 4b-3: Plot Significant Cell Traces"
   ]
  },
  {
   "cell_type": "code",
   "execution_count": null,
   "id": "089eada6",
   "metadata": {},
   "outputs": [],
   "source": [
    "# Oh no! Nothing here yet :(\n",
    "# https://media.tenor.com/vMvR0gEolCEAAAAC/nothing-to-see-here-explosion.gif"
   ]
  },
  {
   "attachments": {},
   "cell_type": "markdown",
   "id": "95fd1d78",
   "metadata": {},
   "source": [
    "### 4c: Plot Trace Variance"
   ]
  },
  {
   "cell_type": "code",
   "execution_count": 32,
   "id": "0db10c67",
   "metadata": {},
   "outputs": [],
   "source": [
    "trialScatterData = DewanDataStore.AUROCdataStore(\n",
    "    Baseline_Shift_Data, CellList, OdorData, FVData, fileHeader, FVonIdx, UnixTimeArray, baselineDuration, responseDuration, False)\n",
    "\n",
    "\n",
    "DewanPlotting.plotTrialsPerPairing(\n",
    "    trialScatterData, onTimeAUROCSignificanceTable, False)\n",
    "DewanPlotting.plotTrialsPerPairing(\n",
    "    trialScatterData, onTimeAUROCSignificanceTable, True)\n"
   ]
  },
  {
   "cell_type": "markdown",
   "source": [
    "## 5. Statistics"
   ],
   "metadata": {
    "collapsed": false
   }
  },
  {
   "cell_type": "markdown",
   "source": [
    "### 5a. Load Data"
   ],
   "metadata": {
    "collapsed": false
   }
  },
  {
   "cell_type": "code",
   "execution_count": null,
   "outputs": [],
   "source": [
    "#Oh no, nothing here yet :("
   ],
   "metadata": {
    "collapsed": false
   }
  },
  {
   "cell_type": "markdown",
   "source": [
    "### 5b. Correlation Coefficients"
   ],
   "metadata": {
    "collapsed": false
   }
  },
  {
   "cell_type": "code",
   "execution_count": 37,
   "id": "6205f756",
   "metadata": {},
   "outputs": [],
   "source": [
    "similarityData = DewanDataStore.AUROCdataStore(Baseline_Shift_Data, CellList, OdorData, FVData, fileHeader, FVonIdx, UnixTimeArray, baselineDuration, responseDuration, False)\n",
    "CCs = DewanStats.crossTrialConsistency(similarityData, onTimeAUROCSignificanceTable, False)"
   ]
  },
  {
   "cell_type": "code",
   "execution_count": 38,
   "outputs": [],
   "source": [
    "mineralOilIndex = np.nonzero(similarityData.unique_odors == 'MO')[0]\n",
    "responsiveCellListIndex = np.nonzero(onTimeAUROCSignificanceTable[:, mineralOilIndex] == 0)[0]\n",
    "odorIndexes = np.nonzero(similarityData.unique_odors != 'MO')[0]\n",
    "columns = [f'Cell: {similarityData.Cell_List[cell]}' for cell in responsiveCellListIndex]\n",
    "rows = [f'{similarityData.unique_odors[odor]}' for odor in odorIndexes]\n",
    "CCs = np.array(CCs)\n",
    "CCs = pd.DataFrame(CCs.transpose(), columns=columns, index=rows)"
   ],
   "metadata": {
    "collapsed": false
   }
  },
  {
   "cell_type": "code",
   "execution_count": 39,
   "outputs": [
    {
     "data": {
      "text/plain": "         Cell: 0   Cell: 1   Cell: 2   Cell: 3   Cell: 9  Cell: 10  Cell: 11  \\\n25ONE   0.198985  0.085805  0.134829  0.052483  0.121492  0.054131  0.195258   \n4AL     0.194291  0.135975  0.173829  0.186535  0.151909  0.212283  0.131235   \n4AMINE  0.210934  0.163678  0.154829  0.184841  0.106230  0.081718  0.193497   \n4ATE    0.243845  0.221955  0.200309  0.165513  0.216327  0.231058  0.219674   \n4OL     0.266180  0.188068  0.301149  0.212138  0.218819  0.228408  0.267794   \n4ONE    0.229144  0.206167  0.274633  0.238270  0.294731  0.257804  0.247274   \n5AL     0.209614  0.265450  0.204649  0.200445  0.150014  0.241715  0.234240   \n5AMINE  0.226623  0.189088  0.206849  0.191508  0.107316  0.038510  0.235872   \n5ATE    0.192513  0.228214  0.223776  0.236023  0.153958  0.178395  0.245132   \n5OL     0.243577  0.150894  0.199629  0.256055  0.160150  0.173721  0.208160   \n6AL     0.217371  0.265080  0.198123  0.154766  0.160768  0.206396  0.233825   \n6AMINE  0.232606  0.223146  0.250905  0.192823  0.204511  0.301283  0.283822   \n6ATE    0.188373  0.240287  0.230773  0.240558  0.160291  0.266299  0.239498   \n6OL     0.147903  0.149221  0.150880  0.115774  0.104293  0.075861  0.222201   \n6ONE    0.194955  0.164685  0.206161  0.141099  0.139920  0.215722  0.249022   \n7AL     0.138934  0.135450  0.264536  0.186663  0.171961  0.213523  0.255523   \n7AMINE  0.192265  0.246530  0.226516  0.182061  0.127681  0.208707  0.215749   \n7ATE    0.189815  0.170750  0.164891  0.037847  0.171462  0.070393  0.223870   \n7OL     0.206215  0.146215  0.231431  0.201896  0.133237  0.179977  0.234800   \n7ONE    0.142454  0.264193  0.214331  0.116635  0.119920  0.206690  0.226224   \nBuzzer  0.218989  0.040331  0.198207  0.156558  0.190361  0.185528  0.157252   \n\n        Cell: 14  Cell: 15  Cell: 16  Cell: 17  Cell: 19  Cell: 22  Cell: 24  \\\n25ONE   0.203805  0.177296  0.072994  0.240276  0.020716  0.123642  0.205818   \n4AL     0.171773  0.142373  0.143611  0.344949  0.218073  0.118897  0.214641   \n4AMINE  0.283039  0.223111  0.184213  0.441769  0.291145  0.265386  0.179967   \n4ATE    0.169526  0.165077  0.223559  0.164941  0.138637  0.219203  0.245240   \n4OL     0.256187  0.276194  0.160607  0.231869  0.165822  0.193592  0.272203   \n4ONE    0.162846  0.271217  0.286897  0.237308  0.196246  0.162536  0.227232   \n5AL     0.247971  0.185293  0.232157  0.259041  0.141620  0.228766  0.264915   \n5AMINE  0.274041  0.202881  0.145923  0.395755  0.209216  0.298810  0.190645   \n5ATE    0.159229  0.170200  0.178313  0.222572  0.053045  0.106605  0.246769   \n5OL     0.267014  0.236400  0.183825  0.218780  0.073640  0.100864  0.247138   \n6AL     0.152935  0.187574  0.150453  0.219553  0.098551  0.264856  0.241792   \n6AMINE  0.233943  0.184155  0.216417  0.235689  0.253758  0.288530  0.249994   \n6ATE    0.243043  0.260454  0.256267  0.194374  0.216630  0.130870  0.232898   \n6OL     0.214523  0.191357  0.159255  0.269032  0.091012  0.098940  0.201760   \n6ONE    0.171461  0.123887  0.185122  0.171553  0.238798  0.228659  0.177381   \n7AL     0.146149  0.167275  0.221780  0.173172  0.173502  0.149562  0.202984   \n7AMINE  0.232238  0.185251  0.154230  0.257158  0.097548  0.237455  0.239566   \n7ATE    0.279423  0.199783  0.217990  0.259942  0.100362  0.108832  0.159328   \n7OL     0.138578  0.170843  0.174758  0.235210  0.160745  0.232624  0.214249   \n7ONE    0.044911  0.224571  0.196044  0.204134  0.229330  0.228694  0.198817   \nBuzzer  0.115122  0.105086  0.165910  0.183188  0.120303  0.094237  0.299786   \n\n        Cell: 26  Cell: 43  \n25ONE   0.201067  0.199051  \n4AL     0.256203  0.200011  \n4AMINE  0.193423  0.182966  \n4ATE    0.213648  0.227447  \n4OL     0.249222  0.221420  \n4ONE    0.263294  0.227026  \n5AL     0.247534  0.185829  \n5AMINE  0.248349  0.236197  \n5ATE    0.257851  0.250190  \n5OL     0.267280  0.244423  \n6AL     0.273828  0.211013  \n6AMINE  0.258385  0.235417  \n6ATE    0.279380  0.265967  \n6OL     0.181918  0.194898  \n6ONE    0.195701  0.150300  \n7AL     0.239523  0.260705  \n7AMINE  0.250130  0.239166  \n7ATE    0.266333  0.213034  \n7OL     0.214739  0.195434  \n7ONE    0.261118  0.235085  \nBuzzer  0.193480  0.111093  ",
      "text/html": "<div>\n<style scoped>\n    .dataframe tbody tr th:only-of-type {\n        vertical-align: middle;\n    }\n\n    .dataframe tbody tr th {\n        vertical-align: top;\n    }\n\n    .dataframe thead th {\n        text-align: right;\n    }\n</style>\n<table border=\"1\" class=\"dataframe\">\n  <thead>\n    <tr style=\"text-align: right;\">\n      <th></th>\n      <th>Cell: 0</th>\n      <th>Cell: 1</th>\n      <th>Cell: 2</th>\n      <th>Cell: 3</th>\n      <th>Cell: 9</th>\n      <th>Cell: 10</th>\n      <th>Cell: 11</th>\n      <th>Cell: 14</th>\n      <th>Cell: 15</th>\n      <th>Cell: 16</th>\n      <th>Cell: 17</th>\n      <th>Cell: 19</th>\n      <th>Cell: 22</th>\n      <th>Cell: 24</th>\n      <th>Cell: 26</th>\n      <th>Cell: 43</th>\n    </tr>\n  </thead>\n  <tbody>\n    <tr>\n      <th>25ONE</th>\n      <td>0.198985</td>\n      <td>0.085805</td>\n      <td>0.134829</td>\n      <td>0.052483</td>\n      <td>0.121492</td>\n      <td>0.054131</td>\n      <td>0.195258</td>\n      <td>0.203805</td>\n      <td>0.177296</td>\n      <td>0.072994</td>\n      <td>0.240276</td>\n      <td>0.020716</td>\n      <td>0.123642</td>\n      <td>0.205818</td>\n      <td>0.201067</td>\n      <td>0.199051</td>\n    </tr>\n    <tr>\n      <th>4AL</th>\n      <td>0.194291</td>\n      <td>0.135975</td>\n      <td>0.173829</td>\n      <td>0.186535</td>\n      <td>0.151909</td>\n      <td>0.212283</td>\n      <td>0.131235</td>\n      <td>0.171773</td>\n      <td>0.142373</td>\n      <td>0.143611</td>\n      <td>0.344949</td>\n      <td>0.218073</td>\n      <td>0.118897</td>\n      <td>0.214641</td>\n      <td>0.256203</td>\n      <td>0.200011</td>\n    </tr>\n    <tr>\n      <th>4AMINE</th>\n      <td>0.210934</td>\n      <td>0.163678</td>\n      <td>0.154829</td>\n      <td>0.184841</td>\n      <td>0.106230</td>\n      <td>0.081718</td>\n      <td>0.193497</td>\n      <td>0.283039</td>\n      <td>0.223111</td>\n      <td>0.184213</td>\n      <td>0.441769</td>\n      <td>0.291145</td>\n      <td>0.265386</td>\n      <td>0.179967</td>\n      <td>0.193423</td>\n      <td>0.182966</td>\n    </tr>\n    <tr>\n      <th>4ATE</th>\n      <td>0.243845</td>\n      <td>0.221955</td>\n      <td>0.200309</td>\n      <td>0.165513</td>\n      <td>0.216327</td>\n      <td>0.231058</td>\n      <td>0.219674</td>\n      <td>0.169526</td>\n      <td>0.165077</td>\n      <td>0.223559</td>\n      <td>0.164941</td>\n      <td>0.138637</td>\n      <td>0.219203</td>\n      <td>0.245240</td>\n      <td>0.213648</td>\n      <td>0.227447</td>\n    </tr>\n    <tr>\n      <th>4OL</th>\n      <td>0.266180</td>\n      <td>0.188068</td>\n      <td>0.301149</td>\n      <td>0.212138</td>\n      <td>0.218819</td>\n      <td>0.228408</td>\n      <td>0.267794</td>\n      <td>0.256187</td>\n      <td>0.276194</td>\n      <td>0.160607</td>\n      <td>0.231869</td>\n      <td>0.165822</td>\n      <td>0.193592</td>\n      <td>0.272203</td>\n      <td>0.249222</td>\n      <td>0.221420</td>\n    </tr>\n    <tr>\n      <th>4ONE</th>\n      <td>0.229144</td>\n      <td>0.206167</td>\n      <td>0.274633</td>\n      <td>0.238270</td>\n      <td>0.294731</td>\n      <td>0.257804</td>\n      <td>0.247274</td>\n      <td>0.162846</td>\n      <td>0.271217</td>\n      <td>0.286897</td>\n      <td>0.237308</td>\n      <td>0.196246</td>\n      <td>0.162536</td>\n      <td>0.227232</td>\n      <td>0.263294</td>\n      <td>0.227026</td>\n    </tr>\n    <tr>\n      <th>5AL</th>\n      <td>0.209614</td>\n      <td>0.265450</td>\n      <td>0.204649</td>\n      <td>0.200445</td>\n      <td>0.150014</td>\n      <td>0.241715</td>\n      <td>0.234240</td>\n      <td>0.247971</td>\n      <td>0.185293</td>\n      <td>0.232157</td>\n      <td>0.259041</td>\n      <td>0.141620</td>\n      <td>0.228766</td>\n      <td>0.264915</td>\n      <td>0.247534</td>\n      <td>0.185829</td>\n    </tr>\n    <tr>\n      <th>5AMINE</th>\n      <td>0.226623</td>\n      <td>0.189088</td>\n      <td>0.206849</td>\n      <td>0.191508</td>\n      <td>0.107316</td>\n      <td>0.038510</td>\n      <td>0.235872</td>\n      <td>0.274041</td>\n      <td>0.202881</td>\n      <td>0.145923</td>\n      <td>0.395755</td>\n      <td>0.209216</td>\n      <td>0.298810</td>\n      <td>0.190645</td>\n      <td>0.248349</td>\n      <td>0.236197</td>\n    </tr>\n    <tr>\n      <th>5ATE</th>\n      <td>0.192513</td>\n      <td>0.228214</td>\n      <td>0.223776</td>\n      <td>0.236023</td>\n      <td>0.153958</td>\n      <td>0.178395</td>\n      <td>0.245132</td>\n      <td>0.159229</td>\n      <td>0.170200</td>\n      <td>0.178313</td>\n      <td>0.222572</td>\n      <td>0.053045</td>\n      <td>0.106605</td>\n      <td>0.246769</td>\n      <td>0.257851</td>\n      <td>0.250190</td>\n    </tr>\n    <tr>\n      <th>5OL</th>\n      <td>0.243577</td>\n      <td>0.150894</td>\n      <td>0.199629</td>\n      <td>0.256055</td>\n      <td>0.160150</td>\n      <td>0.173721</td>\n      <td>0.208160</td>\n      <td>0.267014</td>\n      <td>0.236400</td>\n      <td>0.183825</td>\n      <td>0.218780</td>\n      <td>0.073640</td>\n      <td>0.100864</td>\n      <td>0.247138</td>\n      <td>0.267280</td>\n      <td>0.244423</td>\n    </tr>\n    <tr>\n      <th>6AL</th>\n      <td>0.217371</td>\n      <td>0.265080</td>\n      <td>0.198123</td>\n      <td>0.154766</td>\n      <td>0.160768</td>\n      <td>0.206396</td>\n      <td>0.233825</td>\n      <td>0.152935</td>\n      <td>0.187574</td>\n      <td>0.150453</td>\n      <td>0.219553</td>\n      <td>0.098551</td>\n      <td>0.264856</td>\n      <td>0.241792</td>\n      <td>0.273828</td>\n      <td>0.211013</td>\n    </tr>\n    <tr>\n      <th>6AMINE</th>\n      <td>0.232606</td>\n      <td>0.223146</td>\n      <td>0.250905</td>\n      <td>0.192823</td>\n      <td>0.204511</td>\n      <td>0.301283</td>\n      <td>0.283822</td>\n      <td>0.233943</td>\n      <td>0.184155</td>\n      <td>0.216417</td>\n      <td>0.235689</td>\n      <td>0.253758</td>\n      <td>0.288530</td>\n      <td>0.249994</td>\n      <td>0.258385</td>\n      <td>0.235417</td>\n    </tr>\n    <tr>\n      <th>6ATE</th>\n      <td>0.188373</td>\n      <td>0.240287</td>\n      <td>0.230773</td>\n      <td>0.240558</td>\n      <td>0.160291</td>\n      <td>0.266299</td>\n      <td>0.239498</td>\n      <td>0.243043</td>\n      <td>0.260454</td>\n      <td>0.256267</td>\n      <td>0.194374</td>\n      <td>0.216630</td>\n      <td>0.130870</td>\n      <td>0.232898</td>\n      <td>0.279380</td>\n      <td>0.265967</td>\n    </tr>\n    <tr>\n      <th>6OL</th>\n      <td>0.147903</td>\n      <td>0.149221</td>\n      <td>0.150880</td>\n      <td>0.115774</td>\n      <td>0.104293</td>\n      <td>0.075861</td>\n      <td>0.222201</td>\n      <td>0.214523</td>\n      <td>0.191357</td>\n      <td>0.159255</td>\n      <td>0.269032</td>\n      <td>0.091012</td>\n      <td>0.098940</td>\n      <td>0.201760</td>\n      <td>0.181918</td>\n      <td>0.194898</td>\n    </tr>\n    <tr>\n      <th>6ONE</th>\n      <td>0.194955</td>\n      <td>0.164685</td>\n      <td>0.206161</td>\n      <td>0.141099</td>\n      <td>0.139920</td>\n      <td>0.215722</td>\n      <td>0.249022</td>\n      <td>0.171461</td>\n      <td>0.123887</td>\n      <td>0.185122</td>\n      <td>0.171553</td>\n      <td>0.238798</td>\n      <td>0.228659</td>\n      <td>0.177381</td>\n      <td>0.195701</td>\n      <td>0.150300</td>\n    </tr>\n    <tr>\n      <th>7AL</th>\n      <td>0.138934</td>\n      <td>0.135450</td>\n      <td>0.264536</td>\n      <td>0.186663</td>\n      <td>0.171961</td>\n      <td>0.213523</td>\n      <td>0.255523</td>\n      <td>0.146149</td>\n      <td>0.167275</td>\n      <td>0.221780</td>\n      <td>0.173172</td>\n      <td>0.173502</td>\n      <td>0.149562</td>\n      <td>0.202984</td>\n      <td>0.239523</td>\n      <td>0.260705</td>\n    </tr>\n    <tr>\n      <th>7AMINE</th>\n      <td>0.192265</td>\n      <td>0.246530</td>\n      <td>0.226516</td>\n      <td>0.182061</td>\n      <td>0.127681</td>\n      <td>0.208707</td>\n      <td>0.215749</td>\n      <td>0.232238</td>\n      <td>0.185251</td>\n      <td>0.154230</td>\n      <td>0.257158</td>\n      <td>0.097548</td>\n      <td>0.237455</td>\n      <td>0.239566</td>\n      <td>0.250130</td>\n      <td>0.239166</td>\n    </tr>\n    <tr>\n      <th>7ATE</th>\n      <td>0.189815</td>\n      <td>0.170750</td>\n      <td>0.164891</td>\n      <td>0.037847</td>\n      <td>0.171462</td>\n      <td>0.070393</td>\n      <td>0.223870</td>\n      <td>0.279423</td>\n      <td>0.199783</td>\n      <td>0.217990</td>\n      <td>0.259942</td>\n      <td>0.100362</td>\n      <td>0.108832</td>\n      <td>0.159328</td>\n      <td>0.266333</td>\n      <td>0.213034</td>\n    </tr>\n    <tr>\n      <th>7OL</th>\n      <td>0.206215</td>\n      <td>0.146215</td>\n      <td>0.231431</td>\n      <td>0.201896</td>\n      <td>0.133237</td>\n      <td>0.179977</td>\n      <td>0.234800</td>\n      <td>0.138578</td>\n      <td>0.170843</td>\n      <td>0.174758</td>\n      <td>0.235210</td>\n      <td>0.160745</td>\n      <td>0.232624</td>\n      <td>0.214249</td>\n      <td>0.214739</td>\n      <td>0.195434</td>\n    </tr>\n    <tr>\n      <th>7ONE</th>\n      <td>0.142454</td>\n      <td>0.264193</td>\n      <td>0.214331</td>\n      <td>0.116635</td>\n      <td>0.119920</td>\n      <td>0.206690</td>\n      <td>0.226224</td>\n      <td>0.044911</td>\n      <td>0.224571</td>\n      <td>0.196044</td>\n      <td>0.204134</td>\n      <td>0.229330</td>\n      <td>0.228694</td>\n      <td>0.198817</td>\n      <td>0.261118</td>\n      <td>0.235085</td>\n    </tr>\n    <tr>\n      <th>Buzzer</th>\n      <td>0.218989</td>\n      <td>0.040331</td>\n      <td>0.198207</td>\n      <td>0.156558</td>\n      <td>0.190361</td>\n      <td>0.185528</td>\n      <td>0.157252</td>\n      <td>0.115122</td>\n      <td>0.105086</td>\n      <td>0.165910</td>\n      <td>0.183188</td>\n      <td>0.120303</td>\n      <td>0.094237</td>\n      <td>0.299786</td>\n      <td>0.193480</td>\n      <td>0.111093</td>\n    </tr>\n  </tbody>\n</table>\n</div>"
     },
     "execution_count": 39,
     "metadata": {},
     "output_type": "execute_result"
    }
   ],
   "source": [
    "CCs"
   ],
   "metadata": {
    "collapsed": false
   }
  },
  {
   "cell_type": "markdown",
   "source": [
    "### 5c. Lifetime and Population Sparseness"
   ],
   "metadata": {
    "collapsed": false
   }
  },
  {
   "cell_type": "code",
   "execution_count": 40,
   "outputs": [
    {
     "ename": "AttributeError",
     "evalue": "'bool' object has no attribute 'baseline_start_indexes'",
     "output_type": "error",
     "traceback": [
      "\u001B[1;31m---------------------------------------------------------------------------\u001B[0m",
      "\u001B[1;31mAttributeError\u001B[0m                            Traceback (most recent call last)",
      "Cell \u001B[1;32mIn[40], line 4\u001B[0m\n\u001B[0;32m      1\u001B[0m sparsenessData \u001B[38;5;241m=\u001B[39m DewanDataStore\u001B[38;5;241m.\u001B[39mAUROCdataStore(\n\u001B[0;32m      2\u001B[0m     Baseline_Shift_Data, CellList, OdorData, FVData, fileHeader, FVonIdx, UnixTimeArray, baselineDuration, responseDuration, \u001B[38;5;28;01mFalse\u001B[39;00m)\n\u001B[1;32m----> 4\u001B[0m lifetimeSparseness, cells \u001B[38;5;241m=\u001B[39m \u001B[43mDewanStats\u001B[49m\u001B[38;5;241;43m.\u001B[39;49m\u001B[43mlifetimeSparseness\u001B[49m\u001B[43m(\u001B[49m\u001B[43msparsenessData\u001B[49m\u001B[43m,\u001B[49m\u001B[43m \u001B[49m\u001B[43monTimeAUROCSignificanceTable\u001B[49m\u001B[43m)\u001B[49m\n\u001B[0;32m      5\u001B[0m populationSparseness, odors \u001B[38;5;241m=\u001B[39m DewanStats\u001B[38;5;241m.\u001B[39mpopSparseness(sparsenessData, onTimeAUROCSignificanceTable)\n\u001B[0;32m      6\u001B[0m lsPairs \u001B[38;5;241m=\u001B[39m [\u001B[38;5;124mf\u001B[39m\u001B[38;5;124m'\u001B[39m\u001B[38;5;124mCell \u001B[39m\u001B[38;5;132;01m{\u001B[39;00mcells[i]\u001B[38;5;132;01m}\u001B[39;00m\u001B[38;5;124m: \u001B[39m\u001B[38;5;132;01m{\u001B[39;00m\u001B[38;5;28mround\u001B[39m(lifetimeSparseness[i],\u001B[38;5;241m5\u001B[39m)\u001B[38;5;132;01m}\u001B[39;00m\u001B[38;5;124m'\u001B[39m \u001B[38;5;28;01mfor\u001B[39;00m i \u001B[38;5;129;01min\u001B[39;00m \u001B[38;5;28mrange\u001B[39m(\u001B[38;5;28mlen\u001B[39m(cells))]\n",
      "File \u001B[1;32mC:\\ImagingAnalysisPipeline\\Python\\DewanLabPython\\DewanStats.py:112\u001B[0m, in \u001B[0;36mlifetimeSparseness\u001B[1;34m(dataInput, significanceTable)\u001B[0m\n\u001B[0;32m    108\u001B[0m     \u001B[38;5;28;01mcontinue\u001B[39;00m\n\u001B[0;32m    110\u001B[0m dataInput\u001B[38;5;241m.\u001B[39mupdate_odor(odor)\n\u001B[1;32m--> 112\u001B[0m difference_of_means \u001B[38;5;241m=\u001B[39m \u001B[43mreturnDifferenceOfMeans\u001B[49m\u001B[43m(\u001B[49m\u001B[43mdataInput\u001B[49m\u001B[43m)\u001B[49m\n\u001B[0;32m    113\u001B[0m cell_data\u001B[38;5;241m.\u001B[39mappend(difference_of_means)\n\u001B[0;32m    114\u001B[0m \u001B[38;5;66;03m# Add this odor's mean to the list of means\u001B[39;00m\n",
      "File \u001B[1;32mC:\\ImagingAnalysisPipeline\\Python\\DewanLabPython\\DewanStats.py:135\u001B[0m, in \u001B[0;36mreturnDifferenceOfMeans\u001B[1;34m(dataInput)\u001B[0m\n\u001B[0;32m    134\u001B[0m \u001B[38;5;28;01mdef\u001B[39;00m \u001B[38;5;21mreturnDifferenceOfMeans\u001B[39m(dataInput: DewanDataStore\u001B[38;5;241m.\u001B[39mAUROCdataStore) \u001B[38;5;241m-\u001B[39m\u001B[38;5;241m>\u001B[39m \u001B[38;5;28mfloat\u001B[39m:\n\u001B[1;32m--> 135\u001B[0m     baseline_data, evoked_data \u001B[38;5;241m=\u001B[39m \u001B[43mDewanAUROC\u001B[49m\u001B[38;5;241;43m.\u001B[39;49m\u001B[43mcollect_trial_data\u001B[49m\u001B[43m(\u001B[49m\u001B[43mdataInput\u001B[49m\u001B[43m,\u001B[49m\u001B[43m \u001B[49m\u001B[38;5;28;43;01mFalse\u001B[39;49;00m\u001B[43m)\u001B[49m\n\u001B[0;32m    137\u001B[0m     baseline_data, evoked_data \u001B[38;5;241m=\u001B[39m truncateData(baseline_data, evoked_data)\n\u001B[0;32m    138\u001B[0m     \u001B[38;5;66;03m# Sometimes the frame numbers don't line up between trials\u001B[39;00m\n\u001B[0;32m    139\u001B[0m     \u001B[38;5;66;03m# We will find the shortest row in the evoked and baseline data, and set all rows to be that length\u001B[39;00m\n\u001B[0;32m    140\u001B[0m     \u001B[38;5;66;03m# Occasionally will lose one datapoint from each row if min(row) == 39\u001B[39;00m\n",
      "File \u001B[1;32mC:\\ImagingAnalysisPipeline\\Python\\DewanLabPython\\DewanAUROC.py:62\u001B[0m, in \u001B[0;36mcollect_trial_data\u001B[1;34m(dataInput, returnValues, latentCellsOnly)\u001B[0m\n\u001B[0;32m     59\u001B[0m     evoked_end_indexes\u001B[38;5;241m.\u001B[39mappend(evoked_end_index)\n\u001B[0;32m     61\u001B[0m \u001B[38;5;28;01mif\u001B[39;00m returnValues \u001B[38;5;129;01mis\u001B[39;00m \u001B[38;5;129;01mnot\u001B[39;00m \u001B[38;5;28;01mNone\u001B[39;00m:\n\u001B[1;32m---> 62\u001B[0m     \u001B[43mreturnValues\u001B[49m\u001B[38;5;241;43m.\u001B[39;49m\u001B[43mbaseline_start_indexes\u001B[49m\u001B[38;5;241m.\u001B[39mappend(baseline_start_indexes)\n\u001B[0;32m     63\u001B[0m     returnValues\u001B[38;5;241m.\u001B[39mbaseline_end_indexes\u001B[38;5;241m.\u001B[39mappend(baseline_end_indexes)\n\u001B[0;32m     64\u001B[0m     returnValues\u001B[38;5;241m.\u001B[39mevoked_start_indexes\u001B[38;5;241m.\u001B[39mappend(evoked_start_indexes)\n",
      "\u001B[1;31mAttributeError\u001B[0m: 'bool' object has no attribute 'baseline_start_indexes'"
     ]
    }
   ],
   "source": [
    "sparsenessData = DewanDataStore.AUROCdataStore(\n",
    "    Baseline_Shift_Data, CellList, OdorData, FVData, fileHeader, FVonIdx, UnixTimeArray, baselineDuration, responseDuration, False)\n",
    "\n",
    "lifetimeSparseness, cells = DewanStats.lifetimeSparseness(sparsenessData, onTimeAUROCSignificanceTable)\n",
    "populationSparseness, odors = DewanStats.popSparseness(sparsenessData, onTimeAUROCSignificanceTable)\n",
    "lsPairs = [f'Cell {cells[i]}: {round(lifetimeSparseness[i],5)}' for i in range(len(cells))]\n",
    "psPairs = [f'Odor: {sparsenessData.unique_odors[odors[i]]}: {round(populationSparseness[i],5)}' for i in range(len(odors))]"
   ],
   "metadata": {
    "collapsed": false
   }
  },
  {
   "cell_type": "code",
   "execution_count": 49,
   "outputs": [
    {
     "name": "stdout",
     "output_type": "stream",
     "text": [
      "['Odor: 25ONE: 1.03987', 'Odor: 4AL: 0.98182', 'Odor: 4AMINE: 0.86699', 'Odor: 4ATE: 1.04437', 'Odor: 4OL: 0.99882', 'Odor: 4ONE: 0.96804', 'Odor: 5AL: 1.04548', 'Odor: 5AMINE: 0.88918', 'Odor: 5ATE: 1.04753', 'Odor: 5OL: 1.00393', 'Odor: 6AL: 1.02612', 'Odor: 6AMINE: 0.96569', 'Odor: 6ATE: 0.85856', 'Odor: 6OL: 0.96257', 'Odor: 6ONE: 0.98143', 'Odor: 7AL: 1.01253', 'Odor: 7AMINE: 0.93744', 'Odor: 7ATE: 0.94598', 'Odor: 7OL: 0.98057', 'Odor: 7ONE: 1.03446', 'Odor: Buzzer: 1.03013']\n"
     ]
    }
   ],
   "source": [
    "print(psPairs)"
   ],
   "metadata": {
    "collapsed": false
   }
  },
  {
   "cell_type": "code",
   "execution_count": 41,
   "outputs": [],
   "source": [
    "mineralOilIndex = np.nonzero(sparsenessData.unique_odors == 'MO')[0]\n",
    "odorIndexes = np.nonzero(sparsenessData.unique_odors != 'MO')[0]"
   ],
   "metadata": {
    "collapsed": false
   }
  },
  {
   "cell_type": "markdown",
   "source": [],
   "metadata": {
    "collapsed": false
   }
  },
  {
   "cell_type": "code",
   "execution_count": null,
   "outputs": [],
   "source": [
    "print(odorIndexes)\n"
   ],
   "metadata": {
    "collapsed": false
   }
  }
 ],
 "metadata": {
  "kernelspec": {
   "display_name": "ImagingAnalysis",
   "language": "python",
   "name": "python3"
  },
  "language_info": {
   "codemirror_mode": {
    "name": "ipython",
    "version": 3
   },
   "file_extension": ".py",
   "mimetype": "text/x-python",
   "name": "python",
   "nbconvert_exporter": "python",
   "pygments_lexer": "ipython3",
   "version": "3.8.15"
  },
  "vscode": {
   "interpreter": {
    "hash": "977baf04aa409d7582f6e94b1f1f1d2e9ac45da44046a9cec7b1a770a676514b"
   }
  }
 },
 "nbformat": 4,
 "nbformat_minor": 5
}
