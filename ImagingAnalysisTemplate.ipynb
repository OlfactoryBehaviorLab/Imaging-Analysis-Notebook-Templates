{
 "cells": [
  {
   "cell_type": "markdown",
   "id": "1daf917d-f5f9-42ea-baaa-08fcf28b43ce",
   "metadata": {
    "tags": []
   },
   "source": [
    "# Dewan Lab Image Analysis"
   ]
  },
  {
   "attachments": {},
   "cell_type": "markdown",
   "id": "917d0bf4-3426-4326-911d-9a9e0cd1ed80",
   "metadata": {
    "tags": []
   },
   "source": [
    "## 0: Run once to create all needed directories at beginning of a project"
   ]
  },
  {
   "cell_type": "code",
   "execution_count": 33,
   "id": "c884c75e-38a9-431e-8e99-0d8f9fdd85d4",
   "metadata": {},
   "outputs": [],
   "source": [
    "from Python.DewanLabPython.Helpers import DewanIOhandler\n",
    "DewanIOhandler.createProjectFramework()"
   ]
  },
  {
   "attachments": {},
   "cell_type": "markdown",
   "id": "a1ba1747-903f-4eac-8a48-84b44728f3e7",
   "metadata": {
    "tags": []
   },
   "source": [
    "## 1: Always Execute! Load Libraries and User Settings"
   ]
  },
  {
   "attachments": {},
   "cell_type": "markdown",
   "id": "6d1aec8e-a365-49a6-b3ab-d67525a65bdb",
   "metadata": {
    "tags": []
   },
   "source": [
    "### 1a: Import Libraries"
   ]
  },
  {
   "cell_type": "code",
   "execution_count": 34,
   "id": "1dd422e6-969e-4c1f-8301-2afc3ce3d4b5",
   "metadata": {},
   "outputs": [
    {
     "name": "stdout",
     "output_type": "stream",
     "text": [
      "The autoreload extension is already loaded. To reload it, use:\n",
      "  %reload_ext autoreload\n"
     ]
    }
   ],
   "source": [
    "%load_ext autoreload\n",
    "%autoreload 2"
   ]
  },
  {
   "cell_type": "code",
   "execution_count": 35,
   "id": "48174929-fd1b-48cc-ab99-9ff1bcd9f06e",
   "metadata": {
    "tags": []
   },
   "outputs": [],
   "source": [
    "import numpy as np\n",
    "import pandas as pd\n",
    "from tqdm import trange\n",
    "\n",
    "\n",
    "from Python.DewanLabPython.Helpers import DewanDataStore\n",
    "from Python.DewanLabPython.Helpers import DewanImportDataHelper\n",
    "from Python.DewanLabPython.Helpers import DewanIOhandler\n",
    "from Python.DewanLabPython import DewanAUROC\n",
    "from Python.DewanLabPython import DewanPlotting\n",
    "from Python.DewanLabPython import DewanStats\n"
   ]
  },
  {
   "attachments": {},
   "cell_type": "markdown",
   "id": "d57a7bb0-be75-4f25-b35d-6732d0ea7dfa",
   "metadata": {
    "tags": []
   },
   "source": [
    "### 1b: User Configurables"
   ]
  },
  {
   "cell_type": "code",
   "execution_count": 36,
   "id": "5d8f7883-7544-4c8d-a2e3-32da1e3ee795",
   "metadata": {},
   "outputs": [],
   "source": [
    "animal = 'VGAT4'\n",
    "date = '10-17-22'\n",
    "\n",
    "# Settings for Inscopix box\n",
    "LED_power = 1\n",
    "GAIN = 2.2\n",
    "FOCUS = 250\n",
    "\n",
    "PreTrialTime = 3.5  # Imaging time before the final valve opens\n",
    "PostTrialTime = 3.5  # Imaging time after final valve closes\n",
    "\n",
    "# Criterion for determining good trials vs bad trials, will be used later\n",
    "goodCriterion = 0.5\n",
    "# in the findGoodTrials segment\n",
    "\n",
    "\n",
    "# Configurables for AUROC\n",
    "baselineDuration = 2  # number of seconds before the fvOnTime\n",
    "responseDuration = 2  # number of seconds after the fvOnTime\n",
    "PlotFigures = True\n",
    "\n",
    "fileHeader = animal + '-' + date + '-'\n"
   ]
  },
  {
   "attachments": {},
   "cell_type": "markdown",
   "id": "333708ce-48b1-4382-9e74-a6ae099f190c",
   "metadata": {
    "tags": []
   },
   "source": [
    "## 2: Data Import and Processing"
   ]
  },
  {
   "attachments": {},
   "cell_type": "markdown",
   "id": "85f73484-fb78-4bef-8328-bd312d9abbc3",
   "metadata": {
    "tags": []
   },
   "source": [
    "### 2a: Import and pre-process the raw data"
   ]
  },
  {
   "cell_type": "code",
   "execution_count": 37,
   "id": "f8f8625f-3098-4c28-ae4e-aeb0f23719c9",
   "metadata": {},
   "outputs": [
    {
     "ename": "FileNotFoundError",
     "evalue": "[Errno 2] No such file or directory: './RawData//CellTraces.csv'",
     "output_type": "error",
     "traceback": [
      "\u001B[1;31m---------------------------------------------------------------------------\u001B[0m",
      "\u001B[1;31mFileNotFoundError\u001B[0m                         Traceback (most recent call last)",
      "\u001B[1;32m~\\AppData\\Local\\Temp\\ipykernel_14168\\3979126116.py\u001B[0m in \u001B[0;36m<module>\u001B[1;34m\u001B[0m\n\u001B[0;32m      2\u001B[0m \u001B[0mfolder\u001B[0m \u001B[1;33m=\u001B[0m \u001B[1;34m'./RawData/'\u001B[0m\u001B[1;33m\u001B[0m\u001B[1;33m\u001B[0m\u001B[0m\n\u001B[0;32m      3\u001B[0m \u001B[1;33m\u001B[0m\u001B[0m\n\u001B[1;32m----> 4\u001B[1;33m CellTraceData = pd.read_csv(\n\u001B[0m\u001B[0;32m      5\u001B[0m     f'{folder}/CellTraces.csv', header=None, skiprows=2, low_memory=False)\n\u001B[0;32m      6\u001B[0m OdorData = np.array(pd.read_excel(\n",
      "\u001B[1;32m~\\anaconda3\\envs\\ImagingAnalysis\\lib\\site-packages\\pandas\\util\\_decorators.py\u001B[0m in \u001B[0;36mwrapper\u001B[1;34m(*args, **kwargs)\u001B[0m\n\u001B[0;32m    209\u001B[0m                 \u001B[1;32melse\u001B[0m\u001B[1;33m:\u001B[0m\u001B[1;33m\u001B[0m\u001B[1;33m\u001B[0m\u001B[0m\n\u001B[0;32m    210\u001B[0m                     \u001B[0mkwargs\u001B[0m\u001B[1;33m[\u001B[0m\u001B[0mnew_arg_name\u001B[0m\u001B[1;33m]\u001B[0m \u001B[1;33m=\u001B[0m \u001B[0mnew_arg_value\u001B[0m\u001B[1;33m\u001B[0m\u001B[1;33m\u001B[0m\u001B[0m\n\u001B[1;32m--> 211\u001B[1;33m             \u001B[1;32mreturn\u001B[0m \u001B[0mfunc\u001B[0m\u001B[1;33m(\u001B[0m\u001B[1;33m*\u001B[0m\u001B[0margs\u001B[0m\u001B[1;33m,\u001B[0m \u001B[1;33m**\u001B[0m\u001B[0mkwargs\u001B[0m\u001B[1;33m)\u001B[0m\u001B[1;33m\u001B[0m\u001B[1;33m\u001B[0m\u001B[0m\n\u001B[0m\u001B[0;32m    212\u001B[0m \u001B[1;33m\u001B[0m\u001B[0m\n\u001B[0;32m    213\u001B[0m         \u001B[1;32mreturn\u001B[0m \u001B[0mcast\u001B[0m\u001B[1;33m(\u001B[0m\u001B[0mF\u001B[0m\u001B[1;33m,\u001B[0m \u001B[0mwrapper\u001B[0m\u001B[1;33m)\u001B[0m\u001B[1;33m\u001B[0m\u001B[1;33m\u001B[0m\u001B[0m\n",
      "\u001B[1;32m~\\anaconda3\\envs\\ImagingAnalysis\\lib\\site-packages\\pandas\\util\\_decorators.py\u001B[0m in \u001B[0;36mwrapper\u001B[1;34m(*args, **kwargs)\u001B[0m\n\u001B[0;32m    329\u001B[0m                     \u001B[0mstacklevel\u001B[0m\u001B[1;33m=\u001B[0m\u001B[0mfind_stack_level\u001B[0m\u001B[1;33m(\u001B[0m\u001B[1;33m)\u001B[0m\u001B[1;33m,\u001B[0m\u001B[1;33m\u001B[0m\u001B[1;33m\u001B[0m\u001B[0m\n\u001B[0;32m    330\u001B[0m                 )\n\u001B[1;32m--> 331\u001B[1;33m             \u001B[1;32mreturn\u001B[0m \u001B[0mfunc\u001B[0m\u001B[1;33m(\u001B[0m\u001B[1;33m*\u001B[0m\u001B[0margs\u001B[0m\u001B[1;33m,\u001B[0m \u001B[1;33m**\u001B[0m\u001B[0mkwargs\u001B[0m\u001B[1;33m)\u001B[0m\u001B[1;33m\u001B[0m\u001B[1;33m\u001B[0m\u001B[0m\n\u001B[0m\u001B[0;32m    332\u001B[0m \u001B[1;33m\u001B[0m\u001B[0m\n\u001B[0;32m    333\u001B[0m         \u001B[1;31m# error: \"Callable[[VarArg(Any), KwArg(Any)], Any]\" has no\u001B[0m\u001B[1;33m\u001B[0m\u001B[1;33m\u001B[0m\u001B[1;33m\u001B[0m\u001B[0m\n",
      "\u001B[1;32m~\\anaconda3\\envs\\ImagingAnalysis\\lib\\site-packages\\pandas\\io\\parsers\\readers.py\u001B[0m in \u001B[0;36mread_csv\u001B[1;34m(filepath_or_buffer, sep, delimiter, header, names, index_col, usecols, squeeze, prefix, mangle_dupe_cols, dtype, engine, converters, true_values, false_values, skipinitialspace, skiprows, skipfooter, nrows, na_values, keep_default_na, na_filter, verbose, skip_blank_lines, parse_dates, infer_datetime_format, keep_date_col, date_parser, dayfirst, cache_dates, iterator, chunksize, compression, thousands, decimal, lineterminator, quotechar, quoting, doublequote, escapechar, comment, encoding, encoding_errors, dialect, error_bad_lines, warn_bad_lines, on_bad_lines, delim_whitespace, low_memory, memory_map, float_precision, storage_options)\u001B[0m\n\u001B[0;32m    948\u001B[0m     \u001B[0mkwds\u001B[0m\u001B[1;33m.\u001B[0m\u001B[0mupdate\u001B[0m\u001B[1;33m(\u001B[0m\u001B[0mkwds_defaults\u001B[0m\u001B[1;33m)\u001B[0m\u001B[1;33m\u001B[0m\u001B[1;33m\u001B[0m\u001B[0m\n\u001B[0;32m    949\u001B[0m \u001B[1;33m\u001B[0m\u001B[0m\n\u001B[1;32m--> 950\u001B[1;33m     \u001B[1;32mreturn\u001B[0m \u001B[0m_read\u001B[0m\u001B[1;33m(\u001B[0m\u001B[0mfilepath_or_buffer\u001B[0m\u001B[1;33m,\u001B[0m \u001B[0mkwds\u001B[0m\u001B[1;33m)\u001B[0m\u001B[1;33m\u001B[0m\u001B[1;33m\u001B[0m\u001B[0m\n\u001B[0m\u001B[0;32m    951\u001B[0m \u001B[1;33m\u001B[0m\u001B[0m\n\u001B[0;32m    952\u001B[0m \u001B[1;33m\u001B[0m\u001B[0m\n",
      "\u001B[1;32m~\\anaconda3\\envs\\ImagingAnalysis\\lib\\site-packages\\pandas\\io\\parsers\\readers.py\u001B[0m in \u001B[0;36m_read\u001B[1;34m(filepath_or_buffer, kwds)\u001B[0m\n\u001B[0;32m    603\u001B[0m \u001B[1;33m\u001B[0m\u001B[0m\n\u001B[0;32m    604\u001B[0m     \u001B[1;31m# Create the parser.\u001B[0m\u001B[1;33m\u001B[0m\u001B[1;33m\u001B[0m\u001B[1;33m\u001B[0m\u001B[0m\n\u001B[1;32m--> 605\u001B[1;33m     \u001B[0mparser\u001B[0m \u001B[1;33m=\u001B[0m \u001B[0mTextFileReader\u001B[0m\u001B[1;33m(\u001B[0m\u001B[0mfilepath_or_buffer\u001B[0m\u001B[1;33m,\u001B[0m \u001B[1;33m**\u001B[0m\u001B[0mkwds\u001B[0m\u001B[1;33m)\u001B[0m\u001B[1;33m\u001B[0m\u001B[1;33m\u001B[0m\u001B[0m\n\u001B[0m\u001B[0;32m    606\u001B[0m \u001B[1;33m\u001B[0m\u001B[0m\n\u001B[0;32m    607\u001B[0m     \u001B[1;32mif\u001B[0m \u001B[0mchunksize\u001B[0m \u001B[1;32mor\u001B[0m \u001B[0miterator\u001B[0m\u001B[1;33m:\u001B[0m\u001B[1;33m\u001B[0m\u001B[1;33m\u001B[0m\u001B[0m\n",
      "\u001B[1;32m~\\anaconda3\\envs\\ImagingAnalysis\\lib\\site-packages\\pandas\\io\\parsers\\readers.py\u001B[0m in \u001B[0;36m__init__\u001B[1;34m(self, f, engine, **kwds)\u001B[0m\n\u001B[0;32m   1440\u001B[0m \u001B[1;33m\u001B[0m\u001B[0m\n\u001B[0;32m   1441\u001B[0m         \u001B[0mself\u001B[0m\u001B[1;33m.\u001B[0m\u001B[0mhandles\u001B[0m\u001B[1;33m:\u001B[0m \u001B[0mIOHandles\u001B[0m \u001B[1;33m|\u001B[0m \u001B[1;32mNone\u001B[0m \u001B[1;33m=\u001B[0m \u001B[1;32mNone\u001B[0m\u001B[1;33m\u001B[0m\u001B[1;33m\u001B[0m\u001B[0m\n\u001B[1;32m-> 1442\u001B[1;33m         \u001B[0mself\u001B[0m\u001B[1;33m.\u001B[0m\u001B[0m_engine\u001B[0m \u001B[1;33m=\u001B[0m \u001B[0mself\u001B[0m\u001B[1;33m.\u001B[0m\u001B[0m_make_engine\u001B[0m\u001B[1;33m(\u001B[0m\u001B[0mf\u001B[0m\u001B[1;33m,\u001B[0m \u001B[0mself\u001B[0m\u001B[1;33m.\u001B[0m\u001B[0mengine\u001B[0m\u001B[1;33m)\u001B[0m\u001B[1;33m\u001B[0m\u001B[1;33m\u001B[0m\u001B[0m\n\u001B[0m\u001B[0;32m   1443\u001B[0m \u001B[1;33m\u001B[0m\u001B[0m\n\u001B[0;32m   1444\u001B[0m     \u001B[1;32mdef\u001B[0m \u001B[0mclose\u001B[0m\u001B[1;33m(\u001B[0m\u001B[0mself\u001B[0m\u001B[1;33m)\u001B[0m \u001B[1;33m->\u001B[0m \u001B[1;32mNone\u001B[0m\u001B[1;33m:\u001B[0m\u001B[1;33m\u001B[0m\u001B[1;33m\u001B[0m\u001B[0m\n",
      "\u001B[1;32m~\\anaconda3\\envs\\ImagingAnalysis\\lib\\site-packages\\pandas\\io\\parsers\\readers.py\u001B[0m in \u001B[0;36m_make_engine\u001B[1;34m(self, f, engine)\u001B[0m\n\u001B[0;32m   1733\u001B[0m                 \u001B[1;32mif\u001B[0m \u001B[1;34m\"b\"\u001B[0m \u001B[1;32mnot\u001B[0m \u001B[1;32min\u001B[0m \u001B[0mmode\u001B[0m\u001B[1;33m:\u001B[0m\u001B[1;33m\u001B[0m\u001B[1;33m\u001B[0m\u001B[0m\n\u001B[0;32m   1734\u001B[0m                     \u001B[0mmode\u001B[0m \u001B[1;33m+=\u001B[0m \u001B[1;34m\"b\"\u001B[0m\u001B[1;33m\u001B[0m\u001B[1;33m\u001B[0m\u001B[0m\n\u001B[1;32m-> 1735\u001B[1;33m             self.handles = get_handle(\n\u001B[0m\u001B[0;32m   1736\u001B[0m                 \u001B[0mf\u001B[0m\u001B[1;33m,\u001B[0m\u001B[1;33m\u001B[0m\u001B[1;33m\u001B[0m\u001B[0m\n\u001B[0;32m   1737\u001B[0m                 \u001B[0mmode\u001B[0m\u001B[1;33m,\u001B[0m\u001B[1;33m\u001B[0m\u001B[1;33m\u001B[0m\u001B[0m\n",
      "\u001B[1;32m~\\anaconda3\\envs\\ImagingAnalysis\\lib\\site-packages\\pandas\\io\\common.py\u001B[0m in \u001B[0;36mget_handle\u001B[1;34m(path_or_buf, mode, encoding, compression, memory_map, is_text, errors, storage_options)\u001B[0m\n\u001B[0;32m    854\u001B[0m         \u001B[1;32mif\u001B[0m \u001B[0mioargs\u001B[0m\u001B[1;33m.\u001B[0m\u001B[0mencoding\u001B[0m \u001B[1;32mand\u001B[0m \u001B[1;34m\"b\"\u001B[0m \u001B[1;32mnot\u001B[0m \u001B[1;32min\u001B[0m \u001B[0mioargs\u001B[0m\u001B[1;33m.\u001B[0m\u001B[0mmode\u001B[0m\u001B[1;33m:\u001B[0m\u001B[1;33m\u001B[0m\u001B[1;33m\u001B[0m\u001B[0m\n\u001B[0;32m    855\u001B[0m             \u001B[1;31m# Encoding\u001B[0m\u001B[1;33m\u001B[0m\u001B[1;33m\u001B[0m\u001B[1;33m\u001B[0m\u001B[0m\n\u001B[1;32m--> 856\u001B[1;33m             handle = open(\n\u001B[0m\u001B[0;32m    857\u001B[0m                 \u001B[0mhandle\u001B[0m\u001B[1;33m,\u001B[0m\u001B[1;33m\u001B[0m\u001B[1;33m\u001B[0m\u001B[0m\n\u001B[0;32m    858\u001B[0m                 \u001B[0mioargs\u001B[0m\u001B[1;33m.\u001B[0m\u001B[0mmode\u001B[0m\u001B[1;33m,\u001B[0m\u001B[1;33m\u001B[0m\u001B[1;33m\u001B[0m\u001B[0m\n",
      "\u001B[1;31mFileNotFoundError\u001B[0m: [Errno 2] No such file or directory: './RawData//CellTraces.csv'"
     ]
    }
   ],
   "source": [
    "# Read in data for processing.  Needs Cell Traces, Odor List, and GPIO file.\n",
    "folder = './RawData/'\n",
    "\n",
    "CellTraceData = pd.read_csv(\n",
    "    f'{folder}/CellTraces.csv', header=None, skiprows=2, low_memory=False)\n",
    "OdorData = np.array(pd.read_excel(\n",
    "    f'{folder}/OdorList.xlsx', usecols=[0], header=None))\n",
    "GPIOData = pd.read_csv(f'{folder}/GPIO.csv', header=None, low_memory=False)\n",
    "CellProps = pd.read_csv(f'{folder}/CellTraces-props.csv', header=None)\n"
   ]
  },
  {
   "cell_type": "code",
   "execution_count": null,
   "id": "de8e82bd-0c23-432f-a462-69835dce5805",
   "metadata": {},
   "outputs": [],
   "source": [
    "# Organizes Cell Traces into a numpy array and separates the GPIO information based on indices\n",
    "# for Sniff, Final Valve etc.\n",
    "# Converts cell props into a numpy array, ignore the first row of headers\n",
    "AllCellProps = np.array(CellProps.iloc[1:, :])\n",
    "# Get indicies where status is not rejected, these are good cells\n",
    "GoodCells = (AllCellProps[:, 1] != 'rejected')\n",
    "# Filter the bad cells out of the properites\n",
    "GoodCellProperties = AllCellProps[GoodCells, :]\n",
    "# Generate a list of all the possible cell numbers and assign an index\n",
    "CellList = np.arange(0, len(AllCellProps))\n",
    "# Filter out all the bad cells; associates cell number with an index\n",
    "CellList = CellList[GoodCells]\n",
    "# Insert 1 at the beginning of the truth table, makes filtering bad cells out of trace data easier\n",
    "GoodCells = np.insert(GoodCells, 0, [1])\n",
    "\n",
    "\n",
    "CellTraceData = CellTraceData.apply(\n",
    "    pd.to_numeric, errors='coerce')  # Convert everything to numbers\n",
    "CellTraceData = np.array(CellTraceData)  # Convert pandas DF to np.array\n",
    "# Filter out all the bad cell trace data, leaving only the good cells\n",
    "CellTraceData = CellTraceData[:, GoodCells]\n",
    "CellTraceData[:, 0] = CellTraceData[:, 0].round(2)  # Round the times to 0.2\n",
    "GPIOData.iloc[:, 1] = GPIOData.iloc[:, 1].str.replace(' ', '')  # Remove Random Spaces"
   ]
  },
  {
   "cell_type": "code",
   "execution_count": null,
   "outputs": [],
   "source": [
    "\n",
    "GPIO1 = np.array(GPIOData.iloc[:, 1] == \"GPIO-1\")  # Sniff Sensor Data\n",
    "GPIO2 = np.array(GPIOData.iloc[:, 1] == \"GPIO-2\")  # FV Actuation Data\n",
    "# GPIO3 = np.array(GPIOData.iloc[:,1] == \"GPIO-3\")  # Running Wheel Data\n",
    "# GPIO4 = np.array(GPIOData.iloc[:,1] == \"GPIO-4\")  # Lick Data\n",
    "\n",
    "SniffTable = np.array(GPIOData.iloc[GPIO1,:])\n",
    "FVData = np.array(GPIOData.iloc[GPIO2,:])"
   ],
   "metadata": {
    "collapsed": false
   }
  },
  {
   "cell_type": "code",
   "execution_count": null,
   "id": "95d2cdf6-36b3-4067-aa7e-5dd78cbc2f1d",
   "metadata": {},
   "outputs": [],
   "source": [
    "# Pickle the reorganized CellTraceData incase its needed later\n",
    "# Saves Cell Traces, GPIO, Odor List, Sniff, FV data, Good Cell Properties, and the list of Good Cells\n",
    "\n",
    "# Once these have been saved, they don't need to be re-run on the same data again unless\n",
    "# the data itself is changed\n",
    "\n",
    "folder = 'PreProcessedData'\n",
    "\n",
    "DewanIOhandler.saveDataToDisk(\n",
    "    CellTraceData, 'CellTraceData', fileHeader, folder)\n",
    "DewanIOhandler.saveDataToDisk(GPIOData, 'GPIOData', fileHeader, folder)\n",
    "DewanIOhandler.saveDataToDisk(OdorData, 'OdorData', fileHeader, folder)\n",
    "DewanIOhandler.saveDataToDisk(SniffTable, 'SniffTable', fileHeader, folder)\n",
    "DewanIOhandler.saveDataToDisk(FVData, 'FVdata', fileHeader, folder)\n",
    "DewanIOhandler.saveDataToDisk(\n",
    "    GoodCellProperties, 'GoodCellProperties', fileHeader, folder)\n",
    "DewanIOhandler.saveDataToDisk(CellList, 'CellList', fileHeader, folder)\n"
   ]
  },
  {
   "attachments": {},
   "cell_type": "markdown",
   "id": "1ba952d5-9392-413e-bf3a-49086c6a583f",
   "metadata": {
    "tags": []
   },
   "source": [
    "### 2b: Checkpoint: Load Preprocessed Data"
   ]
  },
  {
   "cell_type": "code",
   "execution_count": null,
   "id": "0e1a40e5-f3cc-432c-a415-0dbc157caa00",
   "metadata": {},
   "outputs": [],
   "source": [
    "# Opens the saved pickle files.  If the files have already been saved, code can be re-run\n",
    "# starting from this point\n",
    "folder = 'PreProcessedData'\n",
    "\n",
    "CellTraceData = DewanIOhandler.loadDataFromDisk(\n",
    "    'CellTraceData', fileHeader, folder)\n",
    "FVData = DewanIOhandler.loadDataFromDisk('FVData', fileHeader, folder)\n",
    "GPIOData = DewanIOhandler.loadDataFromDisk('GPIOData', fileHeader, folder)\n",
    "OdorData = DewanIOhandler.loadDataFromDisk('OdorData', fileHeader, folder)\n",
    "SniffTable = DewanIOhandler.loadDataFromDisk('SniffTable', fileHeader, folder)\n",
    "GoodCellProperties = DewanIOhandler.loadDataFromDisk(\n",
    "    'GoodCellProperties', fileHeader, folder)\n",
    "CellList = DewanIOhandler.loadDataFromDisk('CellList', fileHeader, folder)\n"
   ]
  },
  {
   "attachments": {},
   "cell_type": "markdown",
   "id": "945f4f52",
   "metadata": {},
   "source": [
    "### 2c: Cell Data Complilation"
   ]
  },
  {
   "cell_type": "code",
   "execution_count": null,
   "id": "37bcb974-ca17-4f68-a066-e98c4219a1e2",
   "metadata": {},
   "outputs": [],
   "source": [
    "# Parses the final valve data to identify when the final valve is open vs when it is closed.\n",
    "FVValue = FVData[:, 2].astype(float)\n",
    "nValue = len(FVValue)\n",
    "\n",
    "#nOnOff = -1\n",
    "valveStatus = 0\n",
    "FVoffIdx = []\n",
    "FVonIdx = []\n",
    "for i in trange((nValue-1), desc=\"Processing: \"):\n",
    "    vDiff = FVValue[i+1] - FVValue[i]\n",
    "\n",
    "    if valveStatus == 0:\n",
    "        if vDiff > 10000:\n",
    "            #nOnOff += 1\n",
    "            # print(nOnOff)\n",
    "            FVonIdx.append(i+1)\n",
    "            valveStatus = 1\n",
    "            # print(FVonIdx)\n",
    "    else:\n",
    "        if vDiff < -10000:\n",
    "            FVoffIdx.append(i)\n",
    "            valveStatus = 0\n",
    "\n",
    "FVoffIdx = np.array(FVoffIdx)  # verified to match MTLB\n",
    "FVonIdx = np.array(FVonIdx)  # verified to match MTLB\n"
   ]
  },
  {
   "cell_type": "code",
   "execution_count": null,
   "id": "e4f82759-442b-4dca-9462-c8d0eb85d49b",
   "metadata": {},
   "outputs": [],
   "source": [
    "# creates a list of data for the start and end time points of trials\n",
    "# eliminates bad trials (trials with too short/long of a trial period etc.)\n",
    "# searches through the start and ends of the good trials for matching timepoints\n",
    "# and outputs indices for the on/off points of good trials\n",
    "startTrialTimes = np.array(FVData[FVonIdx, 0].astype(float) - PreTrialTime)  # verified to match MTLB\n",
    "endTrialTimes = np.array(FVData[FVoffIdx, 0].astype(float) + PostTrialTime)  # verified to match MTLB\n",
    "CellTraceonIdx, goodTrialsOn = DewanImportDataHelper.findGoodTrials(CellTraceData, startTrialTimes, goodCriterion)  # verified to match MTLB\n",
    "CellTraceoffIdx, goodTrialsOff = DewanImportDataHelper.findGoodTrials(CellTraceData, endTrialTimes, goodCriterion)  # verified to match MTLB\n",
    "goodTrials, goodIndOn, goodIndOff = DewanImportDataHelper.intersect_mtlb(goodTrialsOn, goodTrialsOff)  # verified to match MTLB\n"
   ]
  },
  {
   "cell_type": "code",
   "execution_count": null,
   "outputs": [],
   "source": [],
   "metadata": {
    "collapsed": false
   }
  },
  {
   "cell_type": "code",
   "execution_count": null,
   "id": "c529f758-339f-4e4c-8d6a-414663579aa5",
   "metadata": {},
   "outputs": [],
   "source": [
    "# Index all data by the good trials to exclude data from bad trials\n",
    "\n",
    "# verified to match MTLB\n",
    "CellTraceonIdx = CellTraceonIdx[goodIndOn.astype(int)]\n",
    "# verified to match MTLB\n",
    "CellTraceoffIdx = CellTraceoffIdx[goodIndOff.astype(int)]\n",
    "\n",
    "# https://knowyourmeme.com/photos/1402268 ?????\n",
    "goodIdx = goodTrials.astype(int)-1\n",
    "\n",
    "FVonIdx = FVonIdx[goodTrials.astype(int)]  # verified to match MTLB\n",
    "FVoffIdx = FVoffIdx[goodTrials.astype(int)]  # verified to match MTLB\n",
    "startTrialTimes = startTrialTimes[goodTrials.astype(int)]  # verified to match MTLB\n",
    "endTrialTimes = endTrialTimes[goodTrials.astype(int)]  # verified to match MTLB\n",
    "OdorData = OdorData[goodTrials.astype(int)]  # verified to match MTLB\n"
   ]
  },
  {
   "cell_type": "markdown",
   "id": "27aa00a8-91bd-451a-98db-1651396435ed",
   "metadata": {
    "jp-MarkdownHeadingCollapsed": true,
    "tags": []
   },
   "source": [
    "#### Sniffing Data Compilation"
   ]
  },
  {
   "cell_type": "code",
   "execution_count": null,
   "id": "5c0146f7-e1c7-47aa-89eb-d6565e91548a",
   "metadata": {},
   "outputs": [],
   "source": [
    "# Compiles data for sniffing from good trialss\n",
    "sniffStartIdx = np.zeros(FVonIdx.size)\n",
    "sniffEndIdx = np.zeros(FVonIdx.size)\n",
    "\n",
    "for i in trange(len(goodTrials), desc=\"Trial: \"):\n",
    "    startTrial_Time_s_ = float(FVData[:, 0][FVonIdx[i]]) - PreTrialTime\n",
    "    endTrial_Time_s_ = float(FVData[:, 0][FVoffIdx[i]]) + PostTrialTime\n",
    "    sniffStartIdx[i] = len(np.nonzero(\n",
    "        SniffTable[:, 0].astype(float) < startTrial_Time_s_)[0])\n",
    "    sniffEndIdx[i] = len(np.nonzero(\n",
    "        SniffTable[:, 0].astype(float) < endTrial_Time_s_)[0]) - 1\n",
    "\n",
    "nSniffPoints = np.max(sniffEndIdx - sniffStartIdx)\n",
    "\n",
    "Sniff = np.zeros((nSniffPoints.astype(int), len(sniffStartIdx)))\n",
    "\n",
    "for numi in trange(len(sniffStartIdx), desc=\"Trial: \"):\n",
    "    nSniff = sniffEndIdx[numi] - sniffStartIdx[numi]\n",
    "    Sniff[0:int(nSniff), numi] = SniffTable[sniffStartIdx[numi].astype(\n",
    "        int):sniffEndIdx[numi].astype(int), 2]\n",
    "\n",
    "DewanIOhandler.saveDataToDisk(\n",
    "    Sniff, 'SniffData', fileHeader, 'PreProcessedData')\n"
   ]
  },
  {
   "attachments": {},
   "cell_type": "markdown",
   "id": "1ff6cfc3-3ede-47d2-a77f-5ef5bf1e6d66",
   "metadata": {
    "tags": []
   },
   "source": [
    "### 2d: Gather all **cell v. time v. trial** data into single array"
   ]
  },
  {
   "cell_type": "code",
   "execution_count": null,
   "id": "a65fb3c4-85b6-481b-9b54-2715b1807112",
   "metadata": {},
   "outputs": [],
   "source": [
    "nDataPoint = np.max(CellTraceoffIdx - CellTraceonIdx)\n",
    "Data = np.zeros((len(CellList), len(CellTraceoffIdx), nDataPoint.astype(int)))\n",
    "\n",
    "for cells in range(len(CellList)):\n",
    "    for trials in range(len(CellTraceonIdx)):\n",
    "        nDataPoints = (CellTraceoffIdx[trials] - CellTraceonIdx[trials])\n",
    "        Data[cells, trials, :nDataPoints[0].astype(int)] = CellTraceData[CellTraceonIdx[trials][0].astype(\n",
    "            int):CellTraceoffIdx[trials][0].astype(int), cells+1]\n",
    "\n",
    "Data = np.delete(Data, 180, 2)\n",
    "Baseline_Shift_Data = Data + abs(np.min(Data))\n"
   ]
  },
  {
   "cell_type": "code",
   "execution_count": null,
   "id": "92279fbb-842c-4bed-af09-ee0dcf16c7b9",
   "metadata": {},
   "outputs": [],
   "source": [
    "# Map of trial times relative to startTrial time\n",
    "FVTimeMap = np.zeros((len(CellTraceoffIdx), nDataPoint.astype(int)))\n",
    "# Map of times per trial in unix time for AUROC\n",
    "UnixTimeArray = np.zeros((len(CellTraceoffIdx), max(\n",
    "    CellTraceoffIdx - CellTraceonIdx).astype(int)[0]))\n",
    "\n",
    "for trial in range(len(CellTraceoffIdx)):\n",
    "    nDataPoints = (CellTraceoffIdx[trial] - CellTraceonIdx[trial])\n",
    "    FVTimeMap[trial, :nDataPoints[0].astype(int)] = CellTraceData[CellTraceonIdx[trial][0].astype(\n",
    "        int):CellTraceoffIdx[trial][0].astype(int), 0] - float(FVData[FVonIdx[trial], 0])\n",
    "    UnixTimeArray[trial, :nDataPoints[0].astype(int)] = CellTraceData[CellTraceonIdx[trial][0].astype(\n",
    "        int):CellTraceoffIdx[trial][0].astype(int), 0]\n",
    "\n",
    "FVTimeMap = np.delete(FVTimeMap, 180, 1)\n",
    "UnixTimeArray = np.delete(UnixTimeArray, 180, 1)\n"
   ]
  },
  {
   "attachments": {},
   "cell_type": "markdown",
   "id": "d4200c9a-8cb6-4762-9e03-78f09764ae5a",
   "metadata": {
    "tags": []
   },
   "source": [
    "### 2e: Combined Data Output"
   ]
  },
  {
   "cell_type": "code",
   "execution_count": null,
   "id": "d88413e5-fd23-4986-b8dc-9df65f977b7c",
   "metadata": {
    "tags": []
   },
   "outputs": [],
   "source": [
    "odorIndexes = []\n",
    "\n",
    "for i in OdorData:\n",
    "    odorIndexes.append(i[0])\n",
    "\n",
    "columnNames = ['CentroidX', 'CentroidY', 'NumComponents', 'Size']\n",
    "TOC = pd.DataFrame(GoodCellProperties[:, 5:9], CellList, columnNames)\n",
    "\n",
    "path = f'./CombinedData/{fileHeader}CombinedData.xlsx'\n",
    "writer = pd.ExcelWriter(path, engine='xlsxwriter')\n",
    "\n",
    "TOC.to_excel(writer, sheet_name='TOC')\n",
    "TimeMapSheet = pd.DataFrame(\n",
    "    FVTimeMap[:, :180], np.arange(1, len(CellTraceoffIdx)+1))\n",
    "TimeMapSheet.to_excel(writer, sheet_name='TimeMap')\n",
    "\n",
    "for i in trange(len(CellList), desc=\"Writing Cell: \"):\n",
    "    DataDf = pd.DataFrame(Baseline_Shift_Data[i][:][:], odorIndexes)\n",
    "    #DataDf.index = indexes\n",
    "    DataDf.to_excel(writer, sheet_name='Cell %d' % CellList[i])\n",
    "\n",
    "writer.close()\n",
    "\n",
    "#headers = []\n",
    "\n",
    "# for i in range(len(Sniff[0,:])):\n",
    "# headers.append('Trial ' + str(i))\n",
    "\n",
    "#SniffDF = pd.DataFrame(Sniff)\n",
    "#SniffDF.to_excel('./ImportOutputs/' + fileHeader + 'SniffData.xlsx', sheet_name = 'Data', header=headers)\n"
   ]
  },
  {
   "cell_type": "markdown",
   "source": [
    "### 2f: Save information needed for AUROC"
   ],
   "metadata": {
    "collapsed": false
   }
  },
  {
   "cell_type": "code",
   "execution_count": null,
   "outputs": [],
   "source": [
    "DewanIOhandler.saveDataToDisk(Data, 'CombinedData', fileHeader, 'CombinedData')\n",
    "\n",
    "folder = 'AUROCImports'\n",
    "DewanIOhandler.saveDataToDisk(FVonIdx, 'FVonIdx', fileHeader, folder)\n",
    "DewanIOhandler.saveDataToDisk(\n",
    "    UnixTimeArray, 'UnixTimeArray', fileHeader, folder)\n",
    "DewanIOhandler.saveDataToDisk(FVTimeMap, 'FVTimeMap', fileHeader, folder)\n",
    "DewanIOhandler.saveDataToDisk(OdorData, 'OdorData', fileHeader, folder)\n",
    "DewanIOhandler.saveDataToDisk(\n",
    "    Baseline_Shift_Data, 'Baseline_Shift_Data', fileHeader, folder)\n"
   ],
   "metadata": {
    "collapsed": false
   }
  },
  {
   "attachments": {},
   "cell_type": "markdown",
   "id": "f1d85a0f-d8ef-49b0-9259-cfa381bdae39",
   "metadata": {},
   "source": [
    "## 3: AUROC"
   ]
  },
  {
   "attachments": {},
   "cell_type": "markdown",
   "id": "5785a0e7-4c69-41a6-94f5-7f82b4373234",
   "metadata": {
    "tags": []
   },
   "source": [
    "### 3a: Import Data "
   ]
  },
  {
   "cell_type": "code",
   "execution_count": null,
   "id": "f51f5276-994e-440c-96fe-93b04ff0c21d",
   "metadata": {},
   "outputs": [],
   "source": [
    "# Data = DewanIOhandler.loadDataFromDisk(\n",
    "#     'CombinedData', fileHeader, 'CombinedData')\n",
    "\n",
    "folder = 'PreProcessedData'\n",
    "FVData = DewanIOhandler.loadDataFromDisk('FVData', fileHeader, folder)\n",
    "CellList = DewanIOhandler.loadDataFromDisk('CellList', fileHeader, folder)\n",
    "\n",
    "folder = 'AUROCImports'\n",
    "FVonIdx = DewanIOhandler.loadDataFromDisk('FVonIdx', fileHeader, folder)\n",
    "UnixTimeArray = DewanIOhandler.loadDataFromDisk(\n",
    "    'UnixTimeArray', fileHeader, folder)\n",
    "OdorData = DewanIOhandler.loadDataFromDisk('OdorData', fileHeader, folder)\n",
    "FVTimeMap = DewanIOhandler.loadDataFromDisk('FVTimeMap', fileHeader, folder)\n",
    "Baseline_Shift_Data = DewanIOhandler.loadDataFromDisk(\n",
    "    'Baseline_Shift_Data', fileHeader, folder)\n"
   ]
  },
  {
   "attachments": {},
   "cell_type": "markdown",
   "id": "114ee4f4-9e43-4e84-96da-de6130cc31c2",
   "metadata": {
    "tags": []
   },
   "source": [
    "### 3b: Run AUROC"
   ]
  },
  {
   "cell_type": "code",
   "execution_count": null,
   "id": "e46b3154-bd60-4548-8ae1-69eb945f31e7",
   "metadata": {
    "tags": []
   },
   "outputs": [],
   "source": [
    "AUROCData = DewanDataStore.AUROCdataStore(\n",
    "    Baseline_Shift_Data, CellList, OdorData, FVData, fileHeader, FVonIdx, UnixTimeArray, baselineDuration, responseDuration, PlotFigures)\n",
    "onTimeReturnValues = DewanAUROC.AUROC(AUROCData, False)\n",
    "latentReturnValues = DewanAUROC.AUROC(AUROCData, True)"
   ]
  },
  {
   "cell_type": "code",
   "execution_count": null,
   "id": "ac54d824-f7d2-4eba-98e2-df7bc10162c2",
   "metadata": {},
   "outputs": [],
   "source": [
    "onTimeAUROCSignificanceTable = []\n",
    "onTimeAUROCValueTable = []\n",
    "onTimeAUROC_Ubounds = []\n",
    "onTimeAUROC_Lbounds = []\n",
    "onTimeAUROC_prctile = []\n",
    "\n",
    "latentAUROCSignificanceTable = []\n",
    "latentAUROCValueTable = []\n",
    "latentAUROC_Ubounds = []\n",
    "latentAUROC_Lbounds = []\n",
    "latentAUROC_prctile = []\n",
    "\n",
    "baseline_start_indexes = []\n",
    "baseline_end_indexes = []\n",
    "ontime_evoked_start_indexes = []\n",
    "ontime_evoked_end_indexes = []\n",
    "latent_evoked_start_indexes = []\n",
    "latent_evoked_end_indexes = []\n",
    "\n",
    "for returns in onTimeReturnValues:\n",
    "    onTimeAUROCSignificanceTable.append(returns.response_chart)\n",
    "    onTimeAUROCValueTable.append(returns.auroc_values)\n",
    "    onTimeAUROC_Ubounds.append(returns.all_upper_bounds)\n",
    "    onTimeAUROC_Lbounds.append(returns.all_lower_bounds)\n",
    "    onTimeAUROC_prctile.append(returns.percentiles)\n",
    "    baseline_start_indexes.append(returns.baseline_start_indexes)\n",
    "    baseline_end_indexes.append(returns.baseline_end_indexes)\n",
    "    ontime_evoked_start_indexes.append(returns.evoked_start_indexes)\n",
    "    ontime_evoked_end_indexes.append(returns.evoked_end_indexes)\n",
    "\n",
    "\n",
    "for returns in latentReturnValues:\n",
    "    latentAUROCSignificanceTable.append(returns.respChart)\n",
    "    latentAUROCValueTable.append(returns.aurocVals)\n",
    "    latentAUROC_Ubounds.append(returns.upperBounds)\n",
    "    latentAUROC_Lbounds.append(returns.lowerBounds)\n",
    "    latentAUROC_prctile.append(returns.AUROC_Percentiles)\n",
    "    latent_evoked_start_indexes.append(returns.evoked_start_indexes)\n",
    "    latent_evoked_end_indexes.append(returns.evoked_end_indexes)\n",
    "\n",
    "onTimeAUROCSignificanceTable = np.array(onTimeAUROCSignificanceTable)\n",
    "latentAUROCSignificanceTable = np.array(latentAUROCSignificanceTable)\n",
    "onTimeAUROCSignificanceTable = onTimeAUROCSignificanceTable.astype(float)\n",
    "latentAUROCSignificanceTable = latentAUROCSignificanceTable.astype(float)\n",
    "\n",
    "baseline_start_indexes = np.array(baseline_start_indexes)\n",
    "baseline_end_indexes = np.array(baseline_end_indexes)\n",
    "ontime_evoked_start_indexes = np.array(ontime_evoked_start_indexes)\n",
    "ontime_evoked_end_indexes = np.array(ontime_evoked_end_indexes)\n",
    "latent_evoked_start_indexes = np.array(latent_evoked_start_indexes)\n",
    "latent_evoked_end_indexes = np.array(latent_evoked_end_indexes)\n",
    "\n",
    "for rows in range(len(latentAUROCSignificanceTable)):\n",
    "    evokedCells = np.nonzero(onTimeAUROCSignificanceTable[rows] != 0)\n",
    "    latentAUROCSignificanceTable[rows][evokedCells] = 0"
   ]
  },
  {
   "attachments": {},
   "cell_type": "markdown",
   "id": "586dc7e3-f0b5-4fca-8137-014f3f253fd1",
   "metadata": {},
   "source": [
    "### 3c: Save AROC"
   ]
  },
  {
   "cell_type": "code",
   "execution_count": null,
   "id": "112e160a-a8af-40e4-8a2f-c5a5ec201a2c",
   "metadata": {},
   "outputs": [],
   "source": [
    "folder = 'AUROCData'\n",
    "\n",
    "DewanIOhandler.saveDataToDisk(\n",
    "    onTimeAUROCSignificanceTable, 'onTimeAUROCSignificanceTable', fileHeader, folder)\n",
    "DewanIOhandler.saveDataToDisk(\n",
    "    onTimeAUROCValueTable, 'onTimeAUROCValueTable', fileHeader, folder)\n",
    "DewanIOhandler.saveDataToDisk(\n",
    "    onTimeAUROC_Lbounds, 'onTimeAUROC_Lbounds', fileHeader, folder)\n",
    "DewanIOhandler.saveDataToDisk(\n",
    "    onTimeAUROC_Ubounds, 'onTimeAUROC_Ubounds', fileHeader, folder)\n",
    "DewanIOhandler.saveDataToDisk(\n",
    "    onTimeAUROC_prctile, 'onTimeAUROC_prctile', fileHeader, folder)\n",
    "\n",
    "DewanIOhandler.saveDataToDisk(\n",
    "    latentAUROCSignificanceTable, 'latentAUROCSignificanceTable', fileHeader, folder)\n",
    "DewanIOhandler.saveDataToDisk(\n",
    "    latentAUROCValueTable, 'latentAUROCValueTable', fileHeader, folder)\n",
    "DewanIOhandler.saveDataToDisk(\n",
    "    latentAUROC_Lbounds, 'latentAUROC_Lbounds', fileHeader, folder)\n",
    "DewanIOhandler.saveDataToDisk(\n",
    "    latentAUROC_Ubounds, 'latentAUROC_Ubounds', fileHeader, folder)\n",
    "DewanIOhandler.saveDataToDisk(\n",
    "    latentAUROC_prctile, 'latentAUROC_prctile', fileHeader, folder)\n"
   ]
  },
  {
   "attachments": {},
   "cell_type": "markdown",
   "id": "c63e3ee4-b33d-4495-b1c4-0e205982dd46",
   "metadata": {
    "tags": []
   },
   "source": [
    "## 4: Plotting"
   ]
  },
  {
   "attachments": {},
   "cell_type": "markdown",
   "id": "afb6f565",
   "metadata": {},
   "source": [
    "### 4a: Import Data"
   ]
  },
  {
   "cell_type": "code",
   "execution_count": null,
   "id": "581d2227-89b4-44cb-8eef-2360b42c869c",
   "metadata": {},
   "outputs": [],
   "source": [
    "folder = 'AUROCData'\n",
    "\n",
    "onTimeAUROCSignificanceTable = DewanIOhandler.loadDataFromDisk(\n",
    "    'onTimeAUROCSignificanceTable', fileHeader, folder)\n",
    "onTimeAUROCValueTable = DewanIOhandler.loadDataFromDisk(\n",
    "    'onTimeAUROCValueTable', fileHeader, folder)\n",
    "onTimeAUROC_Lbounds = DewanIOhandler.loadDataFromDisk(\n",
    "    'onTimeAUROC_Lbounds', fileHeader, folder)\n",
    "onTimeAUROC_Ubounds = DewanIOhandler.loadDataFromDisk(\n",
    "    'onTimeAUROC_Ubounds', fileHeader, folder)\n",
    "onTimeAUROC_prctile = DewanIOhandler.loadDataFromDisk(\n",
    "    'onTimeAUROC_prctile', fileHeader, folder)\n",
    "\n",
    "latentAUROCSignificanceTable = DewanIOhandler.loadDataFromDisk(\n",
    "    'latentAUROCSignificanceTable', fileHeader, folder)\n",
    "latentAUROCValueTable = DewanIOhandler.loadDataFromDisk(\n",
    "    'latentAUROCValueTable', fileHeader, folder)\n",
    "latentAUROC_Lbounds = DewanIOhandler.loadDataFromDisk(\n",
    "    'latentAUROC_Lbounds', fileHeader, folder)\n",
    "latentAUROC_Ubounds = DewanIOhandler.loadDataFromDisk(\n",
    "    'latentAUROC_Ubounds', fileHeader, folder)\n",
    "latentAUROC_prctile = DewanIOhandler.loadDataFromDisk(\n",
    "    'latentAUROC_prctile', fileHeader, folder)\n",
    "\n",
    "Data = DewanIOhandler.loadDataFromDisk(\n",
    "    'CombinedData', fileHeader, 'CombinedData')\n",
    "\n",
    "folder = 'PreProcessedData'\n",
    "FVData = DewanIOhandler.loadDataFromDisk('FVData', fileHeader, folder)\n",
    "CellList = DewanIOhandler.loadDataFromDisk('CellList', fileHeader, folder)\n",
    "\n",
    "folder = 'AUROCImports'\n",
    "FVonIdx = DewanIOhandler.loadDataFromDisk('FVonIdx', fileHeader, folder)\n",
    "UnixTimeArray = DewanIOhandler.loadDataFromDisk(\n",
    "    'UnixTimeArray', fileHeader, folder)\n",
    "OdorData = DewanIOhandler.loadDataFromDisk('OdorData', fileHeader, folder)\n",
    "FVTimeMap = DewanIOhandler.loadDataFromDisk('FVTimeMap', fileHeader, folder)\n",
    "Baseline_Shift_Data = DewanIOhandler.loadDataFromDisk(\n",
    "    'Baseline_Shift_Data', fileHeader, folder)\n"
   ]
  },
  {
   "attachments": {},
   "cell_type": "markdown",
   "id": "565dd979-f777-4297-a731-44d2e321a812",
   "metadata": {
    "tags": []
   },
   "source": [
    "### 4b: Cells v. Odors AUROC Significance"
   ]
  },
  {
   "cell_type": "code",
   "execution_count": null,
   "id": "47259a9f-88ae-4d74-b61b-d1f634788f8f",
   "metadata": {},
   "outputs": [],
   "source": [
    "onTimePlottingData = DewanDataStore.PlottingDataStore(Baseline_Shift_Data, CellList, OdorData, FVData, fileHeader, FVTimeMap, FVonIdx, UnixTimeArray, baselineDuration, responseDuration, onTimeAUROCSignificanceTable, onTimeAUROC_Lbounds, onTimeAUROC_Ubounds, onTimeAUROC_prctile, baseline_start_indexes, baseline_end_indexes, ontime_evoked_start_indexes, ontime_evoked_end_indexes)\n",
    "\n",
    "latentPlottingData = DewanDataStore.PlottingDataStore(Baseline_Shift_Data, CellList, OdorData, FVData, fileHeader, FVTimeMap, FVonIdx, UnixTimeArray, baselineDuration, responseDuration, latentAUROCSignificanceTable, latentAUROC_Lbounds, latentAUROC_Ubounds, latentAUROC_prctile, baseline_start_indexes, baseline_end_indexes, latent_evoked_start_indexes, latent_evoked_end_indexes)"
   ]
  },
  {
   "attachments": {},
   "cell_type": "markdown",
   "id": "43a76044",
   "metadata": {},
   "source": [
    "#### 4b-1: Plot Cell v Odor Significance Matricies"
   ]
  },
  {
   "cell_type": "code",
   "execution_count": null,
   "id": "559f2088",
   "metadata": {},
   "outputs": [],
   "source": [
    "DewanPlotting.plotCellvOdorMatricies(onTimePlottingData, False)\n",
    "DewanPlotting.plotCellvOdorMatricies(latentPlottingData, True)"
   ]
  },
  {
   "attachments": {},
   "cell_type": "markdown",
   "id": "82509cfa-a9af-45d3-a89a-50388882dc4f",
   "metadata": {
    "tags": []
   },
   "source": [
    "#### 4b-2: Plot All Cell Traces"
   ]
  },
  {
   "cell_type": "code",
   "execution_count": null,
   "id": "f3dcb30e-5c3d-4250-b88c-6df9c98a0197",
   "metadata": {},
   "outputs": [],
   "source": [
    "# Plot all cells v odors; only needed for AUROC verification\n",
    "DewanPlotting.plotAllCells(onTimePlottingData, False)\n",
    "DewanPlotting.plotAllCells(latentPlottingData, True)"
   ]
  },
  {
   "attachments": {},
   "cell_type": "markdown",
   "id": "c3097709",
   "metadata": {},
   "source": [
    "#### 4b-3: Plot Significant Cell Traces"
   ]
  },
  {
   "cell_type": "code",
   "execution_count": null,
   "id": "089eada6",
   "metadata": {},
   "outputs": [],
   "source": [
    "# Oh no! Nothing here yet :(\n",
    "# https://media.tenor.com/vMvR0gEolCEAAAAC/nothing-to-see-here-explosion.gif\n"
   ]
  },
  {
   "attachments": {},
   "cell_type": "markdown",
   "id": "95fd1d78",
   "metadata": {},
   "source": [
    "### 4c: Plot Trace Variance"
   ]
  },
  {
   "cell_type": "code",
   "execution_count": null,
   "id": "0db10c67",
   "metadata": {},
   "outputs": [],
   "source": [
    "trialScatterData = DewanDataStore.AUROCdataStore(\n",
    "    Baseline_Shift_Data, CellList, OdorData, FVData, fileHeader, FVonIdx, UnixTimeArray, baselineDuration, responseDuration, False)\n",
    "\n",
    "DewanPlotting.plotTrialsPerPairing(\n",
    "    trialScatterData, onTimeAUROCSignificanceTable, False)\n",
    "DewanPlotting.plotTrialsPerPairing(\n",
    "    trialScatterData, onTimeAUROCSignificanceTable, True)\n"
   ]
  },
  {
   "cell_type": "markdown",
   "source": [
    "## 5. Statistics"
   ],
   "metadata": {
    "collapsed": false
   }
  },
  {
   "cell_type": "markdown",
   "source": [
    "### 5a. Load Data"
   ],
   "metadata": {
    "collapsed": false
   }
  },
  {
   "cell_type": "code",
   "execution_count": null,
   "outputs": [],
   "source": [
    "#Oh no, nothing here yet :("
   ],
   "metadata": {
    "collapsed": false
   }
  },
  {
   "cell_type": "markdown",
   "source": [
    "### 5b. Correlation Coefficients"
   ],
   "metadata": {
    "collapsed": false
   }
  },
  {
   "cell_type": "code",
   "execution_count": null,
   "id": "6205f756",
   "metadata": {},
   "outputs": [],
   "source": [
    "similarityData = DewanDataStore.AUROCdataStore(Baseline_Shift_Data, CellList, OdorData, FVData, fileHeader, FVonIdx, UnixTimeArray, baselineDuration, responseDuration, False)\n",
    "CCs = DewanStats.crossTrialConsistency(similarityData, onTimeAUROCSignificanceTable, False)"
   ]
  },
  {
   "cell_type": "code",
   "execution_count": null,
   "outputs": [],
   "source": [
    "mineralOilIndex = np.nonzero(similarityData.uniqueOdors == 'MO')[0]\n",
    "responsiveCellListIndex = np.nonzero(onTimeAUROCSignificanceTable[:, mineralOilIndex] == 0)[0]\n",
    "odorIndexes = np.nonzero(similarityData.uniqueOdors != 'MO')[0]\n",
    "columns = [f'Cell: {similarityData.CellList[cell]}' for cell in responsiveCellListIndex]\n",
    "rows = [f'{similarityData.uniqueOdors[odor]}' for odor in odorIndexes]\n",
    "CCs = np.array(CCs)\n",
    "CCs = pd.DataFrame(CCs.transpose(), columns=columns, index=rows)"
   ],
   "metadata": {
    "collapsed": false
   }
  },
  {
   "cell_type": "markdown",
   "source": [
    "### 5c. Lifetime and Population Sparseness"
   ],
   "metadata": {
    "collapsed": false
   }
  },
  {
   "cell_type": "code",
   "execution_count": 48,
   "outputs": [],
   "source": [
    "sparsenessData = DewanDataStore.AUROCdataStore(\n",
    "    Baseline_Shift_Data, CellList, OdorData, FVData, fileHeader, FVonIdx, UnixTimeArray, baselineDuration, responseDuration, False)\n",
    "\n",
    "lifetimeSparseness, cells = DewanStats.lifetimeSparseness(sparsenessData, onTimeAUROCSignificanceTable)\n",
    "populationSparseness, odors = DewanStats.popSparseness(sparsenessData, onTimeAUROCSignificanceTable)\n",
    "lsPairs = [f'Cell {cells[i]}: {round(lifetimeSparseness[i],5)}' for i in range(len(cells))]\n",
    "psPairs = [f'Odor: {sparsenessData.unique_odors[odors[i]]}: {round(populationSparseness[i],5)}' for i in range(len(odors))]"
   ],
   "metadata": {
    "collapsed": false
   }
  },
  {
   "cell_type": "code",
   "execution_count": 49,
   "outputs": [
    {
     "name": "stdout",
     "output_type": "stream",
     "text": [
      "['Odor: 25ONE: 1.03987', 'Odor: 4AL: 0.98182', 'Odor: 4AMINE: 0.86699', 'Odor: 4ATE: 1.04437', 'Odor: 4OL: 0.99882', 'Odor: 4ONE: 0.96804', 'Odor: 5AL: 1.04548', 'Odor: 5AMINE: 0.88918', 'Odor: 5ATE: 1.04753', 'Odor: 5OL: 1.00393', 'Odor: 6AL: 1.02612', 'Odor: 6AMINE: 0.96569', 'Odor: 6ATE: 0.85856', 'Odor: 6OL: 0.96257', 'Odor: 6ONE: 0.98143', 'Odor: 7AL: 1.01253', 'Odor: 7AMINE: 0.93744', 'Odor: 7ATE: 0.94598', 'Odor: 7OL: 0.98057', 'Odor: 7ONE: 1.03446', 'Odor: Buzzer: 1.03013']\n"
     ]
    }
   ],
   "source": [
    "print(psPairs)"
   ],
   "metadata": {
    "collapsed": false
   }
  },
  {
   "cell_type": "code",
   "execution_count": 41,
   "outputs": [],
   "source": [
    "mineralOilIndex = np.nonzero(sparsenessData.unique_odors == 'MO')[0]\n",
    "odorIndexes = np.nonzero(sparsenessData.unique_odors != 'MO')[0]"
   ],
   "metadata": {
    "collapsed": false
   }
  },
  {
   "cell_type": "markdown",
   "source": [],
   "metadata": {
    "collapsed": false
   }
  },
  {
   "cell_type": "code",
   "execution_count": null,
   "outputs": [],
   "source": [
    "print(odorIndexes)\n"
   ],
   "metadata": {
    "collapsed": false
   }
  }
 ],
 "metadata": {
  "kernelspec": {
   "display_name": "ImagingAnalysis",
   "language": "python",
   "name": "python3"
  },
  "language_info": {
   "codemirror_mode": {
    "name": "ipython",
    "version": 3
   },
   "file_extension": ".py",
   "mimetype": "text/x-python",
   "name": "python",
   "nbconvert_exporter": "python",
   "pygments_lexer": "ipython3",
   "version": "3.8.15"
  },
  "vscode": {
   "interpreter": {
    "hash": "977baf04aa409d7582f6e94b1f1f1d2e9ac45da44046a9cec7b1a770a676514b"
   }
  }
 },
 "nbformat": 4,
 "nbformat_minor": 5
}
