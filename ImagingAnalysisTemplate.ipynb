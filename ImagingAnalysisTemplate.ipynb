{
 "cells": [
  {
   "cell_type": "markdown",
   "id": "1daf917d-f5f9-42ea-baaa-08fcf28b43ce",
   "metadata": {
    "tags": []
   },
   "source": [
    "# Dewan Lab Image Analysis"
   ]
  },
  {
   "attachments": {},
   "cell_type": "markdown",
   "id": "917d0bf4-3426-4326-911d-9a9e0cd1ed80",
   "metadata": {
    "tags": []
   },
   "source": [
    "## 0: Run once to create all needed directories at beginning of a project"
   ]
  },
  {
   "cell_type": "code",
   "execution_count": null,
   "id": "c884c75e-38a9-431e-8e99-0d8f9fdd85d4",
   "metadata": {},
   "outputs": [],
   "source": [
    "from Python.Helpers import DewanIOhandler\n",
    "DewanIOhandler.createProjectFramework()"
   ]
  },
  {
   "attachments": {},
   "cell_type": "markdown",
   "id": "a1ba1747-903f-4eac-8a48-84b44728f3e7",
   "metadata": {
    "tags": []
   },
   "source": [
    "## 1: Always Execute! Load Libraries and User Settings"
   ]
  },
  {
   "attachments": {},
   "cell_type": "markdown",
   "id": "6d1aec8e-a365-49a6-b3ab-d67525a65bdb",
   "metadata": {
    "tags": []
   },
   "source": [
    "### 1a: Import Libraries"
   ]
  },
  {
   "cell_type": "code",
   "execution_count": 1,
   "id": "1dd422e6-969e-4c1f-8301-2afc3ce3d4b5",
   "metadata": {
    "ExecuteTime": {
     "end_time": "2023-08-16T20:58:57.436078700Z",
     "start_time": "2023-08-16T20:58:57.372336100Z"
    }
   },
   "outputs": [],
   "source": [
    "%load_ext autoreload\n",
    "%autoreload 2"
   ]
  },
  {
   "cell_type": "code",
   "execution_count": 2,
   "id": "48174929-fd1b-48cc-ab99-9ff1bcd9f06e",
   "metadata": {
    "tags": [],
    "ExecuteTime": {
     "end_time": "2023-08-16T20:58:59.354292500Z",
     "start_time": "2023-08-16T20:58:57.431049600Z"
    }
   },
   "outputs": [],
   "source": [
    "import numpy as np\n",
    "import pandas as pd\n",
    "from tqdm import trange\n",
    "from Python.Helpers import DewanDataStore\n",
    "from Python.Helpers import DewanImportDataHelper\n",
    "from Python.Helpers import DewanIOhandler\n",
    "from Python import DewanAUROC\n",
    "from Python import DewanPlotting\n",
    "from Python import DewanStats\n",
    "from Python import DewanManualCuration"
   ]
  },
  {
   "attachments": {},
   "cell_type": "markdown",
   "id": "d57a7bb0-be75-4f25-b35d-6732d0ea7dfa",
   "metadata": {
    "tags": []
   },
   "source": [
    "### 1b: User Configurables"
   ]
  },
  {
   "cell_type": "code",
   "execution_count": 3,
   "id": "5d8f7883-7544-4c8d-a2e3-32da1e3ee795",
   "metadata": {
    "ExecuteTime": {
     "end_time": "2023-08-16T20:58:59.450125500Z",
     "start_time": "2023-08-16T20:58:59.357289Z"
    }
   },
   "outputs": [],
   "source": [
    "animal = 'VGAT5'\n",
    "date = '11-16-22'\n",
    "\n",
    "# Settings for Inscopix box\n",
    "LED_power = 1\n",
    "GAIN = 2.2\n",
    "FOCUS = 250\n",
    "\n",
    "PreTrialTime = 3.5  # Imaging time before the final valve opens\n",
    "PostTrialTime = 3.5  # Imaging time after final valve closes\n",
    "\n",
    "# Criterion for determining good trials vs bad trials, will be used later\n",
    "goodCriterion = 0.5\n",
    "# in the findGoodTrials segment\n",
    "\n",
    "\n",
    "# Configurables for AUROC\n",
    "baselineDuration = 2  # number of seconds before the fvOnTime\n",
    "responseDuration = 2  # number of seconds after the fvOnTime\n",
    "PlotFigures = True\n",
    "\n",
    "fileHeader = animal + '-' + date + '-'\n"
   ]
  },
  {
   "attachments": {},
   "cell_type": "markdown",
   "id": "333708ce-48b1-4382-9e74-a6ae099f190c",
   "metadata": {
    "tags": []
   },
   "source": [
    "## 2: Data Import and Processing"
   ]
  },
  {
   "attachments": {},
   "cell_type": "markdown",
   "id": "85f73484-fb78-4bef-8328-bd312d9abbc3",
   "metadata": {
    "tags": []
   },
   "source": [
    "### 2a: Import and pre-process the raw data"
   ]
  },
  {
   "cell_type": "code",
   "execution_count": 35,
   "outputs": [],
   "source": [
    "# Read in data for processing.  Needs Cell Traces, Odor List, and GPIO file.\n",
    "folder = './ImagingAnalysis/RawData/'"
   ],
   "metadata": {
    "collapsed": false,
    "ExecuteTime": {
     "end_time": "2023-08-16T21:08:17.292498600Z",
     "start_time": "2023-08-16T21:08:17.190498100Z"
    }
   }
  },
  {
   "cell_type": "code",
   "execution_count": null,
   "outputs": [],
   "source": [
    "\n",
    "CellTraceData = pd.read_csv(\n",
    "    f'{folder}/CellTraces.csv', engine='pyarrow')"
   ],
   "metadata": {
    "collapsed": false
   }
  },
  {
   "cell_type": "code",
   "execution_count": 36,
   "outputs": [],
   "source": [
    "OdorData = np.array(pd.read_excel(\n",
    "    f'{folder}/OdorList.xlsx', usecols=[0], header=None))"
   ],
   "metadata": {
    "collapsed": false,
    "ExecuteTime": {
     "end_time": "2023-08-16T21:08:18.851596500Z",
     "start_time": "2023-08-16T21:08:17.940615300Z"
    }
   }
  },
  {
   "cell_type": "code",
   "execution_count": 37,
   "outputs": [
    {
     "data": {
      "text/plain": "array([['4AL'],\n       ['5AMINE'],\n       ['4AMINE'],\n       ['7ATE'],\n       ['MO'],\n       ['25ONE'],\n       ['6OL'],\n       ['6OL'],\n       ['4AMINE'],\n       ['7ATE'],\n       ['MO'],\n       ['5AMINE'],\n       ['25ONE'],\n       ['4AL'],\n       ['4AMINE'],\n       ['6OL'],\n       ['MO'],\n       ['4AL'],\n       ['5AMINE'],\n       ['7ATE'],\n       ['25ONE'],\n       ['Buzzer'],\n       ['25ONE'],\n       ['4AL'],\n       ['4AMINE'],\n       ['7ATE'],\n       ['5AMINE'],\n       ['MO'],\n       ['6OL'],\n       ['4AL'],\n       ['7ATE'],\n       ['25ONE'],\n       ['5AMINE'],\n       ['6OL'],\n       ['4AMINE'],\n       ['MO'],\n       ['4AL'],\n       ['7ATE'],\n       ['MO'],\n       ['6OL'],\n       ['4AMINE'],\n       ['5AMINE'],\n       ['25ONE'],\n       ['Buzzer'],\n       ['MO'],\n       ['25ONE'],\n       ['7ATE'],\n       ['4AMINE'],\n       ['5AMINE'],\n       ['6OL'],\n       ['4AL'],\n       ['7ATE'],\n       ['5AMINE'],\n       ['25ONE'],\n       ['MO'],\n       ['4AMINE'],\n       ['4AL'],\n       ['6OL'],\n       ['4AL'],\n       ['4AMINE'],\n       ['6OL'],\n       ['7ATE'],\n       ['MO'],\n       ['25ONE'],\n       ['5AMINE'],\n       ['Buzzer'],\n       ['7ATE'],\n       ['6OL'],\n       ['5AMINE'],\n       ['25ONE'],\n       ['4AL'],\n       ['MO'],\n       ['4AMINE'],\n       ['4AMINE'],\n       ['5AMINE'],\n       ['25ONE'],\n       ['4AL'],\n       ['7ATE'],\n       ['MO'],\n       ['6OL'],\n       ['6OL'],\n       ['25ONE'],\n       ['4AL'],\n       ['MO'],\n       ['5AMINE'],\n       ['4AMINE'],\n       ['7ATE'],\n       ['Buzzer'],\n       ['7OL'],\n       ['5ATE'],\n       ['7ONE'],\n       ['4ATE'],\n       ['6AL'],\n       ['7AL'],\n       ['7AMINE'],\n       ['4ATE'],\n       ['6AL'],\n       ['7AL'],\n       ['7AMINE'],\n       ['7OL'],\n       ['5ATE'],\n       ['7ONE'],\n       ['7AL'],\n       ['6AL'],\n       ['5ATE'],\n       ['7OL'],\n       ['4ATE'],\n       ['7ONE'],\n       ['7AMINE'],\n       ['Buzzer'],\n       ['7ONE'],\n       ['6AL'],\n       ['7AL'],\n       ['7OL'],\n       ['5ATE'],\n       ['4ATE'],\n       ['7AMINE'],\n       ['7ONE'],\n       ['6AL'],\n       ['7OL'],\n       ['5ATE'],\n       ['7AL'],\n       ['7AMINE'],\n       ['4ATE'],\n       ['5ATE'],\n       ['7ONE'],\n       ['7OL'],\n       ['4ATE'],\n       ['6AL'],\n       ['7AL'],\n       ['7AMINE'],\n       ['Buzzer'],\n       ['7AMINE'],\n       ['7ONE'],\n       ['4ATE'],\n       ['7OL'],\n       ['5ATE'],\n       ['7AL'],\n       ['6AL'],\n       ['5ATE'],\n       ['4ATE'],\n       ['7AMINE'],\n       ['6AL'],\n       ['7ONE'],\n       ['7AL'],\n       ['7OL'],\n       ['7ONE'],\n       ['5ATE'],\n       ['4ATE'],\n       ['7OL'],\n       ['7AMINE'],\n       ['6AL'],\n       ['7AL'],\n       ['Buzzer'],\n       ['4ATE'],\n       ['6AL'],\n       ['7AL'],\n       ['5ATE'],\n       ['7AMINE'],\n       ['7OL'],\n       ['7ONE'],\n       ['4ATE'],\n       ['7OL'],\n       ['5ATE'],\n       ['6AL'],\n       ['7AMINE'],\n       ['7AL'],\n       ['7ONE'],\n       ['7AMINE'],\n       ['7AL'],\n       ['6AL'],\n       ['4ATE'],\n       ['7OL'],\n       ['7ONE'],\n       ['5ATE'],\n       ['Buzzer'],\n       ['6AMINE'],\n       ['6ATE'],\n       ['5AL'],\n       ['4OL'],\n       ['4ONE'],\n       ['6ONE'],\n       ['5OL'],\n       ['4ONE'],\n       ['6ONE'],\n       ['4OL'],\n       ['6AMINE'],\n       ['5AL'],\n       ['5OL'],\n       ['6ATE'],\n       ['4ONE'],\n       ['5AL'],\n       ['5OL'],\n       ['6ATE'],\n       ['4OL'],\n       ['6AMINE'],\n       ['6ONE'],\n       ['Buzzer'],\n       ['6ATE'],\n       ['5OL'],\n       ['5AL'],\n       ['6AMINE'],\n       ['4ONE'],\n       ['4OL'],\n       ['6ONE'],\n       ['5AL'],\n       ['4OL'],\n       ['4ONE'],\n       ['6ATE'],\n       ['5OL'],\n       ['6AMINE'],\n       ['6ONE'],\n       ['5AL'],\n       ['6ONE'],\n       ['6AMINE'],\n       ['6ATE'],\n       ['5OL'],\n       ['4OL'],\n       ['4ONE'],\n       ['Buzzer'],\n       ['5OL'],\n       ['6ATE'],\n       ['6ONE'],\n       ['6AMINE'],\n       ['5AL'],\n       ['4OL'],\n       ['4ONE'],\n       ['6AMINE'],\n       ['4OL'],\n       ['4ONE'],\n       ['5AL'],\n       ['5OL'],\n       ['6ONE'],\n       ['6ATE'],\n       ['5OL'],\n       ['4OL'],\n       ['5AL'],\n       ['6ONE'],\n       ['6ATE'],\n       ['6AMINE'],\n       ['4ONE'],\n       ['Buzzer'],\n       ['6AMINE'],\n       ['5AL'],\n       ['4OL'],\n       ['4ONE'],\n       ['6ATE'],\n       ['5OL'],\n       ['6ONE'],\n       ['6ONE'],\n       ['6AMINE'],\n       ['6ATE'],\n       ['4ONE'],\n       ['4OL'],\n       ['5OL'],\n       ['5AL'],\n       ['4OL'],\n       ['6ATE'],\n       ['5OL'],\n       ['4ONE'],\n       ['6ONE']], dtype=object)"
     },
     "execution_count": 37,
     "metadata": {},
     "output_type": "execute_result"
    }
   ],
   "source": [
    "OdorData"
   ],
   "metadata": {
    "collapsed": false,
    "ExecuteTime": {
     "end_time": "2023-08-16T21:08:24.019915900Z",
     "start_time": "2023-08-16T21:08:23.906914700Z"
    }
   }
  },
  {
   "cell_type": "code",
   "execution_count": 52,
   "outputs": [],
   "source": [
    "GPIOData = pd.read_csv(f'{folder}/GPIO.csv', header=None, engine='pyarrow')\n",
    "AllCellProps = pd.read_csv(f'{folder}/Props.csv', header=0, engine='pyarrow')"
   ],
   "metadata": {
    "collapsed": false,
    "ExecuteTime": {
     "end_time": "2023-08-16T15:48:31.169491900Z",
     "start_time": "2023-08-16T15:48:18.982901100Z"
    }
   }
  },
  {
   "cell_type": "code",
   "execution_count": 53,
   "outputs": [],
   "source": [
    "CellTraceData.drop([0], inplace=True)\n",
    "CellTraceData.set_index(CellTraceData.columns[0], inplace=True)\n",
    "\n",
    "CellKeys, CellOutlines = DewanIOhandler.get_outline_coordinates()\n",
    "# Get indicies where there are only one cell part\n",
    "OnePieceCells = np.where(AllCellProps['NumComponents'] == 1)[0]\n",
    "CellList = np.arange(len(OnePieceCells))\n",
    "# Filter out all the bad cell trace data, leaving only the good cells\n",
    "CellList = CellList[OnePieceCells]\n",
    "CellKeys = CellKeys[OnePieceCells]\n",
    "CellTraceData = CellTraceData.apply(pd.to_numeric, errors='coerce')  # Convert everything to numbers\n",
    "#CellTraceData = np.array(CellTraceData)  # Convert pandas DF to np.array"
   ],
   "metadata": {
    "collapsed": false,
    "ExecuteTime": {
     "end_time": "2023-08-16T15:48:40.595323200Z",
     "start_time": "2023-08-16T15:48:39.672320500Z"
    }
   }
  },
  {
   "cell_type": "code",
   "execution_count": 55,
   "outputs": [],
   "source": [
    "MaxProjectionImage = DewanManualCuration.generate_max_projection(AllCellProps, CellKeys, CellOutlines, scale_val=1.5)\n",
    "\n",
    "GoodCells = DewanManualCuration.manual_curation_gui(CellList, CellTraceData, MaxProjectionImage)\n",
    "if GoodCells is None:\n",
    "    print('Error!')"
   ],
   "metadata": {
    "collapsed": false,
    "ExecuteTime": {
     "end_time": "2023-08-16T15:59:40.835059900Z",
     "start_time": "2023-08-16T15:57:47.464703400Z"
    }
   }
  },
  {
   "cell_type": "code",
   "execution_count": 56,
   "id": "de8e82bd-0c23-432f-a462-69835dce5805",
   "metadata": {
    "ExecuteTime": {
     "end_time": "2023-08-16T15:59:45.662323700Z",
     "start_time": "2023-08-16T15:59:45.550423200Z"
    }
   },
   "outputs": [],
   "source": [
    "GoodCellProperties = AllCellProps.iloc[GoodCells,:]\n",
    "GoodCellProperties.reset_index()\n",
    "CellList = CellList[GoodCells]"
   ]
  },
  {
   "cell_type": "code",
   "execution_count": 58,
   "outputs": [
    {
     "name": "stdout",
     "output_type": "stream",
     "text": [
      "Index(['1666014314.816', '1666014314.86596', '1666014314.91592',\n",
      "       '1666014314.96588', '1666014315.015841', '1666014315.0658',\n",
      "       '1666014315.115761', '1666014315.165721', '1666014315.215681',\n",
      "       '1666014315.265641',\n",
      "       ...\n",
      "       '1666018535.395057', '1666018535.445017', '1666018535.494977',\n",
      "       '1666018535.544938', '1666018535.594898', '1666018535.644858',\n",
      "       '1666018535.694818', '1666018535.744778', '1666018535.794738',\n",
      "       '1666018535.844698'],\n",
      "      dtype='object', name=' ', length=84489)\n"
     ]
    }
   ],
   "source": [
    "GoodCellTraceData = CellTraceData.iloc[:, GoodCells]\n",
    "CellTraceData.iloc[:, 0] = CellTraceData.iloc[:, 0].round(2)  # Round the times to 0.2\n",
    "GPIOData.iloc[:, 1] = GPIOData.iloc[:, 1].str.replace(' ', '')  # Remove Random Spaces"
   ],
   "metadata": {
    "collapsed": false,
    "ExecuteTime": {
     "end_time": "2023-08-16T16:00:51.030861400Z",
     "start_time": "2023-08-16T16:00:42.790932400Z"
    }
   }
  },
  {
   "cell_type": "code",
   "execution_count": 60,
   "outputs": [],
   "source": [
    "GPIO1 = np.array(GPIOData.iloc[:, 1] == \"GPIO-1\")  # Sniff Sensor Data\n",
    "GPIO2 = np.array(GPIOData.iloc[:, 1] == \"GPIO-2\")  # FV Actuation Data\n",
    "# GPIO3 = np.array(GPIOData.iloc[:,1] == \"GPIO-3\")  # Running Wheel Data\n",
    "# GPIO4 = np.array(GPIOData.iloc[:,1] == \"GPIO-4\")  # Lick Data"
   ],
   "metadata": {
    "collapsed": false,
    "ExecuteTime": {
     "end_time": "2023-08-16T16:01:56.414187Z",
     "start_time": "2023-08-16T16:01:53.596760500Z"
    }
   }
  },
  {
   "cell_type": "code",
   "execution_count": 61,
   "outputs": [],
   "source": [
    "#SniffTable = np.array(GPIOData.iloc[GPIO1,:])\n",
    "FVData = np.array(GPIOData.iloc[GPIO2,:])"
   ],
   "metadata": {
    "collapsed": false,
    "ExecuteTime": {
     "end_time": "2023-08-16T16:01:59.797595Z",
     "start_time": "2023-08-16T16:01:58.794239200Z"
    }
   }
  },
  {
   "cell_type": "code",
   "execution_count": 0,
   "id": "95d2cdf6-36b3-4067-aa7e-5dd78cbc2f1d",
   "metadata": {},
   "outputs": [],
   "source": [
    "# Pickle the reorganized CellTraceData incase its needed later\n",
    "# Saves Cell Traces, GPIO, Odor List, Sniff, FV data, Good Cell Properties, and the list of Good Cells\n",
    "\n",
    "# Once these have been saved, they don't need to be re-run on the same data again unless\n",
    "# the data itself is changed\n",
    "\n",
    "folder = './ImagingAnalysis/PreProcessedData'\n",
    "\n",
    "DewanIOhandler.saveDataToDisk(\n",
    "    CellTraceData, 'CellTraceData', fileHeader, folder)\n",
    "DewanIOhandler.saveDataToDisk(GPIOData, 'GPIOData', fileHeader, folder)"
   ]
  },
  {
   "cell_type": "code",
   "execution_count": 38,
   "outputs": [
    {
     "name": "stdout",
     "output_type": "stream",
     "text": [
      "VGAT5-11-16-22-OdorData has been saved!\n"
     ]
    }
   ],
   "source": [
    "\n",
    "DewanIOhandler.saveDataToDisk(OdorData, 'OdorData', fileHeader, folder)"
   ],
   "metadata": {
    "collapsed": false,
    "ExecuteTime": {
     "end_time": "2023-08-16T21:08:47.344836300Z",
     "start_time": "2023-08-16T21:08:47.248697100Z"
    }
   }
  },
  {
   "cell_type": "code",
   "execution_count": 62,
   "outputs": [
    {
     "name": "stdout",
     "output_type": "stream",
     "text": [
      "VGAT5-11-16-22-CellTraceData has been saved!\n",
      "VGAT5-11-16-22-GPIOData has been saved!\n",
      "VGAT5-11-16-22-OdorData has been saved!\n",
      "VGAT5-11-16-22-FVdata has been saved!\n",
      "VGAT5-11-16-22-GoodCellProperties has been saved!\n",
      "VGAT5-11-16-22-CellList has been saved!\n"
     ]
    }
   ],
   "source": [
    "\n",
    "#DewanIOhandler.saveDataToDisk(SniffTable, 'SniffTable', fileHeader, folder)\n",
    "DewanIOhandler.saveDataToDisk(FVData, 'FVdata', fileHeader, folder)\n",
    "DewanIOhandler.saveDataToDisk(GoodCellProperties, 'GoodCellProperties', fileHeader, folder)\n",
    "DewanIOhandler.saveDataToDisk(CellList, 'CellList', fileHeader, folder)\n"
   ],
   "metadata": {
    "collapsed": false,
    "ExecuteTime": {
     "end_time": "2023-08-16T16:02:26.249858100Z",
     "start_time": "2023-08-16T16:02:01.844932700Z"
    }
   }
  },
  {
   "attachments": {},
   "cell_type": "markdown",
   "id": "1ba952d5-9392-413e-bf3a-49086c6a583f",
   "metadata": {
    "tags": []
   },
   "source": [
    "### 2b: Checkpoint: Load Preprocessed Data"
   ]
  },
  {
   "cell_type": "code",
   "execution_count": 5,
   "id": "0e1a40e5-f3cc-432c-a415-0dbc157caa00",
   "metadata": {
    "ExecuteTime": {
     "end_time": "2023-08-16T20:59:29.268399200Z",
     "start_time": "2023-08-16T20:59:19.021025600Z"
    }
   },
   "outputs": [
    {
     "name": "stdout",
     "output_type": "stream",
     "text": [
      "VGAT5-11-16-22-CellTraceData has loaded successfully!\n",
      "VGAT5-11-16-22-FVData has loaded successfully!\n",
      "VGAT5-11-16-22-GPIOData has loaded successfully!\n",
      "VGAT5-11-16-22-OdorData has loaded successfully!\n",
      "VGAT5-11-16-22-GoodCellProperties has loaded successfully!\n",
      "VGAT5-11-16-22-CellList has loaded successfully!\n"
     ]
    }
   ],
   "source": [
    "# Opens the saved pickle files.  If the files have already been saved, code can be re-run\n",
    "# starting from this point\n",
    "folder = 'ImagingAnalysis\\PreProcessedData'\n",
    "\n",
    "CellTraceData = DewanIOhandler.loadDataFromDisk(\n",
    "    'CellTraceData', fileHeader, folder)\n",
    "FVData = DewanIOhandler.loadDataFromDisk('FVData', fileHeader, folder)\n",
    "GPIOData = DewanIOhandler.loadDataFromDisk('GPIOData', fileHeader, folder)\n",
    "OdorData = DewanIOhandler.loadDataFromDisk('OdorData', fileHeader, folder)\n",
    "# SniffTable = DewanIOhandler.loadDataFromDisk('SniffTable', fileHeader, folder)\n",
    "GoodCellProperties = DewanIOhandler.loadDataFromDisk(\n",
    "    'GoodCellProperties', fileHeader, folder)\n",
    "CellList = DewanIOhandler.loadDataFromDisk('CellList', fileHeader, folder)\n"
   ]
  },
  {
   "attachments": {},
   "cell_type": "markdown",
   "id": "945f4f52",
   "metadata": {},
   "source": [
    "### 2c: Cell Data Complilation"
   ]
  },
  {
   "cell_type": "code",
   "execution_count": 26,
   "outputs": [
    {
     "name": "stderr",
     "output_type": "stream",
     "text": [
      "Processing: 100%|██████████| 7997935/7997935 [00:05<00:00, 1561985.21it/s]\n"
     ]
    }
   ],
   "source": [
    "# Parses the final valve data to identify when the final valve is open vs when it is closed.\n",
    "FinalValveValues = FVData[:, 2].astype(float)\n",
    "NumberOfValues = len(FinalValveValues)\n",
    "ValveStatus = 0\n",
    "FinalValveOffIndex = []\n",
    "FinalValveOnIndex = []\n",
    "for i in trange((NumberOfValues - 1), desc=\"Processing: \"):\n",
    "    ValveDataDiff = FinalValveValues[i + 1] - FinalValveValues[i]\n",
    "\n",
    "    if ValveStatus == 0:\n",
    "        if ValveDataDiff > 10000:\n",
    "            FinalValveOnIndex.append(i + 1)\n",
    "            ValveStatus = 1\n",
    "    else:\n",
    "        if ValveDataDiff < -10000:\n",
    "            FinalValveOffIndex.append(i)\n",
    "            ValveStatus = 0\n",
    "\n",
    "FinalValveOffIndex = np.array(FinalValveOffIndex)  # verified to match MTLB\n",
    "FinalValveOnIndex = np.array(FinalValveOnIndex)  # verified to match MTLB"
   ],
   "metadata": {
    "collapsed": false,
    "ExecuteTime": {
     "end_time": "2023-08-16T21:05:54.180304400Z",
     "start_time": "2023-08-16T21:05:47.978870100Z"
    }
   }
  },
  {
   "cell_type": "code",
   "execution_count": 19,
   "outputs": [
    {
     "data": {
      "text/plain": "array([   9998,   32523,   55662,   80706,  103588,  126859,  152393,\n        175741,  199796,  223411,  249219,  274577,  300412,  326405,\n        350473,  374703,  399032,  425548,  452130,  478443,  502801,\n        530222,  556082,  580061,  604016,  630340,  654453,  678755,\n        703148,  727303,  751694,  777641,  801962,  825837,  850271,\n        876768,  902406,  928441,  954653,  978882, 1003417, 1029597,\n       1054335, 1081549, 1105472, 1130776, 1157378, 1183301, 1207904,\n       1232100, 1256420, 1281006, 1306977, 1330942, 1356775, 1380413,\n       1404182, 1428128, 1453818, 1477582, 1501530, 1527175, 1551462,\n       1578395, 1604449, 1632059, 1658792, 1683476, 1709772, 1735973,\n       1762517, 1788669, 1812617, 1839365, 1863533, 1888395, 1912788,\n       1938914, 1964804, 1991332, 2017397, 2043763, 2068309, 2092440,\n       2118358, 2142548, 2972107, 2999722, 3026221, 3050461, 3076871,\n       3102617, 3127116, 3151242, 3177751, 3205014, 3231392, 3256305,\n       3280634, 3307196, 3333932, 3358537, 3384824, 3409126, 3435531,\n       3459810, 3486611, 3510838, 3534809, 3562671, 3587517, 3611917,\n       3637554, 3661304, 3685200, 3709956, 3736370, 3762747, 3787274,\n       3813457, 3837834, 3862153, 3888438, 3914853, 3941940, 3966691,\n       3991655, 4015991, 4040132, 4064779, 4091018, 4116793, 4140973,\n       4167373, 4191728, 4216234, 4242661, 4267083, 4293598, 4319871,\n       4346285, 4370848, 4397551, 4424461, 4448900, 4473911, 4498662,\n       4523329, 4548296, 4575344, 4599226, 4626021, 4650861, 4676838,\n       4703926, 4731067, 4757830, 4782437, 4809041, 4835865, 4862121,\n       4887166, 4912187, 4936872, 4961610, 4986596, 5013445, 5040425,\n       5067153, 5092158, 5117339, 5142213, 5167020, 5191553, 5863235,\n       5891296, 5915795, 5940207, 5967021, 5993603, 6018014, 6042591,\n       6066708, 6093382, 6118041, 6142735, 6167313, 6194081, 6219227,\n       6243946, 6268836, 6293413, 6318467, 6343300, 6370078, 6394800,\n       6421662, 6449429, 6474192, 6499289, 6523992, 6550742, 6575346,\n       6600059, 6624716, 6648750, 6673655, 6698320, 6722933, 6749552,\n       6774203, 6801122, 6827531, 6851860, 6876359, 6902950, 6930023,\n       6956531, 6983433, 7009412, 7035832, 7060597, 7085373, 7111955,\n       7136764, 7161449, 7188039, 7212836, 7237782, 7262508, 7287466,\n       7314255, 7338657, 7362591, 7386707, 7411402, 7436294, 7462838,\n       7489375, 7515463, 7539778, 7565219, 7589524, 7615769, 7642184,\n       7668523, 7693144, 7719676, 7745995, 7770090, 7794401, 7818552,\n       7842849, 7866918, 7893344, 7917846, 7944834, 7969319, 7995958])"
     },
     "execution_count": 19,
     "metadata": {},
     "output_type": "execute_result"
    }
   ],
   "source": [
    "FinalValveOffIndex\n"
   ],
   "metadata": {
    "collapsed": false,
    "ExecuteTime": {
     "end_time": "2023-08-16T21:02:50.201033400Z",
     "start_time": "2023-08-16T21:02:50.108032500Z"
    }
   }
  },
  {
   "cell_type": "code",
   "execution_count": 28,
   "id": "e4f82759-442b-4dca-9462-c8d0eb85d49b",
   "metadata": {
    "ExecuteTime": {
     "end_time": "2023-08-16T21:06:43.526788400Z",
     "start_time": "2023-08-16T21:06:30.194656Z"
    }
   },
   "outputs": [],
   "source": [
    "# creates a list of data for the start and end time points of trials\n",
    "# eliminates bad trials (trials with too short/long of a trial period etc.)\n",
    "# searches through the start and ends of the good trials for matching timepoints\n",
    "# and outputs indices for the on/off points of good trials\n",
    "TrialStartTimes = np.array(FVData[FinalValveOnIndex, 0].astype(float) - PreTrialTime)\n",
    "TrialEndTimes = np.array(FVData[FinalValveOffIndex, 0].astype(float) + PostTrialTime)\n",
    "CellTraceOnIndexes, GoodTrialsOnTimes = DewanImportDataHelper.findGoodTrials(CellTraceData, TrialStartTimes, goodCriterion)\n",
    "CellTraceOffIndexes, GoodTrialsOffTime = DewanImportDataHelper.findGoodTrials(CellTraceData, TrialEndTimes, goodCriterion)\n",
    "GoodTrials, GoodIndexesOn, GoodIndexesOff = DewanImportDataHelper.intersect_matlab(GoodTrialsOnTimes, GoodTrialsOffTime)\n"
   ]
  },
  {
   "cell_type": "code",
   "execution_count": 33,
   "outputs": [
    {
     "name": "stdout",
     "output_type": "stream",
     "text": [
      "[  0.   1.   2.   3.   4.   5.   6.   7.   8.   9.  10.  11.  12.  13.\n",
      "  14.  15.  16.  17.  18.  19.  20.  21.  22.  23.  24.  25.  26.  27.\n",
      "  28.  29.  30.  31.  32.  33.  34.  35.  36.  37.  38.  39.  40.  41.\n",
      "  42.  43.  44.  45.  46.  47.  48.  49.  50.  51.  52.  53.  54.  55.\n",
      "  56.  57.  58.  59.  60.  61.  62.  63.  64.  65.  66.  67.  68.  69.\n",
      "  70.  71.  72.  73.  74.  75.  76.  77.  78.  79.  80.  81.  82.  83.\n",
      "  84.  85.  86.  87.  88.  89.  90.  91.  92.  93.  94.  95.  96.  97.\n",
      "  98.  99. 100. 101. 102. 103. 104. 105. 106. 107. 108. 109. 110. 111.\n",
      " 112. 113. 114. 115. 116. 117. 118. 119. 120. 121. 122. 123. 124. 125.\n",
      " 126. 127. 128. 129. 130. 131. 132. 133. 134. 135. 136. 137. 138. 139.\n",
      " 140. 141. 142. 143. 144. 145. 146. 147. 148. 149. 150. 151. 152. 153.\n",
      " 154. 155. 156. 157. 158. 159. 160. 161. 162. 163. 164. 165. 166. 167.\n",
      " 168. 169. 170. 171. 172. 173. 174. 175. 176. 177. 178. 179. 180. 181.\n",
      " 182. 183. 184. 185. 186. 187. 188. 189. 190. 191. 192. 193. 194. 195.\n",
      " 196. 197. 198. 199. 200. 201. 202. 203. 204. 205. 206. 207. 208. 209.\n",
      " 210. 211. 212. 213. 214. 215. 216. 217. 218. 219. 220. 221. 222. 223.\n",
      " 224. 225. 226. 227. 228. 229. 230. 231. 232. 233. 234. 235. 236. 237.\n",
      " 238. 239. 240. 241. 242. 243. 244. 245. 246. 247. 248. 249. 250. 251.\n",
      " 252. 253. 254. 255. 256. 257.]\n"
     ]
    }
   ],
   "source": [
    "print(GoodTrials)"
   ],
   "metadata": {
    "collapsed": false,
    "ExecuteTime": {
     "end_time": "2023-08-16T21:07:23.095856200Z",
     "start_time": "2023-08-16T21:07:23.001854500Z"
    }
   }
  },
  {
   "cell_type": "code",
   "execution_count": 39,
   "id": "c529f758-339f-4e4c-8d6a-414663579aa5",
   "metadata": {
    "ExecuteTime": {
     "end_time": "2023-08-16T21:08:54.409863100Z",
     "start_time": "2023-08-16T21:08:54.310862200Z"
    }
   },
   "outputs": [],
   "source": [
    "# Index all data by the good trials to exclude data from bad trials\n",
    "\n",
    "CellTraceOnIndexes = CellTraceOnIndexes[GoodIndexesOn.astype(int)]\n",
    "CellTraceOffIndexes = CellTraceOffIndexes[GoodIndexesOff.astype(int)]\n",
    "\n",
    "# https://knowyourmeme.com/photos/1402268 ?????\n",
    "# goodIdx = GoodTrials.astype(int) - 1\n",
    "\n",
    "FinalValveOnIndex = FinalValveOnIndex[GoodTrials.astype(int)]\n",
    "FinalValveOffIndex = FinalValveOffIndex[GoodTrials.astype(int)]\n",
    "TrialStartTimes = TrialStartTimes[GoodTrials.astype(int)]\n",
    "TrialEndTimes = TrialEndTimes[GoodTrials.astype(int)]\n",
    "OdorData = OdorData[GoodTrials.astype(int)]"
   ]
  },
  {
   "cell_type": "markdown",
   "id": "27aa00a8-91bd-451a-98db-1651396435ed",
   "metadata": {
    "jp-MarkdownHeadingCollapsed": true,
    "tags": []
   },
   "source": [
    "#### Sniffing Data Compilation"
   ]
  },
  {
   "cell_type": "code",
   "execution_count": 67,
   "id": "5c0146f7-e1c7-47aa-89eb-d6565e91548a",
   "metadata": {
    "ExecuteTime": {
     "end_time": "2023-08-16T20:05:45.721560Z",
     "start_time": "2023-08-16T20:05:45.620559400Z"
    }
   },
   "outputs": [],
   "source": [
    "# # Compiles data for sniffing from good trialss\n",
    "# SniffingStartIndexes = np.zeros(FinalValveOnIndex.size)\n",
    "# SniffingEndIndexes = np.zeros(FinalValveOnIndex.size)\n",
    "#\n",
    "# for i in trange(len(GoodTrials), desc=\"Trial: \"):\n",
    "#     TrialStartTime_s = float(FVData[:, 0][FinalValveOnIndex[i]]) - PreTrialTime\n",
    "#     TrialEndTime_s = float(FVData[:, 0][FinalValveOffIndex[i]]) + PostTrialTime\n",
    "#     SniffingStartIndexes[i] = len(np.nonzero(\n",
    "#         SniffTable[:, 0].astype(float) < TrialStartTime_s)[0])\n",
    "#     SniffingEndIndexes[i] = len(np.nonzero(\n",
    "#         SniffTable[:, 0].astype(float) < TrialEndTime_s)[0]) - 1\n",
    "#\n",
    "# NumSniffPoints = np.max(SniffingEndIndexes - SniffingStartIndexes)\n",
    "#\n",
    "# SniffData = np.zeros((NumSniffPoints.astype(int), len(SniffingStartIndexes)))\n",
    "#\n",
    "# for j in trange(len(SniffingStartIndexes), desc=\"Trial: \"):\n",
    "#     SniffLength = SniffingEndIndexes[j] - SniffingStartIndexes[j]\n",
    "#     SniffData[0:int(SniffLength), j] = SniffTable[SniffingStartIndexes[j].astype(\n",
    "#         int):SniffingEndIndexes[j].astype(int), 2]\n",
    "#\n",
    "# DewanIOhandler.saveDataToDisk(\n",
    "#     SniffData, 'SniffData', fileHeader, 'PreProcessedData')\n"
   ]
  },
  {
   "cell_type": "code",
   "execution_count": 69,
   "outputs": [
    {
     "ename": "IndexError",
     "evalue": "index -2 is out of bounds for axis 0 with size 0",
     "output_type": "error",
     "traceback": [
      "\u001B[1;31m---------------------------------------------------------------------------\u001B[0m",
      "\u001B[1;31mIndexError\u001B[0m                                Traceback (most recent call last)",
      "Cell \u001B[1;32mIn[69], line 1\u001B[0m\n\u001B[1;32m----> 1\u001B[0m \u001B[38;5;28mprint\u001B[39m(\u001B[43mCellTraceOffIndexes\u001B[49m\u001B[43m[\u001B[49m\u001B[38;5;241;43m-\u001B[39;49m\u001B[38;5;241;43m2\u001B[39;49m\u001B[43m]\u001B[49m)\n\u001B[0;32m      2\u001B[0m \u001B[38;5;28mprint\u001B[39m(CellTraceOnIndexes[\u001B[38;5;241m-\u001B[39m\u001B[38;5;241m2\u001B[39m])\n",
      "\u001B[1;31mIndexError\u001B[0m: index -2 is out of bounds for axis 0 with size 0"
     ]
    }
   ],
   "source": [
    "print(CellTraceOffIndexes[-2])\n",
    "print(CellTraceOnIndexes[-2])"
   ],
   "metadata": {
    "collapsed": false,
    "ExecuteTime": {
     "end_time": "2023-08-16T20:06:16.802442200Z",
     "start_time": "2023-08-16T20:06:16.686426Z"
    }
   }
  },
  {
   "attachments": {},
   "cell_type": "markdown",
   "id": "1ff6cfc3-3ede-47d2-a77f-5ef5bf1e6d66",
   "metadata": {
    "tags": []
   },
   "source": [
    "### 2d: Gather all **cell v. time v. trial** data into single array"
   ]
  },
  {
   "cell_type": "code",
   "execution_count": 41,
   "id": "a65fb3c4-85b6-481b-9b54-2715b1807112",
   "metadata": {
    "ExecuteTime": {
     "end_time": "2023-08-16T21:09:29.256160700Z",
     "start_time": "2023-08-16T21:09:28.555129Z"
    }
   },
   "outputs": [],
   "source": [
    "MaxDataPoints = np.abs(np.max(CellTraceOffIndexes - CellTraceOnIndexes))\n",
    "\n",
    "Data = np.zeros((len(CellList), len(CellTraceOffIndexes), MaxDataPoints.astype(int)))\n",
    "\n",
    "for cell in range(len(CellList)):\n",
    "    for trial in range(len(CellTraceOnIndexes)):\n",
    "        DataSize = (CellTraceOffIndexes[trial] - CellTraceOnIndexes[trial])\n",
    "        Data[cell, trial, :DataSize[0].astype(int)] = CellTraceData.iloc[CellTraceOnIndexes[trial][0].astype(int):CellTraceOffIndexes[trial][0].astype(int), cell + 1]\n",
    "\n",
    "Data = np.delete(Data, 180, 2)\n",
    "Baseline_Shift_Data = Data + abs(np.min(Data))\n"
   ]
  },
  {
   "cell_type": "code",
   "execution_count": 59,
   "id": "92279fbb-842c-4bed-af09-ee0dcf16c7b9",
   "metadata": {
    "ExecuteTime": {
     "end_time": "2023-08-16T22:44:29.149767900Z",
     "start_time": "2023-08-16T22:44:29.025765Z"
    }
   },
   "outputs": [],
   "source": [
    "# Map of trial times relative to startTrial time\n",
    "FinalValveTimeMap = np.zeros((len(CellTraceOffIndexes), MaxDataPoints.astype(int)))\n",
    "# Map of times per trial in unix time for AUROC\n",
    "UnixTimeArray = np.zeros((len(CellTraceOffIndexes), max(\n",
    "    CellTraceOffIndexes - CellTraceOnIndexes).astype(int)[0]))\n",
    "\n",
    "for trial in range(len(CellTraceOffIndexes)):\n",
    "    DataSize = (CellTraceOffIndexes[trial] - CellTraceOnIndexes[trial])\n",
    "    FinalValveData = np.array(CellTraceData.index.values[CellTraceOnIndexes[trial][0].astype(int):CellTraceOffIndexes[trial][0].astype(int)]).astype(float)\n",
    "    Offset = float(FVData[FinalValveOnIndex[trial], 0])\n",
    "    FinalValveTimeMap[trial, :DataSize[0].astype(int)] = FinalValveData - Offset\n",
    "    UnixTimeArray[trial, :DataSize[0].astype(int)] = FinalValveData\n",
    "\n",
    "FinalValveTimeMap = np.delete(FinalValveTimeMap, 180, 1)\n",
    "UnixTimeArray = np.delete(UnixTimeArray, 180, 1)\n"
   ]
  },
  {
   "cell_type": "code",
   "execution_count": 58,
   "outputs": [
    {
     "name": "stdout",
     "output_type": "stream",
     "text": [
      "[[-3.48979878 -3.43983889 -3.38987899 -3.33991885 -3.28995895 -3.23999786\n",
      "  -3.19003797 -3.14007783 -3.09011793 -3.04015779 -2.9901979  -2.940238\n",
      "  -2.89027786 -2.84031796 -2.79035783 -2.74039793 -2.69043684 -2.6404779\n",
      "  -2.59051681 -2.54055691 -2.49059701 -2.44063687 -2.39067698 -2.34071684\n",
      "  -2.29075694 -2.2407968  -2.19083595 -2.14087582 -2.09091592 -2.04095578\n",
      "  -1.99099588 -1.94103599 -1.89107585 -1.84111595 -1.79115582 -1.74119592\n",
      "  -1.69123483 -1.64127588 -1.59131479 -1.54135489 -1.491395   -1.44143486\n",
      "  -1.39147496 -1.34151483 -1.29155493 -1.24159479 -1.19163489 -1.1416738\n",
      "  -1.09171391 -1.04175401 -0.99179387 -0.94183397 -0.89187384 -0.84191394\n",
      "  -0.7919538  -0.7419939  -0.69203401 -0.64207292 -0.59211278 -0.54215288\n",
      "  -0.49219298 -0.44223285 -0.39227295 -0.34231281 -0.29235291 -0.24239278\n",
      "  -0.19243288 -0.14247298 -0.09251189 -0.04255199  0.00740814  0.05736804\n",
      "   0.10732818  0.15728807  0.20724821  0.25720811  0.30716801  0.3571291\n",
      "   0.40708899  0.45704913  0.50700903  0.55696917  0.60692906  0.6568892\n",
      "   0.7068491   0.756809    0.80676913  0.85672903  0.90669012  0.95665002\n",
      "   1.00661016  1.05657005  1.10653019  1.15649009  1.20645022  1.25641012\n",
      "   1.30637002  1.35633111  1.40629005  1.45625114  1.50621104  1.55617118\n",
      "   1.60613108  1.65609121  1.70605111  1.75601101  1.80597115  1.85593104\n",
      "   1.90589213  1.95585203  2.00581217  2.05577207  2.1057322   2.1556921\n",
      "   2.205652    2.25561213  2.30557203  2.35553217  2.40549207  2.45545316\n",
      "   2.50541306  2.55537319  2.60533309  2.65529299  2.70525312  2.75521302\n",
      "   2.80517316  2.85513306  2.90509319  2.95505404  3.00501418  3.05497408\n",
      "   3.10493422  3.15489411  3.20485401  3.25481415  3.30477405  3.35473418\n",
      "   3.40469408  3.45465517  3.50461411  3.5545752   3.6045351   3.654495\n",
      "   3.70445514  3.75441504  3.80437517  3.85433507  3.90429521  3.9542551\n",
      "   4.00421619  4.05417609  4.10413599  4.15409613  4.20405602  4.25401616\n",
      "   4.30397606  4.3539362   4.40389609  4.45385599  4.50381613  4.55377722\n",
      "   4.60373712  4.65369701  4.70365715  4.75361705  4.80357718  4.85353708\n",
      "   4.90349722  4.95345712  5.00341702  5.05337811  5.103338    5.15329814\n",
      "   5.20325804  5.25321817  5.30317807  5.35313821  5.40309811  5.453058  ]\n",
      " [-3.460814   -3.4108541  -3.36089396 -3.31093287 -3.26097298 -3.21101308\n",
      "  -3.16105294 -3.11109304 -3.06113291 -3.01117301 -2.96121287 -2.91125298\n",
      "  -2.86129189 -2.81133199 -2.76137209 -2.71141195 -2.66145205 -2.61149192\n",
      "  -2.56153202 -2.51157188 -2.46161199 -2.41165209 -2.361691   -2.3117311\n",
      "  -2.26177096 -2.21181107 -2.16185093 -2.11189103 -2.06193089 -2.011971\n",
      "  -1.9620111  -1.91205096 -1.86208987 -1.81212997 -1.76217008 -1.71220994\n",
      "  -1.66225004 -1.61228991 -1.56233001 -1.51236987 -1.46240997 -1.41245008\n",
      "  -1.36248899 -1.31253004 -1.26256895 -1.21260905 -1.16264892 -1.11268902\n",
      "  -1.06272888 -1.01276898 -0.96280909 -0.91284895 -0.86288905 -0.81292796\n",
      "  -0.76296806 -0.71300793 -0.66304803 -0.61308789 -0.56312799 -0.5131681\n",
      "  -0.46320796 -0.41324806 -0.36328793 -0.31332803 -0.26336694 -0.21340704\n",
      "  -0.1634469  -0.11348701 -0.06352687 -0.01356697  0.03639293  0.08635306\n",
      "   0.13631296  0.1862731   0.23623395  0.28619409  0.33615398  0.38611412\n",
      "   0.43607402  0.48603392  0.53599405  0.58595395  0.63591409  0.68587399\n",
      "   0.73583508  0.78579402  0.83575511  0.88571501  0.93567491  0.98563504\n",
      "   1.03559494  1.08555508  1.13551497  1.18547511  1.23543501  1.2853961\n",
      "   1.335356    1.38531613  1.43527603  1.48523593  1.53519607  1.58515596\n",
      "   1.6351161   1.685076    1.7350359   1.78499603  1.83495712  1.88491702\n",
      "   1.93487692  1.98483706  2.03479695  2.08475709  2.13471699  2.18467712\n",
      "   2.23463702  2.28459811  2.33455801  2.38451791  2.43447804  2.48443794\n",
      "   2.53439808  2.58435798  2.63431811  2.68427801  2.73423791  2.784199\n",
      "   2.8341589   2.88411903  2.93407893  2.98403907  3.03399897  3.0839591\n",
      "   3.133919    3.1838789   3.23383904  3.28380013  3.33376002  3.38371992\n",
      "   3.43368006  3.48363996  3.53360009  3.58355999  3.63352013  3.68348002\n",
      "   3.73343992  3.78340101  3.83335996  3.88332105  3.93328094  3.98324108\n",
      "   4.03320098  4.08316112  4.13312101  4.18308091  4.23304105  4.28300095\n",
      "   4.33296204  4.38292193  4.43288207  4.48284197  4.5328021   4.582762\n",
      "   4.6327219   4.68268204  4.73264194  4.78260303  4.83256197  4.88252306\n",
      "   4.93248296  4.98244309  5.03240299  5.08236313  5.13232303  5.18228292\n",
      "   5.23224306  5.28220296  5.33216405  5.38212395  5.43208408  5.48204398]\n",
      " [-3.48186803 -3.43190789 -3.38194799 -3.3319881  -3.28202796 -3.23206806\n",
      "  -3.18210697 -3.13214803 -3.08218694 -3.03222704 -2.9822669  -2.932307\n",
      "  -2.88234687 -2.83238697 -2.78242707 -2.73246694 -2.68250704 -2.63254595\n",
      "  -2.58258605 -2.53262591 -2.48266602 -2.43270588 -2.38274598 -2.33278608\n",
      "  -2.28282595 -2.23286605 -2.18290591 -2.13294601 -2.08298492 -2.03302598\n",
      "  -1.98306489 -1.93310499 -1.88314509 -1.83318496 -1.78322506 -1.73326492\n",
      "  -1.68330503 -1.63334394 -1.58338404 -1.5334239  -1.483464   -1.43350387\n",
      "  -1.38354397 -1.33358407 -1.28362393 -1.23366404 -1.1837039  -1.133744\n",
      "  -1.08378291 -1.03382397 -0.98386288 -0.93390298 -0.88394308 -0.83398294\n",
      "  -0.78402305 -0.73406291 -0.68410301 -0.63414288 -0.58418298 -0.53422189\n",
      "  -0.48426199 -0.43430209 -0.38434196 -0.33438206 -0.28442192 -0.23446202\n",
      "  -0.18450189 -0.13454199 -0.08458209 -0.034621    0.01533914  0.06529903\n",
      "   0.11525893  0.16521907  0.21517897  0.2651391   0.315099    0.36505914\n",
      "   0.41501904  0.46498013  0.51494002  0.56489992  0.61486006  0.66481996\n",
      "   0.71478009  0.76473999  0.81470013  0.86466002  0.91461992  0.96458101\n",
      "   1.01454091  1.06450105  1.11446095  1.16442108  1.21438098  1.26434112\n",
      "   1.31430101  1.36426091  1.414222    1.46418214  1.51414204  1.56410193\n",
      "   1.61406207  1.66402197  1.71398211  1.763942    1.81390214  1.86386204\n",
      "   1.91382194  1.96378303  2.01374197  2.06370306  2.11366296  2.16362309\n",
      "   2.21358299  2.26354313  2.31350303  2.36346292  2.41342306  2.46338296\n",
      "   2.51334405  2.56330395  2.61326408  2.66322398  2.71318412  2.76314402\n",
      "   2.81310391  2.86306405  2.91302395  2.96298409  3.01294398  3.06290507\n",
      "   3.11286497  3.16282511  3.21278501  3.2627449   3.31270504  3.36266494\n",
      "   3.41262507  3.46258497  3.51254606  3.56250596  3.6124661   3.66242599\n",
      "   3.71238613  3.76234603  3.81230593  3.86226606  3.91222596  3.9621861\n",
      "   4.012146    4.06210709  4.11206603  4.16202712  4.21198702  4.26194692\n",
      "   4.31190705  4.36186695  4.41182709  4.46178699  4.51174712  4.56170702\n",
      "   4.61166811  4.66162801  4.71158791  4.76154804  4.81150794  4.86146808\n",
      "   4.91142797  4.96138811  5.01134801  5.06130791  5.11126804  5.16122913\n",
      "   5.21118903  5.26114893  5.31110907  5.36106896  5.4110291   5.460989  ]\n",
      " [-3.47215986 -3.42220092 -3.37223983 -3.32227993 -3.27232003 -3.2223599\n",
      "  -3.1724     -3.12243986 -3.07247996 -3.02251983 -2.97255993 -2.92260003\n",
      "  -2.87263894 -2.82267904 -2.77271891 -2.72275901 -2.67279887 -2.62283897\n",
      "  -2.57287884 -2.52291894 -2.47295904 -2.42299891 -2.37303782 -2.32307792\n",
      "  -2.27311802 -2.22315788 -2.17319798 -2.12323785 -2.07327795 -2.02331781\n",
      "  -1.97335792 -1.92339802 -1.87343693 -1.82347798 -1.77351689 -1.723557\n",
      "  -1.67359686 -1.62363696 -1.57367682 -1.52371693 -1.47375703 -1.42379689\n",
      "  -1.37383604 -1.3238759  -1.27391601 -1.22395587 -1.17399597 -1.12403584\n",
      "  -1.07407594 -1.02411604 -0.9741559  -0.924196   -0.87423587 -0.82427597\n",
      "  -0.77431488 -0.72435498 -0.67439485 -0.62443495 -0.57447481 -0.52451491\n",
      "  -0.47455502 -0.42459488 -0.37463498 -0.32467389 -0.27471399 -0.22475386\n",
      "  -0.17479396 -0.12483382 -0.07487392 -0.02491403  0.02504611  0.07500601\n",
      "   0.12496614  0.17492604  0.22488713  0.27484703  0.32480717  0.37476707\n",
      "   0.42472696  0.4746871   0.524647    0.57460713  0.62456703  0.67452812\n",
      "   0.72448707  0.77444816  0.82440805  0.87436819  0.92432809  0.97428799\n",
      "   1.02424812  1.07420802  1.12416816  1.17412806  1.22408795  1.27404809\n",
      "   1.32400918  1.37396908  1.42392898  1.47388911  1.52384901  1.57380915\n",
      "   1.62376904  1.67373013  1.72368908  1.77365017  1.82361007  1.87356997\n",
      "   1.9235301   1.97349     2.02345014  2.07341003  2.12337017  2.17333007\n",
      "   2.22328997  2.27325106  2.32321095  2.37317109  2.42313099  2.47309113\n",
      "   2.52305102  2.57301116  2.62297106  2.67293096  2.72289109  2.77285218\n",
      "   2.82281208  2.87277198  2.92273211  2.97269201  3.02265215  3.07261205\n",
      "   3.12257218  3.17253208  3.22249198  3.27245307  3.32241201  3.3723731\n",
      "   3.422333    3.47229314  3.52225304  3.57221317  3.62217307  3.67213297\n",
      "   3.72209311  3.77205396  3.82201409  3.87197399  3.92193413  3.97189403\n",
      "   4.02185416  4.07181406  4.12177396  4.17173409  4.22169399  4.27165508\n",
      "   4.32161403  4.37157512  4.42153502  4.47149515  4.52145505  4.57141519\n",
      "   4.62137508  4.67133498  4.72129607  4.77125502  4.82121611  4.871176\n",
      "   4.92113614  4.97109604  5.02105618  5.07101607  5.12097597  5.17093611\n",
      "   5.22089601  5.27085614  5.32081604  5.37077713  5.42073703  5.47069716]\n",
      " [-3.46545506 -3.41549492 -3.36553502 -3.31557512 -3.26561403 -3.21565509\n",
      "  -3.165694   -3.1157341  -3.06577396 -3.01581407 -2.96585393 -2.91589403\n",
      "  -2.86593413 -2.815974   -2.7660141  -2.71605396 -2.66609406 -2.61613297\n",
      "  -2.56617308 -2.51621294 -2.46625304 -2.41629314 -2.36633301 -2.31637311\n",
      "  -2.26641297 -2.21645308 -2.16649199 -2.11653209 -2.06657195 -2.01661205\n",
      "  -1.96665192 -1.91669202 -1.86673212 -1.81677198 -1.76681209 -1.71685195\n",
      "  -1.66689205 -1.61693096 -1.56697202 -1.51701093 -1.46705103 -1.41709113\n",
      "  -1.36713099 -1.3171711  -1.26721096 -1.21725106 -1.16728997 -1.11733103\n",
      "  -1.06736994 -1.01741004 -0.96745014 -0.91749001 -0.86753011 -0.81756997\n",
      "  -0.76761007 -0.71764994 -0.66769004 -0.61773014 -0.56776905 -0.51780891\n",
      "  -0.46784902 -0.41788912 -0.36792898 -0.31796908 -0.26800895 -0.21804905\n",
      "  -0.16808891 -0.11812901 -0.06816792 -0.01820803  0.03175187  0.08171201\n",
      "   0.13167191  0.18163204  0.23159194  0.28155208  0.33151197  0.38147187\n",
      "   0.43143296  0.48139286  0.531353    0.58131289  0.63127303  0.68123293\n",
      "   0.73119307  0.78115296  0.83111286  0.88107395  0.93103409  0.98099399\n",
      "   1.03095388  1.08091402  1.13087392  1.18083405  1.23079395  1.28075385\n",
      "   1.33071399  1.38067389  1.43063498  1.48059392  1.53055501  1.58051491\n",
      "   1.63047504  1.68043494  1.73039508  1.78035498  1.83031487  1.88027596\n",
      "   1.93023491  1.980196    2.0301559   2.08011603  2.13007593  2.18003607\n",
      "   2.22999597  2.27995586  2.329916    2.3798759   2.42983603  2.47979593\n",
      "   2.52975702  2.57971692  2.62967706  2.67963696  2.72959685  2.77955699\n",
      "   2.82951689  2.87947702  2.92943692  2.97939801  3.02935791  3.07931805\n",
      "   3.12927794  3.17923808  3.22919798  3.27915788  3.32911801  3.37907791\n",
      "   3.42903805  3.47899795  3.52895904  3.57891798  3.62887907  3.67883897\n",
      "   3.72879887  3.778759    3.8287189   3.87867904  3.92863894  3.97860003\n",
      "   4.02855897  4.07852006  4.12847996  4.17843986  4.22839999  4.27835989\n",
      "   4.32832003  4.37827992  4.42824006  4.47819996  4.52815986  4.57812095\n",
      "   4.62808108  4.67804098  4.72800088  4.77796102  4.82792091  4.87788105\n",
      "   4.92784095  4.97780108  5.02776098  5.07772207  5.12768197  5.17764187\n",
      "   5.22760201  5.2775619   5.32752204  5.37748194  5.42744207  5.47740197]]\n"
     ]
    }
   ],
   "source": [],
   "metadata": {
    "collapsed": false,
    "ExecuteTime": {
     "end_time": "2023-08-16T22:44:17.536522100Z",
     "start_time": "2023-08-16T22:44:17.431531700Z"
    }
   }
  },
  {
   "attachments": {},
   "cell_type": "markdown",
   "id": "d4200c9a-8cb6-4762-9e03-78f09764ae5a",
   "metadata": {
    "tags": []
   },
   "source": [
    "### 2e: Combined Data Output"
   ]
  },
  {
   "cell_type": "code",
   "execution_count": 60,
   "id": "d88413e5-fd23-4986-b8dc-9df65f977b7c",
   "metadata": {
    "tags": [],
    "ExecuteTime": {
     "end_time": "2023-08-16T22:44:33.345768800Z",
     "start_time": "2023-08-16T22:44:33.249193Z"
    }
   },
   "outputs": [],
   "source": [
    "OdorIndexes = []\n",
    "\n",
    "for odor in OdorData:\n",
    "    OdorIndexes.append(odor[0])\n",
    "\n",
    "columnNames = ['CentroidX', 'CentroidY', 'NumComponents', 'Size']\n",
    "TableOfContents = pd.DataFrame(GoodCellProperties.iloc[:, 5:9], index = CellList, columns=columnNames)"
   ]
  },
  {
   "cell_type": "code",
   "execution_count": 61,
   "outputs": [
    {
     "name": "stderr",
     "output_type": "stream",
     "text": [
      "Writing Cell: 100%|██████████| 18/18 [00:11<00:00,  1.58it/s]\n"
     ]
    }
   ],
   "source": [
    "\n",
    "path = f'./ImagingAnalysis/CombinedData/{fileHeader}CombinedData.xlsx'\n",
    "writer = pd.ExcelWriter(path, engine='xlsxwriter')\n",
    "\n",
    "TableOfContents.to_excel(writer, sheet_name='TOC')\n",
    "TimeMapSheet = pd.DataFrame(\n",
    "    FinalValveTimeMap[:, :180], np.arange(1, len(CellTraceOffIndexes) + 1))\n",
    "TimeMapSheet.to_excel(writer, sheet_name='TimeMap')\n",
    "\n",
    "for i in trange(len(CellList), desc=\"Writing Cell: \"):\n",
    "    DataDF = pd.DataFrame(Baseline_Shift_Data[i][:][:], OdorIndexes)\n",
    "    #DataDf.index = indexes\n",
    "    DataDF.to_excel(writer, sheet_name='Cell %d' % CellList[i])\n",
    "\n",
    "writer.close()\n",
    "\n",
    "#headers = []\n",
    "\n",
    "# for i in range(len(Sniff[0,:])):\n",
    "# headers.append('Trial ' + str(i))\n",
    "\n",
    "#SniffDF = pd.DataFrame(Sniff)\n",
    "#SniffDF.to_excel('./ImportOutputs/' + fileHeader + 'SniffData.xlsx', sheet_name = 'Data', header=headers)\n"
   ],
   "metadata": {
    "collapsed": false,
    "ExecuteTime": {
     "end_time": "2023-08-16T22:44:51.320094600Z",
     "start_time": "2023-08-16T22:44:34.407119400Z"
    }
   }
  },
  {
   "cell_type": "markdown",
   "source": [
    "### 2f: Save information needed for AUROC"
   ],
   "metadata": {
    "collapsed": false
   }
  },
  {
   "cell_type": "code",
   "execution_count": 62,
   "outputs": [
    {
     "name": "stdout",
     "output_type": "stream",
     "text": [
      "VGAT5-11-16-22-CombinedData has been saved!\n",
      "VGAT5-11-16-22-FVonIdx has been saved!\n",
      "VGAT5-11-16-22-UnixTimeArray has been saved!\n",
      "VGAT5-11-16-22-FVTimeMap has been saved!\n",
      "VGAT5-11-16-22-OdorData has been saved!\n",
      "VGAT5-11-16-22-Baseline_Shift_Data has been saved!\n"
     ]
    }
   ],
   "source": [
    "DewanIOhandler.saveDataToDisk(Data, 'CombinedData', fileHeader, './ImagingAnalysis/CombinedData')\n",
    "\n",
    "folder = './ImagingAnalysis/AUROCImports'\n",
    "DewanIOhandler.saveDataToDisk(FinalValveOnIndex, 'FVonIdx', fileHeader, folder)\n",
    "DewanIOhandler.saveDataToDisk(\n",
    "    UnixTimeArray, 'UnixTimeArray', fileHeader, folder)\n",
    "DewanIOhandler.saveDataToDisk(FinalValveTimeMap, 'FVTimeMap', fileHeader, folder)\n",
    "DewanIOhandler.saveDataToDisk(OdorData, 'OdorData', fileHeader, folder)\n",
    "DewanIOhandler.saveDataToDisk(\n",
    "    Baseline_Shift_Data, 'Baseline_Shift_Data', fileHeader, folder)\n"
   ],
   "metadata": {
    "collapsed": false,
    "ExecuteTime": {
     "end_time": "2023-08-16T22:46:02.231648500Z",
     "start_time": "2023-08-16T22:46:02.125649300Z"
    }
   }
  },
  {
   "attachments": {},
   "cell_type": "markdown",
   "id": "f1d85a0f-d8ef-49b0-9259-cfa381bdae39",
   "metadata": {},
   "source": [
    "## 3: AUROC"
   ]
  },
  {
   "attachments": {},
   "cell_type": "markdown",
   "id": "5785a0e7-4c69-41a6-94f5-7f82b4373234",
   "metadata": {
    "tags": []
   },
   "source": [
    "### 3a: Import Data "
   ]
  },
  {
   "cell_type": "code",
   "execution_count": 49,
   "id": "f51f5276-994e-440c-96fe-93b04ff0c21d",
   "metadata": {
    "ExecuteTime": {
     "end_time": "2023-08-16T21:15:23.920253Z",
     "start_time": "2023-08-16T21:15:21.618579900Z"
    }
   },
   "outputs": [
    {
     "name": "stdout",
     "output_type": "stream",
     "text": [
      "VGAT5-11-16-22-CombinedData has loaded successfully!\n",
      "VGAT5-11-16-22-FVData has loaded successfully!\n",
      "VGAT5-11-16-22-CellList has loaded successfully!\n",
      "VGAT5-11-16-22-FVonIdx has loaded successfully!\n",
      "VGAT5-11-16-22-UnixTimeArray has loaded successfully!\n",
      "VGAT5-11-16-22-OdorData has loaded successfully!\n",
      "VGAT5-11-16-22-FVTimeMap has loaded successfully!\n",
      "VGAT5-11-16-22-Baseline_Shift_Data has loaded successfully!\n"
     ]
    }
   ],
   "source": [
    "Data = DewanIOhandler.loadDataFromDisk('CombinedData', fileHeader, './ImagingAnalysis/CombinedData')\n",
    "\n",
    "folder = 'ImagingAnalysis/PreProcessedData'\n",
    "FVData = DewanIOhandler.loadDataFromDisk('FVData', fileHeader, folder)\n",
    "CellList = DewanIOhandler.loadDataFromDisk('CellList', fileHeader, folder)\n",
    "\n",
    "folder = 'ImagingAnalysis/AUROCImports'\n",
    "FinalValveOnIndex = DewanIOhandler.loadDataFromDisk('FVonIdx', fileHeader, folder)\n",
    "UnixTimeArray = DewanIOhandler.loadDataFromDisk(\n",
    "    'UnixTimeArray', fileHeader, folder)\n",
    "OdorData = DewanIOhandler.loadDataFromDisk('OdorData', fileHeader, folder)\n",
    "FinalValveTimeMap = DewanIOhandler.loadDataFromDisk('FVTimeMap', fileHeader, folder)\n",
    "Baseline_Shift_Data = DewanIOhandler.loadDataFromDisk(\n",
    "    'Baseline_Shift_Data', fileHeader, folder)\n"
   ]
  },
  {
   "attachments": {},
   "cell_type": "markdown",
   "id": "114ee4f4-9e43-4e84-96da-de6130cc31c2",
   "metadata": {
    "tags": []
   },
   "source": [
    "### 3b: Run AUROC"
   ]
  },
  {
   "cell_type": "code",
   "execution_count": 0,
   "id": "e46b3154-bd60-4548-8ae1-69eb945f31e7",
   "metadata": {
    "tags": []
   },
   "outputs": [],
   "source": [
    "AUROCData = DewanDataStore.AUROCdataStore(\n",
    "    Baseline_Shift_Data, CellList, OdorData, FVData, fileHeader, FinalValveOnIndex, UnixTimeArray, baselineDuration, responseDuration, PlotFigures)\n",
    "onTimeReturnValues = DewanAUROC.AUROC(AUROCData, False)"
   ]
  },
  {
   "cell_type": "code",
   "execution_count": 65,
   "outputs": [],
   "source": [
    "\n",
    "latentReturnValues = DewanAUROC.AUROC(AUROCData, True)"
   ],
   "metadata": {
    "collapsed": false,
    "ExecuteTime": {
     "end_time": "2023-08-16T22:57:05.310148800Z",
     "start_time": "2023-08-16T22:53:44.015026300Z"
    }
   }
  },
  {
   "cell_type": "code",
   "execution_count": 66,
   "id": "ac54d824-f7d2-4eba-98e2-df7bc10162c2",
   "metadata": {
    "ExecuteTime": {
     "end_time": "2023-08-16T23:01:04.494205900Z",
     "start_time": "2023-08-16T23:01:04.380025Z"
    }
   },
   "outputs": [],
   "source": [
    "onTimeAUROCSignificanceTable = []\n",
    "onTimeAUROCValueTable = []\n",
    "onTimeAUROC_Ubounds = []\n",
    "onTimeAUROC_Lbounds = []\n",
    "onTimeAUROC_prctile = []\n",
    "\n",
    "\n",
    "latentAUROCSignificanceTable = []\n",
    "latentAUROCValueTable = []\n",
    "latentAUROC_Ubounds = []\n",
    "latentAUROC_Lbounds = []\n",
    "latentAUROC_prctile = []\n",
    "\n",
    "baseline_start_indexes = []\n",
    "baseline_end_indexes = []\n",
    "ontime_evoked_start_indexes = []\n",
    "ontime_evoked_end_indexes = []\n",
    "latent_evoked_start_indexes = []\n",
    "latent_evoked_end_indexes = []\n",
    "\n",
    "for returns in onTimeReturnValues:\n",
    "    onTimeAUROCSignificanceTable.append(returns.response_chart)\n",
    "    onTimeAUROCValueTable.append(returns.auroc_values)\n",
    "    onTimeAUROC_Ubounds.append(returns.all_upper_bounds)\n",
    "    onTimeAUROC_Lbounds.append(returns.all_lower_bounds)\n",
    "    onTimeAUROC_prctile.append(returns.percentiles)\n",
    "    baseline_start_indexes.append(returns.baseline_start_indexes)\n",
    "    baseline_end_indexes.append(returns.baseline_end_indexes)\n",
    "    ontime_evoked_start_indexes.append(returns.evoked_start_indexes)\n",
    "    ontime_evoked_end_indexes.append(returns.evoked_end_indexes)\n",
    "\n",
    "\n",
    "for returns in latentReturnValues:\n",
    "    latentAUROCSignificanceTable.append(returns.response_chart)\n",
    "    latentAUROCValueTable.append(returns.auroc_values)\n",
    "    latentAUROC_Ubounds.append(returns.all_upper_bounds)\n",
    "    latentAUROC_Lbounds.append(returns.all_lower_bounds)\n",
    "    latentAUROC_prctile.append(returns.percentiles)\n",
    "    latent_evoked_start_indexes.append(returns.evoked_start_indexes)\n",
    "    latent_evoked_end_indexes.append(returns.evoked_end_indexes)\n",
    "\n",
    "onTimeAUROCSignificanceTable = np.array(onTimeAUROCSignificanceTable)\n",
    "latentAUROCSignificanceTable = np.array(latentAUROCSignificanceTable)\n",
    "onTimeAUROCSignificanceTable = onTimeAUROCSignificanceTable.astype(float)\n",
    "latentAUROCSignificanceTable = latentAUROCSignificanceTable.astype(float)\n",
    "\n",
    "#baseline_start_indexes = np.array(baseline_start_indexes)\n",
    "# baseline_end_indexes = np.array(baseline_end_indexes)\n",
    "# ontime_evoked_start_indexes = np.array(ontime_evoked_start_indexes)\n",
    "# ontime_evoked_end_indexes = np.array(ontime_evoked_end_indexes)\n",
    "# latent_evoked_start_indexes = np.array(latent_evoked_start_indexes)\n",
    "# latent_evoked_end_indexes = np.array(latent_evoked_end_indexes)\n",
    "\n",
    "for rows in range(len(latentAUROCSignificanceTable)):\n",
    "    evokedCells = np.nonzero(onTimeAUROCSignificanceTable[rows] != 0)\n",
    "    latentAUROCSignificanceTable[rows][evokedCells] = 0"
   ]
  },
  {
   "attachments": {},
   "cell_type": "markdown",
   "id": "586dc7e3-f0b5-4fca-8137-014f3f253fd1",
   "metadata": {},
   "source": [
    "### 3c: Save AROC"
   ]
  },
  {
   "cell_type": "code",
   "execution_count": 67,
   "id": "112e160a-a8af-40e4-8a2f-c5a5ec201a2c",
   "metadata": {
    "ExecuteTime": {
     "end_time": "2023-08-16T23:01:06.145929200Z",
     "start_time": "2023-08-16T23:01:06.004811Z"
    }
   },
   "outputs": [
    {
     "name": "stdout",
     "output_type": "stream",
     "text": [
      "VGAT5-11-16-22-onTimeAUROCSignificanceTable has been saved!\n",
      "VGAT5-11-16-22-onTimeAUROCValueTable has been saved!\n",
      "VGAT5-11-16-22-onTimeAUROC_Lbounds has been saved!\n",
      "VGAT5-11-16-22-onTimeAUROC_Ubounds has been saved!\n",
      "VGAT5-11-16-22-onTimeAUROC_prctile has been saved!\n",
      "VGAT5-11-16-22-baseline_start_indexes has been saved!\n",
      "VGAT5-11-16-22-baseline_end_indexes has been saved!\n",
      "VGAT5-11-16-22-ontime_evoked_start_indexes has been saved!\n",
      "VGAT5-11-16-22-ontime_evoked_end_indexes has been saved!\n",
      "VGAT5-11-16-22-latentAUROCSignificanceTable has been saved!\n",
      "VGAT5-11-16-22-latentAUROCValueTable has been saved!\n",
      "VGAT5-11-16-22-latentAUROC_Lbounds has been saved!\n",
      "VGAT5-11-16-22-latentAUROC_Ubounds has been saved!\n",
      "VGAT5-11-16-22-latentAUROC_prctile has been saved!\n",
      "VGAT5-11-16-22-latent_evoked_start_indexes has been saved!\n",
      "VGAT5-11-16-22-latent_evoked_end_indexes has been saved!\n"
     ]
    }
   ],
   "source": [
    "folder = 'ImagingAnalysis/AUROCData'\n",
    "\n",
    "DewanIOhandler.saveDataToDisk(\n",
    "    onTimeAUROCSignificanceTable, 'onTimeAUROCSignificanceTable', fileHeader, folder)\n",
    "DewanIOhandler.saveDataToDisk(\n",
    "    onTimeAUROCValueTable, 'onTimeAUROCValueTable', fileHeader, folder)\n",
    "DewanIOhandler.saveDataToDisk(\n",
    "    onTimeAUROC_Lbounds, 'onTimeAUROC_Lbounds', fileHeader, folder)\n",
    "DewanIOhandler.saveDataToDisk(\n",
    "    onTimeAUROC_Ubounds, 'onTimeAUROC_Ubounds', fileHeader, folder)\n",
    "DewanIOhandler.saveDataToDisk(\n",
    "    onTimeAUROC_prctile, 'onTimeAUROC_prctile', fileHeader, folder)\n",
    "\n",
    "DewanIOhandler.saveDataToDisk(\n",
    "    baseline_start_indexes, 'baseline_start_indexes', fileHeader, folder)\n",
    "DewanIOhandler.saveDataToDisk(\n",
    "    baseline_end_indexes, 'baseline_end_indexes', fileHeader, folder)\n",
    "DewanIOhandler.saveDataToDisk(\n",
    "    ontime_evoked_start_indexes, 'ontime_evoked_start_indexes', fileHeader, folder)\n",
    "DewanIOhandler.saveDataToDisk(\n",
    "    ontime_evoked_end_indexes, 'ontime_evoked_end_indexes', fileHeader, folder)\n",
    "\n",
    "DewanIOhandler.saveDataToDisk(\n",
    "    latentAUROCSignificanceTable, 'latentAUROCSignificanceTable', fileHeader, folder)\n",
    "DewanIOhandler.saveDataToDisk(\n",
    "    latentAUROCValueTable, 'latentAUROCValueTable', fileHeader, folder)\n",
    "DewanIOhandler.saveDataToDisk(\n",
    "    latentAUROC_Lbounds, 'latentAUROC_Lbounds', fileHeader, folder)\n",
    "DewanIOhandler.saveDataToDisk(\n",
    "    latentAUROC_Ubounds, 'latentAUROC_Ubounds', fileHeader, folder)\n",
    "DewanIOhandler.saveDataToDisk(\n",
    "    latentAUROC_prctile, 'latentAUROC_prctile', fileHeader, folder)\n",
    "\n",
    "DewanIOhandler.saveDataToDisk(\n",
    "    latent_evoked_start_indexes, 'latent_evoked_start_indexes', fileHeader, folder)\n",
    "DewanIOhandler.saveDataToDisk(\n",
    "    latent_evoked_end_indexes, 'latent_evoked_end_indexes', fileHeader, folder)"
   ]
  },
  {
   "attachments": {},
   "cell_type": "markdown",
   "id": "c63e3ee4-b33d-4495-b1c4-0e205982dd46",
   "metadata": {
    "tags": []
   },
   "source": [
    "## 4: Plotting"
   ]
  },
  {
   "attachments": {},
   "cell_type": "markdown",
   "id": "afb6f565",
   "metadata": {},
   "source": [
    "### 4a: Import Data"
   ]
  },
  {
   "cell_type": "code",
   "execution_count": null,
   "id": "581d2227-89b4-44cb-8eef-2360b42c869c",
   "metadata": {},
   "outputs": [],
   "source": [
    "folder = 'ImagingAnalysis/AUROCData'\n",
    "\n",
    "onTimeAUROCSignificanceTable = DewanIOhandler.loadDataFromDisk(\n",
    "    'onTimeAUROCSignificanceTable', fileHeader, folder)\n",
    "onTimeAUROCValueTable = DewanIOhandler.loadDataFromDisk(\n",
    "    'onTimeAUROCValueTable', fileHeader, folder)\n",
    "onTimeAUROC_Lbounds = DewanIOhandler.loadDataFromDisk(\n",
    "    'onTimeAUROC_Lbounds', fileHeader, folder)\n",
    "onTimeAUROC_Ubounds = DewanIOhandler.loadDataFromDisk(\n",
    "    'onTimeAUROC_Ubounds', fileHeader, folder)\n",
    "onTimeAUROC_prctile = DewanIOhandler.loadDataFromDisk(\n",
    "    'onTimeAUROC_prctile', fileHeader, folder)\n",
    "\n",
    "latentAUROCSignificanceTable = DewanIOhandler.loadDataFromDisk(\n",
    "    'latentAUROCSignificanceTable', fileHeader, folder)\n",
    "latentAUROCValueTable = DewanIOhandler.loadDataFromDisk(\n",
    "    'latentAUROCValueTable', fileHeader, folder)\n",
    "latentAUROC_Lbounds = DewanIOhandler.loadDataFromDisk(\n",
    "    'latentAUROC_Lbounds', fileHeader, folder)\n",
    "latentAUROC_Ubounds = DewanIOhandler.loadDataFromDisk(\n",
    "    'latentAUROC_Ubounds', fileHeader, folder)\n",
    "latentAUROC_prctile = DewanIOhandler.loadDataFromDisk(\n",
    "    'latentAUROC_prctile', fileHeader, folder)\n",
    "\n",
    "\n",
    "baseline_start_indexes = DewanIOhandler.loadDataFromDisk(\n",
    "    'baseline_start_indexes', fileHeader, folder)\n",
    "baseline_end_indexes = DewanIOhandler.loadDataFromDisk(\n",
    "    'baseline_end_indexes', fileHeader, folder)\n",
    "ontime_evoked_start_indexes = DewanIOhandler.loadDataFromDisk(\n",
    "    'ontime_evoked_start_indexes', fileHeader, folder)\n",
    "ontime_evoked_end_indexes = DewanIOhandler.loadDataFromDisk(\n",
    "    'ontime_evoked_end_indexes', fileHeader, folder)\n",
    "latent_evoked_start_indexes = DewanIOhandler.loadDataFromDisk(\n",
    "    'latent_evoked_start_indexes', fileHeader, folder)\n",
    "latent_evoked_end_indexes = DewanIOhandler.loadDataFromDisk(\n",
    "    'latent_evoked_end_indexes', fileHeader, folder)\n",
    "\n",
    "Data = DewanIOhandler.loadDataFromDisk(\n",
    "    'CombinedData', fileHeader, 'ImagingAnalysis/CombinedData')\n",
    "\n",
    "folder = 'ImagingAnalysis/PreProcessedData'\n",
    "FVData = DewanIOhandler.loadDataFromDisk('FVData', fileHeader, folder)\n",
    "CellList = DewanIOhandler.loadDataFromDisk('CellList', fileHeader, folder)\n",
    "\n",
    "folder = 'ImagingAnalysis/AUROCImports'\n",
    "FinalValveOnIndex = DewanIOhandler.loadDataFromDisk('FVonIdx', fileHeader, folder)\n",
    "UnixTimeArray = DewanIOhandler.loadDataFromDisk(\n",
    "    'UnixTimeArray', fileHeader, folder)\n",
    "OdorData = DewanIOhandler.loadDataFromDisk('OdorData', fileHeader, folder)\n",
    "FinalValveTimeMap = DewanIOhandler.loadDataFromDisk('FVTimeMap', fileHeader, folder)\n",
    "Baseline_Shift_Data = DewanIOhandler.loadDataFromDisk(\n",
    "    'Baseline_Shift_Data', fileHeader, folder)\n"
   ]
  },
  {
   "attachments": {},
   "cell_type": "markdown",
   "id": "565dd979-f777-4297-a731-44d2e321a812",
   "metadata": {
    "tags": []
   },
   "source": [
    "### 4b: Cells v. Odors AUROC Significance"
   ]
  },
  {
   "cell_type": "code",
   "execution_count": 68,
   "id": "47259a9f-88ae-4d74-b61b-d1f634788f8f",
   "metadata": {
    "ExecuteTime": {
     "end_time": "2023-08-16T23:01:12.616779300Z",
     "start_time": "2023-08-16T23:01:12.500927700Z"
    }
   },
   "outputs": [],
   "source": [
    "onTimePlottingData = DewanDataStore.PlottingDataStore(Baseline_Shift_Data, CellList, OdorData, FVData, fileHeader, FinalValveTimeMap, FinalValveOnIndex, UnixTimeArray, baselineDuration, responseDuration, onTimeAUROCSignificanceTable, onTimeAUROC_Lbounds, onTimeAUROC_Ubounds, onTimeAUROC_prctile, baseline_start_indexes, baseline_end_indexes, ontime_evoked_start_indexes, ontime_evoked_end_indexes)\n",
    "\n",
    "latentPlottingData = DewanDataStore.PlottingDataStore(Baseline_Shift_Data, CellList, OdorData, FVData, fileHeader, FinalValveTimeMap, FinalValveOnIndex, UnixTimeArray, baselineDuration, responseDuration, latentAUROCSignificanceTable, latentAUROC_Lbounds, latentAUROC_Ubounds, latentAUROC_prctile, baseline_start_indexes, baseline_end_indexes, latent_evoked_start_indexes, latent_evoked_end_indexes)"
   ]
  },
  {
   "attachments": {},
   "cell_type": "markdown",
   "id": "43a76044",
   "metadata": {},
   "source": [
    "#### 4b-1: Plot Cell v Odor Significance Matricies"
   ]
  },
  {
   "cell_type": "code",
   "execution_count": 69,
   "id": "559f2088",
   "metadata": {
    "ExecuteTime": {
     "end_time": "2023-08-16T23:01:20.707269300Z",
     "start_time": "2023-08-16T23:01:14.224236700Z"
    }
   },
   "outputs": [],
   "source": [
    "DewanPlotting.plotCellvOdorMatricies(onTimePlottingData, False)\n",
    "DewanPlotting.plotCellvOdorMatricies(latentPlottingData, True)"
   ]
  },
  {
   "attachments": {},
   "cell_type": "markdown",
   "id": "82509cfa-a9af-45d3-a89a-50388882dc4f",
   "metadata": {
    "tags": []
   },
   "source": [
    "#### 4b-2: Plot All Cell Traces"
   ]
  },
  {
   "cell_type": "code",
   "execution_count": 70,
   "id": "f3dcb30e-5c3d-4250-b88c-6df9c98a0197",
   "metadata": {
    "ExecuteTime": {
     "end_time": "2023-08-16T23:07:53.714994600Z",
     "start_time": "2023-08-16T23:02:16.300869100Z"
    }
   },
   "outputs": [],
   "source": [
    "# Plot all cells v odors; only needed for AUROC verification\n",
    "DewanPlotting.plotAllCells(onTimePlottingData, False)\n",
    "DewanPlotting.plotAllCells(latentPlottingData, True)"
   ]
  },
  {
   "attachments": {},
   "cell_type": "markdown",
   "id": "c3097709",
   "metadata": {},
   "source": [
    "#### 4b-3: Plot Significant Cell Traces"
   ]
  },
  {
   "cell_type": "code",
   "execution_count": null,
   "id": "089eada6",
   "metadata": {},
   "outputs": [],
   "source": [
    "# Oh no! Nothing here yet :(\n",
    "# https://media.tenor.com/vMvR0gEolCEAAAAC/nothing-to-see-here-explosion.gif"
   ]
  },
  {
   "attachments": {},
   "cell_type": "markdown",
   "id": "95fd1d78",
   "metadata": {},
   "source": [
    "### 4c: Plot Trace Variance"
   ]
  },
  {
   "cell_type": "code",
   "execution_count": null,
   "id": "0db10c67",
   "metadata": {},
   "outputs": [],
   "source": [
    "trialScatterData = DewanDataStore.AUROCdataStore(\n",
    "    Baseline_Shift_Data, CellList, OdorData, FVData, fileHeader, FinalValveOnIndex, UnixTimeArray, baselineDuration, responseDuration, False)\n",
    "\n",
    "\n",
    "DewanPlotting.plotTrialsPerPairing(\n",
    "    trialScatterData, onTimeAUROCSignificanceTable, False)\n",
    "DewanPlotting.plotTrialsPerPairing(\n",
    "    trialScatterData, onTimeAUROCSignificanceTable, True)\n"
   ]
  },
  {
   "cell_type": "markdown",
   "source": [
    "## 5. Statistics"
   ],
   "metadata": {
    "collapsed": false
   }
  },
  {
   "cell_type": "markdown",
   "source": [
    "### 5a. Load Data"
   ],
   "metadata": {
    "collapsed": false
   }
  },
  {
   "cell_type": "code",
   "execution_count": null,
   "outputs": [],
   "source": [
    "#Oh no, nothing here yet :("
   ],
   "metadata": {
    "collapsed": false
   }
  },
  {
   "cell_type": "markdown",
   "source": [
    "### 5b. Correlation Coefficients"
   ],
   "metadata": {
    "collapsed": false
   }
  },
  {
   "cell_type": "code",
   "execution_count": 73,
   "id": "6205f756",
   "metadata": {
    "ExecuteTime": {
     "end_time": "2023-08-16T23:22:46.948334700Z",
     "start_time": "2023-08-16T23:22:36.468690700Z"
    }
   },
   "outputs": [],
   "source": [
    "similarityData = DewanDataStore.AUROCdataStore(Baseline_Shift_Data, CellList, OdorData, FVData, fileHeader, FinalValveOnIndex, UnixTimeArray, baselineDuration, responseDuration, False)\n",
    "CCs = DewanStats.crossTrialConsistency(similarityData, onTimeAUROCSignificanceTable, False)"
   ]
  },
  {
   "cell_type": "markdown",
   "source": [
    "### 5c. Lifetime and Population Sparseness"
   ],
   "metadata": {
    "collapsed": false
   }
  },
  {
   "cell_type": "code",
   "execution_count": 75,
   "outputs": [],
   "source": [
    "sparsenessData = DewanDataStore.AUROCdataStore(\n",
    "    Baseline_Shift_Data, CellList, OdorData, FVData, fileHeader, FinalValveOnIndex, UnixTimeArray, baselineDuration, responseDuration, False)\n",
    "\n",
    "lifetimeSparseness, cells = DewanStats.lifetimeSparseness(sparsenessData, onTimeAUROCSignificanceTable)\n",
    "populationSparseness, odors = DewanStats.popSparseness(sparsenessData, onTimeAUROCSignificanceTable)\n",
    "lsPairs = [f'Cell {cells[i]}: {round(lifetimeSparseness[i],5)}' for i in range(len(cells))]\n",
    "psPairs = [f'Odor: {sparsenessData.unique_odors[odors[i]]}: {round(populationSparseness[i],5)}' for i in range(len(odors))]"
   ],
   "metadata": {
    "collapsed": false,
    "ExecuteTime": {
     "end_time": "2023-08-16T23:25:05.522487500Z",
     "start_time": "2023-08-16T23:25:05.170640900Z"
    }
   }
  },
  {
   "cell_type": "code",
   "execution_count": 76,
   "outputs": [
    {
     "data": {
      "text/plain": "['Odor: 25ONE: 1.02714',\n 'Odor: 4AL: 1.01189',\n 'Odor: 4AMINE: 0.87736',\n 'Odor: 4ATE: 1.05234',\n 'Odor: 4OL: 1.01256',\n 'Odor: 4ONE: 0.9621',\n 'Odor: 5AL: 1.05882',\n 'Odor: 5AMINE: 0.85745',\n 'Odor: 5ATE: 1.05853',\n 'Odor: 5OL: 1.02715',\n 'Odor: 6AL: 1.02532',\n 'Odor: 6AMINE: 0.95931',\n 'Odor: 6ATE: 0.87504',\n 'Odor: 6OL: 0.93906',\n 'Odor: 6ONE: 0.99836',\n 'Odor: 7AL: 1.02357',\n 'Odor: 7AMINE: 0.9391',\n 'Odor: 7ATE: 0.93227',\n 'Odor: 7OL: 0.96999',\n 'Odor: 7ONE: 1.03056',\n 'Odor: Buzzer: 1.03758']"
     },
     "execution_count": 76,
     "metadata": {},
     "output_type": "execute_result"
    }
   ],
   "source": [
    "\n",
    "psPairs\n"
   ],
   "metadata": {
    "collapsed": false,
    "ExecuteTime": {
     "end_time": "2023-08-16T23:25:19.816806Z",
     "start_time": "2023-08-16T23:25:19.724794400Z"
    }
   }
  },
  {
   "cell_type": "code",
   "execution_count": null,
   "outputs": [],
   "source": [],
   "metadata": {
    "collapsed": false
   }
  }
 ],
 "metadata": {
  "kernelspec": {
   "display_name": "ImagingAnalysis",
   "language": "python",
   "name": "python3"
  },
  "language_info": {
   "codemirror_mode": {
    "name": "ipython",
    "version": 3
   },
   "file_extension": ".py",
   "mimetype": "text/x-python",
   "name": "python",
   "nbconvert_exporter": "python",
   "pygments_lexer": "ipython3",
   "version": "3.8.15"
  },
  "vscode": {
   "interpreter": {
    "hash": "977baf04aa409d7582f6e94b1f1f1d2e9ac45da44046a9cec7b1a770a676514b"
   }
  }
 },
 "nbformat": 4,
 "nbformat_minor": 5
}
