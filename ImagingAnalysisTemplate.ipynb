{
 "cells": [
  {
   "cell_type": "markdown",
   "id": "1daf917d-f5f9-42ea-baaa-08fcf28b43ce",
   "metadata": {
    "tags": []
   },
   "source": [
    "\n",
    "# Dewan Lab Image Analysis"
   ]
  },
  {
   "attachments": {},
   "cell_type": "markdown",
   "id": "917d0bf4-3426-4326-911d-9a9e0cd1ed80",
   "metadata": {
    "tags": []
   },
   "source": [
    "## 0: Run once to create all needed directories at beginning of a project"
   ]
  },
  {
   "cell_type": "code",
   "execution_count": 1,
   "id": "c884c75e-38a9-431e-8e99-0d8f9fdd85d4",
   "metadata": {
    "ExecuteTime": {
     "end_time": "2023-10-23T19:16:51.094360200Z",
     "start_time": "2023-10-23T19:16:50.440972300Z"
    }
   },
   "outputs": [],
   "source": [
    "from Python.Helpers import DewanIOhandler\n",
    "DewanIOhandler.create_project_framework()"
   ]
  },
  {
   "attachments": {},
   "cell_type": "markdown",
   "id": "a1ba1747-903f-4eac-8a48-84b44728f3e7",
   "metadata": {
    "tags": []
   },
   "source": [
    "## 1: Always Execute! Load Libraries and User Settings"
   ]
  },
  {
   "attachments": {},
   "cell_type": "markdown",
   "id": "6d1aec8e-a365-49a6-b3ab-d67525a65bdb",
   "metadata": {
    "tags": []
   },
   "source": [
    "### 1a: Import Libraries"
   ]
  },
  {
   "cell_type": "code",
   "execution_count": 1,
   "id": "1dd422e6-969e-4c1f-8301-2afc3ce3d4b5",
   "metadata": {
    "ExecuteTime": {
     "end_time": "2023-11-01T20:53:12.353558700Z",
     "start_time": "2023-11-01T20:53:12.296564600Z"
    }
   },
   "outputs": [],
   "source": [
    "%load_ext autoreload\n",
    "%autoreload 2"
   ]
  },
  {
   "cell_type": "code",
   "execution_count": 3,
   "id": "48174929-fd1b-48cc-ab99-9ff1bcd9f06e",
   "metadata": {
    "tags": [],
    "ExecuteTime": {
     "end_time": "2023-11-01T20:54:27.854932600Z",
     "start_time": "2023-11-01T20:54:27.439243800Z"
    }
   },
   "outputs": [],
   "source": [
    "import numpy as np\n",
    "import pandas as pd\n",
    "from pathlib import Path\n",
    "from tqdm import tqdm, trange\n",
    "from Python.Helpers import DewanDataStore, DewanIOhandler\n",
    "from Python import DewanAUROC, DewanPlotting, DewanStats, DewanManualCuration"
   ]
  },
  {
   "attachments": {},
   "cell_type": "markdown",
   "id": "d57a7bb0-be75-4f25-b35d-6732d0ea7dfa",
   "metadata": {
    "tags": []
   },
   "source": [
    "### 1b: User Configurables"
   ]
  },
  {
   "cell_type": "code",
   "execution_count": 5,
   "id": "5d8f7883-7544-4c8d-a2e3-32da1e3ee795",
   "metadata": {
    "ExecuteTime": {
     "end_time": "2023-11-01T20:55:07.286067100Z",
     "start_time": "2023-11-01T20:55:07.189064700Z"
    }
   },
   "outputs": [],
   "source": [
    "animal = 'VGAT5'\n",
    "date = '11-16-22'\n",
    "\n",
    "# Settings from Inscopix box\n",
    "LED_power = 1\n",
    "GAIN = 2.2\n",
    "FOCUS = 250\n",
    "\n",
    "PreTrialTime = 3.5  # Imaging time before the final valve opens\n",
    "PostTrialTime = 3.5  # Imaging time after final valve closes\n",
    "\n",
    "\n",
    "# Configurables for AUROC\n",
    "baselineDuration = 2  # number of seconds before the FV turns on\n",
    "responseDuration = 2  # number of seconds after the FV turns off\n",
    "PlotFigures = True\n",
    "\n",
    "fileHeader = animal + '-' + date + '-'\n"
   ]
  },
  {
   "attachments": {},
   "cell_type": "markdown",
   "id": "333708ce-48b1-4382-9e74-a6ae099f190c",
   "metadata": {
    "tags": []
   },
   "source": [
    "## 2: Data Import and Preprocessing"
   ]
  },
  {
   "attachments": {},
   "cell_type": "markdown",
   "id": "85f73484-fb78-4bef-8328-bd312d9abbc3",
   "metadata": {
    "tags": []
   },
   "source": [
    "### 2A: Import and pre-process the raw data\n",
    "#### Copy output of InscopixProcessing -> ImagingAnalysis\\RawData and rename the files as below\n",
    "##### Copy: video-TRACES.csv, video-props.csv, video-CONTOURS.json, video-GPIO.csv, video-HD-MAX_PROJ.tiff, OdorList.xlxs\n",
    "##### Rename Files Respectively: CellTraces.csv, Props.csv, Cell_Contours.json, GPIO.csv, Max_Projection.tiff, OdorList.xlxs"
   ]
  },
  {
   "cell_type": "code",
   "execution_count": 4,
   "outputs": [],
   "source": [
    "#STEP 2A.1: LOAD ALL DATA\n",
    "# Read in data for processing.  Needs Cell Traces, Odor List, and GPIO file.\n",
    "folder_path = Path(*['ImagingAnalysis','RawData'])\n",
    "\n",
    "CellTraceData = pd.read_csv(folder_path.joinpath('CellTraces.csv'), engine='pyarrow')\n",
    "OdorData = np.array(pd.read_excel(folder_path.joinpath('OdorList.xlsx'), usecols=[0], header=None)) # usecols=[0] because we only care about the first column which has the odornames, row number == trial number\n",
    "GPIOData = pd.read_csv(folder_path.joinpath('GPIO.csv'), header=None, engine='pyarrow')\n",
    "AllCellProps = pd.read_csv(folder_path.joinpath('Props.csv'), header=0, engine='pyarrow') # header = 0 because row 0 has all the property names\n",
    "CellKeys, CellOutlines = DewanIOhandler.get_outline_coordinates(folder_path.joinpath('Cell_Contours.json')) # Load cell outlines from JSON file\n",
    "MaxProjectionImagePath = folder_path.joinpath('Max_Projection.tiff') # Create path for Max Projection image for later"
   ],
   "metadata": {
    "collapsed": false,
    "ExecuteTime": {
     "end_time": "2023-09-13T15:03:38.573954100Z",
     "start_time": "2023-09-13T15:03:24.092588400Z"
    }
   },
   "id": "bf362d85b9787336"
  },
  {
   "cell_type": "code",
   "execution_count": 5,
   "outputs": [],
   "source": [
    "# STEP 2A.2: PREPROCESSING\n",
    "\n",
    "# STEP 2A.2.1: Drop the first row which contains all 'undecided' labels which is the Inscopix default label.\n",
    "CellTraceData.drop([0], inplace=True)\n",
    "\n",
    "# STEP 2A.2.2: Force all dF/F values to be numbers and round times to 2 decimal places\n",
    "CellTraceData = CellTraceData.apply(pd.to_numeric, errors='coerce')\n",
    "# Set the times as the index so the listed data is all dF/F values\n",
    "CellTraceData[CellTraceData.columns[0]] = CellTraceData[CellTraceData.columns[0]].round(2)\n",
    "CellTraceData.set_index(CellTraceData.columns[0], inplace=True)\n",
    "\n",
    "# STEP 2A.2.3: Remove spaces from column names\n",
    "CellTraceData.columns = [key.replace(' ', '') for key in CellTraceData.columns.values]\n",
    "\n",
    "# STEP 2A.2.4: REMOVE ALL MULTI-COMPONENT CELLS\n",
    "# Generate a list of cell numbers based off the number of cells\n",
    "CellList = np.arange(len(AllCellProps['NumComponents'])) # Example Cell Numbers: 0, 1, 2, 3, 4\n",
    "# Get indices where there are only one cell part\n",
    "OnePieceCells = np.where(AllCellProps['NumComponents'] == 1)[0] # Example One-Component Indexes: 0, 1, 4\n",
    "# Filter out all the multi-component cells, leaving only the one-piece cells\n",
    "CellList = CellList[OnePieceCells] # Example Filtered Cell Numbers: 0, 1 ,4\n",
    "CellKeys = CellKeys[OnePieceCells] # Example Filtered Cell Keys, C00, C01, C04\n",
    "\n",
    "# STEP 2A.2.5: PARSE GPIO DATA\n",
    "GPIOData.iloc[:, 1] = GPIOData.iloc[:, 1].str.replace(' ', '')  # Remove Random Spaces in Data\n",
    "GPIO1 = np.array(GPIOData.iloc[:, 1] == \"GPIO-1\")  # Get Sniff Sensor Data Truth Table\n",
    "GPIO2 = np.array(GPIOData.iloc[:, 1] == \"GPIO-2\")  # Get FV Actuation Data Truth Table\n",
    "SniffTable = np.array(GPIOData.iloc[GPIO1,:]) # Create an array with Sniff values only\n",
    "FVData = np.array(GPIOData.iloc[GPIO2,:]) # Create an array with FV values only\n",
    "\n",
    "# STEP 2A.2.6: Make all numeric values floats\n",
    "FVData[:, 0] = FVData[:, 0].astype(float)\n",
    "FVData[:, 2] = FVData[:, 2].astype(float)\n",
    "SniffTable[:, 0] = SniffTable[:, 0].astype(float)\n",
    "SniffTable[:, 2] = SniffTable[:, 2].astype(float)\n",
    "\n",
    "# OPTIONAL UNUSED DATA\n",
    "# GPIO3 = np.array(GPIOData.iloc[:,1] == \"GPIO-3\")  # Running Wheel Data\n",
    "# GPIO4 = np.array(GPIOData.iloc[:,1] == \"GPIO-4\")  # Lick Data"
   ],
   "metadata": {
    "collapsed": false,
    "ExecuteTime": {
     "end_time": "2023-09-13T15:03:59.677078600Z",
     "start_time": "2023-09-13T15:03:38.575954600Z"
    }
   },
   "id": "564869ab794b4e59"
  },
  {
   "cell_type": "markdown",
   "source": [
    "### 2B: Manual Curation"
   ],
   "metadata": {
    "collapsed": false
   },
   "id": "1bc73833cc7640d5"
  },
  {
   "cell_type": "code",
   "execution_count": 6,
   "outputs": [],
   "source": [
    "# STEP 2B.1: Load the Maximum Projection Image, draw the cell outlines and labels, and output labeled image\n",
    "MaxProjectionImage = DewanManualCuration.generate_max_projection(MaxProjectionImagePath, AllCellProps, CellKeys, CellOutlines, save_image=False)\n",
    "# generate_max_projection(ImagePath, AllCellProps, CellKeys, CellOutlines, save_image, save_directory=None, brightness=1.5, contrast=1.5, font_size=24, text_color='red', outline_color='yellow', outline_width=2):\n",
    "# Optional configuration values that are set by default, change as desired\n",
    "# Note: Set save_image=True to output a max projection with all cells detected by CNMFE regardless if they are good cells or not\n",
    "\n",
    "# STEP 2B.2: Run ManualCuration GUI\n",
    "GoodCells = DewanManualCuration.manual_curation_gui(CellList, CellTraceData, MaxProjectionImage)\n",
    "if GoodCells is None:\n",
    "    print('Error, no good cells selected!')"
   ],
   "metadata": {
    "collapsed": false,
    "ExecuteTime": {
     "end_time": "2023-09-13T15:05:28.468310900Z",
     "start_time": "2023-09-13T15:03:59.679046100Z"
    }
   },
   "id": "de8e82bd-0c23-432f-a462-69835dce5805"
  },
  {
   "cell_type": "markdown",
   "source": [
    "### 2C: Apply Manual Curation Results and Additional Preprocessing"
   ],
   "metadata": {
    "collapsed": false
   },
   "id": "aaa47058cc676612"
  },
  {
   "cell_type": "code",
   "execution_count": null,
   "outputs": [],
   "source": [
    "# STEP 2C.1: Filter all data by the GoodCells identified in ManualCuration\n",
    "GoodCellProperties = AllCellProps.iloc[GoodCells,:]\n",
    "GoodCellProperties.reset_index() # Resets index to 0 -> len(GoodCellProperties)\n",
    "CellList = CellList[GoodCells]\n",
    "CellKeys = CellKeys[GoodCells]\n",
    "GoodCellTraceData = CellTraceData.iloc[:, GoodCells]\n",
    "\n",
    "# STEP 2C.2: OUTPUT MAX PROJECTION IMAGE WITH CONTOURS OF GOOD CELLS\n",
    "_ = DewanManualCuration.generate_max_projection(MaxProjectionImagePath, GoodCellProperties, CellKeys, CellOutlines, save_image=True)\n",
    "# generate_max_projection(ImagePath, AllCellProps, CellKeys, CellOutlines, save_image, save_directory=None, brightness=1.5, contrast=1.5, font_size=24, text_color='red', outline_color='yellow', outline_width=2):\n",
    "# Optional configuration values that are set by default, change as desired\n"
   ],
   "metadata": {
    "collapsed": false
   },
   "id": "cbe5b11c0eab4fd1"
  },
  {
   "cell_type": "markdown",
   "source": [
    "### 2D: Pickle and Save all preprocessed data"
   ],
   "metadata": {
    "collapsed": false
   },
   "id": "8676610888de842e"
  },
  {
   "cell_type": "code",
   "execution_count": null,
   "outputs": [],
   "source": [
    "# STEP 2D: Pickle and Save all preprocessed data\n",
    "# Pickle the reorganized CellTraceData incase its needed later\n",
    "# Saves Cell Traces, GPIO, Odor List, Sniff, FV data, Good Cell Properties, and the list of Good Cells\n",
    "# Once these have been saved, they don't need to be re-run on the same data again unless the data itself is changed\n",
    "\n",
    "folder = './ImagingAnalysis/PreProcessedData'\n",
    "\n",
    "DewanIOhandler.save_data_to_disk(GoodCellTraceData, 'GoodCellTraceData', fileHeader, folder)\n",
    "DewanIOhandler.save_data_to_disk(GPIOData, 'GPIOData', fileHeader, folder)\n",
    "DewanIOhandler.save_data_to_disk(OdorData, 'OdorData', fileHeader, folder)\n",
    "DewanIOhandler.save_data_to_disk(FVData, 'FVdata', fileHeader, folder)\n",
    "DewanIOhandler.save_data_to_disk(GoodCellProperties, 'GoodCellProperties', fileHeader, folder)\n",
    "DewanIOhandler.save_data_to_disk(CellList, 'CellList', fileHeader, folder)\n",
    "DewanIOhandler.save_data_to_disk(SniffTable, 'SniffTable', fileHeader, folder)"
   ],
   "metadata": {
    "collapsed": false
   },
   "id": "4022ffb995a28bb8"
  },
  {
   "attachments": {},
   "cell_type": "markdown",
   "id": "1ba952d5-9392-413e-bf3a-49086c6a583f",
   "metadata": {
    "tags": []
   },
   "source": [
    "### Checkpoint 1: Load Preprocessed Data"
   ]
  },
  {
   "cell_type": "code",
   "execution_count": null,
   "id": "0e1a40e5-f3cc-432c-a415-0dbc157caa00",
   "metadata": {},
   "outputs": [],
   "source": [
    "# Opens the saved pickle files.  If the files have already been saved, code can be re-run\n",
    "# starting from this point\n",
    "folder = 'ImagingAnalysis\\PreProcessedData'\n",
    "\n",
    "CellTraceData = DewanIOhandler.load_data_from_disk('GoodCellTraceData', fileHeader, folder)\n",
    "FVData = DewanIOhandler.load_data_from_disk('FVData', fileHeader, folder)\n",
    "GPIOData = DewanIOhandler.load_data_from_disk('GPIOData', fileHeader, folder)\n",
    "OdorData = DewanIOhandler.load_data_from_disk('OdorData', fileHeader, folder)\n",
    "SniffTable = DewanIOhandler.load_data_from_disk('SniffTable', fileHeader, folder)\n",
    "GoodCellProperties = DewanIOhandler.load_data_from_disk('GoodCellProperties', fileHeader, folder)\n",
    "CellList = DewanIOhandler.load_data_from_disk('CellList', fileHeader, folder)\n"
   ]
  },
  {
   "attachments": {},
   "cell_type": "markdown",
   "id": "945f4f52",
   "metadata": {},
   "source": [
    "### 3: Indexing and Aligning FV/Sniff/CellTrace Data"
   ]
  },
  {
   "cell_type": "code",
   "execution_count": null,
   "outputs": [],
   "source": [
    "# STEP 3A: Parses the final valve data to identify when the final valve is open vs when it is closed based on TTL pulse from Arduino.\n",
    "FinalValveValues = FVData[:, 2].astype(float) # Get FV Values\n",
    "NumberOfValues = len(FinalValveValues)\n",
    "ValveStatus = 0\n",
    "FinalValveOffIndex = []\n",
    "FinalValveOnIndex = []\n",
    "for i in trange((NumberOfValues - 1), desc=\"Processing: \"):\n",
    "    ValveDataDiff = FinalValveValues[i + 1] - FinalValveValues[i]\n",
    "\n",
    "    if ValveStatus == 0:    # Start with valve off\n",
    "        if ValveDataDiff > 10000: # If the difference is a very large positive number, the valve opened\n",
    "            FinalValveOnIndex.append(i + 1)\n",
    "            ValveStatus = 1 # Set valve state to open\n",
    "    else:\n",
    "        if ValveDataDiff < -10000: # If the difference is a very large negative number, the valve closed\n",
    "            FinalValveOffIndex.append(i)\n",
    "            ValveStatus = 0 # Set valve state to closed\n",
    "\n",
    "FinalValveOffIndex = np.array(FinalValveOffIndex)  # convert list to np array\n",
    "FinalValveOnIndex = np.array(FinalValveOnIndex)\n",
    "\n",
    "# STEP 3B.1: Find trial start and end times with the pre/post trial offsets\n",
    "TrialStartTimes = np.subtract(FVData[FinalValveOnIndex, 0].astype(float), PreTrialTime)\n",
    "TrialEndTimes = np.add(FVData[FinalValveOffIndex, 0].astype(float), PostTrialTime)\n",
    "\n",
    "# STEP 3B.2: Find the start/end indexes for the CellTrace data based on the closest time points for each trial\n",
    "# NOTE: Needed because the sample rate of the GPIO and the Endoscope are different, so the time points do not always perfectly line up\n",
    "# Occasionally, you will get trials that are 1 longer/shorter than each other due to this mismatch\n",
    "CellTraceOnIndexes = []\n",
    "CellTraceOffIndexes = []\n",
    "\n",
    "time_points = CellTraceData.index.values\n",
    "\n",
    "for i, each in enumerate(tqdm(TrialStartTimes, desc=\"Trial: \")):\n",
    "    if time_points[-1] < TrialEndTimes[-1] and i == len(TrialStartTimes)-1:\n",
    "        # This is an edge case for when the last trial got cut off early or the experiment crashed\n",
    "        # It checks to see if the EndTime occured after the last available time point\n",
    "        continue\n",
    "    CellTraceOnIndexes.append(np.where(time_points <= each)[0][-1]) # Find first index less than/= the start time. We would always rather start 1 frame early than late\n",
    "    CellTraceOffIndexes.append(np.where(time_points >= TrialEndTimes[i])[0][0]) # Find the first index greater than/= the end time. We would always rather stop 1 frame late than early\n",
    "\n",
    "# STEP 3C: Find the start/end indexes for the SNIFF data based on the closest time points for each trial\n",
    "# # Compiles data for sniffing from good trialss\n",
    "SniffingStartIndexes = []\n",
    "SniffingEndIndexes = []\n",
    "\n",
    "time_points = SniffTable[:,0].astype(float) # Dunno why, but converting these floats -> floats makes this run way faster?\n",
    "\n",
    "for i in trange(len(FinalValveOnIndex), desc=\"Sniff Trial: \"):\n",
    "    if time_points[-1] < TrialEndTimes[-1] and i == len(TrialStartTimes)-1:\n",
    "        # This is an edge case for when the last trial got cut off early or the experiment crashed\n",
    "        # It checks to see if the EndTime occured after the last available time point\n",
    "        continue\n",
    "    SniffingStartIndexes.append(np.where(time_points <= TrialStartTimes[i])[0][-1]) # Find first index less than/= the start time. We would always rather start 1 frame early than late\n",
    "    SniffingEndIndexes.append(np.where(time_points >= TrialEndTimes[i])[0][0]) # Find the first index greater than/= the end time. We would always rather stop 1 frame late than early\n",
    "\n",
    "# STEP 3D: TRIM ODOR LIST\n",
    "OdorData = OdorData[:len(CellTraceOnIndexes)] # If any trials on the end are cut off, we need to trim them from the list\n",
    "\n",
    "# STEP 3E: SAVE SNIFF DATA INTO SEPARATE FILE, CURRENTLY BROKEN, DON'T USE\n",
    "# SniffData = np.zeros((NumSniffPoints.astype(int), len(SniffingStartIndexes)))\n",
    "#\n",
    "# for j in trange(len(SniffingStartIndexes), desc=\"Trial: \"):\n",
    "#     SniffLength = SniffingEndIndexes[j] - SniffingStartIndexes[j]\n",
    "#     SniffData[0:int(SniffLength), j] = SniffTable[SniffingStartIndexes[j].astype(int):SniffingEndIndexes[j].astype(int), 2]\n",
    "#\n",
    "# DewanIOhandler.saveDataToDisk(\n",
    "#     SniffData, 'SniffData', fileHeader, 'PreProcessedData')\n"
   ],
   "metadata": {
    "collapsed": false
   },
   "id": "5379c99c58c3fb3"
  },
  {
   "attachments": {},
   "cell_type": "markdown",
   "id": "1ff6cfc3-3ede-47d2-a77f-5ef5bf1e6d66",
   "metadata": {
    "tags": []
   },
   "source": [
    "### 4: Gather all cell v. time v. trial data into single array"
   ]
  },
  {
   "cell_type": "code",
   "execution_count": null,
   "outputs": [],
   "source": [
    "# STEP 4A: COMBINE ALL OF THE CELL TRACE DATA INTO A CELL X TRIAL X FRAMES ARRAY\n",
    "longest_trial = np.abs(np.max(np.subtract(CellTraceOffIndexes, CellTraceOnIndexes))).astype(int) # We need to find the longest trial to make an array that can fit all the data\n",
    "CombinedDataArray = np.zeros((len(CellList), len(CellTraceOffIndexes), longest_trial)) # Create an array of zeros that can fit all of the data\n",
    "\n",
    "row_lengths = []\n",
    "\n",
    "for cell in trange(len(CellList), desc=\"Cell: \"): # Loop through each cell\n",
    "    for trial in range(len(CellTraceOnIndexes)): # Loop through each trial\n",
    "        DataSize = (CellTraceOffIndexes[trial] - CellTraceOnIndexes[trial]).astype(int)  # Get length of particular cell-trial combo\n",
    "        row_lengths.append(DataSize) # Save that length\n",
    "        start_index = CellTraceOnIndexes[trial].astype(int)\n",
    "        end_index = CellTraceOffIndexes[trial].astype(int)\n",
    "        CombinedDataArray[cell, trial, :DataSize] = CellTraceData.iloc[start_index:end_index, cell] # Save the data for a particular cell-trial combo into our combined array\n",
    "\n",
    "# STEP 4B: CROP THE ARRAY TO THE SHORTEST TRIAL TO GET RID OF TRAILING ZEROS\n",
    "crop_value = np.min(row_lengths) # Find the shortest trial\n",
    "CombinedDataArray = CombinedDataArray[:, :, :crop_value] # Drop any columns past the crop_value\n",
    "\n",
    "# STEP 4C: BASELINE SHIFT THE DATA SO THERE ARE NO NEGATIVE NUMBERS\n",
    "Combined_Baseline_Shift_Data = CombinedDataArray + abs(np.min(CombinedDataArray))\n",
    "\n",
    "# STEP 4D: GET TIMESTAMPS FOR EACH TRIAL\n",
    "# Note: There are two lists of timestamps.\n",
    "# List 1) FinalValveTimeMap ranges from preTrialTime -> Final Valve On Time -> postTrialTime then the Final Valve On Time is subtracted from the whole list to set the FVOnTime to zero (e.g -3.5 -> 0 -> 3.5)\n",
    "# List 2) All the raw time values in Unix Time Form (Inscopix time output)\n",
    "FinalValveTimeMap = np.zeros((len(CellTraceOffIndexes), longest_trial)) # Map of trial times relative to startTrial time\n",
    "UnixTimeArray = np.zeros((len(CellTraceOffIndexes), longest_trial)) # Map of times per trial in unix time for AUROC\n",
    "\n",
    "for trial in trange(len(CellTraceOffIndexes), desc=\"Trial: \"): # Loop through each trial\n",
    "    DataSize = (CellTraceOffIndexes[trial] - CellTraceOnIndexes[trial]) # Get length of time for this trial\n",
    "    start_index = CellTraceOnIndexes[trial].astype(int)\n",
    "    end_index = CellTraceOffIndexes[trial].astype(int)\n",
    "    CellTraceTimes = np.array(CellTraceData.index.values[start_index:end_index]).astype(float) # Get time range for trial\n",
    "\n",
    "    offset = float(FVData[FinalValveOnIndex[trial], 0]) # Get the FV on Time for this trial to use as an offset value\n",
    "    row = DataSize.astype(int) # get row length as an int\n",
    "\n",
    "    FinalValveTimeMap[trial, :row] = CellTraceTimes - offset # Save the trial times offset by the final valve on time (0s)\n",
    "    UnixTimeArray[trial, :row] = CellTraceTimes # Save the UNIX times for the trial without the offset\n",
    "\n",
    "# STEP 4E: CROP THE ARRAYs TO THE SHORTEST TRIAL TO GET RID OF TRAILING ZEROS\n",
    "FinalValveTimeMap = FinalValveTimeMap[:, :crop_value] # Drop any column past the crop value\n",
    "UnixTimeArray = UnixTimeArray[:, :crop_value] # Drop any column past the crop value\n"
   ],
   "metadata": {
    "collapsed": false
   },
   "id": "717ce6fea5b975fe"
  },
  {
   "cell_type": "markdown",
   "source": [
    "### STEP 5: SAVE THE COMBINED DATA\n",
    "##### The combined data file contains a Table of Contents with the contour information for each cell, a TimeStamp map (rows -> trial; columns -> frames), and then a tab for each cell with the rows labeled with the odor for that particular trial, and columns are frames."
   ],
   "metadata": {
    "collapsed": false
   },
   "id": "b87d73f861d55020"
  },
  {
   "cell_type": "code",
   "execution_count": null,
   "outputs": [],
   "source": [
    "# STEP 5A: CREATE LIST OF ODORS TO WRITE TO FILE\n",
    "last_odor_index = Combined_Baseline_Shift_Data.shape[1] # If any trials at the end got skipped, we need to crop the odor list as well\n",
    "Odors = [odor[0] for odor in OdorData[:last_odor_index]]\n",
    "\n",
    "# STEP 5B: CREATE TABLE OF CONTENTS FOR CELL DESCRIPTORS\n",
    "columnNames = ['CentroidX', 'CentroidY', 'NumComponents', 'Size']\n",
    "TableOfContents = pd.DataFrame(GoodCellProperties.iloc[:, 5:9], index = CellList, columns=columnNames)\n",
    "\n",
    "# STEP 5C: SET FILE PATH AND CREATE EXCEL-SHEET WRITER\n",
    "path = f'./ImagingAnalysis/CombinedData/{fileHeader}CombinedData.xlsx'\n",
    "writer = pd.ExcelWriter(path, engine='xlsxwriter')\n",
    "\n",
    "# STEP 5D: WRITE TABLE OF CONTENTS\n",
    "TableOfContents.to_excel(writer, sheet_name='TOC')\n",
    "\n",
    "# STEP 5E: WRITE FINAL VALVE TIME MAP FOR ALL TRIALS\n",
    "timeColumns = np.arange(FinalValveTimeMap.shape[1]) # Columns are 0 -> n frames\n",
    "timeIndex = np.arange(1, FinalValveTimeMap.shape[0] + 1) # Rows are 1 -> number Trials\n",
    "TimeMapSheet = pd.DataFrame(FinalValveTimeMap, index = timeIndex, columns=timeColumns)\n",
    "TimeMapSheet.to_excel(writer, sheet_name='TimeMap')\n",
    "\n",
    "# STEP 5F: WRITE ALL CELL TRACE DATA\n",
    "for i in trange(len(CellList), desc=\"Writing Cell: \"):\n",
    "    DataDF = pd.DataFrame(Combined_Baseline_Shift_Data[i][:][:], Odors)\n",
    "    DataDF.to_excel(writer, sheet_name='Cell %d' % CellList[i])\n",
    "\n",
    "writer.close()\n",
    "\n",
    "# STEP 5G: ORGANIZE AND WRITE SNIFF DATA TO FILE\n",
    "# headers = []\n",
    "# for i in range(len(SniffData[0,:])):\n",
    "#     headers.append('Trial ' + str(i))\n",
    "#     SniffDF = pd.DataFrame(SniffData)\n",
    "#     sniff_path = f'./CombinedData/{fileHeader}/SniffData.xlsx'\n",
    "#     SniffDF.to_excel(sniff_path, sheet_name = 'Data', header=headers)"
   ],
   "metadata": {
    "collapsed": false
   },
   "id": "216dbef78f303fc6"
  },
  {
   "cell_type": "markdown",
   "source": [
    "### Step 6: Save information needed for AUROC\n",
    "##### The combined data excel sheet is saved to __./ImagingAnalysis/CombinedData/__\n",
    "##### Any data needed for the AUROC analysis that has not been saved will be saved in __./ImagingAnalysis/AUROCImports__"
   ],
   "metadata": {
    "collapsed": false
   },
   "id": "37c32f72c0e57286"
  },
  {
   "cell_type": "code",
   "execution_count": null,
   "outputs": [],
   "source": [
    "DewanIOhandler.save_data_to_disk(CombinedDataArray, 'CombinedData', fileHeader, './ImagingAnalysis/CombinedData')\n",
    "\n",
    "folder = './ImagingAnalysis/AUROCImports'\n",
    "DewanIOhandler.save_data_to_disk(FinalValveOnIndex, 'FVonIdx', fileHeader, folder)\n",
    "DewanIOhandler.save_data_to_disk(UnixTimeArray, 'UnixTimeArray', fileHeader, folder)\n",
    "DewanIOhandler.save_data_to_disk(FinalValveTimeMap, 'FVTimeMap', fileHeader, folder)\n",
    "DewanIOhandler.save_data_to_disk(OdorData, 'OdorData', fileHeader, folder)\n",
    "DewanIOhandler.save_data_to_disk(Combined_Baseline_Shift_Data, 'Combined_Baseline_Shift_Data', fileHeader, folder)\n"
   ],
   "metadata": {
    "collapsed": false,
    "ExecuteTime": {
     "start_time": "2023-10-23T19:15:27.704018200Z"
    }
   },
   "id": "d191fea68a3354a4"
  },
  {
   "attachments": {},
   "cell_type": "markdown",
   "id": "5785a0e7-4c69-41a6-94f5-7f82b4373234",
   "metadata": {
    "tags": []
   },
   "source": [
    "### Checkpoint 2: Load Data for AUROC"
   ]
  },
  {
   "cell_type": "code",
   "execution_count": null,
   "id": "f51f5276-994e-440c-96fe-93b04ff0c21d",
   "metadata": {},
   "outputs": [],
   "source": [
    "# CombinedDataArray = DewanIOhandler.load_data_from_disk('CombinedData', fileHeader, './ImagingAnalysis/CombinedData')\n",
    "\n",
    "folder = 'ImagingAnalysis/PreProcessedData'\n",
    "FVData = DewanIOhandler.load_data_from_disk('FVData', fileHeader, folder)\n",
    "CellList = DewanIOhandler.load_data_from_disk('CellList', fileHeader, folder)\n",
    "\n",
    "folder = 'ImagingAnalysis/AUROCImports'\n",
    "FinalValveOnIndex = DewanIOhandler.load_data_from_disk('FVonIdx', fileHeader, folder)\n",
    "UnixTimeArray = DewanIOhandler.load_data_from_disk('UnixTimeArray', fileHeader, folder)\n",
    "OdorData = DewanIOhandler.load_data_from_disk('OdorData', fileHeader, folder)\n",
    "FinalValveTimeMap = DewanIOhandler.load_data_from_disk('FVTimeMap', fileHeader, folder)\n",
    "Combined_Baseline_Shift_Data = DewanIOhandler.load_data_from_disk('Combined_Baseline_Shift_Data', fileHeader, folder)\n"
   ]
  },
  {
   "cell_type": "markdown",
   "source": [
    "### 6A: RUN AUROC"
   ],
   "metadata": {
    "collapsed": false
   },
   "id": "e453f7ece5780b7"
  },
  {
   "cell_type": "code",
   "execution_count": null,
   "outputs": [],
   "source": [
    "# STEP 6A.1: CREATE DATA STORAGE OBJECT FOR ALL THE DATA NEEDED FOR AUROC\n",
    "AUROCData = DewanDataStore.AUROCdataStore(Combined_Baseline_Shift_Data, CellList, OdorData, FVData, fileHeader, FinalValveOnIndex,\n",
    "                                          UnixTimeArray, baselineDuration, responseDuration, PlotFigures)\n",
    "# STEP 6A.2: RUN AUROC FOR ON-TIME CELLS\n",
    "# Note: On time cells are those that respond during the stimulus window (0s-2s)\n",
    "onTimeReturnValues = DewanAUROC.AUROC(AUROCData, False) # This takes a long time!\n",
    "\n",
    "# # STEP 6A.3: RUN AUROC FOR LATENT CELLS\n",
    "# Note: Latent cells are those that respond immediately after the stimulus window (2s-4s)\n",
    "latentReturnValues = DewanAUROC.AUROC(AUROCData, True)"
   ],
   "metadata": {
    "collapsed": false
   },
   "id": "cc3a36d326fd742"
  },
  {
   "cell_type": "code",
   "execution_count": null,
   "id": "ac54d824-f7d2-4eba-98e2-df7bc10162c2",
   "metadata": {},
   "outputs": [],
   "source": [
    "# STEP 6B: PARSE AUROC OUTPUT\n",
    "\n",
    "# Create empty lists to unpack data\n",
    "onTimeAUROCSignificanceTable = []\n",
    "onTimeAUROCValueTable = []\n",
    "onTimeAUROC_Ubounds = []\n",
    "onTimeAUROC_Lbounds = []\n",
    "onTimeAUROC_prctile = []\n",
    "\n",
    "latentAUROCSignificanceTable = []\n",
    "latentAUROCValueTable = []\n",
    "latentAUROC_Ubounds = []\n",
    "latentAUROC_Lbounds = []\n",
    "latentAUROC_prctile = []\n",
    "\n",
    "# These values are for plotting\n",
    "baseline_start_indexes = []\n",
    "baseline_end_indexes = []\n",
    "ontime_evoked_start_indexes = []\n",
    "ontime_evoked_end_indexes = []\n",
    "latent_evoked_start_indexes = []\n",
    "latent_evoked_end_indexes = []\n",
    "\n",
    "# STEP 6B.1: Unpack on time (reponds between 0s-2s) AUROC data\n",
    "for returns in onTimeReturnValues: # Loop through each return object and unpack the data\n",
    "    onTimeAUROCSignificanceTable.append(returns.response_chart)\n",
    "    onTimeAUROCValueTable.append(returns.auroc_values)\n",
    "    onTimeAUROC_Ubounds.append(returns.all_upper_bounds)\n",
    "    onTimeAUROC_Lbounds.append(returns.all_lower_bounds)\n",
    "    onTimeAUROC_prctile.append(returns.percentiles)\n",
    "    baseline_start_indexes.append(returns.baseline_start_indexes)\n",
    "    baseline_end_indexes.append(returns.baseline_end_indexes)\n",
    "    ontime_evoked_start_indexes.append(returns.evoked_start_indexes)\n",
    "    ontime_evoked_end_indexes.append(returns.evoked_end_indexes)\n",
    "\n",
    "# STEP 6B.2: Unpack latent (reponds between 2s-4s) AUROC data\n",
    "for returns in latentReturnValues: # Loop through each return object and unpack the data\n",
    "    latentAUROCSignificanceTable.append(returns.response_chart)\n",
    "    latentAUROCValueTable.append(returns.auroc_values)\n",
    "    latentAUROC_Ubounds.append(returns.all_upper_bounds)\n",
    "    latentAUROC_Lbounds.append(returns.all_lower_bounds)\n",
    "    latentAUROC_prctile.append(returns.percentiles)\n",
    "    latent_evoked_start_indexes.append(returns.evoked_start_indexes)\n",
    "    latent_evoked_end_indexes.append(returns.evoked_end_indexes)\n",
    "\n",
    "# Convert to numpy arrays and make all values floats\n",
    "onTimeAUROCSignificanceTable = np.array(onTimeAUROCSignificanceTable)\n",
    "latentAUROCSignificanceTable = np.array(latentAUROCSignificanceTable)\n",
    "onTimeAUROCSignificanceTable = onTimeAUROCSignificanceTable.astype(float)\n",
    "latentAUROCSignificanceTable = latentAUROCSignificanceTable.astype(float)\n",
    "\n",
    "# STEP 6B.3: Any cell that responds both during and after the stimulus window is defined as an on time cell\n",
    "# Those on time cells are removed from the latent responses\n",
    "for rows in range(len(latentAUROCSignificanceTable)):\n",
    "    on_time_responses = np.nonzero(onTimeAUROCSignificanceTable[rows] != 0)\n",
    "    latentAUROCSignificanceTable[rows][on_time_responses] = 0"
   ]
  },
  {
   "attachments": {},
   "cell_type": "markdown",
   "id": "586dc7e3-f0b5-4fca-8137-014f3f253fd1",
   "metadata": {},
   "source": [
    "### 6C: Save AUROC Output"
   ]
  },
  {
   "cell_type": "code",
   "execution_count": null,
   "id": "112e160a-a8af-40e4-8a2f-c5a5ec201a2c",
   "metadata": {},
   "outputs": [],
   "source": [
    "folder = 'ImagingAnalysis/AUROCData'\n",
    "\n",
    "DewanIOhandler.save_data_to_disk(\n",
    "    onTimeAUROCSignificanceTable, 'onTimeAUROCSignificanceTable', fileHeader, folder)\n",
    "DewanIOhandler.save_data_to_disk(\n",
    "    onTimeAUROCValueTable, 'onTimeAUROCValueTable', fileHeader, folder)\n",
    "DewanIOhandler.save_data_to_disk(\n",
    "    onTimeAUROC_Lbounds, 'onTimeAUROC_Lbounds', fileHeader, folder)\n",
    "DewanIOhandler.save_data_to_disk(\n",
    "    onTimeAUROC_Ubounds, 'onTimeAUROC_Ubounds', fileHeader, folder)\n",
    "DewanIOhandler.save_data_to_disk(\n",
    "    onTimeAUROC_prctile, 'onTimeAUROC_prctile', fileHeader, folder)\n",
    "\n",
    "DewanIOhandler.save_data_to_disk(\n",
    "    baseline_start_indexes, 'baseline_start_indexes', fileHeader, folder)\n",
    "DewanIOhandler.save_data_to_disk(\n",
    "    baseline_end_indexes, 'baseline_end_indexes', fileHeader, folder)\n",
    "DewanIOhandler.save_data_to_disk(\n",
    "    ontime_evoked_start_indexes, 'ontime_evoked_start_indexes', fileHeader, folder)\n",
    "DewanIOhandler.save_data_to_disk(\n",
    "    ontime_evoked_end_indexes, 'ontime_evoked_end_indexes', fileHeader, folder)\n",
    "\n",
    "DewanIOhandler.save_data_to_disk(\n",
    "    latentAUROCSignificanceTable, 'latentAUROCSignificanceTable', fileHeader, folder)\n",
    "DewanIOhandler.save_data_to_disk(\n",
    "    latentAUROCValueTable, 'latentAUROCValueTable', fileHeader, folder)\n",
    "DewanIOhandler.save_data_to_disk(\n",
    "    latentAUROC_Lbounds, 'latentAUROC_Lbounds', fileHeader, folder)\n",
    "DewanIOhandler.save_data_to_disk(\n",
    "    latentAUROC_Ubounds, 'latentAUROC_Ubounds', fileHeader, folder)\n",
    "DewanIOhandler.save_data_to_disk(\n",
    "    latentAUROC_prctile, 'latentAUROC_prctile', fileHeader, folder)\n",
    "\n",
    "DewanIOhandler.save_data_to_disk(\n",
    "    latent_evoked_start_indexes, 'latent_evoked_start_indexes', fileHeader, folder)\n",
    "DewanIOhandler.save_data_to_disk(\n",
    "    latent_evoked_end_indexes, 'latent_evoked_end_indexes', fileHeader, folder)"
   ]
  },
  {
   "attachments": {},
   "cell_type": "markdown",
   "id": "afb6f565",
   "metadata": {},
   "source": [
    "### Checkpoint 3: Load Data for Plotting"
   ]
  },
  {
   "cell_type": "code",
   "execution_count": 4,
   "id": "581d2227-89b4-44cb-8eef-2360b42c869c",
   "metadata": {
    "ExecuteTime": {
     "end_time": "2023-11-01T16:33:26.651026800Z",
     "start_time": "2023-11-01T16:33:24.367981900Z"
    }
   },
   "outputs": [
    {
     "name": "stdout",
     "output_type": "stream",
     "text": [
      "VGAT5-11-16-22-onTimeAUROCSignificanceTable has loaded successfully!\n",
      "VGAT5-11-16-22-onTimeAUROCValueTable has loaded successfully!\n",
      "VGAT5-11-16-22-onTimeAUROC_Lbounds has loaded successfully!\n",
      "VGAT5-11-16-22-onTimeAUROC_Ubounds has loaded successfully!\n",
      "VGAT5-11-16-22-onTimeAUROC_prctile has loaded successfully!\n",
      "VGAT5-11-16-22-latentAUROCSignificanceTable has loaded successfully!\n",
      "VGAT5-11-16-22-latentAUROCValueTable has loaded successfully!\n",
      "VGAT5-11-16-22-latentAUROC_Lbounds has loaded successfully!\n",
      "VGAT5-11-16-22-latentAUROC_Ubounds has loaded successfully!\n",
      "VGAT5-11-16-22-latentAUROC_prctile has loaded successfully!\n",
      "VGAT5-11-16-22-baseline_start_indexes has loaded successfully!\n",
      "VGAT5-11-16-22-baseline_end_indexes has loaded successfully!\n",
      "VGAT5-11-16-22-ontime_evoked_start_indexes has loaded successfully!\n",
      "VGAT5-11-16-22-ontime_evoked_end_indexes has loaded successfully!\n",
      "VGAT5-11-16-22-latent_evoked_start_indexes has loaded successfully!\n",
      "VGAT5-11-16-22-latent_evoked_end_indexes has loaded successfully!\n",
      "VGAT5-11-16-22-FVData has loaded successfully!\n",
      "VGAT5-11-16-22-CellList has loaded successfully!\n",
      "VGAT5-11-16-22-FVonIdx has loaded successfully!\n",
      "VGAT5-11-16-22-UnixTimeArray has loaded successfully!\n",
      "VGAT5-11-16-22-OdorData has loaded successfully!\n",
      "VGAT5-11-16-22-FVTimeMap has loaded successfully!\n",
      "VGAT5-11-16-22-Combined_Baseline_Shift_Data has loaded successfully!\n"
     ]
    }
   ],
   "source": [
    "folder = 'ImagingAnalysis/AUROCData'\n",
    "\n",
    "onTimeAUROCSignificanceTable = DewanIOhandler.load_data_from_disk(\n",
    "    'onTimeAUROCSignificanceTable', fileHeader, folder)\n",
    "onTimeAUROCValueTable = DewanIOhandler.load_data_from_disk(\n",
    "    'onTimeAUROCValueTable', fileHeader, folder)\n",
    "onTimeAUROC_Lbounds = DewanIOhandler.load_data_from_disk(\n",
    "    'onTimeAUROC_Lbounds', fileHeader, folder)\n",
    "onTimeAUROC_Ubounds = DewanIOhandler.load_data_from_disk(\n",
    "    'onTimeAUROC_Ubounds', fileHeader, folder)\n",
    "onTimeAUROC_prctile = DewanIOhandler.load_data_from_disk(\n",
    "    'onTimeAUROC_prctile', fileHeader, folder)\n",
    "\n",
    "latentAUROCSignificanceTable = DewanIOhandler.load_data_from_disk(\n",
    "    'latentAUROCSignificanceTable', fileHeader, folder)\n",
    "latentAUROCValueTable = DewanIOhandler.load_data_from_disk(\n",
    "    'latentAUROCValueTable', fileHeader, folder)\n",
    "latentAUROC_Lbounds = DewanIOhandler.load_data_from_disk(\n",
    "    'latentAUROC_Lbounds', fileHeader, folder)\n",
    "latentAUROC_Ubounds = DewanIOhandler.load_data_from_disk(\n",
    "    'latentAUROC_Ubounds', fileHeader, folder)\n",
    "latentAUROC_prctile = DewanIOhandler.load_data_from_disk(\n",
    "    'latentAUROC_prctile', fileHeader, folder)\n",
    "\n",
    "baseline_start_indexes = DewanIOhandler.load_data_from_disk(\n",
    "    'baseline_start_indexes', fileHeader, folder)\n",
    "baseline_end_indexes = DewanIOhandler.load_data_from_disk(\n",
    "    'baseline_end_indexes', fileHeader, folder)\n",
    "ontime_evoked_start_indexes = DewanIOhandler.load_data_from_disk(\n",
    "    'ontime_evoked_start_indexes', fileHeader, folder)\n",
    "ontime_evoked_end_indexes = DewanIOhandler.load_data_from_disk(\n",
    "    'ontime_evoked_end_indexes', fileHeader, folder)\n",
    "latent_evoked_start_indexes = DewanIOhandler.load_data_from_disk(\n",
    "    'latent_evoked_start_indexes', fileHeader, folder)\n",
    "latent_evoked_end_indexes = DewanIOhandler.load_data_from_disk(\n",
    "    'latent_evoked_end_indexes', fileHeader, folder)\n",
    "\n",
    "# CombinedDataArray = DewanIOhandler.load_data_from_disk(\n",
    "#     'CombinedData', fileHeader, 'ImagingAnalysis/CombinedData')\n",
    "\n",
    "folder = 'ImagingAnalysis/PreProcessedData'\n",
    "FVData = DewanIOhandler.load_data_from_disk('FVData', fileHeader, folder)\n",
    "CellList = DewanIOhandler.load_data_from_disk('CellList', fileHeader, folder)\n",
    "\n",
    "folder = 'ImagingAnalysis/AUROCImports'\n",
    "FinalValveOnIndex = DewanIOhandler.load_data_from_disk('FVonIdx', fileHeader, folder)\n",
    "UnixTimeArray = DewanIOhandler.load_data_from_disk(\n",
    "    'UnixTimeArray', fileHeader, folder)\n",
    "OdorData = DewanIOhandler.load_data_from_disk('OdorData', fileHeader, folder)\n",
    "FinalValveTimeMap = DewanIOhandler.load_data_from_disk('FVTimeMap', fileHeader, folder)\n",
    "\n",
    "Combined_Baseline_Shift_Data = DewanIOhandler.load_data_from_disk(\n",
    "    'Combined_Baseline_Shift_Data', fileHeader, folder)\n"
   ]
  },
  {
   "cell_type": "markdown",
   "source": [
    "### Step 7: Plotting"
   ],
   "metadata": {
    "collapsed": false
   },
   "id": "60179e8ae9dc5576"
  },
  {
   "cell_type": "code",
   "execution_count": 15,
   "id": "dde0df439fec3078",
   "metadata": {
    "ExecuteTime": {
     "end_time": "2023-11-01T16:50:08.292322900Z",
     "start_time": "2023-11-01T16:50:08.202322400Z"
    }
   },
   "outputs": [],
   "source": [
    "# STEP 7A: Create DataStores for onTime and Latent data for plotting\n",
    "onTimePlottingData = DewanDataStore.PlottingDataStore(Combined_Baseline_Shift_Data, CellList, OdorData, FVData, fileHeader, FinalValveTimeMap, FinalValveOnIndex, UnixTimeArray, baselineDuration, responseDuration, onTimeAUROCSignificanceTable, onTimeAUROC_Lbounds, onTimeAUROC_Ubounds, onTimeAUROC_prctile, baseline_start_indexes, baseline_end_indexes, ontime_evoked_start_indexes, ontime_evoked_end_indexes)\n",
    "\n",
    "latentPlottingData = DewanDataStore.PlottingDataStore(Combined_Baseline_Shift_Data, CellList, OdorData, FVData, fileHeader, FinalValveTimeMap, FinalValveOnIndex, UnixTimeArray, baselineDuration, responseDuration, latentAUROCSignificanceTable, latentAUROC_Lbounds, latentAUROC_Ubounds, latentAUROC_prctile, baseline_start_indexes, baseline_end_indexes, latent_evoked_start_indexes, latent_evoked_end_indexes)"
   ]
  },
  {
   "cell_type": "code",
   "execution_count": 20,
   "outputs": [
    {
     "data": {
      "text/plain": "<Figure size 640x480 with 1 Axes>",
      "image/png": "[encoded data removed]"
     },
     "metadata": {},
     "output_type": "display_data"
    },
    {
     "data": {
      "text/plain": "<Figure size 640x480 with 1 Axes>",
      "image/png": "[encoded data removed]"
     },
     "metadata": {},
     "output_type": "display_data"
    }
   ],
   "source": [
    "\n",
    "# STEP 7B: Plot Cell v Odor Significance Matricies \n",
    "# Note: One Optional Argument: 1) latentCellsOnly\n",
    "# False by default, pass True to create matrix for latent cells\n",
    "DewanPlotting.plot_significance_matricies(onTimePlottingData) # OnTime\n",
    "DewanPlotting.plot_significance_matricies(latentPlottingData, True) # Latent"
   ],
   "metadata": {
    "collapsed": false,
    "ExecuteTime": {
     "end_time": "2023-11-01T16:53:51.259566500Z",
     "start_time": "2023-11-01T16:53:44.384694200Z"
    }
   },
   "id": "559f2088"
  },
  {
   "cell_type": "code",
   "execution_count": 14,
   "outputs": [],
   "source": [
    "# STEP 7C: Plot Significant Cell Traces\n",
    "# Plot significant cells v odors\n",
    "# Note: two optional arguemnts 1) latentCellsOnly 2) plotAll\n",
    "# Both are False by default; example lines for plotting all cells are included below\n",
    "DewanPlotting.plot_cells(onTimePlottingData)\n",
    "DewanPlotting.plot_cells(latentPlottingData, True)\n",
    "# Uncomment to plot All Cells\n",
    "# DewanPlotting.plot_cells(onTimePlottingData, latentCellsOnly = False, plotAll = True) \n",
    "# DewanPlotting.plot_cells(latentPlottingData, latentCellsOnly = True, plotAll = True) \n",
    "\n",
    "# Note 2: Parameter names are included for clarity, but only the boolean values are required when running the function"
   ],
   "metadata": {
    "collapsed": false,
    "ExecuteTime": {
     "end_time": "2023-11-01T16:45:55.470777200Z",
     "start_time": "2023-11-01T16:44:03.519711200Z"
    }
   },
   "id": "089eada6"
  },
  {
   "cell_type": "code",
   "execution_count": 28,
   "id": "0db10c67",
   "metadata": {
    "ExecuteTime": {
     "end_time": "2023-10-30T19:01:10.269568Z",
     "start_time": "2023-10-30T18:59:20.143674500Z"
    }
   },
   "outputs": [],
   "source": [
    "# STEP 7D: Plot Trial Variances\n",
    "# Creates vertical scatter plots showing the change in flourescence for all trials for each cell-odor pairing\n",
    "trialScatterData = DewanDataStore.AUROCdataStore(Combined_Baseline_Shift_Data, CellList, OdorData, FVData, fileHeader, FinalValveOnIndex, UnixTimeArray, baselineDuration, responseDuration, False)\n",
    "\n",
    "# Note: One Optional Argument: 1) latentCellsOnly\n",
    "# False by default, pass True to create plots for latent cells\n",
    "DewanPlotting.plot_trial_variances(trialScatterData, onTimeAUROCSignificanceTable)\n",
    "DewanPlotting.plot_trial_variances(trialScatterData, onTimeAUROCSignificanceTable, True)"
   ]
  },
  {
   "cell_type": "markdown",
   "source": [
    "## 8. Statistics"
   ],
   "metadata": {
    "collapsed": false
   },
   "id": "43516d18568d02a8"
  },
  {
   "cell_type": "markdown",
   "source": [
    "### Checkpoint 4: Load Data for Statistics"
   ],
   "metadata": {
    "collapsed": false
   },
   "id": "d45db99b0cf3a90d"
  },
  {
   "cell_type": "code",
   "execution_count": 9,
   "outputs": [
    {
     "name": "stdout",
     "output_type": "stream",
     "text": [
      "VGAT5-11-16-22-Combined_Baseline_Shift_Data has loaded successfully!\n",
      "VGAT5-11-16-22-FVonIdx has loaded successfully!\n",
      "VGAT5-11-16-22-UnixTimeArray has loaded successfully!\n",
      "VGAT5-11-16-22-OdorData has loaded successfully!\n",
      "VGAT5-11-16-22-onTimeAUROCSignificanceTable has loaded successfully!\n",
      "VGAT5-11-16-22-CellList has loaded successfully!\n",
      "VGAT5-11-16-22-FVData has loaded successfully!\n"
     ]
    }
   ],
   "source": [
    "folder = 'ImagingAnalysis/AUROCImports'\n",
    "\n",
    "Combined_Baseline_Shift_Data = DewanIOhandler.load_data_from_disk('Combined_Baseline_Shift_Data', fileHeader, folder)\n",
    "FinalValveOnIndex = DewanIOhandler.load_data_from_disk('FVonIdx', fileHeader, folder)\n",
    "UnixTimeArray = DewanIOhandler.load_data_from_disk('UnixTimeArray', fileHeader, folder)\n",
    "OdorData = DewanIOhandler.load_data_from_disk('OdorData', fileHeader, folder)\n",
    "\n",
    "folder = 'ImagingAnalysis/AUROCData'\n",
    "onTimeAUROCSignificanceTable = DewanIOhandler.load_data_from_disk('onTimeAUROCSignificanceTable', fileHeader, folder)\n",
    "\n",
    "folder = 'ImagingAnalysis/PreProcessedData'\n",
    "\n",
    "CellList = DewanIOhandler.load_data_from_disk('CellList', fileHeader, folder)\n",
    "FVData = DewanIOhandler.load_data_from_disk('FVData', fileHeader, folder)"
   ],
   "metadata": {
    "collapsed": false,
    "ExecuteTime": {
     "end_time": "2023-11-01T20:57:09.310011Z",
     "start_time": "2023-11-01T20:57:07.209003900Z"
    }
   },
   "id": "5499fb5cdc1dd5e5"
  },
  {
   "cell_type": "code",
   "execution_count": 17,
   "outputs": [],
   "source": [
    "stats_data = DewanDataStore.AUROCdataStore(Combined_Baseline_Shift_Data, CellList, OdorData, FVData, fileHeader, FinalValveOnIndex, UnixTimeArray, baselineDuration, responseDuration, False)\n",
    "\n",
    "significant_ontime_cells = np.unique(np.nonzero(onTimeAUROCSignificanceTable > 0)[0])\n",
    "\n",
    "trial_averaged_responses_matrix = []\n",
    "\n",
    "for cell in significant_ontime_cells:\n",
    "    stats_data.update_cell(cell)\n",
    "    \n",
    "    trial_averaged_responses = []\n",
    "    \n",
    "    for odor in range(len(stats_data.unique_odors)):\n",
    "        stats_data.update_odor(odor)\n",
    "        baseline_data, evoked_data = DewanAUROC.collect_trial_data(stats_data, None, False)\n",
    "        baseline_data, evoked_data = DewanStats.truncate_data(baseline_data, evoked_data)\n",
    "        \n",
    "        baseline_mean = np.mean(baseline_data)\n",
    "        evoked_data = np.subtract(evoked_data, baseline_mean)\n",
    "        average_response = np.mean(evoked_data)\n",
    "        \n",
    "        trial_averaged_responses.append(average_response)\n",
    "    \n",
    "    trial_averaged_responses_matrix.append(trial_averaged_responses)\n"
   ],
   "metadata": {
    "collapsed": false,
    "ExecuteTime": {
     "end_time": "2023-11-01T21:09:16.093464500Z",
     "start_time": "2023-11-01T21:09:15.922454700Z"
    }
   },
   "id": "65199a85ce040b4a"
  },
  {
   "cell_type": "code",
   "execution_count": 34,
   "outputs": [],
   "source": [
    "from sklearn.preprocessing import StandardScaler\n",
    "scaler = StandardScaler()\n",
    "\n",
    "scaled_trial_averaged_responses = scaler.fit_transform(trial_averaged_responses_matrix)\n"
   ],
   "metadata": {
    "collapsed": false,
    "ExecuteTime": {
     "end_time": "2023-11-01T22:04:53.914999Z",
     "start_time": "2023-11-01T22:04:53.822035500Z"
    }
   },
   "id": "809fefb9d323a328"
  },
  {
   "cell_type": "code",
   "execution_count": 50,
   "outputs": [],
   "source": [
    "from sklearn import metrics\n",
    "from scipy import stats\n",
    "correlation_coefficients = np.corrcoef(scaled_trial_averaged_responses, rowvar=False)\n",
    "pairwise_distances = metrics.pairwise_distances(np.transpose(scaled_trial_averaged_responses), metric='correlation')\n",
    "spearman_correlations = stats.spearmanr(scaled_trial_averaged_responses)"
   ],
   "metadata": {
    "collapsed": false,
    "ExecuteTime": {
     "end_time": "2023-11-01T22:44:26.920233900Z",
     "start_time": "2023-11-01T22:44:26.804685900Z"
    }
   },
   "id": "253d2ab823974b9"
  },
  {
   "cell_type": "code",
   "execution_count": null,
   "outputs": [],
   "source": [
    "# print(1-correlation_coefficients[0])\n",
    "# print(pairwise_distances[0])\n",
    "# print(spearman_correlations[0])"
   ],
   "metadata": {
    "collapsed": false
   },
   "id": "96d78bdc1411c090"
  },
  {
   "cell_type": "code",
   "execution_count": 77,
   "outputs": [
    {
     "data": {
      "text/plain": "<Figure size 1500x480 with 6 Axes>",
      "image/png": "[encoded data removed]"
     },
     "metadata": {},
     "output_type": "display_data"
    }
   ],
   "source": [
    "import matplotlib.pyplot as plt\n",
    "\n",
    "fig,ax = plt.subplots(1, 3)\n",
    "fig.tight_layout()\n",
    "fig.set_figwidth(15)\n",
    "cc = ax[0].matshow(correlation_coefficients)\n",
    "pd = ax[1].matshow(pairwise_distances)\n",
    "sc = ax[2].matshow(spearman_correlations[0])\n",
    "ax[0].set_title(\"Correlation Coefficients (r)\")\n",
    "ax[1].set_title(\"Pairwise Correlation Distance (1-r)\")\n",
    "ax[2].set_title(\"Spearman Ranked Correlations\")\n",
    "fig.colorbar(cc, ax=ax[0], shrink=0.7)\n",
    "fig.colorbar(pd, ax=ax[1], shrink=0.7)\n",
    "fig.colorbar(sc, ax=ax[2], shrink=0.7)\n",
    "\n",
    "fig.savefig('correlations.jpg', dpi=800)"
   ],
   "metadata": {
    "collapsed": false,
    "ExecuteTime": {
     "end_time": "2023-11-01T22:55:22.810554700Z",
     "start_time": "2023-11-01T22:55:20.119362100Z"
    }
   },
   "id": "ddeb5b98e0d1d396"
  }
 ],
 "metadata": {
  "kernelspec": {
   "display_name": "ImagingAnalysis",
   "language": "python",
   "name": "python3"
  },
  "language_info": {
   "codemirror_mode": {
    "name": "ipython",
    "version": 3
   },
   "file_extension": ".py",
   "mimetype": "text/x-python",
   "name": "python",
   "nbconvert_exporter": "python",
   "pygments_lexer": "ipython3",
   "version": "3.8.15"
  },
  "vscode": {
   "interpreter": {
    "hash": "977baf04aa409d7582f6e94b1f1f1d2e9ac45da44046a9cec7b1a770a676514b"
   }
  }
 },
 "nbformat": 4,
 "nbformat_minor": 5
}
