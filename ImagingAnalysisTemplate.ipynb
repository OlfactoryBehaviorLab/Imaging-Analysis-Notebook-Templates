{
 "cells": [
  {
   "cell_type": "markdown",
   "id": "1daf917d-f5f9-42ea-baaa-08fcf28b43ce",
   "metadata": {
    "tags": []
   },
   "source": [
    "# Dewan Lab Image Analysis"
   ]
  },
  {
   "attachments": {},
   "cell_type": "markdown",
   "id": "917d0bf4-3426-4326-911d-9a9e0cd1ed80",
   "metadata": {
    "tags": []
   },
   "source": [
    "## 0: Run once to create all needed directories at beginning of a project"
   ]
  },
  {
   "cell_type": "code",
   "execution_count": null,
   "id": "c884c75e-38a9-431e-8e99-0d8f9fdd85d4",
   "metadata": {},
   "outputs": [],
   "source": [
    "from Python.Helpers import DewanIOhandler\n",
    "DewanIOhandler.createProjectFramework()"
   ]
  },
  {
   "attachments": {},
   "cell_type": "markdown",
   "id": "a1ba1747-903f-4eac-8a48-84b44728f3e7",
   "metadata": {
    "tags": []
   },
   "source": [
    "## 1: Always Execute! Load Libraries and User Settings"
   ]
  },
  {
   "attachments": {},
   "cell_type": "markdown",
   "id": "6d1aec8e-a365-49a6-b3ab-d67525a65bdb",
   "metadata": {
    "tags": []
   },
   "source": [
    "### 1a: Import Libraries"
   ]
  },
  {
   "cell_type": "code",
   "execution_count": 1,
   "id": "1dd422e6-969e-4c1f-8301-2afc3ce3d4b5",
   "metadata": {
    "ExecuteTime": {
     "end_time": "2023-09-04T23:53:33.069324600Z",
     "start_time": "2023-09-04T23:53:33.008212300Z"
    }
   },
   "outputs": [],
   "source": [
    "%load_ext autoreload\n",
    "%autoreload 2"
   ]
  },
  {
   "cell_type": "code",
   "execution_count": 2,
   "id": "48174929-fd1b-48cc-ab99-9ff1bcd9f06e",
   "metadata": {
    "tags": [],
    "ExecuteTime": {
     "end_time": "2023-09-04T23:53:35.008260900Z",
     "start_time": "2023-09-04T23:53:33.070326300Z"
    }
   },
   "outputs": [],
   "source": [
    "import numpy as np\n",
    "import pandas as pd\n",
    "from tqdm import tqdm, trange\n",
    "from Python.Helpers import DewanDataStore\n",
    "from Python.Helpers import DewanIOhandler\n",
    "from Python import DewanAUROC\n",
    "from Python import DewanPlotting\n",
    "from Python import DewanStats\n",
    "from Python import DewanManualCuration"
   ]
  },
  {
   "attachments": {},
   "cell_type": "markdown",
   "id": "d57a7bb0-be75-4f25-b35d-6732d0ea7dfa",
   "metadata": {
    "tags": []
   },
   "source": [
    "### 1b: User Configurables"
   ]
  },
  {
   "cell_type": "code",
   "execution_count": 3,
   "id": "5d8f7883-7544-4c8d-a2e3-32da1e3ee795",
   "metadata": {
    "ExecuteTime": {
     "end_time": "2023-09-04T23:53:36.442866Z",
     "start_time": "2023-09-04T23:53:36.350869100Z"
    }
   },
   "outputs": [],
   "source": [
    "animal = 'VGAT5'\n",
    "date = '11-16-22'\n",
    "\n",
    "# Settings for Inscopix box\n",
    "LED_power = 1\n",
    "GAIN = 2.2\n",
    "FOCUS = 250\n",
    "\n",
    "PreTrialTime = 3.5  # Imaging time before the final valve opens\n",
    "PostTrialTime = 3.5  # Imaging time after final valve closes\n",
    "\n",
    "# Criterion for determining good trials vs bad trials, will be used later\n",
    "goodCriterion = 0.5\n",
    "# in the findGoodTrials segment\n",
    "\n",
    "\n",
    "# Configurables for AUROC\n",
    "baselineDuration = 2  # number of seconds before the fvOnTime\n",
    "responseDuration = 2  # number of seconds after the fvOnTime\n",
    "PlotFigures = True\n",
    "\n",
    "fileHeader = animal + '-' + date + '-'\n"
   ]
  },
  {
   "attachments": {},
   "cell_type": "markdown",
   "id": "333708ce-48b1-4382-9e74-a6ae099f190c",
   "metadata": {
    "tags": []
   },
   "source": [
    "## 2: Data Import and Preprocessing"
   ]
  },
  {
   "attachments": {},
   "cell_type": "markdown",
   "id": "85f73484-fb78-4bef-8328-bd312d9abbc3",
   "metadata": {
    "tags": []
   },
   "source": [
    "### 2a: Import and pre-process the raw data\n",
    "#### Copy output of InscopixProcessing -> ImagingAnalysis\\RawData and rename the files as below\n",
    "##### Copy: video-TRACES.csv, video-props.csv, video-CONTOURS.json, video-GPIO.csv, maxProjection.tiff, OdorList.xlxs"
   ]
  },
  {
   "cell_type": "code",
   "execution_count": null,
   "outputs": [],
   "source": [
    "#STEP 2A.1: LOAD ALL DATA\n",
    "# Read in data for processing.  Needs Cell Traces, Odor List, and GPIO file.\n",
    "folder = './ImagingAnalysis/RawData/'\n",
    "\n",
    "\n",
    "CellTraceData = pd.read_csv(f'{folder}/CellTraces.csv', engine='pyarrow')  # Fix header keys that have a space\n",
    "OdorData = np.array(pd.read_excel(f'{folder}/OdorList.xlsx', usecols=[0], header=None)) # usecols=[0] because we only care about the first column which has the odornames, row number == trial number\n",
    "GPIOData = pd.read_csv(f'{folder}/GPIO.csv', header=None, engine='pyarrow')\n",
    "AllCellProps = pd.read_csv(f'{folder}/Props.csv', header=0, engine='pyarrow') # header = 0 because row 0 has all the property names\n",
    "CellKeys, CellOutlines = DewanIOhandler.get_outline_coordinates() # Load cell outlines from JSON file\n",
    "#CellKeys, CellOutlines = DewanIOhandler.get_outline_coordinates('path/to/file/file.json')\n",
    "# If desired, a direct path to the json file can be passed to override the default path\n",
    "\n",
    "# STEP 2A.2: PREPROCESSING\n",
    "\n",
    "# STEP 2A.2.1: Drop the first row which contains all 'undecided' labels which is the Inscopix default label.\n",
    "# Set the times as the index so the data is all dF/F values\n",
    "CellTraceData.drop([0], inplace=True)\n",
    "# STEP 2A.2.2: Force all dF/F values to be numbers and round times to 2 decimal places\n",
    "CellTraceData = CellTraceData.apply(pd.to_numeric, errors='coerce')\n",
    "CellTraceData[CellTraceData.columns[0]] = CellTraceData[CellTraceData.columns[0]].round(2)\n",
    "CellTraceData.set_index(CellTraceData.columns[0], inplace=True)\n",
    "\n",
    "# STEP 2A.2.3: REMOVE ALL MULTI-COMPONENT CELLS\n",
    "# Generate a list of cell numbers based off the number of cells\n",
    "CellList = np.arange(len(AllCellProps['NumComponents'])) # Example Cell Numbers: 0, 1, 2, 3, 4\n",
    "# Get indicies where there are only one cell part\n",
    "OnePieceCells = np.where(AllCellProps['NumComponents'] == 1)[0] # Example One-Componenet Indexes: 0, 1, 4\n",
    "# Filter out all the multi-component cells, leaving only the one-piece cells\n",
    "CellList = CellList[OnePieceCells] # Filtered Cell Numbers: 0, 1 ,4\n",
    "CellKeys = CellKeys[OnePieceCells] # Filtered Cell Keys, C00, C01, C04\n",
    "\n",
    "# STEP 2A.2.4: PARSE GPIO DATA\n",
    "GPIOData.iloc[:, 1] = GPIOData.iloc[:, 1].str.replace(' ', '')  # Remove Random Spaces in Data\n",
    "GPIO1 = np.array(GPIOData.iloc[:, 1] == \"GPIO-1\")  # Get Sniff Sensor Data\n",
    "GPIO2 = np.array(GPIOData.iloc[:, 1] == \"GPIO-2\")  # Get FV Actuation Data\n",
    "SniffTable = np.array(GPIOData.iloc[GPIO1,:])\n",
    "FVData = np.array(GPIOData.iloc[GPIO2,:])# Create an array with FV values only\n",
    "\n",
    "\n",
    "# STEP 2A.2.5: Make all numeric values floats\n",
    "FVData[:, 0] = FVData[:, 0].astype(float)\n",
    "FVData[:, 2] = FVData[:, 2].astype(float)\n",
    "SniffTable[:, 0] = SniffTable[:, 0].astype(float)\n",
    "SniffTable[:, 2] = SniffTable[:, 2].astype(float)\n",
    "\n",
    "# OPTIONAL UNUSED DATA\n",
    "# GPIO3 = np.array(GPIOData.iloc[:,1] == \"GPIO-3\")  # Running Wheel Data\n",
    "# GPIO4 = np.array(GPIOData.iloc[:,1] == \"GPIO-4\")  # Lick Data"
   ],
   "metadata": {
    "collapsed": false
   }
  },
  {
   "cell_type": "markdown",
   "source": [
    "### 2B: Manual Curation"
   ],
   "metadata": {
    "collapsed": false
   }
  },
  {
   "cell_type": "code",
   "execution_count": null,
   "id": "de8e82bd-0c23-432f-a462-69835dce5805",
   "metadata": {},
   "outputs": [],
   "source": [
    "# STEP 2B.1: Load the MAXPROJECTION TIFF and draw the cell outlines and labels\n",
    "MaxProjectionImage = DewanManualCuration.generate_max_projection(AllCellProps, CellKeys, CellOutlines, scale_val=1.5)\n",
    "\n",
    "# STEP 2B.2: Run ManualCuration GUI\n",
    "GoodCells = DewanManualCuration.manual_curation_gui(CellList, CellTraceData, MaxProjectionImage) # TODO: Fix MAX/MIN values on right side of cell trace graphs\n",
    "if GoodCells is None:\n",
    "    print('Error!')\n",
    "\n",
    "# STEP 2B.3: Save MaxProjection Image with GoodCells circled and labeled\n",
    "# MaxProjectionImage = DewanManualCuration.generate_max_projection(AllCellProps, CellKeys, CellOutlines, save_image=False, MaxProjectionImage='.\\path\\to\\file\\file.tiff', scale_val=3, font_size=12, outline_color='yellow', outline_width=1)\n",
    "# Optional configuration values that are set by default, change as desired\n",
    "# MaxProjectionImage = DewanManualCuration.generate_max_projection(AllCellProps, CellKeys, CellOutlines, save_image=True, scale_val=1.5)"
   ]
  },
  {
   "cell_type": "markdown",
   "source": [
    "### 2C: Apply Manual Curation Results and Additional Preprocessing"
   ],
   "metadata": {
    "collapsed": false
   }
  },
  {
   "cell_type": "code",
   "execution_count": null,
   "outputs": [],
   "source": [
    "# STEP 2C.1: Filter all data by the GoodCells identified in ManualCuration\n",
    "GoodCellProperties = AllCellProps.iloc[GoodCells,:]\n",
    "GoodCellProperties.reset_index() # Resets index to 0 -> len(GoodCellProperties)\n",
    "CellList = CellList[GoodCells]\n",
    "CellKeys = CellKeys[GoodCells]\n",
    "GoodCellTraceData = CellTraceData.iloc[:, GoodCells]"
   ],
   "metadata": {
    "collapsed": false
   }
  },
  {
   "cell_type": "markdown",
   "source": [
    "### 2D: Pickle and Save all preprocessed data"
   ],
   "metadata": {
    "collapsed": false
   }
  },
  {
   "cell_type": "code",
   "execution_count": null,
   "outputs": [],
   "source": [
    "# STEP 2D: Pickle and Save all preprocessed data\n",
    "# Pickle the reorganized CellTraceData incase its needed later\n",
    "# Saves Cell Traces, GPIO, Odor List, Sniff, FV data, Good Cell Properties, and the list of Good Cells\n",
    "# Once these have been saved, they don't need to be re-run on the same data again unless the data itself is changed\n",
    "\n",
    "folder = './ImagingAnalysis/PreProcessedData'\n",
    "\n",
    "DewanIOhandler.saveDataToDisk(GoodCellTraceData, 'GoodCellTraceData', fileHeader, folder)\n",
    "DewanIOhandler.saveDataToDisk(GPIOData, 'GPIOData', fileHeader, folder)\n",
    "DewanIOhandler.saveDataToDisk(OdorData, 'OdorData', fileHeader, folder)\n",
    "DewanIOhandler.saveDataToDisk(FVData, 'FVdata', fileHeader, folder)\n",
    "DewanIOhandler.saveDataToDisk(GoodCellProperties, 'GoodCellProperties', fileHeader, folder)\n",
    "DewanIOhandler.saveDataToDisk(CellList, 'CellList', fileHeader, folder)\n",
    "DewanIOhandler.saveDataToDisk(SniffTable, 'SniffTable', fileHeader, folder)"
   ],
   "metadata": {
    "collapsed": false
   }
  },
  {
   "attachments": {},
   "cell_type": "markdown",
   "id": "1ba952d5-9392-413e-bf3a-49086c6a583f",
   "metadata": {
    "tags": []
   },
   "source": [
    "### Checkpoint 1: Load Preprocessed Data"
   ]
  },
  {
   "cell_type": "code",
   "execution_count": null,
   "id": "0e1a40e5-f3cc-432c-a415-0dbc157caa00",
   "metadata": {},
   "outputs": [],
   "source": [
    "# Opens the saved pickle files.  If the files have already been saved, code can be re-run\n",
    "# starting from this point\n",
    "folder = 'ImagingAnalysis\\PreProcessedData'\n",
    "\n",
    "CellTraceData = DewanIOhandler.loadDataFromDisk('GoodCellTraceData', fileHeader, folder)\n",
    "FVData = DewanIOhandler.loadDataFromDisk('FVData', fileHeader, folder)\n",
    "GPIOData = DewanIOhandler.loadDataFromDisk('GPIOData', fileHeader, folder)\n",
    "OdorData = DewanIOhandler.loadDataFromDisk('OdorData', fileHeader, folder)\n",
    "SniffTable = DewanIOhandler.loadDataFromDisk('SniffTable', fileHeader, folder)\n",
    "GoodCellProperties = DewanIOhandler.loadDataFromDisk('GoodCellProperties', fileHeader, folder)\n",
    "CellList = DewanIOhandler.loadDataFromDisk('CellList', fileHeader, folder)\n"
   ]
  },
  {
   "attachments": {},
   "cell_type": "markdown",
   "id": "945f4f52",
   "metadata": {},
   "source": [
    "### 3: Indexing and Aligning FV/Sniff/CellTrace Data"
   ]
  },
  {
   "cell_type": "code",
   "execution_count": null,
   "outputs": [],
   "source": [
    "# STEP 3A: Parses the final valve data to identify when the final valve is open vs when it is closed based on TTL pulse from Arduino.\n",
    "FinalValveValues = FVData[:, 2].astype(float) # Get FV Values\n",
    "NumberOfValues = len(FinalValveValues)\n",
    "ValveStatus = 0\n",
    "FinalValveOffIndex = []\n",
    "FinalValveOnIndex = []\n",
    "for i in trange((NumberOfValues - 1), desc=\"Processing: \"):\n",
    "    ValveDataDiff = FinalValveValues[i + 1] - FinalValveValues[i]\n",
    "\n",
    "    if ValveStatus == 0:    # Start with valve off\n",
    "        if ValveDataDiff > 10000: # If the difference is a very large positive number, the valve opened\n",
    "            FinalValveOnIndex.append(i + 1)\n",
    "            ValveStatus = 1 # Set valve state to open\n",
    "    else:\n",
    "        if ValveDataDiff < -10000: # If the difference is a very large negative number, the valve closed\n",
    "            FinalValveOffIndex.append(i)\n",
    "            ValveStatus = 0 # Set valve state to closed\n",
    "\n",
    "FinalValveOffIndex = np.array(FinalValveOffIndex)  # convert list to np array\n",
    "FinalValveOnIndex = np.array(FinalValveOnIndex)\n",
    "\n",
    "# STEP 3B.1: Find trial start and end times with the pre/post trial offsets\n",
    "TrialStartTimes = np.subtract(FVData[FinalValveOnIndex, 0].astype(float), PreTrialTime)\n",
    "TrialEndTimes = np.add(FVData[FinalValveOffIndex, 0].astype(float), PostTrialTime)\n",
    "\n",
    "# STEP 3B.2: Find the start/end indexes for the CellTrace data based on the closest time points for each trial\n",
    "# NOTE: Needed because the sample rate of the GPIO and the Endoscope are different, so the time points do not always perfectly line up\n",
    "# Occasionally, you will get trials that are 1 longer/shorter than each other due to this mismatch\n",
    "CellTraceOnIndexes = []\n",
    "CellTraceOffIndexes = []\n",
    "\n",
    "time_points = CellTraceData.index.values\n",
    "\n",
    "for i, each in enumerate(tqdm(TrialStartTimes, desc=\"Trial: \")):\n",
    "    if time_points[-1] < TrialEndTimes[-1] and i == len(TrialStartTimes)-1:\n",
    "        # This is an edge case for when the last trial got cut off early or the experiment crashed\n",
    "        # It checks to see if the EndTime occured after the last available time point\n",
    "        continue\n",
    "    CellTraceOnIndexes.append(np.where(time_points <= each)[0][-1]) # Find first index less than/= the start time. We would always rather start 1 frame early than late\n",
    "    CellTraceOffIndexes.append(np.where(time_points >= TrialEndTimes[i])[0][0]) # Find the first index greater than/= the end time. We would always rather stop 1 frame late than early\n",
    "\n",
    "# STEP 3C: Find the start/end indexes for the SNIFF data based on the closest time points for each trial\n",
    "# # Compiles data for sniffing from good trialss\n",
    "SniffingStartIndexes = []\n",
    "SniffingEndIndexes = []\n",
    "\n",
    "time_points = SniffTable[:,0].astype(float) # Dunno why, but converting these floats -> floats makes this run way faster?\n",
    "\n",
    "for i in trange(len(FinalValveOnIndex), desc=\"Sniff Trial: \"):\n",
    "    if time_points[-1] < TrialEndTimes[-1] and i == len(TrialStartTimes)-1:\n",
    "        # This is an edge case for when the last trial got cut off early or the experiment crashed\n",
    "        # It checks to see if the EndTime occured after the last available time point\n",
    "        continue\n",
    "    SniffingStartIndexes.append(np.where(time_points <= TrialStartTimes[i])[0][-1]) # Find first index less than/= the start time. We would always rather start 1 frame early than late\n",
    "    SniffingEndIndexes.append(np.where(time_points >= TrialEndTimes[i])[0][0]) # Find the first index greater than/= the end time. We would always rather stop 1 frame late than early\n",
    "\n",
    "# STEP 3D: SAVE SNIFF DATA INTO SEPARATE FILE, CURRENTLY BROKEN, DON'T USE\n",
    "# SniffData = np.zeros((NumSniffPoints.astype(int), len(SniffingStartIndexes)))\n",
    "#\n",
    "# for j in trange(len(SniffingStartIndexes), desc=\"Trial: \"):\n",
    "#     SniffLength = SniffingEndIndexes[j] - SniffingStartIndexes[j]\n",
    "#     SniffData[0:int(SniffLength), j] = SniffTable[SniffingStartIndexes[j].astype(int):SniffingEndIndexes[j].astype(int), 2]\n",
    "#\n",
    "# DewanIOhandler.saveDataToDisk(\n",
    "#     SniffData, 'SniffData', fileHeader, 'PreProcessedData')\n"
   ],
   "metadata": {
    "collapsed": false
   }
  },
  {
   "attachments": {},
   "cell_type": "markdown",
   "id": "1ff6cfc3-3ede-47d2-a77f-5ef5bf1e6d66",
   "metadata": {
    "tags": []
   },
   "source": [
    "### 4: Gather all cell v. time v. trial data into single array"
   ]
  },
  {
   "cell_type": "code",
   "execution_count": null,
   "outputs": [],
   "source": [
    "# STEP 4A: COMBINE ALL OF THE CELL TRACE DATA INTO A CELL X TRIAL X FRAMES ARRAY\n",
    "longest_trial = np.abs(np.max(np.subtract(CellTraceOffIndexes, CellTraceOnIndexes))).astype(int) # We need to find the longest trial to make an array that can fit all the data\n",
    "CombinedDataArray = np.zeros((len(CellList), len(CellTraceOffIndexes), longest_trial)) # Create an array of zeros that can fit all of the data\n",
    "\n",
    "row_lengths = []\n",
    "\n",
    "for cell in trange(len(CellList), desc=\"Cell: \"): # Loop through each cell\n",
    "    for trial in range(len(CellTraceOnIndexes)): # Loop through each trial\n",
    "        DataSize = (CellTraceOffIndexes[trial] - CellTraceOnIndexes[trial]).astype(int)  # Get length of particular cell-trial combo\n",
    "        row_lengths.append(DataSize) # Save that length\n",
    "        start_index = CellTraceOnIndexes[trial].astype(int)\n",
    "        end_index = CellTraceOffIndexes[trial].astype(int)\n",
    "        CombinedDataArray[cell, trial, :DataSize] = CellTraceData.iloc[start_index:end_index, cell] # Save the data for a particular cell-trial combo into our combined array\n",
    "\n",
    "# STEP 4B: CROP THE ARRAY TO THE SHORTEST TRIAL TO GET RID OF TRAILING ZEROS\n",
    "crop_value = np.min(row_lengths) # Find the shortest trial\n",
    "CombinedDataArray = CombinedDataArray[:, :, :crop_value] # Drop any columns past the crop_value\n",
    "\n",
    "# STEP 4C: BASELINE SHIFT THE DATA SO THERE ARE NO NEGATIVE NUMBERS\n",
    "Baseline_Shift_Data = CombinedDataArray + abs(np.min(CombinedDataArray))\n",
    "\n",
    "# STEP 4D: ORGANIZE TIMES PER TRIAL\n",
    "FinalValveTimeMap = np.zeros((len(CellTraceOffIndexes), longest_trial)) # Map of trial times relative to startTrial time\n",
    "UnixTimeArray = np.zeros((len(CellTraceOffIndexes), longest_trial)) # Map of times per trial in unix time for AUROC\n",
    "\n",
    "for trial in trange(len(CellTraceOffIndexes), desc=\"Trial: \"): # Loop through each trial\n",
    "    DataSize = (CellTraceOffIndexes[trial] - CellTraceOnIndexes[trial]) # Get length of time for this trial\n",
    "    start_index = CellTraceOnIndexes[trial].astype(int)\n",
    "    end_index = CellTraceOffIndexes[trial].astype(int)\n",
    "    CellTraceTimes = np.array(CellTraceData.index.values[start_index:end_index]).astype(float) # Get time range for trial\n",
    "\n",
    "    Offset = float(FVData[FinalValveOnIndex[trial], 0]) # Get the FV on Time for this trial to use as an offset value\n",
    "    row = DataSize.astype(int) # get row length as an int\n",
    "\n",
    "    FinalValveTimeMap[trial, :row] = CellTraceTimes - Offset # Save the trial times offset by the final valve on time (0s)\n",
    "    UnixTimeArray[trial, :row] = CellTraceTimes # Save the UNIX times for the trial without the offset\n",
    "\n",
    "# STEP 4E: CROP THE ARRAYs TO THE SHORTEST TRIAL TO GET RID OF TRAILING ZEROS\n",
    "FinalValveTimeMap = FinalValveTimeMap[:, :crop_value] # Drop any column past the crop value\n",
    "UnixTimeArray = UnixTimeArray[:, :crop_value] # Drop any column past the crop value\n"
   ],
   "metadata": {
    "collapsed": false
   }
  },
  {
   "cell_type": "markdown",
   "source": [
    "### STEP 5: SAVE THE COMBINED DATA"
   ],
   "metadata": {
    "collapsed": false
   }
  },
  {
   "cell_type": "code",
   "execution_count": null,
   "outputs": [],
   "source": [
    "\n",
    "# STEP 5A: CREATE LIST OF ODORS TO WRITE TO FILE\n",
    "last_odor_index = Baseline_Shift_Data.shape[1] # If any trials at the end got skipped, we need to crop the odor list as well\n",
    "Odors = [odor[0] for odor in OdorData[:last_odor_index]]\n",
    "\n",
    "# STEP 5B: CREATE TABLE OF CONTENTS FOR CELL DESCRIPTORS\n",
    "columnNames = ['CentroidX', 'CentroidY', 'NumComponents', 'Size']\n",
    "TableOfContents = pd.DataFrame(GoodCellProperties.iloc[:, 5:9], index = CellList, columns=columnNames)\n",
    "\n",
    "# STEP 5C: SET FILE PATH AND CREATE EXCEL-SHEET WRITER\n",
    "path = f'./ImagingAnalysis/CombinedData/{fileHeader}CombinedData.xlsx'\n",
    "writer = pd.ExcelWriter(path, engine='xlsxwriter')\n",
    "\n",
    "# STEP 5D: WRITE TABLE OF CONTENTS\n",
    "TableOfContents.to_excel(writer, sheet_name='TOC')\n",
    "\n",
    "# STEP 5E: WRITE FINAL VALVE TIME MAP FOR ALL TRIALS\n",
    "timeColumns = np.arange(FinalValveTimeMap.shape[1]) # Columns are 0 -> last frame\n",
    "timeIndex = np.arange(1, FinalValveTimeMap.shape[0] + 1) # Rows are 1 -> number Trials\n",
    "TimeMapSheet = pd.DataFrame(FinalValveTimeMap, index = timeIndex, columns=timeColumns)\n",
    "TimeMapSheet.to_excel(writer, sheet_name='TimeMap')\n",
    "\n",
    "# STEP 5F: WRITE ALL CELL TRACE DATA\n",
    "for i in trange(len(CellList), desc=\"Writing Cell: \"):\n",
    "    DataDF = pd.DataFrame(Baseline_Shift_Data[i][:][:], Odors)\n",
    "    DataDF.to_excel(writer, sheet_name='Cell %d' % CellList[i])\n",
    "\n",
    "writer.close()\n",
    "\n",
    "# STEP 5G: ORGANIZE AND WRITE SNIFF DATA TO FILE\n",
    "# headers = []\n",
    "# for i in range(len(SniffData[0,:])):\n",
    "#     headers.append('Trial ' + str(i))\n",
    "#     SniffDF = pd.DataFrame(SniffData)\n",
    "#     sniff_path = f'./CombinedData/{fileHeader}/SniffData.xlsx'\n",
    "#     SniffDF.to_excel(sniff_path, sheet_name = 'Data', header=headers)"
   ],
   "metadata": {
    "collapsed": false
   }
  },
  {
   "cell_type": "markdown",
   "source": [
    "### Step 6: Save information needed for AUROC"
   ],
   "metadata": {
    "collapsed": false
   }
  },
  {
   "cell_type": "code",
   "execution_count": null,
   "outputs": [],
   "source": [
    "DewanIOhandler.saveDataToDisk(CombinedDataArray, 'CombinedData', fileHeader, './ImagingAnalysis/CombinedData')\n",
    "\n",
    "folder = './ImagingAnalysis/AUROCImports'\n",
    "DewanIOhandler.saveDataToDisk(FinalValveOnIndex, 'FVonIdx', fileHeader, folder)\n",
    "DewanIOhandler.saveDataToDisk(UnixTimeArray, 'UnixTimeArray', fileHeader, folder)\n",
    "DewanIOhandler.saveDataToDisk(FinalValveTimeMap, 'FVTimeMap', fileHeader, folder)\n",
    "DewanIOhandler.saveDataToDisk(OdorData, 'OdorData', fileHeader, folder)\n",
    "DewanIOhandler.saveDataToDisk(Baseline_Shift_Data, 'Baseline_Shift_Data', fileHeader, folder)\n"
   ],
   "metadata": {
    "collapsed": false
   }
  },
  {
   "attachments": {},
   "cell_type": "markdown",
   "id": "5785a0e7-4c69-41a6-94f5-7f82b4373234",
   "metadata": {
    "tags": []
   },
   "source": [
    "### Checkpoint 2: Load Data for AUROC"
   ]
  },
  {
   "cell_type": "code",
   "execution_count": 4,
   "id": "f51f5276-994e-440c-96fe-93b04ff0c21d",
   "metadata": {
    "ExecuteTime": {
     "end_time": "2023-09-04T23:53:45.272500Z",
     "start_time": "2023-09-04T23:53:42.902446Z"
    }
   },
   "outputs": [
    {
     "name": "stdout",
     "output_type": "stream",
     "text": [
      "VGAT5-11-16-22-CombinedData has loaded successfully!\n",
      "VGAT5-11-16-22-FVData has loaded successfully!\n",
      "VGAT5-11-16-22-CellList has loaded successfully!\n",
      "VGAT5-11-16-22-FVonIdx has loaded successfully!\n",
      "VGAT5-11-16-22-UnixTimeArray has loaded successfully!\n",
      "VGAT5-11-16-22-OdorData has loaded successfully!\n",
      "VGAT5-11-16-22-FVTimeMap has loaded successfully!\n",
      "VGAT5-11-16-22-Baseline_Shift_Data has loaded successfully!\n"
     ]
    }
   ],
   "source": [
    "CombinedDataArray = DewanIOhandler.loadDataFromDisk('CombinedData', fileHeader, './ImagingAnalysis/CombinedData')\n",
    "\n",
    "folder = 'ImagingAnalysis/PreProcessedData'\n",
    "FVData = DewanIOhandler.loadDataFromDisk('FVData', fileHeader, folder)\n",
    "CellList = DewanIOhandler.loadDataFromDisk('CellList', fileHeader, folder)\n",
    "\n",
    "folder = 'ImagingAnalysis/AUROCImports'\n",
    "FinalValveOnIndex = DewanIOhandler.loadDataFromDisk('FVonIdx', fileHeader, folder)\n",
    "UnixTimeArray = DewanIOhandler.loadDataFromDisk('UnixTimeArray', fileHeader, folder)\n",
    "OdorData = DewanIOhandler.loadDataFromDisk('OdorData', fileHeader, folder)\n",
    "FinalValveTimeMap = DewanIOhandler.loadDataFromDisk('FVTimeMap', fileHeader, folder)\n",
    "Baseline_Shift_Data = DewanIOhandler.loadDataFromDisk('Baseline_Shift_Data', fileHeader, folder)\n"
   ]
  },
  {
   "cell_type": "markdown",
   "source": [
    "### 6A: AUROC"
   ],
   "metadata": {
    "collapsed": false
   }
  },
  {
   "cell_type": "code",
   "execution_count": 7,
   "outputs": [
    {
     "data": {
      "text/plain": "AUROC Progress:   0%|          | 0/18 [00:00<?, ?it/s]",
      "application/vnd.jupyter.widget-view+json": {
       "version_major": 2,
       "version_minor": 0,
       "model_id": "f244dbfbf5f84f1ea3302d1fcb55a3c5"
      }
     },
     "metadata": {},
     "output_type": "display_data"
    }
   ],
   "source": [
    "# STEP 6A.1: CREATE DATA STORAGE OBJECT FOR ALL THE DATA NEEDED FOR AUROC\n",
    "AUROCData = DewanDataStore.AUROCdataStore(Baseline_Shift_Data, CellList, OdorData[:len(FinalValveOnIndex)-1], FVData, fileHeader, FinalValveOnIndex,\n",
    "                                          UnixTimeArray, baselineDuration, responseDuration, PlotFigures)\n",
    "# STEP 6A.2: RUN AUROC FOR ON-TIME CELLS\n",
    "onTimeReturnValues = DewanAUROC.AUROC(AUROCData, False)\n",
    "\n",
    "# STEP 6A.3: RUN AUROC FOR LATENT CELLS\n",
    "latentReturnValues = DewanAUROC.AUROC(AUROCData, True)"
   ],
   "metadata": {
    "collapsed": false,
    "ExecuteTime": {
     "end_time": "2023-09-05T00:03:15.357304800Z",
     "start_time": "2023-09-05T00:00:05.032045900Z"
    }
   }
  },
  {
   "cell_type": "markdown",
   "source": [
    "### 6B: Parse AUROC Output"
   ],
   "metadata": {
    "collapsed": false
   }
  },
  {
   "cell_type": "code",
   "execution_count": null,
   "id": "ac54d824-f7d2-4eba-98e2-df7bc10162c2",
   "metadata": {},
   "outputs": [],
   "source": [
    "onTimeAUROCSignificanceTable = []\n",
    "onTimeAUROCValueTable = []\n",
    "onTimeAUROC_Ubounds = []\n",
    "onTimeAUROC_Lbounds = []\n",
    "onTimeAUROC_prctile = []\n",
    "\n",
    "\n",
    "latentAUROCSignificanceTable = []\n",
    "latentAUROCValueTable = []\n",
    "latentAUROC_Ubounds = []\n",
    "latentAUROC_Lbounds = []\n",
    "latentAUROC_prctile = []\n",
    "\n",
    "baseline_start_indexes = []\n",
    "baseline_end_indexes = []\n",
    "ontime_evoked_start_indexes = []\n",
    "ontime_evoked_end_indexes = []\n",
    "latent_evoked_start_indexes = []\n",
    "latent_evoked_end_indexes = []\n",
    "\n",
    "for returns in onTimeReturnValues:\n",
    "    onTimeAUROCSignificanceTable.append(returns.response_chart)\n",
    "    onTimeAUROCValueTable.append(returns.auroc_values)\n",
    "    onTimeAUROC_Ubounds.append(returns.all_upper_bounds)\n",
    "    onTimeAUROC_Lbounds.append(returns.all_lower_bounds)\n",
    "    onTimeAUROC_prctile.append(returns.percentiles)\n",
    "    baseline_start_indexes.append(returns.baseline_start_indexes)\n",
    "    baseline_end_indexes.append(returns.baseline_end_indexes)\n",
    "    ontime_evoked_start_indexes.append(returns.evoked_start_indexes)\n",
    "    ontime_evoked_end_indexes.append(returns.evoked_end_indexes)\n",
    "\n",
    "\n",
    "for returns in latentReturnValues:\n",
    "    latentAUROCSignificanceTable.append(returns.response_chart)\n",
    "    latentAUROCValueTable.append(returns.auroc_values)\n",
    "    latentAUROC_Ubounds.append(returns.all_upper_bounds)\n",
    "    latentAUROC_Lbounds.append(returns.all_lower_bounds)\n",
    "    latentAUROC_prctile.append(returns.percentiles)\n",
    "    latent_evoked_start_indexes.append(returns.evoked_start_indexes)\n",
    "    latent_evoked_end_indexes.append(returns.evoked_end_indexes)\n",
    "\n",
    "onTimeAUROCSignificanceTable = np.array(onTimeAUROCSignificanceTable)\n",
    "latentAUROCSignificanceTable = np.array(latentAUROCSignificanceTable)\n",
    "onTimeAUROCSignificanceTable = onTimeAUROCSignificanceTable.astype(float)\n",
    "latentAUROCSignificanceTable = latentAUROCSignificanceTable.astype(float)\n",
    "\n",
    "#baseline_start_indexes = np.array(baseline_start_indexes)\n",
    "# baseline_end_indexes = np.array(baseline_end_indexes)\n",
    "# ontime_evoked_start_indexes = np.array(ontime_evoked_start_indexes)\n",
    "# ontime_evoked_end_indexes = np.array(ontime_evoked_end_indexes)\n",
    "# latent_evoked_start_indexes = np.array(latent_evoked_start_indexes)\n",
    "# latent_evoked_end_indexes = np.array(latent_evoked_end_indexes)\n",
    "\n",
    "for rows in range(len(latentAUROCSignificanceTable)):\n",
    "    evokedCells = np.nonzero(onTimeAUROCSignificanceTable[rows] != 0)\n",
    "    latentAUROCSignificanceTable[rows][evokedCells] = 0"
   ]
  },
  {
   "attachments": {},
   "cell_type": "markdown",
   "id": "586dc7e3-f0b5-4fca-8137-014f3f253fd1",
   "metadata": {},
   "source": [
    "### 6C: Save AUROC Output"
   ]
  },
  {
   "cell_type": "code",
   "execution_count": null,
   "id": "112e160a-a8af-40e4-8a2f-c5a5ec201a2c",
   "metadata": {},
   "outputs": [],
   "source": [
    "folder = 'ImagingAnalysis/AUROCData'\n",
    "\n",
    "DewanIOhandler.saveDataToDisk(\n",
    "    onTimeAUROCSignificanceTable, 'onTimeAUROCSignificanceTable', fileHeader, folder)\n",
    "DewanIOhandler.saveDataToDisk(\n",
    "    onTimeAUROCValueTable, 'onTimeAUROCValueTable', fileHeader, folder)\n",
    "DewanIOhandler.saveDataToDisk(\n",
    "    onTimeAUROC_Lbounds, 'onTimeAUROC_Lbounds', fileHeader, folder)\n",
    "DewanIOhandler.saveDataToDisk(\n",
    "    onTimeAUROC_Ubounds, 'onTimeAUROC_Ubounds', fileHeader, folder)\n",
    "DewanIOhandler.saveDataToDisk(\n",
    "    onTimeAUROC_prctile, 'onTimeAUROC_prctile', fileHeader, folder)\n",
    "\n",
    "DewanIOhandler.saveDataToDisk(\n",
    "    baseline_start_indexes, 'baseline_start_indexes', fileHeader, folder)\n",
    "DewanIOhandler.saveDataToDisk(\n",
    "    baseline_end_indexes, 'baseline_end_indexes', fileHeader, folder)\n",
    "DewanIOhandler.saveDataToDisk(\n",
    "    ontime_evoked_start_indexes, 'ontime_evoked_start_indexes', fileHeader, folder)\n",
    "DewanIOhandler.saveDataToDisk(\n",
    "    ontime_evoked_end_indexes, 'ontime_evoked_end_indexes', fileHeader, folder)\n",
    "\n",
    "DewanIOhandler.saveDataToDisk(\n",
    "    latentAUROCSignificanceTable, 'latentAUROCSignificanceTable', fileHeader, folder)\n",
    "DewanIOhandler.saveDataToDisk(\n",
    "    latentAUROCValueTable, 'latentAUROCValueTable', fileHeader, folder)\n",
    "DewanIOhandler.saveDataToDisk(\n",
    "    latentAUROC_Lbounds, 'latentAUROC_Lbounds', fileHeader, folder)\n",
    "DewanIOhandler.saveDataToDisk(\n",
    "    latentAUROC_Ubounds, 'latentAUROC_Ubounds', fileHeader, folder)\n",
    "DewanIOhandler.saveDataToDisk(\n",
    "    latentAUROC_prctile, 'latentAUROC_prctile', fileHeader, folder)\n",
    "\n",
    "DewanIOhandler.saveDataToDisk(\n",
    "    latent_evoked_start_indexes, 'latent_evoked_start_indexes', fileHeader, folder)\n",
    "DewanIOhandler.saveDataToDisk(\n",
    "    latent_evoked_end_indexes, 'latent_evoked_end_indexes', fileHeader, folder)"
   ]
  },
  {
   "attachments": {},
   "cell_type": "markdown",
   "id": "afb6f565",
   "metadata": {},
   "source": [
    "### Checkpoint 3: Load Data for Plotting"
   ]
  },
  {
   "cell_type": "code",
   "execution_count": null,
   "id": "581d2227-89b4-44cb-8eef-2360b42c869c",
   "metadata": {},
   "outputs": [],
   "source": [
    "folder = 'ImagingAnalysis/AUROCData'\n",
    "\n",
    "onTimeAUROCSignificanceTable = DewanIOhandler.loadDataFromDisk(\n",
    "    'onTimeAUROCSignificanceTable', fileHeader, folder)\n",
    "onTimeAUROCValueTable = DewanIOhandler.loadDataFromDisk(\n",
    "    'onTimeAUROCValueTable', fileHeader, folder)\n",
    "onTimeAUROC_Lbounds = DewanIOhandler.loadDataFromDisk(\n",
    "    'onTimeAUROC_Lbounds', fileHeader, folder)\n",
    "onTimeAUROC_Ubounds = DewanIOhandler.loadDataFromDisk(\n",
    "    'onTimeAUROC_Ubounds', fileHeader, folder)\n",
    "onTimeAUROC_prctile = DewanIOhandler.loadDataFromDisk(\n",
    "    'onTimeAUROC_prctile', fileHeader, folder)\n",
    "\n",
    "latentAUROCSignificanceTable = DewanIOhandler.loadDataFromDisk(\n",
    "    'latentAUROCSignificanceTable', fileHeader, folder)\n",
    "latentAUROCValueTable = DewanIOhandler.loadDataFromDisk(\n",
    "    'latentAUROCValueTable', fileHeader, folder)\n",
    "latentAUROC_Lbounds = DewanIOhandler.loadDataFromDisk(\n",
    "    'latentAUROC_Lbounds', fileHeader, folder)\n",
    "latentAUROC_Ubounds = DewanIOhandler.loadDataFromDisk(\n",
    "    'latentAUROC_Ubounds', fileHeader, folder)\n",
    "latentAUROC_prctile = DewanIOhandler.loadDataFromDisk(\n",
    "    'latentAUROC_prctile', fileHeader, folder)\n",
    "\n",
    "\n",
    "baseline_start_indexes = DewanIOhandler.loadDataFromDisk(\n",
    "    'baseline_start_indexes', fileHeader, folder)\n",
    "baseline_end_indexes = DewanIOhandler.loadDataFromDisk(\n",
    "    'baseline_end_indexes', fileHeader, folder)\n",
    "ontime_evoked_start_indexes = DewanIOhandler.loadDataFromDisk(\n",
    "    'ontime_evoked_start_indexes', fileHeader, folder)\n",
    "ontime_evoked_end_indexes = DewanIOhandler.loadDataFromDisk(\n",
    "    'ontime_evoked_end_indexes', fileHeader, folder)\n",
    "latent_evoked_start_indexes = DewanIOhandler.loadDataFromDisk(\n",
    "    'latent_evoked_start_indexes', fileHeader, folder)\n",
    "latent_evoked_end_indexes = DewanIOhandler.loadDataFromDisk(\n",
    "    'latent_evoked_end_indexes', fileHeader, folder)\n",
    "\n",
    "CombinedDataArray = DewanIOhandler.loadDataFromDisk(\n",
    "    'CombinedData', fileHeader, 'ImagingAnalysis/CombinedData')\n",
    "\n",
    "folder = 'ImagingAnalysis/PreProcessedData'\n",
    "FVData = DewanIOhandler.loadDataFromDisk('FVData', fileHeader, folder)\n",
    "CellList = DewanIOhandler.loadDataFromDisk('CellList', fileHeader, folder)\n",
    "\n",
    "folder = 'ImagingAnalysis/AUROCImports'\n",
    "FinalValveOnIndex = DewanIOhandler.loadDataFromDisk('FVonIdx', fileHeader, folder)\n",
    "UnixTimeArray = DewanIOhandler.loadDataFromDisk(\n",
    "    'UnixTimeArray', fileHeader, folder)\n",
    "OdorData = DewanIOhandler.loadDataFromDisk('OdorData', fileHeader, folder)\n",
    "FinalValveTimeMap = DewanIOhandler.loadDataFromDisk('FVTimeMap', fileHeader, folder)\n",
    "Baseline_Shift_Data = DewanIOhandler.loadDataFromDisk(\n",
    "    'Baseline_Shift_Data', fileHeader, folder)\n"
   ]
  },
  {
   "cell_type": "markdown",
   "source": [
    "### Step 7: Plotting"
   ],
   "metadata": {
    "collapsed": false
   }
  },
  {
   "attachments": {},
   "cell_type": "markdown",
   "id": "565dd979-f777-4297-a731-44d2e321a812",
   "metadata": {
    "tags": []
   },
   "source": [
    "### 4b: Cells v. Odors AUROC Significance"
   ]
  },
  {
   "cell_type": "code",
   "execution_count": null,
   "id": "47259a9f-88ae-4d74-b61b-d1f634788f8f",
   "metadata": {},
   "outputs": [],
   "source": [
    "onTimePlottingData = DewanDataStore.PlottingDataStore(Baseline_Shift_Data, CellList, OdorData, FVData, fileHeader, FinalValveTimeMap, FinalValveOnIndex, UnixTimeArray, baselineDuration, responseDuration, onTimeAUROCSignificanceTable, onTimeAUROC_Lbounds, onTimeAUROC_Ubounds, onTimeAUROC_prctile, baseline_start_indexes, baseline_end_indexes, ontime_evoked_start_indexes, ontime_evoked_end_indexes)\n",
    "\n",
    "latentPlottingData = DewanDataStore.PlottingDataStore(Baseline_Shift_Data, CellList, OdorData, FVData, fileHeader, FinalValveTimeMap, FinalValveOnIndex, UnixTimeArray, baselineDuration, responseDuration, latentAUROCSignificanceTable, latentAUROC_Lbounds, latentAUROC_Ubounds, latentAUROC_prctile, baseline_start_indexes, baseline_end_indexes, latent_evoked_start_indexes, latent_evoked_end_indexes)"
   ]
  },
  {
   "attachments": {},
   "cell_type": "markdown",
   "id": "43a76044",
   "metadata": {},
   "source": [
    "#### 4b-1: Plot Cell v Odor Significance Matricies"
   ]
  },
  {
   "cell_type": "code",
   "execution_count": null,
   "id": "559f2088",
   "metadata": {},
   "outputs": [],
   "source": [
    "DewanPlotting.plotCellvOdorMatricies(onTimePlottingData, False)\n",
    "DewanPlotting.plotCellvOdorMatricies(latentPlottingData, True)"
   ]
  },
  {
   "attachments": {},
   "cell_type": "markdown",
   "id": "82509cfa-a9af-45d3-a89a-50388882dc4f",
   "metadata": {
    "tags": []
   },
   "source": [
    "#### 4b-2: Plot All Cell Traces"
   ]
  },
  {
   "cell_type": "code",
   "execution_count": null,
   "id": "f3dcb30e-5c3d-4250-b88c-6df9c98a0197",
   "metadata": {},
   "outputs": [],
   "source": [
    "# Plot all cells v odors; only needed for AUROC verification\n",
    "DewanPlotting.plotAllCells(onTimePlottingData, False)\n",
    "DewanPlotting.plotAllCells(latentPlottingData, True)"
   ]
  },
  {
   "attachments": {},
   "cell_type": "markdown",
   "id": "c3097709",
   "metadata": {},
   "source": [
    "#### 4b-3: Plot Significant Cell Traces"
   ]
  },
  {
   "cell_type": "code",
   "execution_count": null,
   "id": "089eada6",
   "metadata": {},
   "outputs": [],
   "source": [
    "# Oh no! Nothing here yet :(\n",
    "# https://media.tenor.com/vMvR0gEolCEAAAAC/nothing-to-see-here-explosion.gif"
   ]
  },
  {
   "attachments": {},
   "cell_type": "markdown",
   "id": "95fd1d78",
   "metadata": {},
   "source": [
    "### 4c: Plot Trace Variance"
   ]
  },
  {
   "cell_type": "code",
   "execution_count": null,
   "id": "0db10c67",
   "metadata": {},
   "outputs": [],
   "source": [
    "trialScatterData = DewanDataStore.AUROCdataStore(\n",
    "    Baseline_Shift_Data, CellList, OdorData, FVData, fileHeader, FinalValveOnIndex, UnixTimeArray, baselineDuration, responseDuration, False)\n",
    "\n",
    "\n",
    "DewanPlotting.plotTrialsPerPairing(\n",
    "    trialScatterData, onTimeAUROCSignificanceTable, False)\n",
    "DewanPlotting.plotTrialsPerPairing(\n",
    "    trialScatterData, onTimeAUROCSignificanceTable, True)\n"
   ]
  },
  {
   "cell_type": "markdown",
   "source": [
    "## 5. Statistics"
   ],
   "metadata": {
    "collapsed": false
   }
  },
  {
   "cell_type": "markdown",
   "source": [
    "### 5a. Load Data"
   ],
   "metadata": {
    "collapsed": false
   }
  },
  {
   "cell_type": "code",
   "execution_count": null,
   "outputs": [],
   "source": [
    "#Oh no, nothing here yet :("
   ],
   "metadata": {
    "collapsed": false
   }
  },
  {
   "cell_type": "markdown",
   "source": [
    "### 5b. Correlation Coefficients"
   ],
   "metadata": {
    "collapsed": false
   }
  },
  {
   "cell_type": "code",
   "execution_count": null,
   "id": "6205f756",
   "metadata": {},
   "outputs": [],
   "source": [
    "similarityData = DewanDataStore.AUROCdataStore(Baseline_Shift_Data, CellList, OdorData, FVData, fileHeader, FinalValveOnIndex, UnixTimeArray, baselineDuration, responseDuration, False)\n",
    "CCs = DewanStats.crossTrialConsistency(similarityData, onTimeAUROCSignificanceTable, False)"
   ]
  },
  {
   "cell_type": "markdown",
   "source": [
    "### 5c. Lifetime and Population Sparseness"
   ],
   "metadata": {
    "collapsed": false
   }
  },
  {
   "cell_type": "code",
   "execution_count": null,
   "outputs": [],
   "source": [
    "sparsenessData = DewanDataStore.AUROCdataStore(\n",
    "    Baseline_Shift_Data, CellList, OdorData, FVData, fileHeader, FinalValveOnIndex, UnixTimeArray, baselineDuration, responseDuration, False)\n",
    "\n",
    "lifetimeSparseness, cells = DewanStats.lifetimeSparseness(sparsenessData, onTimeAUROCSignificanceTable)\n",
    "populationSparseness, odors = DewanStats.popSparseness(sparsenessData, onTimeAUROCSignificanceTable)\n",
    "lsPairs = [f'Cell {cells[i]}: {round(lifetimeSparseness[i],5)}' for i in range(len(cells))]\n",
    "psPairs = [f'Odor: {sparsenessData.unique_odors[odors[i]]}: {round(populationSparseness[i],5)}' for i in range(len(odors))]"
   ],
   "metadata": {
    "collapsed": false
   }
  },
  {
   "cell_type": "code",
   "execution_count": null,
   "outputs": [],
   "source": [
    "\n",
    "psPairs\n"
   ],
   "metadata": {
    "collapsed": false
   }
  },
  {
   "cell_type": "code",
   "execution_count": null,
   "outputs": [],
   "source": [],
   "metadata": {
    "collapsed": false
   }
  }
 ],
 "metadata": {
  "kernelspec": {
   "display_name": "ImagingAnalysis",
   "language": "python",
   "name": "python3"
  },
  "language_info": {
   "codemirror_mode": {
    "name": "ipython",
    "version": 3
   },
   "file_extension": ".py",
   "mimetype": "text/x-python",
   "name": "python",
   "nbconvert_exporter": "python",
   "pygments_lexer": "ipython3",
   "version": "3.8.15"
  },
  "vscode": {
   "interpreter": {
    "hash": "977baf04aa409d7582f6e94b1f1f1d2e9ac45da44046a9cec7b1a770a676514b"
   }
  }
 },
 "nbformat": 4,
 "nbformat_minor": 5
}
