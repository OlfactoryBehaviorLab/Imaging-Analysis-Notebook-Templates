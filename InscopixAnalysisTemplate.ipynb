{
 "cells": [
  {
   "cell_type": "markdown",
   "id": "431b3fdc-e892-403d-9730-f663e30f7a92",
   "metadata": {},
   "source": [
    "# DEWAN LAB MICROENDOSCOPE ANALYSIS TEMPLATE\n",
    "##### This script uses functions from the Inscopix API to: 1) preprocess video files (i.e., deinterleaving, bandpass filtering and downsampling), 2) motion correction, 3) dF/F normalization, 4) identify cells using CNMFE algorithm, 5) produce a max projection image, and 6) export files. \n",
    "#### Copy this Jupyter Notebook into a folder specific for the animal/session, rename it according to the animal/session (e.g., VGAT4_Session1_InscopixAnalysis), and adjust user configurables"
   ]
  },
  {
   "cell_type": "markdown",
   "id": "ea17900a-0be2-4ded-b84b-e510927046cf",
   "metadata": {},
   "source": [
    "### Step 1: Import Modules"
   ]
  },
  {
   "cell_type": "code",
   "id": "dfc93201-d673-4eb8-ae72-f02418b8e675",
   "metadata": {},
   "source": [
    "import time\n",
    "import isx \n",
    "#  Inscopix API; Navigate to C:\\Program Files\\Inscopix\\Data Processing\\ ; run pip install .\n",
    "from pathlib import Path\n",
    "from dewan_calcium.helpers import IO, parse_json\n",
    "from dewan_calcium.helpers.project_folder import ProjectFolder\n",
    "# Must install Dewan Lab Calcium Imaging Toolbox found here: https://github.com/OlfactoryBehaviorLab/dewan_calcium"
   ],
   "outputs": [],
   "execution_count": null
  },
  {
   "cell_type": "markdown",
   "id": "82e50134-f5fe-4e0a-89ad-ae3d7682e3e1",
   "metadata": {},
   "source": [
    "### Step 2: Adjust User Configurables"
   ]
  },
  {
   "cell_type": "code",
   "id": "b90da9a41223d3c8",
   "metadata": {
    "collapsed": false
   },
   "source": [
    "experiment_name = 'NAME_GOES_HERE'\n",
    "override_data_dir = '/mnt/d/Test_Data/Odor/VGLUT-20'\n",
    "\n",
    "# Set to True to delete all the intermediary Inscopix Files\n",
    "cleanup_interim_files = False\n",
    "\n",
    "# Focal plane(s) where cells were recorded \n",
    "# If set to -1, the session.json file will be read to automatically set the focal plane; replace -1 to manually set focal planes\n",
    "# If these values do not match the efocus used in the exp, program will stop\n",
    "focal_planes = [-1]\n",
    "\n",
    "# Downsample Settings\n",
    "spatial_downsample_factor = 4 # Factor of 4 is recommended for CNMFE\n",
    "temporal_downsample_factor = 1 # CNMFE is best suited for temporal resolution <= 10Hz; adjust according to floor(Frame Rate / 10); we choose to downsample all videos to 10Hz\n",
    "\n",
    "# Spatial Bandpass Settings\n",
    "spatial_bp_low_cutoff = 0.005\n",
    "spatial_bp_high_cutoff = 0.500\n",
    "\n",
    "# Motion Correction Settings\n",
    "max_translation = 20\n",
    "motion_c_low_bandpass_cutoff = None\n",
    "motion_c_high_bandpass_cutoff = None\n",
    "\n",
    "# CNMFE Settings\n",
    "cell_diameter = 7\n",
    "merge_threshold = 0.7\n",
    "gaussian_kernel_size = 3\n",
    "output_unit_type = 0\n",
    "minimum_correlation = 0.9\n",
    "minimum_pnr = 15"
   ],
   "outputs": [],
   "execution_count": null
  },
  {
   "metadata": {},
   "cell_type": "code",
   "source": [
    "if override_data_dir is not None:\n",
    "    project_folder = ProjectFolder(project_dir=override_data_dir)\n",
    "else:\n",
    "    project_folder = ProjectFolder()"
   ],
   "id": "54f2d02da0a5ac55",
   "outputs": [],
   "execution_count": null
  },
  {
   "cell_type": "markdown",
   "id": "10f91712-9bfc-4bb9-85d3-1f1a2eb86c55",
   "metadata": {
    "collapsed": false
   },
   "source": [
    "### Step 3: Get directories and video files"
   ]
  },
  {
   "cell_type": "code",
   "id": "53c86da4-55fb-4dc9-a043-cca5b940ee94",
   "metadata": {},
   "source": [
    "interim_output_directory = project_folder.inscopix_dir.interim_file_dir.path\n",
    "\n",
    "output_directory = project_folder.inscopix_dir.path\n",
    "\n",
    "video_files = project_folder.raw_data_dir.raw_recordings\n",
    "gpio_input_path = project_folder.raw_data_dir.raw_GPIO_path\n",
    "session_json_path = project_folder.raw_data_dir.session_json_path\n",
    "video_base = gpio_input_path.stem"
   ],
   "outputs": [],
   "execution_count": null
  },
  {
   "cell_type": "code",
   "id": "c6591a16aa9c14c2",
   "metadata": {
    "collapsed": false
   },
   "source": [
    "# 3C: Parse Focal Planes out of JSON File\n",
    "\n",
    "if focal_planes == [-1]:\n",
    "    gain, led_power, focal_planes = parse_json.get_session_settings(session_json_path)\n",
    "    \n",
    "    focal_planes = [focal_planes]  # Wrap focal planes in a list\n",
    "    print(f'Focal Plane(s) set to: {focal_planes}')\n",
    "    print(f'Recording Gain: {gain}')\n",
    "    print(f'Recording LED Power: {led_power}')"
   ],
   "outputs": [],
   "execution_count": null
  },
  {
   "cell_type": "markdown",
   "id": "e66f96194c413cd3",
   "metadata": {
    "collapsed": false
   },
   "source": [
    "### STEP 4: Deinterleaving - Split multiplane recordings into individual files for each focal plane"
   ]
  },
  {
   "cell_type": "code",
   "id": "469d0d5be04f331b",
   "metadata": {
    "collapsed": false
   },
   "source": [
    "if len(focal_planes) == 1:  # If there is only one focal plane, we don't need to deinterleave!\n",
    "    videos_to_process = video_files\n",
    "else:  # If there is more than one focal plane, deinterleave!\n",
    "    deinterleave_paths = IO.generate_deinterleaved_video_paths(video_files, interim_output_directory, focal_planes)\n",
    "    if IO.check_files(video_files, deinterleave_paths):\n",
    "        print(f\"Starting deinterleaving process. Creating videos for focal planes: {focal_planes}\")\n",
    "        try:\n",
    "            isx.de_interleave(video_files, deinterleave_paths, focal_planes)\n",
    "            print(\"Finished Deinterleaving!\")\n",
    "        except Exception as exception:  # This isn't great form, but Inscopix throws a very generic Exception\n",
    "            print(exception.args[0])\n",
    "            print(\"It is likely the number of focal planes provided do not match the number in the video!\")\n",
    "    videos_to_process = deinterleave_paths"
   ],
   "outputs": [],
   "execution_count": null
  },
  {
   "cell_type": "markdown",
   "id": "aebd8dffd8113ec8",
   "metadata": {
    "collapsed": false
   },
   "source": [
    "### Step 5A-E: Process video files using standard analysis pipeline\n",
    "#### Dewan Lab Specific Instructions: The steps below can be run on R2D2"
   ]
  },
  {
   "cell_type": "code",
   "id": "3cb6ea9d2d47a304",
   "metadata": {
    "collapsed": false
   },
   "source": [
    "for video in videos_to_process:\n",
    "    print(f'Processing file: {video}')\n",
    "    video = str(video)\n",
    "\n",
    "    # STEP 5A: PREPROCESS VIDEO FILES WITH TEMPORAL AND SPATIAL DOWNSAMPLING\n",
    "    preprocessed_files = IO.make_isx_path([video], interim_output_directory, 'PP')\n",
    "    if IO.check_files([video], preprocessed_files):\n",
    "        # Checks if input file(s) are missing, or output file(s) already exist, function returns True if this step can be run\n",
    "        print('Starting Preprocessing...')\n",
    "        isx.preprocess(video, preprocessed_files, temporal_downsample_factor=temporal_downsample_factor, spatial_downsample_factor=spatial_downsample_factor)\n",
    "        print('Preprocessing Finished!')\n",
    "\n",
    "\n",
    "    # STEP 5B: APPLY BANDPASS FILTER TO VIDEO FILES\n",
    "    bandpass_files = IO.make_isx_path(preprocessed_files, interim_output_directory, 'BP')\n",
    "    if IO.check_files(preprocessed_files, bandpass_files):\n",
    "        print('Starting Bandpass Filtering...')\n",
    "        isx.spatial_filter(preprocessed_files, bandpass_files, low_cutoff=spatial_bp_low_cutoff, high_cutoff=spatial_bp_high_cutoff)\n",
    "        print('Bandpass Filtering Finished!')\n",
    "\n",
    "\n",
    "    # STEP 5C.1: GENERATE MEAN IMAGE TO USE AS THE REFERENCE FRAME FOR MOTION CORRECTION\n",
    "    mean_projection_file = IO.make_isx_path([video], interim_output_directory, 'mean_image')\n",
    "    if IO.check_files(bandpass_files, mean_projection_file):\n",
    "        print('Creating Mean Image...')\n",
    "        isx.project_movie(bandpass_files, mean_projection_file[0], stat_type='mean')\n",
    "        print('Mean Image Created!')\n",
    "\n",
    "    # STEP 5C.2: APPLY MOTION CORRECTION\n",
    "    motion_correction_files = IO.make_isx_path(bandpass_files, interim_output_directory, 'MC')\n",
    "    translation_file = IO.make_isx_path(motion_correction_files, interim_output_directory, 'translations', 'csv')[0]\n",
    "    crop_rect_file = IO.make_isx_path([video], interim_output_directory, 'crop_rect', 'csv')[0]\n",
    "    if IO.check_files(bandpass_files, [motion_correction_files, translation_file, crop_rect_file]):\n",
    "        print('Starting Motion Correction...')\n",
    "        isx.motion_correct(bandpass_files, motion_correction_files, max_translation=max_translation, reference_file_name=mean_projection_file[0],\n",
    "                           low_bandpass_cutoff=motion_c_low_bandpass_cutoff, high_bandpass_cutoff=motion_c_high_bandpass_cutoff,\n",
    "                           output_translation_files=translation_file, output_crop_rect_file=crop_rect_file)\n",
    "        print('Motion Correction Finished!')\n",
    "\n",
    "\n",
    "    # STEP 5D: DELTA F/F NORMALIZATION\n",
    "    dff_files = IO.make_isx_path(motion_correction_files, interim_output_directory, 'DFF')\n",
    "    if IO.check_files(motion_correction_files, dff_files):\n",
    "        print('Calculating DF/F...')\n",
    "        isx.dff(motion_correction_files, dff_files, f0_type='mean')\n",
    "        print('Calculating DF/F Finished!')\n",
    "\n",
    "\n",
    "    # STEP 5E.1: MAKE A MAX PROJECTION IMAGE OF THE RECORDING (NOTE IT IS DOWNSAMPLED)\n",
    "    max_projection_file = IO.make_isx_path(dff_files, interim_output_directory, 'MAX_PROJ')\n",
    "    if IO.check_files([dff_files[0]], max_projection_file):\n",
    "        print(\"Starting Max Projection Creation. This might take a while...\")\n",
    "        isx.project_movie(dff_files[0], max_projection_file[0], stat_type='max')\n",
    "    # STEP 5E.2: CONVERT ISXD MAX PROJECTION IMAGE TO A TIFF FILE\n",
    "    tiff_path = IO.make_isx_path(max_projection_file, output_directory, addition='low-resolution', extension='tiff')\n",
    "    if IO.check_files([max_projection_file[0]], tiff_path):\n",
    "        isx.export_isxd_image_to_tiff(max_projection_file[0], tiff_path[0])\n",
    "        print(\"Max Projection Creation finished!\")"
   ],
   "outputs": [],
   "execution_count": null
  },
  {
   "cell_type": "markdown",
   "id": "22f280fc007c7039",
   "metadata": {
    "collapsed": false
   },
   "source": [
    "### Step 5F-I: Process video files using standard analysis pipeline\n",
    "#### Dewan Lab Specific Instructions: The steps below should be run locally if an odor experiment or very large recording\n",
    "Run steps 1-4, then skip here after the first part of step 5 has finished"
   ]
  },
  {
   "cell_type": "code",
   "id": "474e0f884f5708aa",
   "metadata": {
    "collapsed": false
   },
   "source": [
    "for video in videos_to_process:\n",
    "    # STEP 5F.1: Generate file paths for CNMFE\n",
    "    preprocessed_files = IO.make_isx_path([video], interim_output_directory, 'PP')\n",
    "    bandpass_files = IO.make_isx_path(preprocessed_files, interim_output_directory, 'BP')\n",
    "    motion_correction_files = IO.make_isx_path(bandpass_files, interim_output_directory, 'MC')\n",
    "    dff_files = IO.make_isx_path(motion_correction_files, interim_output_directory, 'DFF')\n",
    "    translation_file = IO.make_isx_path(motion_correction_files, interim_output_directory, 'translations', 'csv')[0]\n",
    "    crop_rect_file = IO.make_isx_path([video], interim_output_directory, 'crop_rect', 'csv')[0]\n",
    "    max_projection_file = IO.make_isx_path(dff_files, interim_output_directory, 'MAX_PROJ')\n",
    "\n",
    "    # STEP 5F.2: RUN CNFME CELL DETECTION ALGORITHM\n",
    "    cnmfe_files = IO.make_isx_path(motion_correction_files, output_directory, 'CNMFE')\n",
    "    if IO.check_files(motion_correction_files, cnmfe_files):\n",
    "        print('Running CNMFe (This Will Take a Long Time)...')\n",
    "        start_time = time.time()\n",
    "        isx.run_cnmfe(motion_correction_files, cnmfe_files, str(interim_output_directory), cell_diameter=cell_diameter, merge_threshold=merge_threshold, gaussian_kernel_size=gaussian_kernel_size,\n",
    "                      output_unit_type='df', min_corr=minimum_correlation, min_pnr=minimum_pnr, processing_mode='parallel_patches', num_threads=8)  #  No DF/F on CNMFE Files\n",
    "        end_time = time.time()\n",
    "        print(f'CNMFE Finished! Total Elapsed Time: {round((end_time - start_time) / 60, 2)} (min)')\n",
    "    \n",
    "    if IO.check_files(cnmfe_files, None):\n",
    "        # If CNMFE finds no cells, it does not create an output file. The following functions will crash without that file.\n",
    "        # STEP 5G: APPLY CELL CONTOURS (OUTLINES)\n",
    "        contour_files = IO.make_isx_path(dff_files, output_directory, 'AC')\n",
    "        if IO.check_files(dff_files, contour_files):\n",
    "            print('Applying Cell Contours...')\n",
    "            isx.apply_cell_set(dff_files, cnmfe_files[0], contour_files, 0)\n",
    "            print('Finished Applying Cell Contours!')\n",
    "    \n",
    "    \n",
    "        # STEP 5H: EXPORT DATA FILES\n",
    "        tiff_image_path = IO.make_isx_path([video], output_directory, extension='tiff')[0]\n",
    "        trace_file_path = IO.make_isx_path([video], output_directory, 'TRACES', 'csv')[0]\n",
    "        props_file_path = IO.make_isx_path([video], output_directory, 'props', 'csv')[0]\n",
    "        json_file_path = IO.make_isx_path([video], output_directory, 'CONTOURS', 'json')[0]\n",
    "        gpio_output_path = IO.make_isx_path([video], output_directory, 'GPIO', 'csv')[0]\n",
    "        if IO.check_files(contour_files, [props_file_path, tiff_image_path, trace_file_path, gpio_output_path]):\n",
    "            print('Exporting Traces and Props...')\n",
    "            isx.export_cell_set_to_csv_tiff(contour_files, trace_file_path, tiff_image_path, time_ref='unix', output_props_file=props_file_path)\n",
    "            print('Exporting Cell Contours...')\n",
    "            isx.export_cell_contours(cnmfe_files[0], json_file_path)\n",
    "            print(\"Exporting GPIO to csv...\")\n",
    "            isx.export_gpio_set_to_csv(str(gpio_input_path), str(gpio_output_path), time_ref='unix')\n",
    "            print(\"File export finished!\")\n",
    "    \n",
    "        print(f'Processing Finished for {video}!')\n",
    "    \n",
    "    \n",
    "        # STEP 5I (OPTIONAL): DELETE ALL INTERIM FILES\n",
    "        if cleanup_interim_files:\n",
    "            for each in preprocessed_files, bandpass_files, motion_correction_files, dff_files, max_projection_file:\n",
    "                Path(each[0]).unlink()\n",
    "    \n",
    "    else:\n",
    "        print(\"CNMFE Found no cells. There is no data to export!\")\n"
   ],
   "outputs": [],
   "execution_count": null
  },
  {
   "cell_type": "markdown",
   "id": "83a67e822522575d",
   "metadata": {
    "ExecuteTime": {
     "end_time": "2023-08-28T20:43:23.128654600Z",
     "start_time": "2023-08-28T20:43:23.059655100Z"
    },
    "collapsed": false
   },
   "source": [
    "### STEP 6:  Produce a high resolution max projection image; This must be done for the manual curation of cells\n",
    "#### Must run steps 1-4 first to load configuration, file paths, and deinterleave if needed\n"
   ]
  },
  {
   "cell_type": "code",
   "id": "5068ffba347b079a",
   "metadata": {
    "collapsed": false
   },
   "source": [
    "for video in videos_to_process:\n",
    "    print(f'Processing file: {video}')\n",
    "    video = str(video)\n",
    "\n",
    "    # STEP 6A: PREPROCESS VIDEO FILES WITH NO DOWNSAMPLING\n",
    "    preprocessed_files = IO.make_isx_path([video], interim_output_directory, 'HD-PP')\n",
    "    if IO.check_files(None, preprocessed_files):\n",
    "        # Checks if input files are missing, or output file(s) already exist, function returns True if this step can be run\n",
    "        print('Starting Preprocessing...')\n",
    "        isx.preprocess(video, preprocessed_files)\n",
    "        print('Preprocessing Finished!')\n",
    "\n",
    "\n",
    "    # STEP 6B: APPLY BANDPASS FILTER TO HD VIDEO FILES\n",
    "    bandpass_files= IO.make_isx_path(preprocessed_files, interim_output_directory, 'BP')\n",
    "    if IO.check_files(preprocessed_files, bandpass_files):\n",
    "        print('Starting Bandpass Filtering...')\n",
    "        isx.spatial_filter(preprocessed_files, bandpass_files, low_cutoff=spatial_bp_low_cutoff, high_cutoff=spatial_bp_high_cutoff)\n",
    "        print('Bandpass Filtering Finished!')\n",
    "\n",
    "\n",
    "    # STEP 6C.1: GENERATE MEAN IMAGE TO USE AS THE REFERENCE FRAME FOR MOTION CORRECTION\n",
    "    mean_projection_file = IO.make_isx_path([video], interim_output_directory, 'HD-mean_image')\n",
    "    if IO.check_files(bandpass_files, mean_projection_file):\n",
    "        print('Creating Mean Image...')\n",
    "        isx.project_movie(bandpass_files, mean_projection_file[0], stat_type='mean')\n",
    "\n",
    "    # STEP 6C.2: APPLY MOTION CORRECTION TO HD VIDEO FILES\n",
    "    motion_correction_files = IO.make_isx_path(bandpass_files, interim_output_directory, 'MC')\n",
    "    translation_file = IO.make_isx_path(motion_correction_files, interim_output_directory, 'translations', 'csv')[0]\n",
    "    crop_rect_file = IO.make_isx_path([video], interim_output_directory, 'HD-crop_rect', 'csv')[0]\n",
    "    \n",
    "    if IO.check_files(bandpass_files, [motion_correction_files, translation_file, crop_rect_file]):\n",
    "        print('Starting Motion Correction...')\n",
    "        isx.motion_correct(bandpass_files, motion_correction_files, max_translation=max_translation, reference_file_name=mean_projection_file[0],\n",
    "                           low_bandpass_cutoff=motion_c_low_bandpass_cutoff, high_bandpass_cutoff=motion_c_high_bandpass_cutoff,\n",
    "                           output_translation_files=translation_file, output_crop_rect_file=crop_rect_file)\n",
    "        print('Motion Correction Finished!')\n",
    "\n",
    "\n",
    "\n",
    "    # STEP 6D: DELTA F/F NORMALIZATION\n",
    "    dff_files = IO.make_isx_path(motion_correction_files, interim_output_directory, 'DFF')\n",
    "    if IO.check_files(motion_correction_files, dff_files):\n",
    "        print('Calculating DF/F...')\n",
    "        isx.dff(motion_correction_files, dff_files, f0_type='mean')\n",
    "        print('Calculating DF/F Finished!')\n",
    "\n",
    "\n",
    "    # STEP 5E.1: MAKE A HD MAX PROJECTION IMAGE OF THE RECORDING\n",
    "    max_projection_file = IO.make_isx_path(dff_files, interim_output_directory, 'MAX_PROJ')\n",
    "    if IO.check_files([dff_files[0]], max_projection_file):\n",
    "        print(\"Starting Max Projection Creation. This might take a while...\")\n",
    "        isx.project_movie(dff_files[0], max_projection_file[0], stat_type='max')\n",
    "        print(\"Max Projection Creation finished!\")\n",
    "\n",
    "    # STEP 6E.2: CONVERT ISXD MAX PROJECTION IMAGE TO A TIFF FILE\n",
    "    tiff_path = IO.make_isx_path(max_projection_file, output_directory, extension='tiff')\n",
    "    if IO.check_files([max_projection_file[0]], tiff_path):\n",
    "        print(\"Converting Max Projection to tiff file!\")\n",
    "        isx.export_isxd_image_to_tiff(max_projection_file[0], tiff_path[0])\n",
    "\n",
    "    print(f\"HD Max Projection creation for {video} complete!\")\n",
    "\n",
    "    # STEP 6F (OPTIONAL): DELETE ALL INTERIM FILES\n",
    "    if cleanup_interim_files:\n",
    "        for each in preprocessed_files, bandpass_files, motion_correction_files, dff_files, max_projection_file:\n",
    "            Path(each[0]).unlink()"
   ],
   "outputs": [],
   "execution_count": null
  },
  {
   "cell_type": "markdown",
   "id": "818c8db0-fc67-48eb-878f-87b6c4f7e4cf",
   "metadata": {},
   "source": [
    "### STEP 7 (OPTIONAL): Produce a high resolution dF/F movie\n",
    "#### Must run steps 1-4 first to load configuration, file paths, and deinterleave if needed\n"
   ]
  },
  {
   "cell_type": "code",
   "id": "2a8b7e2ca8452b8",
   "metadata": {
    "collapsed": false
   },
   "source": [
    "# STEP 7A.1: SELECT VIDEO FILE TO TRIM AND EXPORT IN HD. IF THERE IS ONLY ONE FILE, IT WILL AUTOMATICALLY BE SELECTED\n",
    "if len(videos_to_process) == 1:\n",
    "    file_number_to_process = 0  # If there is only one video, we want the zero'th index.\n",
    "else:\n",
    "    video_options = ['Enter the number of the video you wish to export:\\n']\n",
    "    for i, each in enumerate(videos_to_process):\n",
    "        video_options.append(f'({i}) {each}\\n')\n",
    "    video_options = ''.join(video_options)\n",
    "\n",
    "    file_number_to_process = int(input(video_options))\n",
    "\n",
    "video_file_to_trim = str(videos_to_process[file_number_to_process]) # Convert Path object to string\n",
    "\n",
    "movie = isx.Movie.read(video_file_to_trim)  # Load video and get the number of total frames.\n",
    "num_frames = movie.timing.num_samples   # This is equal to TOTAL FRAMES / N FOCAL PLANES\n",
    "del movie # Free up the memory taken by loading this giant file\n",
    "\n",
    "# STEP 7A.2: ENTER THE START AND END FRAMES FOR THE TRIMMED VIDEO\n",
    "start_frame = int(input(f\"Enter the START frame out of {num_frames}: \"))\n",
    "end_frame = int(input(f\"Enter the END frame out of {num_frames}: \"))\n",
    "\n",
    "if start_frame < 0:\n",
    "    start_frame = 1\n",
    "if end_frame == -1:\n",
    "    end_frame = num_frames\n",
    "\n",
    "\n",
    "frames_to_trim = [(0, start_frame), (end_frame, num_frames)]\n",
    "# Trim range from beginning of video to the start frame, and the end frame to end of video\n",
    "\n",
    "\n",
    "# STEP 7B: TRIM THE SELECTED VIDEO TO THE ENTERED FRAMES\n",
    "trimmed_video_path = IO.make_isx_path([video_file_to_trim], interim_output_directory, addition=f'HD-TRIM-[{start_frame}-{end_frame}]')\n",
    "if IO.check_files([video_file_to_trim], trimmed_video_path):\n",
    "    print(f\"Trimming video to [{start_frame, end_frame}]\")\n",
    "    isx.trim_movie(video_file_to_trim, trimmed_video_path, frames_to_trim)\n",
    "    print(\"Done trimming!\")\n",
    "\n",
    "movie_stem = Path(video_file_to_trim).stem\n",
    "movie_filename = f'{movie_stem}-HD-[{start_frame}-{end_frame}].mp4'\n",
    "movie_file_path = IO.make_isx_path([movie_filename], output_directory, extension='mp4')\n",
    "\n",
    "print(f'Processing file: {trimmed_video_path[0]}')\n",
    "\n",
    "\n",
    "# STEP 7C: PREPROCESS TRIMMED VIDEO FILES WITH NO DOWNSAMPLING\n",
    "preprocessed_files = IO.make_isx_path(trimmed_video_path, interim_output_directory, 'PP')\n",
    "if IO.check_files(trimmed_video_path, preprocessed_files): # Checks if input files are missing, or output file(s) already exist, function returns True if this step can be run\n",
    "    print('Starting Preprocessing...')\n",
    "    isx.preprocess(trimmed_video_path, preprocessed_files)\n",
    "    print('Preprocessing Finished!')\n",
    "\n",
    "\n",
    "# STEP 7D: APPLY BANDPASS FILTER TO TRIMMED HD VIDEO FILES\n",
    "bandpass_files = IO.make_isx_path(preprocessed_files, interim_output_directory, 'BP')\n",
    "if IO.check_files(preprocessed_files, bandpass_files):\n",
    "    print('Starting Bandpass Filtering...')\n",
    "    isx.spatial_filter(preprocessed_files, bandpass_files, low_cutoff=spatial_bp_low_cutoff, high_cutoff=spatial_bp_high_cutoff)\n",
    "    print('Bandpass Filtering Finished!')\n",
    "\n",
    "\n",
    "# STEP 7E.1: GENERATE MEAN IMAGE TO USE AS THE REFERENCE FRAME FOR MOTION CORRECTION\n",
    "mean_projection_file = IO.make_isx_path(trimmed_video_path, interim_output_directory, 'mean_image')\n",
    "if IO.check_files(bandpass_files, mean_projection_file):\n",
    "    print('Creating Mean Image...')\n",
    "    isx.project_movie(bandpass_files, mean_projection_file[0], stat_type='mean')\n",
    "\n",
    "# STEP 7E.2: APPLY MOTION CORRECTION TO TRIMMED HD VIDEO FILES\n",
    "motion_correction_files = IO.make_isx_path(bandpass_files, interim_output_directory, 'MC')\n",
    "translation_file = IO.make_isx_path(motion_correction_files, interim_output_directory, 'translations', 'csv')[0]\n",
    "crop_rect_file = IO.make_isx_path([movie_stem], interim_output_directory, 'TRIMMED-crop_rect', 'csv')[0]\n",
    "\n",
    "if IO.check_files(bandpass_files, [motion_correction_files, translation_file, crop_rect_file]):\n",
    "    print('Starting Motion Correction...')\n",
    "    isx.motion_correct(bandpass_files, motion_correction_files, max_translation=max_translation, reference_file_name=mean_projection_file[0],\n",
    "                       low_bandpass_cutoff=motion_c_low_bandpass_cutoff, high_bandpass_cutoff=motion_c_high_bandpass_cutoff,\n",
    "                       output_translation_files=translation_file, output_crop_rect_file=crop_rect_file)\n",
    "    print('Motion Correction Finished!')\n",
    "\n",
    "\n",
    "# STEP 7F: DELTA F/F NORMALIZATION\n",
    "dff_files = IO.make_isx_path(motion_correction_files, interim_output_directory, 'DFF')\n",
    "if IO.check_files(motion_correction_files, dff_files):\n",
    "    print('Calculating DF/F...')\n",
    "    isx.dff(motion_correction_files, dff_files, f0_type='mean')\n",
    "    print('Calculating DF/F Finished!')\n",
    "\n",
    "\n",
    "# STEP 7G: EXPORT TRIMMED, HD VIDEO\n",
    "# Note: compression quality ranges from 0.001 (very low quality) to 1 (no compression); 0.4 seems to be a good medium\n",
    "if IO.check_files(dff_files, movie_file_path):\n",
    "    print('Exporting Movie to MP4...')\n",
    "    isx.export_movie_to_mp4(dff_files, movie_file_path[0], compression_quality=0.4, write_invalid_frames=True)\n",
    "    print('Exported HD Movie!')\n",
    "\n",
    "\n",
    "# STEP 7H (OPTIONAL): DELETE ALL INTERIM FILES\n",
    "if cleanup_interim_files:\n",
    "    for each in preprocessed_files, bandpass_files, motion_correction_files, dff_files:\n",
    "        Path(each[0]).unlink()\n"
   ],
   "outputs": [],
   "execution_count": null
  }
 ],
 "metadata": {
  "kernelspec": {
   "display_name": "Python 3 (ipykernel)",
   "language": "python",
   "name": "python3"
  },
  "language_info": {
   "codemirror_mode": {
    "name": "ipython",
    "version": 3
   },
   "file_extension": ".py",
   "mimetype": "text/x-python",
   "name": "python",
   "nbconvert_exporter": "python",
   "pygments_lexer": "ipython3",
   "version": "3.10.13"
  }
 },
 "nbformat": 4,
 "nbformat_minor": 5
}
