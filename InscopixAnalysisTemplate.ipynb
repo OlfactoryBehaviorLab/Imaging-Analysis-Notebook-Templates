{
 "cells": [
  {
   "cell_type": "code",
   "execution_count": 6,
   "outputs": [
    {
     "name": "stdout",
     "output_type": "stream",
     "text": [
      "The autoreload extension is already loaded. To reload it, use:\n",
      "  %reload_ext autoreload\n"
     ]
    }
   ],
   "source": [
    "%load_ext autoreload\n",
    "%autoreload 2"
   ],
   "metadata": {
    "collapsed": false,
    "ExecuteTime": {
     "end_time": "2023-08-11T22:20:10.269344300Z",
     "start_time": "2023-08-11T22:20:10.170136800Z"
    }
   }
  },
  {
   "cell_type": "code",
   "execution_count": 7,
   "id": "dfc93201-d673-4eb8-ae72-f02418b8e675",
   "metadata": {
    "ExecuteTime": {
     "end_time": "2023-08-11T22:20:10.750131800Z",
     "start_time": "2023-08-11T22:20:10.684132500Z"
    }
   },
   "outputs": [],
   "source": [
    "import os\n",
    "import time\n",
    "\n",
    "import isx  #Inscopix API; Navigate to C:\\Program Files\\Inscopix\\Data Processing\\ ; run pip intsall -e .\n",
    "import numpy as np\n",
    "\n",
    "from Python.Helpers import DewanIOhandler"
   ]
  },
  {
   "cell_type": "markdown",
   "id": "82e50134-f5fe-4e0a-89ad-ae3d7682e3e1",
   "metadata": {},
   "source": [
    "### User Configurables"
   ]
  },
  {
   "cell_type": "code",
   "execution_count": 8,
   "id": "53c86da4-55fb-4dc9-a043-cca5b940ee94",
   "metadata": {
    "ExecuteTime": {
     "end_time": "2023-08-11T22:20:12.794607100Z",
     "start_time": "2023-08-11T22:20:12.731611100Z"
    }
   },
   "outputs": [],
   "source": [
    "experiment_name = 'VGAT4-Session1'\n",
    "data_directory = 'R:\\Inscopix_Projects\\VGAT4-Session1' # Overwrite if not using local folder\n",
    "#output_directory = 'D:\\VGAT4-Session1\\DataAnalysis' # Overwrite if not using local folder\n",
    "\n",
    "#data_directory = None\n",
    "output_directory = None\n",
    "\n",
    "cleanup_interim_files = False\n",
    "\n",
    "trials = 1\n",
    "focus_planes = [700]  #If these values do not match the efocus used in the exp, code will crash\n",
    "\n",
    "#Downsample Settings\n",
    "spatial_downsample_factor = 4 # Factor of 4 is recommended for CNMFE\n",
    "\n",
    "#Spatial Bandpass Settings\n",
    "spatial_bp_low_cutoff = 0.005\n",
    "spatial_bp_high_cutoff = 0.500\n",
    "\n",
    "#Motion Correction Settings\n",
    "max_translation = 20\n",
    "motion_c_low_bandpass_cutoff = None\n",
    "motion_c_high_bandpass_cutoff = None\n",
    "\n",
    "#CNMFE Settings\n",
    "cell_diameter = 7\n",
    "merge_threshold = 0.7 #default is 0.7, use default when you have a 10-min video for baseline\n",
    "gaussian_kernel_size = 3\n",
    "output_unit_type = 0\n",
    "minimum_correlation = 0.9\n",
    "minimum_pnr = 15"
   ]
  },
  {
   "cell_type": "markdown",
   "id": "10f91712-9bfc-4bb9-85d3-1f1a2eb86c55",
   "metadata": {},
   "source": [
    "### Some processing goes on here"
   ]
  },
  {
   "cell_type": "code",
   "execution_count": 9,
   "outputs": [],
   "source": [
    "if data_directory is None:\n",
    "    data_directory = '.\\InscopixProcessing\\RawData'\n",
    "\n",
    "if output_directory is None:\n",
    "    output_directory = '.\\InscopixProcessing\\DataAnalysis'\n",
    "\n",
    "if not os.path.exists(output_directory):\n",
    "    os.makedirs(output_directory)\n",
    "\n",
    "if not os.path.exists(data_directory):\n",
    "    os.makedirs(data_directory)"
   ],
   "metadata": {
    "collapsed": false,
    "ExecuteTime": {
     "end_time": "2023-08-11T22:20:14.317467900Z",
     "start_time": "2023-08-11T22:20:14.246465900Z"
    }
   }
  },
  {
   "cell_type": "code",
   "execution_count": 10,
   "id": "b0d38831-97c8-4d94-a8d4-1c0463a22213",
   "metadata": {
    "ExecuteTime": {
     "end_time": "2023-08-11T22:20:15.192821700Z",
     "start_time": "2023-08-11T22:20:15.111818400Z"
    }
   },
   "outputs": [],
   "source": [
    "proc_move_files = []\n",
    "proc_cs_files = []\n",
    "video_base = DewanIOhandler.get_video_base(data_directory)\n",
    "video_files = DewanIOhandler.get_video_paths(data_directory)"
   ]
  },
  {
   "cell_type": "code",
   "execution_count": 11,
   "outputs": [],
   "source": [
    "# print(video_files)"
   ],
   "metadata": {
    "collapsed": false,
    "ExecuteTime": {
     "end_time": "2023-08-11T22:20:16.201092500Z",
     "start_time": "2023-08-11T22:20:16.127091700Z"
    }
   }
  },
  {
   "cell_type": "code",
   "execution_count": 6,
   "outputs": [],
   "source": [
    "# series_rec_names = {}\n",
    "#\n",
    "# for i, focus_plane in enumerate(focus_planes):\n",
    "#     deinterlaced_files = [file for file in DewanIOhandler.make_isx_path(video_files, output_directory, str(focus_plane))]\n",
    "#     key_name = f'focal{str(focus_plane)}'\n",
    "#     series_rec_names[key_name] = deinterlaced_files\n",
    "#\n",
    "# series_rec_names_keys = list(series_rec_names.keys())\n"
   ],
   "metadata": {
    "collapsed": false,
    "ExecuteTime": {
     "end_time": "2023-08-08T21:37:47.013789Z",
     "start_time": "2023-08-08T21:37:46.956793300Z"
    }
   }
  },
  {
   "cell_type": "code",
   "execution_count": 40,
   "outputs": [
    {
     "name": "stdout",
     "output_type": "stream",
     "text": [
      "['R:\\\\Inscopix_Projects\\\\VGAT5-Odor-Identity-Expt\\\\2022-11-16-13-35-25_video.isxd'] 1\n"
     ]
    }
   ],
   "source": [
    "# Don't think we need any of this anymore. Documentation says deinterleaving is now automatic during preprocessing\n",
    "\n",
    "#deinterlaced_files = np.reshape(deinterlaced_files_matrix, (1, len(focus_planes) * trials))\n",
    "\n",
    "# if len(focus_planes) > 1:\n",
    "# isx.deinterleave(video_files, deinterlaced_files, focus_planes)\n",
    "# if len(focus_planes) > 1:\n",
    "#     deinterlaced_files_matrix = np.array((len(focus_planes), trials))\n",
    "#     for i in range(len(focus_planes)):\n",
    "#         deinterlaced_files_matrix[i, :] = isx.make_output_file_paths(video_files, output_directory, str(focus_planes(i)))\n",
    "#     deinterlaced_files = np.reshape(deinterlaced_files_matrix, (1, len(focus_planes) * trials))\n",
    "#\n",
    "#     isx.deinterleave(video_files, deinterlaced_files, focus_planes)\n",
    "#\n",
    "#     for i in range(len(focus_planes)):\n",
    "#         keyName = f'focal{focus_planes[i]}'\n",
    "# else:\n",
    "#     keyName = f'focal{focus_planes[0]}'\n",
    "#     series_rec_names[keyName] = video_files\n",
    "#     series_rec_names_keys = list(series_rec_names.keys())\n"
   ],
   "metadata": {
    "collapsed": false,
    "ExecuteTime": {
     "end_time": "2023-08-08T17:48:02.803659600Z",
     "start_time": "2023-08-08T17:48:02.740648500Z"
    }
   }
  },
  {
   "cell_type": "code",
   "execution_count": 19,
   "outputs": [
    {
     "name": "stdout",
     "output_type": "stream",
     "text": [
      "20:06:45 Starting Max Projection Creation. This might take a while...\n",
      "20:07:18 Max Projection Creation finished. That took a while...\n"
     ]
    }
   ],
   "source": [
    "# for key in range(len(series_rec_names_keys)):\n",
    "#     series_name = series_rec_names_keys[key]\n",
    "#     rec_files = series_rec_names[series_name]\n",
    "#     first_file = video_files[key]\n",
    "\n",
    "post_process_files = DewanIOhandler.make_isx_path(video_files, output_directory, 'PP')\n",
    "if not DewanIOhandler.check_files(post_process_files):\n",
    "    print('Starting Preprocessing...')\n",
    "    isx.preprocess(video_files, post_process_files, spatial_downsample_factor=spatial_downsample_factor)\n",
    "\n",
    "#bandpass_files= [isx.make_output_file_path(post_process_files, output_directory, 'BP')]\n",
    "bandpass_files= DewanIOhandler.make_isx_path(post_process_files, output_directory, 'BP')\n",
    "\n",
    "if not DewanIOhandler.check_files(list(bandpass_files)):\n",
    "    print('Starting Bandpass Filtering...')\n",
    "    isx.spatial_filter(post_process_files, bandpass_files, low_cutoff=spatial_bp_low_cutoff, high_cutoff=spatial_bp_high_cutoff)\n",
    "\n",
    "mean_projection_file = os.path.join(output_directory, f'{video_base}-mean_image.isxd')\n",
    "if not os.path.exists(mean_projection_file):\n",
    "    print('Creating Mean Image...')\n",
    "    isx.project_movie(bandpass_files, mean_projection_file, stat_type='mean')\n",
    "\n",
    "# motion_correction_files = isx.make_output_file_path(bandpass_files, output_directory, 'MC')\n",
    "motion_correction_files = DewanIOhandler.make_isx_path(bandpass_files, output_directory, 'MC')\n",
    "# translation_files = isx.make_output_file_path(motion_correction_files, output_directory, 'translations', 'csv')\n",
    "translation_files = DewanIOhandler.make_isx_path(motion_correction_files, output_directory, 'translations', 'csv')\n",
    "crop_rect_file = os.path.join(output_directory, f'{video_base}-crop_rect.csv')\n",
    "\n",
    "if not DewanIOhandler.check_files(motion_correction_files):\n",
    "    print('Starting Motion Correction...')\n",
    "    isx.motion_correct(bandpass_files, motion_correction_files, max_translation=max_translation, reference_file_name=mean_projection_file,\n",
    "                       low_bandpass_cutoff=motion_c_low_bandpass_cutoff, high_bandpass_cutoff=motion_c_high_bandpass_cutoff,\n",
    "                       output_translation_files=translation_files, output_crop_rect_file=crop_rect_file)\n",
    "\n",
    "# dff_files = isx.make_output_file_path(motion_correction_files, output_directory, 'DFF')\n",
    "dff_files = DewanIOhandler.make_isx_path(motion_correction_files, output_directory, 'DFF')\n",
    "\n",
    "if not DewanIOhandler.check_files(dff_files):\n",
    "    print('Calculating DF/F...')\n",
    "    isx.dff(motion_correction_files, dff_files, f0_type='mean')\n",
    "\n",
    "max_projection_file = DewanIOhandler.make_isx_path(dff_files, output_directory, 'MAX_PROJ')\n",
    "\n",
    "for i, each in enumerate(max_projection_file):\n",
    "    if not DewanIOhandler.check_files(max_projection_file):\n",
    "        start_time = time.strftime(\"%H:%M:%S\")\n",
    "        print(f\"{start_time} Starting Max Projection Creation. This might take a while...\")\n",
    "        isx.project_movie(dff_files[i], each, stat_type='max')\n",
    "        end_time = time.strftime(\"%H:%M:%S\")\n",
    "        print(f\"{end_time} Max Projection Creation finished. That took a while...\")\n",
    "\n",
    "tiff_path = DewanIOhandler.make_isx_path(max_projection_file, output_directory, addition=None, extention='.tiff')"
   ],
   "metadata": {
    "collapsed": false,
    "ExecuteTime": {
     "end_time": "2023-08-12T00:07:18.181590Z",
     "start_time": "2023-08-12T00:06:45.179845700Z"
    }
   }
  },
  {
   "cell_type": "code",
   "execution_count": 20,
   "outputs": [
    {
     "name": "stdout",
     "output_type": "stream",
     "text": [
      "Running CNMFe (This Will Take a Long Time)...\n",
      "Built-in CNMFE Total Elapsed Time: 38.906516130765276 (min)\n",
      "Applying Cell Contours...\n",
      "Exporting Traces and Props...\n",
      "Exporting Cell Contours...\n",
      "Exporting GPIO to csv...\n",
      "Processing Finished!\n"
     ]
    }
   ],
   "source": [
    "\n",
    "for i, each in enumerate(tiff_path):\n",
    "    isx.export_isxd_image_to_tiff(max_projection_file[i], each)\n",
    "\n",
    "cnmfe_files = DewanIOhandler.make_isx_path(motion_correction_files, output_directory, 'CNMFE')\n",
    "\n",
    "\n",
    "if not DewanIOhandler.check_files(motion_correction_files) or not DewanIOhandler.check_files(cnmfe_files):\n",
    "    print('Running CNMFe (This Will Take a Long Time)...')\n",
    "    start_time = time.time()\n",
    "    isx.run_cnmfe(motion_correction_files, cnmfe_files, output_directory, cell_diameter=cell_diameter, merge_threshold=merge_threshold, gaussian_kernel_size=gaussian_kernel_size,\n",
    "                  output_unit_type='df', min_corr=minimum_correlation, min_pnr=minimum_pnr, processing_mode='parallel_patches', num_threads=8)  #  No DF/F on CNMFE Files\n",
    "    end_time = time.time()\n",
    "    print(f'Built-in CNMFE Total Elapsed Time: {(end_time - start_time) / 60} (min)')\n",
    "\n",
    "# movie_filename = f'MC_ForCNMFE{focus_planes[key]}.tiff'\n",
    "# tiff_movie_file = os.path.join('C:\\\\Users\\\\dewanlab.PSY-PDB-C474-B\\Desktop', movie_filename)\n",
    "\n",
    "contour_files = DewanIOhandler.make_isx_path(dff_files, output_directory, 'AC')\n",
    "\n",
    "if not DewanIOhandler.check_files(dff_files) or not DewanIOhandler.check_files(cnmfe_files) or not DewanIOhandler.check_files(contour_files):\n",
    "    print('Applying Cell Contours...')\n",
    "    isx.apply_cell_set(dff_files, cnmfe_files[0], contour_files, 0)\n",
    "\n",
    "tiff_file_name = f'MC-DFF-AC-TIFF-{video_base}.tiff'\n",
    "csv_file_name = f'MC-DFF-AC-{video_base}.csv'\n",
    "json_file_name = f'CONTOUR-{video_base}.json'\n",
    "props_file_name = f'MC-DFF-AC-{video_base}-Prop.csv'\n",
    "gpio_input = f'{video_base}.gpio'\n",
    "gpio_output_filename = f'GPIO-{video_base}.csv'\n",
    "\n",
    "tiff_image_path = os.path.join(output_directory, tiff_file_name)\n",
    "trace_file_path = os.path.join(output_directory, csv_file_name)\n",
    "props_file_path = os.path.join(output_directory, props_file_name)\n",
    "\n",
    "print('Exporting Traces and Props...')\n",
    "isx.export_cell_set_to_csv_tiff(contour_files, trace_file_path, tiff_image_path, time_ref='unix', output_props_file= props_file_path)\n",
    "\n",
    "json_file_path = os.path.join(output_directory, json_file_name)\n",
    "print('Exporting Cell Contours...')\n",
    "isx.export_cell_contours(cnmfe_files[0], json_file_path)\n",
    "\n",
    "gpio_input_path = os.path.join(data_directory, gpio_input)\n",
    "gpio_output_path = os.path.join(output_directory, gpio_output_filename)\n",
    "\n",
    "print(\"Exporting GPIO to csv...\")\n",
    "isx.export_gpio_set_to_csv(gpio_input_path, gpio_output_path, time_ref='unix')\n",
    "\n",
    "# #Graphing stuff here\n",
    "# movie_filename = f'DFF_{focus_planes[key]}.mp4'\n",
    "# movie_file = os.path.join(output_directory, movie_filename)\n",
    "# print('Exporting Movie to MP4...')\n",
    "# isx.export_movie_to_mp4(dff_files, movie_file, compression_quality= 0.4, write_invalid_frames= True)\n",
    "print('Processing Finished!')\n",
    "\n",
    "if cleanup_interim_files:\n",
    "    for each in post_process_files, bandpass_files, motion_correction_files, dff_files, cnmfe_files:\n",
    "        os.remove(each)\n"
   ],
   "metadata": {
    "collapsed": false,
    "ExecuteTime": {
     "end_time": "2023-08-12T00:52:21.321236Z",
     "start_time": "2023-08-12T00:09:12.883731200Z"
    }
   }
  },
  {
   "cell_type": "code",
   "execution_count": null,
   "outputs": [],
   "source": [],
   "metadata": {
    "collapsed": false
   }
  }
 ],
 "metadata": {
  "kernelspec": {
   "display_name": "Python 3 (ipykernel)",
   "language": "python",
   "name": "python3"
  },
  "language_info": {
   "codemirror_mode": {
    "name": "ipython",
    "version": 3
   },
   "file_extension": ".py",
   "mimetype": "text/x-python",
   "name": "python",
   "nbconvert_exporter": "python",
   "pygments_lexer": "ipython3",
   "version": "3.8.14"
  }
 },
 "nbformat": 4,
 "nbformat_minor": 5
}
