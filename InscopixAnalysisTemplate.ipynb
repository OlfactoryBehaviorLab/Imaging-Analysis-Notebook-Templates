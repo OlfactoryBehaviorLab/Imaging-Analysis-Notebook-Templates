{
 "cells": [
  {
   "cell_type": "markdown",
   "id": "431b3fdc-e892-403d-9730-f663e30f7a92",
   "metadata": {},
   "source": [
    "# DEWAN LAB MICROENDOSCOPE ANALYSIS TEMPLATE\n",
    "##### This script uses functions from the Inscopix API to: 1) preprocess video files (i.e., bandpass filtering and downsampling), 2) motion correct, 3) identify cells using CNMFE, 4) process videos for dF/F, 5) produce a max projection image, and 6) export files. \n",
    "#### Copy this script into a folder specific for the animal/session, rename it according to the animal/session (e.g., VGAT4_Session1_InscopixAnalysis), and adjust user configurables"
   ]
  },
  {
   "cell_type": "markdown",
   "id": "ea17900a-0be2-4ded-b84b-e510927046cf",
   "metadata": {},
   "source": [
    "### Step 1: Import Modules"
   ]
  },
  {
   "cell_type": "code",
   "execution_count": 1,
   "id": "7808164f",
   "metadata": {
    "ExecuteTime": {
     "end_time": "2023-08-28T04:24:14.066261789Z",
     "start_time": "2023-08-28T04:24:14.065791031Z"
    }
   },
   "outputs": [],
   "source": [
    "# We will remove this when we are done developing the script\n",
    "%load_ext autoreload\n",
    "%autoreload 2"
   ]
  },
  {
   "cell_type": "code",
   "execution_count": 2,
   "id": "dfc93201-d673-4eb8-ae72-f02418b8e675",
   "metadata": {
    "ExecuteTime": {
     "end_time": "2023-08-28T04:24:15.409472492Z",
     "start_time": "2023-08-28T04:24:14.731555988Z"
    }
   },
   "outputs": [],
   "source": [
    "import os\n",
    "import time\n",
    "import isx  #Inscopix API; Navigate to C:\\Program Files\\Inscopix\\Data Processing\\ ; run pip intsall -e .\n",
    "from Python.Helpers import DewanIOhandler"
   ]
  },
  {
   "cell_type": "markdown",
   "id": "82e50134-f5fe-4e0a-89ad-ae3d7682e3e1",
   "metadata": {},
   "source": [
    "### Step 2: Adjust User Configurables"
   ]
  },
  {
   "cell_type": "code",
   "execution_count": 14,
   "id": "53c86da4-55fb-4dc9-a043-cca5b940ee94",
   "metadata": {
    "ExecuteTime": {
     "end_time": "2023-08-28T04:30:08.285159654Z",
     "start_time": "2023-08-28T04:30:08.258672836Z"
    }
   },
   "outputs": [],
   "source": [
    "experiment_name = 'VGAT4-Session1'\n",
    "data_directory = None # Overwrite if not using local folder\n",
    "output_directory = None\n",
    "\n",
    "# Set to True to delete all the intermediary Inscopix Files\n",
    "cleanup_interim_files = False\n",
    "\n",
    "# Set to True to output a .mp4 version of the recording. Note: This takes a long time.\n",
    "export_video_file = False\n",
    "\n",
    "focus_planes = [700]  \n",
    "# Likely will not need this anymore, we will get it automatically.\n",
    "# If these values do not match the efocus used in the exp, code will crash\n",
    "\n",
    "#Downsample Settings\n",
    "spatial_downsample_factor = 4 # Factor of 4 is recommended for CNMFE\n",
    "\n",
    "#Spatial Bandpass Settings\n",
    "spatial_bp_low_cutoff = 0.005\n",
    "spatial_bp_high_cutoff = 0.500\n",
    "\n",
    "#Motion Correction Settings\n",
    "max_translation = 20\n",
    "motion_c_low_bandpass_cutoff = None\n",
    "motion_c_high_bandpass_cutoff = None\n",
    "\n",
    "#CNMFE Settings\n",
    "cell_diameter = 7\n",
    "merge_threshold = 0.7 #default is 0.7, use default when you have a 10-min video for baseline\n",
    "gaussian_kernel_size = 3\n",
    "output_unit_type = 0\n",
    "minimum_correlation = 0.9\n",
    "minimum_pnr = 15"
   ]
  },
  {
   "cell_type": "markdown",
   "id": "10f91712-9bfc-4bb9-85d3-1f1a2eb86c55",
   "metadata": {},
   "source": [
    "### Step 3: Get directories and video files"
   ]
  },
  {
   "cell_type": "code",
   "execution_count": 16,
   "id": "c7645332",
   "metadata": {
    "collapsed": false,
    "ExecuteTime": {
     "end_time": "2023-08-28T04:45:13.180083440Z",
     "start_time": "2023-08-28T04:45:13.096758505Z"
    }
   },
   "outputs": [
    {
     "ename": "IndexError",
     "evalue": "list index out of range",
     "output_type": "error",
     "traceback": [
      "\u001B[0;31m---------------------------------------------------------------------------\u001B[0m",
      "\u001B[0;31mIndexError\u001B[0m                                Traceback (most recent call last)",
      "Cell \u001B[0;32mIn[16], line 16\u001B[0m\n\u001B[1;32m     13\u001B[0m proc_move_files \u001B[38;5;241m=\u001B[39m []\n\u001B[1;32m     14\u001B[0m proc_cs_files \u001B[38;5;241m=\u001B[39m []\n\u001B[0;32m---> 16\u001B[0m video_base, video_files, gpio_input_path \u001B[38;5;241m=\u001B[39m \u001B[43mDewanIOhandler\u001B[49m\u001B[38;5;241;43m.\u001B[39;49m\u001B[43mget_project_files\u001B[49m\u001B[43m(\u001B[49m\u001B[43mdata_directory\u001B[49m\u001B[43m)\u001B[49m\n",
      "File \u001B[0;32m/media/austin2118ace/Storage/ImagingAnalysisPipelineTemplate/Python/Helpers/DewanIOhandler.py:58\u001B[0m, in \u001B[0;36mget_project_files\u001B[0;34m(directory)\u001B[0m\n\u001B[1;32m     57\u001B[0m \u001B[38;5;28;01mdef\u001B[39;00m \u001B[38;5;21mget_project_files\u001B[39m(directory: os\u001B[38;5;241m.\u001B[39mpath) \u001B[38;5;241m-\u001B[39m\u001B[38;5;241m>\u001B[39m (\u001B[38;5;28mstr\u001B[39m, \u001B[38;5;28mlist\u001B[39m, \u001B[38;5;28mstr\u001B[39m):\n\u001B[0;32m---> 58\u001B[0m     gpio_file_path \u001B[38;5;241m=\u001B[39m \u001B[43mglob\u001B[49m\u001B[38;5;241;43m.\u001B[39;49m\u001B[43mglob\u001B[49m\u001B[43m(\u001B[49m\u001B[43mos\u001B[49m\u001B[38;5;241;43m.\u001B[39;49m\u001B[43mpath\u001B[49m\u001B[38;5;241;43m.\u001B[39;49m\u001B[43mjoin\u001B[49m\u001B[43m(\u001B[49m\u001B[43mdirectory\u001B[49m\u001B[43m,\u001B[49m\u001B[43m \u001B[49m\u001B[38;5;124;43m'\u001B[39;49m\u001B[38;5;124;43m*.gpio\u001B[39;49m\u001B[38;5;124;43m'\u001B[39;49m\u001B[43m)\u001B[49m\u001B[43m)\u001B[49m\u001B[43m[\u001B[49m\u001B[38;5;241;43m0\u001B[39;49m\u001B[43m]\u001B[49m\n\u001B[1;32m     59\u001B[0m     gpio_file_name \u001B[38;5;241m=\u001B[39m os\u001B[38;5;241m.\u001B[39mpath\u001B[38;5;241m.\u001B[39mbasename(gpio_file_path)\n\u001B[1;32m     60\u001B[0m     video_base \u001B[38;5;241m=\u001B[39m gpio_file_name[:\u001B[38;5;241m-\u001B[39m\u001B[38;5;241m5\u001B[39m]\n",
      "\u001B[0;31mIndexError\u001B[0m: list index out of range"
     ]
    }
   ],
   "source": [
    "if data_directory is None:\n",
    "    data_directory = \"./InscopixProcessing/RawData\"\n",
    "\n",
    "if output_directory is None:\n",
    "    output_directory = \"./InscopixProcessing/DataAnalysis\"\n",
    "\n",
    "if not os.path.exists(output_directory):\n",
    "    os.makedirs(output_directory)\n",
    "\n",
    "if not os.path.exists(data_directory):\n",
    "    os.makedirs(data_directory)\n",
    "\n",
    "proc_move_files = []\n",
    "proc_cs_files = []\n",
    "\n",
    "video_base, video_files, gpio_input_path = DewanIOhandler.get_project_files(data_directory)"
   ]
  },
  {
   "cell_type": "markdown",
   "id": "357ad564-4d60-4ed7-8bae-e062b5e7bac2",
   "metadata": {},
   "source": [
    "### Austin - Delete once we verify that deinterleaving is no longer necessary"
   ]
  },
  {
   "cell_type": "code",
   "execution_count": 40,
   "id": "e26bf719",
   "metadata": {
    "ExecuteTime": {
     "end_time": "2023-08-08T17:48:02.803659600Z",
     "start_time": "2023-08-08T17:48:02.740648500Z"
    },
    "collapsed": false
   },
   "outputs": [
    {
     "name": "stdout",
     "output_type": "stream",
     "text": [
      "['R:\\\\Inscopix_Projects\\\\VGAT5-Odor-Identity-Expt\\\\2022-11-16-13-35-25_video.isxd'] 1\n"
     ]
    }
   ],
   "source": [
    "# series_rec_names = {}\n",
    "#\n",
    "# for i, focus_plane in enumerate(focus_planes):\n",
    "#     deinterlaced_files = [file for file in DewanIOhandler.make_isx_path(video_files, output_directory, str(focus_plane))]\n",
    "#     key_name = f'focal{str(focus_plane)}'\n",
    "#     series_rec_names[key_name] = deinterlaced_files\n",
    "#\n",
    "# series_rec_names_keys = list(series_rec_names.keys())\n",
    "\n",
    "# Don't think we need any of this anymore. Documentation says deinterleaving is now automatic during preprocessing\n",
    "\n",
    "#deinterlaced_files = np.reshape(deinterlaced_files_matrix, (1, len(focus_planes) * trials))\n",
    "\n",
    "# if len(focus_planes) > 1:\n",
    "# isx.deinterleave(video_files, deinterlaced_files, focus_planes)\n",
    "# if len(focus_planes) > 1:\n",
    "#     deinterlaced_files_matrix = np.array((len(focus_planes), trials))\n",
    "#     for i in range(len(focus_planes)):\n",
    "#         deinterlaced_files_matrix[i, :] = isx.make_output_file_paths(video_files, output_directory, str(focus_planes(i)))\n",
    "#     deinterlaced_files = np.reshape(deinterlaced_files_matrix, (1, len(focus_planes) * trials))\n",
    "#\n",
    "#     isx.deinterleave(video_files, deinterlaced_files, focus_planes)\n",
    "#\n",
    "#     for i in range(len(focus_planes)):\n",
    "#         keyName = f'focal{focus_planes[i]}'\n",
    "# else:\n",
    "#     keyName = f'focal{focus_planes[0]}'\n",
    "#     series_rec_names[keyName] = video_files\n",
    "#     series_rec_names_keys = list(series_rec_names.keys())\n"
   ]
  },
  {
   "cell_type": "markdown",
   "id": "97a906b9-5a1a-4195-9c20-859f1921d4c9",
   "metadata": {},
   "source": [
    "### Step 4: Process video files for standard analysis"
   ]
  },
  {
   "cell_type": "code",
   "execution_count": null,
   "id": "cada5b401badbaa8",
   "metadata": {
    "collapsed": false
   },
   "outputs": [],
   "source": [
    "#     Austin - do we need these notes? \n",
    "#     for key in range(len(series_rec_names_keys)):\n",
    "#     series_name = series_rec_names_keys[key]\n",
    "#     rec_files = series_rec_names[series_name]\n",
    "#     first_file = video_files[key]"
   ]
  },
  {
   "cell_type": "code",
   "execution_count": null,
   "outputs": [],
   "source": [
    "\n",
    "# STEP 4A: PREPROCESS VIDEO FILES \n",
    "post_process_files = DewanIOhandler.make_isx_path(video_files, output_directory, 'PP')\n",
    "if not DewanIOhandler.check_files(post_process_files):\n",
    "    print('Starting Preprocessing...')\n",
    "    isx.preprocess(video_files, post_process_files, spatial_downsample_factor=spatial_downsample_factor)\n",
    "\n",
    "# STEP 4B: BANDPASS FILTER VIDEO FILES\n",
    "bandpass_files= DewanIOhandler.make_isx_path(post_process_files, output_directory, 'BP')\n",
    "if not DewanIOhandler.check_files(list(bandpass_files)):\n",
    "    print('Starting Bandpass Filtering...')\n",
    "    isx.spatial_filter(post_process_files, bandpass_files, low_cutoff=spatial_bp_low_cutoff, high_cutoff=spatial_bp_high_cutoff)\n",
    "\n",
    "# STEP 4C.1: GENERATE MEAN IMAGE AS REFERENCE FRAME FOR THE MOTION CORRECTION\n",
    "mean_projection_file = os.path.join(output_directory, f'{video_base}-mean_image.isxd')\n",
    "if not DewanIOhandler.check_files(mean_projection_file):\n",
    "    print('Creating Mean Image...')\n",
    "    isx.project_movie(bandpass_files, mean_projection_file, stat_type='mean')\n",
    "\n",
    "# STEP 4C.2: MOTION CORRECT VIDEO FILES\n",
    "motion_correction_files = DewanIOhandler.make_isx_path(bandpass_files, output_directory, 'MC')\n",
    "translation_files = DewanIOhandler.make_isx_path(motion_correction_files, output_directory, 'translations', 'csv')\n",
    "crop_rect_file = os.path.join(output_directory, f'{video_base}-crop_rect.csv')\n",
    "\n",
    "if not DewanIOhandler.check_files(motion_correction_files):\n",
    "    print('Starting Motion Correction...')\n",
    "    isx.motion_correct(bandpass_files, motion_correction_files, max_translation=max_translation, reference_file_name=mean_projection_file,\n",
    "                       low_bandpass_cutoff=motion_c_low_bandpass_cutoff, high_bandpass_cutoff=motion_c_high_bandpass_cutoff,\n",
    "                       output_translation_files=translation_files, output_crop_rect_file=crop_rect_file)\n",
    "\n",
    "# STEP 4D: PROCESS VIDEO FILES FOR DELTA F/F \n",
    "dff_files = DewanIOhandler.make_isx_path(motion_correction_files, output_directory, 'DFF')\n",
    "if not DewanIOhandler.check_files(dff_files):\n",
    "    print('Calculating DF/F...')\n",
    "    isx.dff(motion_correction_files, dff_files, f0_type='mean')\n",
    "\n",
    "# STEP 4E: MAKE A MAX PROJECTION FILE OF THE CELLS (NOTE IT IS DOWNSAMPLED)\n",
    "max_projection_file = DewanIOhandler.make_isx_path(dff_files, output_directory, 'MAX_PROJ')\n",
    "\n",
    "for i, each in enumerate(max_projection_file):  \n",
    "    if not DewanIOhandler.check_files(max_projection_file):\n",
    "        start_time = time.strftime(\"%H:%M:%S\")\n",
    "        print(f\"{start_time} Starting Max Projection Creation. This might take a while...\")\n",
    "        isx.project_movie(dff_files[i], each, stat_type='max')\n",
    "        end_time = time.strftime(\"%H:%M:%S\")\n",
    "        print(f\"{end_time} Max Projection Creation finished. That took a while...\")\n",
    "\n",
    "tiff_path = DewanIOhandler.make_isx_path(max_projection_file, output_directory, addition=None, extention='.tiff')\n",
    "\n",
    "# STEP 4E.2: Convert .isx max projection files to tiff files\n",
    "for i, each in enumerate(tiff_path):\n",
    "    isx.export_isxd_image_to_tiff(max_projection_file[i], each)\n",
    "\n",
    "\n",
    "# STEP 4F.1: RUN CNFME\n",
    "cnmfe_files = DewanIOhandler.make_isx_path(motion_correction_files, output_directory, 'CNMFE')\n",
    "if not DewanIOhandler.check_files(motion_correction_files) or not DewanIOhandler.check_files(cnmfe_files):\n",
    "    print('Running CNMFe (This Will Take a Long Time)...')\n",
    "    start_time = time.time()\n",
    "    isx.run_cnmfe(motion_correction_files, cnmfe_files, output_directory, cell_diameter=cell_diameter, merge_threshold=merge_threshold, gaussian_kernel_size=gaussian_kernel_size,\n",
    "                  output_unit_type='df', min_corr=minimum_correlation, min_pnr=minimum_pnr, processing_mode='parallel_patches', num_threads=8)  #  No DF/F on CNMFE Files\n",
    "    end_time = time.time()\n",
    "    print(f'CNMFE Finished! Total Elapsed Time: {(end_time - start_time) / 60} (min)')\n",
    "\n",
    "# STEP 4F.2: APPLY CELL CONTOURS\n",
    "contour_files = DewanIOhandler.make_isx_path(dff_files, output_directory, 'AC')\n",
    "\n",
    "if not DewanIOhandler.check_files(dff_files) or not DewanIOhandler.check_files(cnmfe_files) or not DewanIOhandler.check_files(contour_files):\n",
    "    print('Applying Cell Contours...')\n",
    "    isx.apply_cell_set(dff_files, cnmfe_files[0], contour_files, 0)\n",
    "\n",
    "# STEP 4G: EXPORT FILES\n",
    "tiff_file_name = f'{video_base}.tiff'\n",
    "csv_file_name = f'{video_base}.csv'\n",
    "json_file_name = f'{video_base}-CONTOURS.json'\n",
    "props_file_name = f'{video_base}-Properties.csv'\n",
    "#gpio_input = f'{video_base}.gpio'\n",
    "gpio_output_filename = f'{video_base}-GPIO.csv'\n",
    "\n",
    "tiff_image_path = os.path.join(output_directory, tiff_file_name)\n",
    "trace_file_path = os.path.join(output_directory, csv_file_name)\n",
    "props_file_path = os.path.join(output_directory, props_file_name)\n",
    "\n",
    "print('Exporting Traces and Props...')\n",
    "isx.export_cell_set_to_csv_tiff(contour_files, trace_file_path, tiff_image_path, time_ref='unix', output_props_file= props_file_path)\n",
    "\n",
    "json_file_path = os.path.join(output_directory, json_file_name)\n",
    "\n",
    "print('Exporting Cell Contours...')\n",
    "isx.export_cell_contours(cnmfe_files[0], json_file_path)\n",
    "\n",
    "# gpio_input_path = os.path.join(data_directory, gpio_input)\n",
    "gpio_output_path = os.path.join(output_directory, gpio_output_filename)\n",
    "\n",
    "print(\"Exporting GPIO to csv...\")\n",
    "isx.export_gpio_set_to_csv(gpio_input_path, gpio_output_path, time_ref='unix')\n",
    "\n",
    "# STEP 4H (OPTIONAL): EXPORT MP4 VIDEO OF RECORDING\n",
    "if export_video_file:\n",
    "    movie_filename = f'{video_base}.mp4'\n",
    "    movie_file_path = os.path.join(output_directory, movie_filename)\n",
    "    print('Exporting Movie to MP4...')\n",
    "    isx.export_movie_to_mp4(dff_files, movie_file_path, compression_quality= 0.4, write_invalid_frames= True)\n",
    "    \n",
    "print('Processing Finished!')\n",
    "\n",
    "if cleanup_interim_files:\n",
    "    for each in post_process_files, bandpass_files, motion_correction_files, dff_files, cnmfe_files:\n",
    "        os.remove(each)\n"
   ],
   "metadata": {
    "collapsed": false
   },
   "id": "2ccca218"
  },
  {
   "cell_type": "markdown",
   "source": [
    "### STEP 5 (OPTIONAL): Produce high resolution images/videos"
   ],
   "metadata": {
    "collapsed": false
   },
   "id": "83a67e822522575d"
  },
  {
   "cell_type": "code",
   "execution_count": null,
   "id": "5e5c1cfa8dfd1e1e",
   "metadata": {},
   "outputs": [],
   "source": [
    "# STEP 5A: PREPROCESS VIDEO FILES \n",
    "post_process_files = DewanIOhandler.make_isx_path(video_files, output_directory, 'HR-PP')\n",
    "if not DewanIOhandler.check_files(post_process_files):\n",
    "    print('Starting Preprocessing...')\n",
    "    isx.preprocess(video_files, post_process_files)\n",
    "\n",
    "# STEP 5B: BANDPASS FILTER VIDEO FILES\n",
    "bandpass_files= DewanIOhandler.make_isx_path(post_process_files, output_directory, 'HR-BP')\n",
    "if not DewanIOhandler.check_files(list(bandpass_files)):\n",
    "    print('Starting Bandpass Filtering...')\n",
    "    isx.spatial_filter(post_process_files, bandpass_files, low_cutoff=spatial_bp_low_cutoff, high_cutoff=spatial_bp_high_cutoff)\n",
    "\n",
    "# STEP 5C.1: GENERATE MEAN IMAGE AS REFERENCE FRAME FOR THE MOTION CORRECTION\n",
    "mean_projection_file = os.path.join(output_directory, f'{video_base}-HR-mean_image.isxd')\n",
    "if not DewanIOhandler.check_files(mean_projection_file):\n",
    "    print('Creating Mean Image...')\n",
    "    isx.project_movie(bandpass_files, mean_projection_file, stat_type='mean')\n",
    "\n",
    "# STEP 5C.2: MOTION CORRECT VIDEO FILES\n",
    "motion_correction_files = DewanIOhandler.make_isx_path(bandpass_files, output_directory, 'HR-MC')\n",
    "translation_files = DewanIOhandler.make_isx_path(motion_correction_files, output_directory, 'translations', 'csv')\n",
    "crop_rect_file = os.path.join(output_directory, f'{video_base}-HR-crop_rect.csv')\n",
    "\n",
    "if not DewanIOhandler.check_files(motion_correction_files):\n",
    "    print('Starting Motion Correction...')\n",
    "    isx.motion_correct(bandpass_files, motion_correction_files, max_translation=max_translation, reference_file_name=mean_projection_file,\n",
    "                       low_bandpass_cutoff=motion_c_low_bandpass_cutoff, high_bandpass_cutoff=motion_c_high_bandpass_cutoff,\n",
    "                       output_translation_files=translation_files, output_crop_rect_file=crop_rect_file)\n",
    "\n",
    "# STEP 5D: PROCESS VIDEO FILES FOR DELTA F/F \n",
    "dff_files = DewanIOhandler.make_isx_path(motion_correction_files, output_directory, 'HR-DFF')\n",
    "if not DewanIOhandler.check_files(dff_files):\n",
    "    print('Calculating DF/F...')\n",
    "    isx.dff(motion_correction_files, dff_files, f0_type='mean')"
   ]
  },
  {
   "cell_type": "markdown",
   "source": [
    "#### STEP 6 (OPTIONAL): Produce a high resolution max projection image"
   ],
   "metadata": {
    "collapsed": false
   },
   "id": "ad175ab2b935651"
  },
  {
   "cell_type": "code",
   "execution_count": null,
   "outputs": [],
   "source": [
    "# STEP 6.1: MAKE A MAX PROJECTION FILE OF THE CELLS\n",
    "max_projection_file = DewanIOhandler.make_isx_path(dff_files, output_directory, 'HR-MAX_PROJ')\n",
    "\n",
    "for i, each in enumerate(max_projection_file):  \n",
    "    if not DewanIOhandler.check_files(max_projection_file):\n",
    "        start_time = time.strftime(\"%H:%M:%S\")\n",
    "        print(f\"{start_time} Starting Max Projection Creation. This might take a while...\")\n",
    "        isx.project_movie(dff_files[i], each, stat_type='max')\n",
    "        end_time = time.strftime(\"%H:%M:%S\")\n",
    "        print(f\"{end_time} Max Projection Creation finished. That took a while...\")\n",
    "\n",
    "tiff_path = DewanIOhandler.make_isx_path(max_projection_file, output_directory, addition='HR', extention='.tiff')\n",
    "\n",
    "# STEP 6.2: Convert .isx max projection files to tiff files\n",
    "for i, each in enumerate(tiff_path):\n",
    "    isx.export_isxd_image_to_tiff(max_projection_file[i], each)"
   ],
   "metadata": {
    "collapsed": false
   },
   "id": "e087bb20-9c43-47ba-9c2c-5e3de1cba79c"
  },
  {
   "cell_type": "markdown",
   "id": "818c8db0-fc67-48eb-878f-87b6c4f7e4cf",
   "metadata": {},
   "source": [
    "#### STEP 7 (OPTIONAL): Produce a high resolution dF/F movie"
   ]
  },
  {
   "cell_type": "code",
   "execution_count": null,
   "id": "42533d18-a51c-4ea3-8b5d-06ca4fd25e58",
   "metadata": {},
   "outputs": [],
   "source": [
    "movie_filename = f'{video_base}-HR.mp4'\n",
    "movie_file_path = os.path.join(output_directory, movie_filename)\n",
    "print('Exporting Movie to MP4...')\n",
    "isx.export_movie_to_mp4(dff_files, movie_file_path, compression_quality= 0.4, write_invalid_frames= True)"
   ]
  }
 ],
 "metadata": {
  "kernelspec": {
   "display_name": "Python 3 (ipykernel)",
   "language": "python",
   "name": "python3"
  },
  "language_info": {
   "codemirror_mode": {
    "name": "ipython",
    "version": 3
   },
   "file_extension": ".py",
   "mimetype": "text/x-python",
   "name": "python",
   "nbconvert_exporter": "python",
   "pygments_lexer": "ipython3",
   "version": "3.11.0"
  }
 },
 "nbformat": 4,
 "nbformat_minor": 5
}
