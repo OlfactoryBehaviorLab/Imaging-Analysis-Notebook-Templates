{
 "cells": [
  {
   "cell_type": "code",
   "execution_count": null,
   "metadata": {},
   "outputs": [],
   "source": [
    "%load_ext autoreload\n",
    "%autoreload 2"
   ]
  },
  {
   "cell_type": "code",
   "execution_count": null,
   "metadata": {},
   "outputs": [],
   "source": [
    "import pickle\n",
    "import numpy as np\n",
    "from pathlib import Path"
   ]
  },
  {
   "cell_type": "code",
   "execution_count": null,
   "metadata": {},
   "outputs": [],
   "source": [
    "# Function to load raw data from pickled objects\n",
    "def load_data(path: Path):\n",
    "    pickle_in = open(path, 'rb')\n",
    "    data_in = pickle.load(pickle_in)\n",
    "    pickle_in.close()\n",
    "    return data_in"
   ]
  },
  {
   "cell_type": "code",
   "execution_count": null,
   "metadata": {},
   "outputs": [],
   "source": [
    "root_path = Path('Z:/2_Inscopix/1_DTT/1_OdorAnalysis/') # Root Data Path\n",
    "contents = list(root_path.iterdir())\n",
    "folders = [each for each in contents if each.is_dir()] # Get folders for each experiment type\n",
    "animal_path = [path for folder in folders for path in list(folder.iterdir())] # Get folders for each animal within each experiment\n",
    "preprocess_path = [path.joinpath('ImagingAnalysis/PreProcessedData') for path in animal_path] # Get PreProcessed Data folder for each animal\n",
    "auroc_data_path = [path.joinpath('ImagingAnalysis/AUROCData') for path in animal_path]  # Get AUROC Data folder for each animal\n",
    "odor_data_path = list(preprocess_path[0].glob('*OdorData.pickle'))[0] # Get one OdorFile as all odors are the same"
   ]
  },
  {
   "cell_type": "code",
   "execution_count": null,
   "metadata": {},
   "outputs": [],
   "source": [
    "experiment_names = [folder.name for folder in folders] # Get name of each experiment type\n",
    "animal_names = np.unique([animal.name for animal in animal_path]) # Get each animal name\n",
    "plot_names = [f'{animal}-{exp}' for exp in experiment_names for animal in animal_names] # Pair experiements and animals\n",
    "plot_names = np.reshape(plot_names, (-1, 1)) # put each entry into its own len=1 matrix"
   ]
  },
  {
   "cell_type": "code",
   "execution_count": null,
   "metadata": {},
   "outputs": [],
   "source": [
    "on_time_data_paths = []\n",
    "latent_data_paths = []\n",
    "\n",
    "# Loop through the AUROC and PREPROCESS folder to find the files we are interested in. Skip file if there is an error.\n",
    "\n",
    "for path in auroc_data_path:\n",
    "    try:\n",
    "        files = list(path.iterdir())\n",
    "        \n",
    "        for file in files:\n",
    "            file_str = str(file)\n",
    "            if 'SignificanceTable' in file_str:\n",
    "                if 'onTime' in file_str:\n",
    "                    on_time_data_paths.append(file)\n",
    "                elif 'latent' in file_str:\n",
    "                    latent_data_paths.append(file)\n",
    "\n",
    "    except:\n",
    "        print(f'Error: {str(path)}')\n",
    "        continue\n",
    "\n",
    "\n",
    "cell_paths = []\n",
    "for path in preprocess_path:\n",
    "    try:\n",
    "        files = list(path.iterdir())\n",
    "        for file in files:\n",
    "            if 'CellList' in str(file):\n",
    "                cell_paths.append(file)\n",
    "    except:\n",
    "        print(f'Error: {str(path)}')\n",
    "        continue"
   ]
  },
  {
   "cell_type": "code",
   "execution_count": null,
   "metadata": {},
   "outputs": [],
   "source": [
    "# Sort and compile data for plotting\n",
    "\n",
    "on_time_data = [load_data(path) for path in on_time_data_paths]\n",
    "latent_data = [load_data(path) for path in latent_data_paths]\n",
    "cells = [load_data(path) for path in cell_paths]\n",
    "odor_data = load_data(odor_data_path)\n",
    "unique_odors = np.unique(odor_data)\n",
    "num_unique_odors = len(unique_odors)\n",
    "ratios = tuple([len(cell)/len(cells[0]) for cell in cells])"
   ]
  },
  {
   "cell_type": "code",
   "execution_count": null,
   "metadata": {},
   "outputs": [],
   "source": [
    "import matplotlib as mpl\n",
    "import matplotlib.pyplot as plt\n",
    "from matplotlib.colors import ListedColormap\n",
    "\n",
    "mpl.rcParams['font.family'] = 'Arial'\n",
    "colormap = ListedColormap(['yellow', 'red', 'green'])\n",
    "\n",
    "fig, ax = plt.subplot_mosaic(plot_names, gridspec_kw={'height_ratios': ratios, 'hspace': 0}, sharex=True, figsize=(4, 25))\n",
    "# This took HOURS. We calculate radios based off the number of cells so everything is scaled to the first set of data\n",
    "# One, common x axis and no space between subplots\n",
    "\n",
    "for i, label in enumerate(ax): # Loop through each axis (experiment-animal pairing)\n",
    "    each = ax[label]\n",
    "    num_cells = len(cells[i])\n",
    "\n",
    "    each.imshow(latent_data[i], cmap=colormap, extent=(0, num_unique_odors, num_cells, 0))\n",
    "\n",
    "    each.set_yticks(np.arange(num_cells), labels=[]) # Set major ticks but leave them unlabeled\n",
    "    each.set_xticks(np.arange(num_unique_odors), labels=[])\n",
    "    each.set_yticks(np.arange(0.5, num_cells + 0.5, 1), labels=cells[i], minor=True, fontsize=6) # Set minor ticks (offset by 0.5) and label them\n",
    "\n",
    "    each.set_ylabel(plot_names[i][0], fontsize=7, fontweight='bold') # Set y-axis label to animal-experiment pairing\n",
    "\n",
    "    each.grid(which='major') # Show the major grid to make nice little squares\n",
    "    \n",
    "bottom_ax = ax[plot_names[-1][0]] # Grab the last axis (we will label the x-axis on this one)\n",
    "bottom_ax.set_xticks(np.arange(0.5, num_unique_odors + 0.5, 1), rotation=90, ha='center', labels=unique_odors, minor=True, fontsize=6, fontweight='bold') # Label the bottommost x-axis with the odors\n",
    "bottom_ax.set_xlabel('Odors', fontweight = 'bold', fontsize=10)\n",
    "\n",
    "\n",
    "plt.suptitle('Latent \\n Cell v. Odor Significance Matrix', fontsize=16, fontweight='bold') # Set the main title\n",
    "plt.tight_layout(rect=(0, 0, 1, 0.98)) # Squish the graphs into a box just 'slightly' smaller than max, so theres room for the title\n",
    "plt.savefig('LatentTimeSignificanceMatrix.pdf', dpi=900) # Save in *Sportscaster Voice* HIGH DEFINITION"
   ]
  }
 ],
 "metadata": {
  "kernelspec": {
   "display_name": "dev",
   "language": "python",
   "name": "python3"
  },
  "language_info": {
   "codemirror_mode": {
    "name": "ipython",
    "version": 3
   },
   "file_extension": ".py",
   "mimetype": "text/x-python",
   "name": "python",
   "nbconvert_exporter": "python",
   "pygments_lexer": "ipython3",
   "version": "3.10.0"
  }
 },
 "nbformat": 4,
 "nbformat_minor": 2
}
