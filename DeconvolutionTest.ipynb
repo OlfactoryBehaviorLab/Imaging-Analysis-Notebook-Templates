{
 "cells": [
  {
   "cell_type": "code",
   "execution_count": 73,
   "id": "initial_id",
   "metadata": {
    "collapsed": true
   },
   "outputs": [
    {
     "name": "stdout",
     "output_type": "stream",
     "text": [
      "The autoreload extension is already loaded. To reload it, use:\n",
      "  %reload_ext autoreload\n"
     ]
    }
   ],
   "source": [
    "%load_ext autoreload\n",
    "%autoreload 2\n",
    "\n",
    "import matplotlib.pyplot as plt\n",
    "import numpy as np\n",
    "from oasis.functions import deconvolve # install using conda install to avoid having to build\n",
    "from scipy import signal\n",
    "from dewan_calcium import DewanDeconv"
   ]
  },
  {
   "cell_type": "code",
   "execution_count": 2,
   "id": "756c0e9fa93472ab",
   "metadata": {
    "collapsed": false
   },
   "outputs": [],
   "source": [
    "FRAMERATE=20"
   ]
  },
  {
   "cell_type": "code",
   "execution_count": 95,
   "id": "9f089466de9dc96c",
   "metadata": {
    "collapsed": false
   },
   "outputs": [],
   "source": [
    "transients = DewanDeconv.load_transients('./traces.csv')\n",
    "zscore_transients = DewanDeconv.z_score_data(transients)\n"
   ]
  },
  {
   "cell_type": "code",
   "execution_count": 96,
   "id": "2ceb982f",
   "metadata": {},
   "outputs": [],
   "source": [
    "from concurrent.futures import ProcessPoolExecutor\n",
    "\n",
    "results = []\n",
    "\n",
    "with ProcessPoolExecutor(max_workers=8) as pool:\n",
    "    results = pool.map(DewanDeconv.smooth_data, zscore_transients.T.values)"
   ]
  },
  {
   "cell_type": "code",
   "execution_count": 115,
   "id": "84a2b81b",
   "metadata": {},
   "outputs": [
    {
     "data": {
      "text/plain": [
       "array([-0.44032848, -0.55101156, -0.5782793 , ..., -0.3035942 ,\n",
       "       -0.21498765, -0.22887805], dtype=float32)"
      ]
     },
     "execution_count": 115,
     "metadata": {},
     "output_type": "execute_result"
    }
   ],
   "source": []
  },
  {
   "cell_type": "code",
   "execution_count": null,
   "id": "44c2bf0b",
   "metadata": {},
   "outputs": [],
   "source": []
  }
 ],
 "metadata": {
  "kernelspec": {
   "display_name": "Python 3",
   "language": "python",
   "name": "python3"
  },
  "language_info": {
   "codemirror_mode": {
    "name": "ipython",
    "version": 3
   },
   "file_extension": ".py",
   "mimetype": "text/x-python",
   "name": "python",
   "nbconvert_exporter": "python",
   "pygments_lexer": "ipython3",
   "version": "3.10.13"
  }
 },
 "nbformat": 4,
 "nbformat_minor": 5
}
