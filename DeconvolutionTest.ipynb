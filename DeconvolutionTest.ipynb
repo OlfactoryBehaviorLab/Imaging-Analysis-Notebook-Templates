{
 "cells": [
  {
   "cell_type": "code",
   "execution_count": null,
   "id": "initial_id",
   "metadata": {
    "collapsed": true
   },
   "outputs": [],
   "source": [
    "import numpy as np\n",
    "import pandas as pd\n",
    "import matplotlib.pyplot as plt\n",
    "from oasis.functions import deconvolve # install using conda install to avoid having to build\n",
    "from sklearn import preprocessing\n",
    "from sys import path\n",
    "from scipy import signal\n",
    "path.append('..')"
   ]
  },
  {
   "cell_type": "code",
   "outputs": [],
   "source": [
    "FRAMERATE=20"
   ],
   "metadata": {
    "collapsed": false
   },
   "id": "756c0e9fa93472ab",
   "execution_count": null
  },
  {
   "cell_type": "code",
   "outputs": [],
   "source": [
    "single_trace = pd.read_excel('Book1.xlsx', header=None, dtype=np.float32) # Load trace from excel sheet, zscore and package for OASIS\n",
    "\n",
    "scaler = preprocessing.StandardScaler()\n",
    "zscore_trace = scaler.fit_transform(single_trace, [0, 1])\n",
    "zscore_trace = pd.DataFrame(zscore_trace)[0].values"
   ],
   "metadata": {
    "collapsed": false
   },
   "id": "9f089466de9dc96c",
   "execution_count": null
  },
  {
   "cell_type": "code",
   "outputs": [],
   "source": [
    "denoised_signal, _, _, _, _ = deconvolve(zscore_trace, g=(None, None), penalty=1, optimize_g=1, max_iter=5) \n",
    "# Smooth data with OASIS"
   ],
   "metadata": {
    "collapsed": false
   },
   "id": "bccb3dfe987fb659",
   "execution_count": null
  },
  {
   "cell_type": "code",
   "outputs": [],
   "source": [
    "def find_spikes(data):\n",
    "    distance = FRAMERATE * 0.4\n",
    "    spike_width = FRAMERATE * 0.9\n",
    "    height = 1 # All spikes >1SD from mean\n",
    "    # 0.5s is ~1/2 the max decay time of a 6CAMP6F transient (Chen et al. 2013)\n",
    "    \n",
    "    spikes = signal.find_peaks(denoised_signal, height = 1, width=spike_width, distance=distance)\n",
    "    # distance of 10 is 1/2\n",
    "    fig, ax = plt.subplots(figsize=(150, 5))\n",
    "    \n",
    "    ax.plot(data)\n",
    "    ax.vlines(spikes[0], linewidth=0.3, color='r', ymin=0, ymax=max(data))\n",
    "    \n",
    "    fig.savefig('SpikeTest.pdf')\n",
    "    return spikes"
   ],
   "metadata": {
    "collapsed": false
   },
   "id": "9bf23412bf365107",
   "execution_count": null
  },
  {
   "cell_type": "code",
   "outputs": [],
   "source": [
    "found_spikes = find_spikes(denoised_signal)"
   ],
   "metadata": {
    "collapsed": false
   },
   "id": "a81d06755045295",
   "execution_count": null
  },
  {
   "cell_type": "code",
   "outputs": [],
   "source": [
    "fig, ax = plt.subplots(2, figsize=(100, 10))\n",
    "#.xticks(np.arange(0,50000, 5))\n",
    "\n",
    "x1 = 4000\n",
    "x2 = 4500\n",
    "\n",
    "ax[0].plot(zscore_trace, linewidth=0.1, color='g')\n",
    "# ax[0].vlines(found_spikes[0], color='m', linewidth = 0.1, ymin=min(zscore_trace), ymax=max(zscore_trace))\n",
    "ax[1].plot(denoised_signal, linewidth=0.1)\n",
    "ax[1].vlines(found_spikes[0], color='y', linewidth = 0.1, ymin=0, ymax=max(denoised_signal))\n",
    "ax[1].hlines([1], color='b', xmin=0, xmax=len(denoised_signal))\n",
    "\n",
    "for each in ax:\n",
    "    each.set_xlim(-20, 50000)\n",
    "\n",
    "#ax[3].set_xlim(-20, 50000)\n",
    "\n",
    "plt.tight_layout()\n",
    "fig.savefig('DeconvolutionTest-FoundSpikes.pdf')"
   ],
   "metadata": {
    "collapsed": false
   },
   "id": "754e65a667f63a17",
   "execution_count": null
  },
  {
   "cell_type": "code",
   "outputs": [],
   "source": [],
   "metadata": {
    "collapsed": false
   },
   "id": "1187269d1ae50ff7"
  }
 ],
 "metadata": {
  "kernelspec": {
   "display_name": "Python 3",
   "language": "python",
   "name": "python3"
  },
  "language_info": {
   "codemirror_mode": {
    "name": "ipython",
    "version": 2
   },
   "file_extension": ".py",
   "mimetype": "text/x-python",
   "name": "python",
   "nbconvert_exporter": "python",
   "pygments_lexer": "ipython2",
   "version": "2.7.6"
  }
 },
 "nbformat": 4,
 "nbformat_minor": 5
}
