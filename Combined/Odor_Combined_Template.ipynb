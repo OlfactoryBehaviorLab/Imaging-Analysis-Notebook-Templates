{
 "cells": [
  {
   "metadata": {},
   "cell_type": "markdown",
   "source": [
    "# Dewan Lab Neuron Pseudopopulation Analysis\n",
    "## Import Dependencies"
   ],
   "id": "4330c72a8865d230"
  },
  {
   "metadata": {},
   "cell_type": "code",
   "source": [
    "import itertools\n",
    "import os\n",
    "os.environ['ISX'] = '0'\n",
    "\n",
    "import matplotlib.pyplot as plt\n",
    "import numpy as np\n",
    "import pandas as pd\n",
    "from scipy import stats\n",
    "\n",
    "from dewan_calcium import classifiers\n",
    "from dewan_calcium import stats as dewan_stats\n",
    "from dewan_calcium.helpers.project_folder import ProjectFolder\n",
    "\n",
    "pd.options.mode.copy_on_write = \"warn\"\n",
    "\n",
    "print('Finished importing required libraries!')"
   ],
   "id": "7871bc781c717bf9",
   "outputs": [],
   "execution_count": null
  },
  {
   "metadata": {},
   "cell_type": "markdown",
   "source": "## Load Data from Project Folder",
   "id": "6d2f21e844bebffc"
  },
  {
   "metadata": {},
   "cell_type": "code",
   "source": [
    "# Create Project Folder to Gather and Hold all the File Paths\n",
    "project_folder = ProjectFolder('ODOR', project_dir='/mnt/r2d2/2_Inscopix/1_DTT/5_Combined/ID/VGLUT_Comb', combined=True)"
   ],
   "id": "d39f871d45f6cfbc",
   "outputs": [],
   "execution_count": null
  },
  {
   "metadata": {},
   "cell_type": "code",
   "source": [
    "# If this is the first time the project folder has been created,\n",
    "# move the files to the appropriate directories and then run this cell, otherwise skip this cell\n",
    "project_folder.get_data()"
   ],
   "id": "a86a090e52a56f5b",
   "outputs": [],
   "execution_count": null
  },
  {
   "metadata": {},
   "cell_type": "markdown",
   "source": "## Configs\n",
   "id": "f6f8b8df33f7e57a"
  },
  {
   "metadata": {},
   "cell_type": "code",
   "source": [
    "CELL_CLASS = 'vglut' # vglut or vgat\n",
    "IDENTITY_EXP = True  # False if Concentration Experiment\n",
    "\n",
    "WINDOW = 2  # Window size for the moving-window SVM decoder; set to None for no window and to consider all data at once\n",
    "NUM_SVM_SPLITS = 20  # Number of random test-train splits to run and average per SVM run\n",
    "\n",
    "# Values used in the combine-data.py standalone script to define the sizes of the different data periods\n",
    "BASELINE_FRAMES = 20\n",
    "ODOR_FRAMES = 20\n",
    "POST_FRAMES = 20\n",
    "\n",
    "## Constants\n",
    "ID_ORDER = ['4ATE', '5ATE', '6ATE', '7ATE', '4AL', '5AL', '6AL', '7AL', '4AMINE', '5AMINE', '6AMINE', '7AMINE', '4OL', '5OL', '6OL', '7OL', '4ONE', '5ONE', '6ONE', '7ONE']\n",
    "CONC_ORDER = ['1ATE', '10ATE', '100ATE', '1000ATE', '1AL', '10AL', '100AL', '1000AL', '1AMINE', '10AMINE', '100AMINE', '1000AMINE', '1OL', '10OL', '100OL', '1000OL', '1ONE', '10ONE', '100ONE', '1000ONE']"
   ],
   "id": "2c7d1439749a04df",
   "outputs": [],
   "execution_count": null
  },
  {
   "metadata": {},
   "cell_type": "markdown",
   "source": "## Check that the data file exists",
   "id": "6b68a08ed8212066"
  },
  {
   "metadata": {
    "collapsed": false
   },
   "cell_type": "code",
   "source": [
    "data_file = []\n",
    "sig_table = []\n",
    "if project_folder.raw_data_dir.combined_data_path:\n",
    "    if CELL_CLASS.lower() in str(project_folder.raw_data_dir.combined_data_path).lower():\n",
    "        data_file = project_folder.raw_data_dir.combined_data_path[0]\n",
    "else:\n",
    "    raise FileExistsError(f'No data file with class {CELL_CLASS} exists!')\n",
    "\n",
    "if project_folder.raw_data_dir.combined_sig_table_path:\n",
    "    if CELL_CLASS.lower() in str(project_folder.raw_data_dir.combined_sig_table_path).lower():\n",
    "        sig_table = project_folder.raw_data_dir.combined_sig_table_path[0]\n",
    "else:\n",
    "    raise FileExistsError(f'No significance table with class {CELL_CLASS} exists!')"
   ],
   "id": "a9f01416d24dbccc",
   "outputs": [],
   "execution_count": null
  },
  {
   "metadata": {},
   "cell_type": "markdown",
   "source": "## Load and Z-Score Data",
   "id": "d70f30d8a0344b0a"
  },
  {
   "cell_type": "code",
   "source": [
    "def z_score_data(df):\n",
    "    cell_name = df.index.get_level_values(0).unique()\n",
    "    df = df.loc[cell_name]\n",
    "    return df.apply(stats.zscore)\n",
    "\n",
    "combined_data = pd.read_pickle(data_file, compression={'method': 'xz'})\n",
    "#z_scored_combined_data = combined_data.T.groupby(level=0, group_keys=False).apply(z_score_data).T\n",
    "# Transform our dataframe to put the cells/odors as the index, group by level=0 (cell names), apply stats.zscore to each group, transform back\n",
    "z_scored_combined_data = combined_data.T.groupby(level=2, group_keys=True).apply(z_score_data).T\n",
    "# Transform our dataframe to put the cell/odor/block as the index, group by level=2 (experiment block), apply stats.zscore to each group, transform back\n",
    "cells = np.unique(combined_data.columns.get_level_values(0).values)\n",
    "original_columns = z_scored_combined_data.columns"
   ],
   "id": "5a990b9a9ed05be7",
   "metadata": {},
   "outputs": [],
   "execution_count": null
  },
  {
   "metadata": {},
   "cell_type": "code",
   "source": "z_scored_combined_data.columns = z_scored_combined_data.columns.droplevel(level=1)  # If we want to only look at blocks",
   "id": "4b052932b6591f0b",
   "outputs": [],
   "execution_count": null
  },
  {
   "metadata": {},
   "cell_type": "code",
   "source": "z_scored_combined_data.columns = z_scored_combined_data.columns.droplevel(level=2)  # If we want to only look at odors",
   "id": "5cbd019b9cd67832",
   "outputs": [],
   "execution_count": null
  },
  {
   "metadata": {},
   "cell_type": "code",
   "source": "z_scored_combined_data.columns = original_columns # Restore to original",
   "id": "caf5cae5713b7019",
   "outputs": [],
   "execution_count": null
  },
  {
   "metadata": {},
   "cell_type": "markdown",
   "source": "## SVM Classifier\n",
   "id": "29ed7f5c9fcb34a0"
  },
  {
   "metadata": {},
   "cell_type": "markdown",
   "source": "### Sliding Window Decoding",
   "id": "7b66169a3ae29f30"
  },
  {
   "metadata": {},
   "cell_type": "code",
   "source": [
    "mean_svm_scores, splits_v_repeat_df, all_confusion_mats, (true_labels, pred_labels) = classifiers.sliding_window_ensemble_decoding(z_scored_combined_data, window_size=WINDOW, num_splits=NUM_SVM_SPLITS)\n",
    "output_dir = project_folder.analysis_dir.output_dir.subdir('SVM')\n",
    "\n",
    "mean_score_df = pd.DataFrame(mean_svm_scores, np.arange(len(mean_svm_scores)))\n",
    "mean_score_df.insert(0, column='num_cells',value=len(cells))\n",
    "\n",
    "if WINDOW:\n",
    "    mean_score_df.insert(0, column='window_size', value=WINDOW)\n",
    "    output_dir = output_dir.joinpath(f'Window-{WINDOW}')\n",
    "    if not output_dir.exists():\n",
    "        output_dir.mkdir()\n",
    "\n",
    "mean_score_df.to_excel(output_dir.joinpath('mean_svm_scores.xlsx'))\n",
    "mean_scores_path = output_dir.joinpath('mean_svm_scores.pickle')\n",
    "pd.to_pickle(mean_svm_scores, mean_scores_path)\n",
    "splits_path = output_dir.joinpath('splits_v_repeat_df.pickle')\n",
    "pd.to_pickle(splits_v_repeat_df, splits_path)\n",
    "all_confusion_mat_path = output_dir.joinpath('all_confusion_mat.pickle')\n",
    "pd.to_pickle(all_confusion_mats, all_confusion_mat_path)\n",
    "labels_path = output_dir.joinpath('labels.pickle')\n",
    "pd.to_pickle((true_labels, pred_labels), labels_path)"
   ],
   "id": "a046210a2d30838e",
   "outputs": [],
   "execution_count": null
  },
  {
   "metadata": {},
   "cell_type": "code",
   "source": [
    "from sklearn import metrics\n",
    "\n",
    "windows = list(all_confusion_mats.keys())\n",
    "for window in windows:\n",
    "    window_cm = all_confusion_mats[window]\n",
    "    avg_cm = np.mean(window_cm, axis=0)\n",
    "    disp = metrics.ConfusionMatrixDisplay(avg_cm)\n",
    "    fig = disp.plot()"
   ],
   "id": "76833cbd01ec08d1",
   "outputs": [],
   "execution_count": null
  },
  {
   "metadata": {},
   "cell_type": "code",
   "source": [
    "#TODO: Automate The Following:\n",
    "# - Save confusion matricies\n",
    "# - Combine SVM code to be more concise so its obvious what's happening\n",
    "# - Dedicated SVM cells for: blocks, odors-v-time, odors per odor period (-2-0, 0-2, 2-4; window size=20)\n",
    "windows = list(true_labels.keys())\n",
    "\n",
    "odor_window_true_labels = true_labels[windows[0]]\n",
    "odor_window_pred_labels = pred_labels[windows[0]]\n",
    "\n",
    "from sklearn import metrics\n",
    "\n",
    "cf=metrics.confusion_matrix(odor_window_true_labels, odor_window_pred_labels)\n",
    "cf_disp = metrics.ConfusionMatrixDisplay(cf)\n",
    "cf_disp.plot()"
   ],
   "id": "9514142ad36c2880",
   "outputs": [],
   "execution_count": null
  },
  {
   "metadata": {},
   "cell_type": "markdown",
   "source": "### Shuffled Sliding Window Decoding",
   "id": "34bd246aa480c932"
  },
  {
   "metadata": {},
   "cell_type": "code",
   "source": [
    "shuffled_data = classifiers.shuffle_data(z_scored_combined_data)\n",
    "\n",
    "shuffled_mean_svm_scores, shuffled_splits_v_repeat_df, shuffled_all_confusion_mats, (shuffled_true_labels, shuffled_pred_labels) = classifiers.sliding_window_ensemble_decoding(shuffled_data, window_size=WINDOW, num_splits=NUM_SVM_SPLITS)\n",
    "output_dir = project_folder.analysis_dir.output_dir.subdir('SVM')\n",
    "\n",
    "shuffled_mean_score_df = pd.DataFrame(shuffled_mean_svm_scores, np.arange(len(shuffled_mean_svm_scores)))\n",
    "shuffled_mean_score_df.insert(0, column='num_cells',value=len(cells))\n",
    "\n",
    "if WINDOW:\n",
    "    shuffled_mean_score_df.insert(0, column='window_size', value=WINDOW)\n",
    "    output_dir = output_dir.joinpath(f'Window-{WINDOW}')\n",
    "    if not output_dir.exists():\n",
    "        output_dir.mkdir()\n",
    "        \n",
    "shuffled_mean_score_df.to_excel(output_dir.joinpath('shuffle_mean_svm_scores.xlsx'))\n",
    "shuffled_mean_scores_path = output_dir.joinpath('shuffle_mean_svm_scores.pickle')\n",
    "pd.to_pickle(shuffled_mean_svm_scores, shuffled_mean_scores_path)\n",
    "shuffled_splits_path = output_dir.joinpath('shuffle_splits_v_repeat_df.pickle')\n",
    "pd.to_pickle(shuffled_splits_v_repeat_df, shuffled_splits_path)\n",
    "shuffled_all_confusion_mat_path = output_dir.joinpath('shuffle_all_confusion_mat.pickle')\n",
    "pd.to_pickle(shuffled_all_confusion_mats, shuffled_all_confusion_mat_path)\n",
    "shuffled_labels_path = output_dir.joinpath('shuffle_labels.pickle')\n",
    "pd.to_pickle((shuffled_true_labels, shuffled_pred_labels), shuffled_labels_path)"
   ],
   "id": "9a42e5c4b9dbc641",
   "outputs": [],
   "execution_count": null
  },
  {
   "metadata": {},
   "cell_type": "markdown",
   "source": "### Plot SVM Performance",
   "id": "6681631f42fa5c3c"
  },
  {
   "metadata": {},
   "cell_type": "code",
   "source": [
    "mean_performance = [mean_svm_scores[key] for key in mean_svm_scores]\n",
    "shuffle_mean_performance = [shuffled_mean_svm_scores[key] for key in shuffled_mean_svm_scores]"
   ],
   "id": "5c8aab75065f38c0",
   "outputs": [],
   "execution_count": null
  },
  {
   "metadata": {},
   "cell_type": "code",
   "source": [
    "sqrt = np.sqrt(splits_v_repeat_df.shape[0])\n",
    "std_devs = splits_v_repeat_df.T.std(axis=1)\n",
    "shuffl_std_devs = shuffled_splits_v_repeat_df.T.std(axis=1)\n",
    "CI = 2.575 * (std_devs/sqrt)\n",
    "shuffl_CI = 2.575 * (shuffl_std_devs/sqrt)\n",
    "CI_min = np.subtract(mean_performance, CI)\n",
    "CI_max = np.add(mean_performance, CI)\n",
    "shuffle_CI_min = np.subtract(shuffle_mean_performance, shuffl_CI)\n",
    "shuffle_CI_max = np.add(shuffle_mean_performance, shuffl_CI)"
   ],
   "id": "88c47087e9fdf9bf",
   "outputs": [],
   "execution_count": null
  },
  {
   "metadata": {},
   "cell_type": "code",
   "source": [
    "fig, ax = plt.subplots()\n",
    "x_vals = np.linspace(-2, 3.5, len(mean_performance), endpoint=True,) + 0.5\n",
    "ax.plot(x_vals, mean_performance, color='#04BBC9', linewidth=3)\n",
    "ax.plot(x_vals, shuffle_mean_performance, color='#C500FF', linewidth=1)\n",
    "ax.fill_between(x_vals, CI_min, CI_max, alpha=0.5, color='red')\n",
    "ax.fill_between(x_vals, shuffle_CI_min, shuffle_CI_max, alpha=0.5, color='green')\n",
    "\n",
    "plt.xticks(x_vals)\n",
    "ax.vlines(x=0, ymin=-1, ymax=1, color='r')\n",
    "ax.hlines(y=0.15, xmin=-4, xmax=10, color='#FFEC00')\n",
    "ax.set_ylim([-0.05, 1])\n",
    "ax.set_xlim([-1.6, 4.1])\n",
    "\n",
    "if IDENTITY_EXP:\n",
    "    _exp_type = 'ID'\n",
    "else:\n",
    "    _exp_type = 'CONC'\n",
    "\n",
    "plt.suptitle(f'{CELL_CLASS} {_exp_type} SVM Classifier n={len(cells)}', fontsize=18, fontweight='bold')\n",
    "ax.set_ylabel('Classifier Performance', fontsize=12)\n",
    "ax.set_xlabel('Time Relative to Odor Onset (s)', fontsize=12)\n",
    "plt.savefig(output_dir.joinpath(f'{CELL_CLASS}_{_exp_type}_Classifier_Odor.pdf'), dpi=600)"
   ],
   "id": "a8ba0672475015f0",
   "outputs": [],
   "execution_count": null
  },
  {
   "metadata": {},
   "cell_type": "code",
   "source": [
    "grouped_by_block = z_scored_combined_data.T.groupby(level=1)\n",
    "windows = mean_svm_scores.columns.values\n",
    "\n",
    "block_windowed_means = {}\n",
    "\n",
    "for name, block in grouped_by_block:\n",
    "    block_means = []\n",
    "    for window in windows:\n",
    "        start_idx, end_idx = window\n",
    "        data = block.iloc[:, start_idx:end_idx]\n",
    "        block_means.append(data.mean().mean())\n",
    "\n",
    "    block_windowed_means[name] = block_means"
   ],
   "id": "b17563bd96bf5db2",
   "outputs": [],
   "execution_count": null
  },
  {
   "metadata": {},
   "cell_type": "code",
   "source": [
    "block_1_means = block_windowed_means[1]\n",
    "block_2_means = block_windowed_means[2]\n",
    "block_3_means = block_windowed_means[3]\n",
    "_y_min = np.min([block_1_means, block_2_means, block_3_means]) * 1.1\n",
    "_y_max = np.max([block_1_means, block_2_means, block_3_means]) * 1.1\n",
    "\n",
    "x_vals = np.linspace(-2, 3.5, len(block_1_means), endpoint=True,) + 0.5\n",
    "fig,ax = plt.subplots()\n",
    "\n",
    "ax.plot(x_vals, block_1_means, color='red', linewidth=3, label='Block 1')\n",
    "ax.plot(x_vals, block_2_means, color='cyan', linewidth=3, label='Block 2')\n",
    "ax.plot(x_vals, block_3_means, color='green', linewidth=3, label='Block 3')\n",
    "ax.legend()\n",
    "_ = plt.xticks(x_vals)\n",
    "ax.vlines(x=0, ymin=_y_min, ymax=_y_max, color='m')\n",
    "ax.set_ylim([_y_min, _y_max])\n",
    "\n",
    "plt.suptitle(f'{CELL_CLASS} {_exp_type} Average dF/F per Block n={len(cells)}', fontsize=18, fontweight='bold')\n",
    "ax.set_ylabel('average dF/F', fontsize=12)\n",
    "ax.set_xlabel('Time Relative to Odor Onset (s)', fontsize=12)\n",
    "plt.savefig(output_dir.joinpath(f'{CELL_CLASS}_{_exp_type}_block_meandff.pdf'), dpi=600)"
   ],
   "id": "c72d66103b13915c",
   "outputs": [],
   "execution_count": null
  },
  {
   "metadata": {},
   "cell_type": "markdown",
   "source": "## Population and Lifetime Sparseness",
   "id": "eafbd6771d013558"
  },
  {
   "metadata": {},
   "cell_type": "markdown",
   "source": [
    "\n",
    "### Calculate Cell-Odor Means"
   ],
   "id": "2f7d2d212ab0e82d"
  },
  {
   "metadata": {},
   "cell_type": "code",
   "source": [
    "# Pop Sparseness -> per odor\n",
    "# Lifetime Sparseness -> per cell\n",
    "\n",
    "transposed_data = z_scored_combined_data.T\n",
    "\n",
    "cell_medians = {}\n",
    "cell_means = {}\n",
    "nonzero_cell_medians = {}\n",
    "\n",
    "cells = transposed_data.groupby('Cells')\n",
    "cell_odor_orders = []\n",
    "\n",
    "\n",
    "for cell_name, cell_df in cells:\n",
    "    medians = []\n",
    "    means = []\n",
    "    nonzero_medians = []\n",
    "    odor_order = []\n",
    "    odors = cell_df.groupby('Trials')\n",
    "\n",
    "    for name, odor_data in odors:\n",
    "        baseline_mean = odor_data.iloc[:, :BASELINE_FRAMES].mean(axis=1) # baseline means for each trial\n",
    "        odor_trial_means = odor_data.iloc[:, BASELINE_FRAMES: BASELINE_FRAMES + ODOR_FRAMES].mean(axis=1) # odor evoked means for each trial\n",
    "        diff = odor_trial_means.subtract(baseline_mean, axis=0)  # subtract the baseline from odor activity\n",
    "        _mean = diff.mean()\n",
    "        _median = diff.median()\n",
    "\n",
    "        nonzero_medians.append(_median)\n",
    "\n",
    "        # What happens if you zero the values BEFORE taking the mean?\n",
    "        if _mean < 0:\n",
    "            _mean = 0\n",
    "        if _median < 0:\n",
    "            _median = 0\n",
    "\n",
    "        means.append(_mean)\n",
    "        medians.append(_median)\n",
    "        odor_order.append(name)\n",
    "\n",
    "    cell_means[cell_name] = means\n",
    "    cell_medians[cell_name] = medians\n",
    "    nonzero_cell_medians[cell_name] = nonzero_medians\n",
    "    cell_odor_orders.append(odor_order)\n",
    "\n",
    "\n",
    "odors = cell_odor_orders[0]\n",
    "\n",
    "cell_means = pd.DataFrame(cell_means, index=odors)\n",
    "cell_medians = pd.DataFrame(cell_medians, index=odors)\n",
    "nonzero_cell_medians = pd.DataFrame(nonzero_cell_medians, index=odors)"
   ],
   "id": "254129d977d9b71b",
   "outputs": [],
   "execution_count": null
  },
  {
   "metadata": {},
   "cell_type": "markdown",
   "source": "## Population Sparseness",
   "id": "96d4670087f5feba"
  },
  {
   "metadata": {},
   "cell_type": "code",
   "source": [
    "pop_sparseness_values_means = {}\n",
    "pop_sparseness_values_medians = {}\n",
    "\n",
    "for odor_name, odor_data in cell_means.iterrows():\n",
    "    num_cells = odor_data.shape[0]\n",
    "    odor_data = odor_data.values\n",
    "    sparseness_value = dewan_stats.sparseness(num_cells, odor_data)\n",
    "    pop_sparseness_values_means[odor_name] = sparseness_value\n",
    "\n",
    "for odor_name, odor_data in cell_medians.iterrows():\n",
    "    num_cells = odor_data.shape[0]\n",
    "    odor_data = odor_data.values\n",
    "    sparseness_value = dewan_stats.sparseness(num_cells, odor_data)\n",
    "    pop_sparseness_values_medians[odor_name] = sparseness_value\n",
    "\n",
    "pop_sparseness_values_means = pd.DataFrame(pop_sparseness_values_means, index=[0])\n",
    "pop_sparseness_values_medians = pd.DataFrame(pop_sparseness_values_medians, index=[0])"
   ],
   "id": "78d47deedd03ad15",
   "outputs": [],
   "execution_count": null
  },
  {
   "metadata": {},
   "cell_type": "markdown",
   "source": "## Lifetime Sparseness",
   "id": "585cfae3a3d44258"
  },
  {
   "metadata": {},
   "cell_type": "code",
   "source": [
    "lifetime_sparseness_values_means = {}\n",
    "lifetime_sparseness_values_medians = {}\n",
    "\n",
    "for cell_name, cell_data in cell_means.items():\n",
    "    num_odors = cell_data.shape[0]\n",
    "    cell_data = cell_data.values\n",
    "    sparseness_values = dewan_stats.sparseness(num_odors, cell_data)\n",
    "    lifetime_sparseness_values_means[cell_name] = sparseness_values\n",
    "\n",
    "for cell_name, cell_data in cell_medians.items():\n",
    "    num_odors = cell_data.shape[0]\n",
    "    cell_data = cell_data.values\n",
    "    sparseness_values = dewan_stats.sparseness(num_odors, cell_data)\n",
    "    lifetime_sparseness_values_medians[cell_name] = sparseness_values\n",
    "\n",
    "lifetime_sparseness_values_means = pd.DataFrame(lifetime_sparseness_values_means, index=[0])\n",
    "lifetime_sparseness_values_medians = pd.DataFrame(lifetime_sparseness_values_medians, index=[0])"
   ],
   "id": "59c261a88e2f5c99",
   "outputs": [],
   "execution_count": null
  },
  {
   "metadata": {},
   "cell_type": "markdown",
   "source": "## Write to File",
   "id": "27144e881aa82e6f"
  },
  {
   "metadata": {},
   "cell_type": "code",
   "source": [
    "sparseness_path = project_folder.analysis_dir.output_dir.path.joinpath('sparseness.xlsx')\n",
    "\n",
    "with pd.ExcelWriter(sparseness_path, engine='xlsxwriter') as writer:\n",
    "    pop_sparseness_values_medians.to_excel(writer, sheet_name='Population Sparseness (Medians)')\n",
    "    pop_sparseness_values_means.to_excel(writer, sheet_name='Population Sparseness (Means)')\n",
    "    lifetime_sparseness_values_medians.to_excel(writer, sheet_name='Lifetime Sparseness (Medians)', index=[0])\n",
    "    lifetime_sparseness_values_means.to_excel(writer, sheet_name='Lifetime Sparseness (Means)', index=[0])\n",
    "    cell_means.to_excel(writer, sheet_name='Cell Means (Zeroed)')\n",
    "    cell_medians.to_excel(writer, sheet_name='Cell Medians (Zeroed)')"
   ],
   "id": "98e4cce33c743a60",
   "outputs": [],
   "execution_count": null
  },
  {
   "metadata": {},
   "cell_type": "markdown",
   "source": "## Correlations",
   "id": "4dc6abf503d01958"
  },
  {
   "metadata": {},
   "cell_type": "code",
   "source": [
    "odors = transposed_data.index.get_level_values(1).unique()\n",
    "odors = np.sort(odors)\n",
    "perms = list(itertools.permutations(odors, 2))\n",
    "\n",
    "correlations = pd.DataFrame(dtype=float, index=odors, columns=odors)  # Explicitly set dtype to float\n",
    "\n",
    "for odor1, odor2 in perms:\n",
    "    odor1_means = cell_means.loc[odor1]\n",
    "    odor2_means = cell_means.loc[odor2]\n",
    "\n",
    "    pearson_result = stats.pearsonr(odor1_means, odor2_means)\n",
    "\n",
    "    correlations.loc[odor1, odor2] = pearson_result.statistic\n",
    "\n",
    "correlations = correlations.fillna(1.0)\n",
    "correlations = 1 - correlations\n",
    "\n",
    "if IDENTITY_EXP:\n",
    "    sorted_correlations = correlations.loc[ID_ORDER, ID_ORDER]\n",
    "else:\n",
    "    sorted_correlations = correlations.loc[CONC_ORDER, CONC_ORDER]\n",
    "\n",
    "correlation_path = project_folder.analysis_dir.output_dir.path.joinpath('correlations.xlsx')\n",
    "sorted_correlations.to_excel(correlation_path)"
   ],
   "id": "4dc1d3a86081fffb",
   "outputs": [],
   "execution_count": null
  },
  {
   "metadata": {},
   "cell_type": "markdown",
   "source": "## Reorganize Cell Significance Matrix",
   "id": "c5ab53088e6bb377"
  },
  {
   "metadata": {},
   "cell_type": "code",
   "source": [
    "## Sorting Rules\n",
    "\"\"\"\n",
    "1) Non-responsive - zeros only\n",
    "2) Excitatory on responses - 2s only (sort by the most 2s)\n",
    "3) Excitatory off responses - 4s only (sort by the most 4s)\n",
    "4) Excitatory combo responses- 2s and 4s (sort by the most 2s+4s)\n",
    "5) Inhibitory on responses - 1s only (sort by the most 1s)\n",
    "6) Inhibitory off responses - 3s only (sort by the most 3s)\n",
    "7) Inhibitory combo responses (1s and 3s sort by the most 1s+3s)\n",
    "8) Combo responses (any combination of 1/3 and 2/4 sort by the most responses)\n",
    "9) Buzzer - any cell that responses to the buzzer (sort by the total number of responses of any number)\n",
    "10) MO - any cell that responses to MO (sort by the total number of responses of any number)\n",
    "\"\"\""
   ],
   "id": "3466a91c2bca3106",
   "outputs": [],
   "execution_count": null
  },
  {
   "metadata": {},
   "cell_type": "code",
   "source": [
    "def sort_by_response_number(df: pd.DataFrame):\n",
    "    order = df.T.ne(0).sum().sort_values(ascending=False).index\n",
    "    sorted_df = df.loc[order]\n",
    "    return sorted_df\n",
    "\n",
    "def get_and_sort_cells(odor_responsive_cells, IDs):\n",
    "    ID_mask = np.all(odor_responsive_cells.isin(IDs), axis=1)\n",
    "    ID_cells = odor_responsive_cells.loc[ID_mask]\n",
    "    sorted_ID_cells = sort_by_response_number(ID_cells)\n",
    "    return sorted_ID_cells"
   ],
   "id": "aa38cf2b98873c15",
   "outputs": [],
   "execution_count": null
  },
  {
   "metadata": {},
   "cell_type": "code",
   "source": [
    "combined_sig_table = pd.read_excel(sig_table, index_col=0)\n",
    "\n",
    "nonresponsive_cells_mask = (combined_sig_table.sum(axis=1) == 0)\n",
    "nonresponsive_cells = combined_sig_table.loc[nonresponsive_cells_mask]\n",
    "\n",
    "responsive_cells_mask = np.logical_not(nonresponsive_cells_mask)\n",
    "responsive_cells = combined_sig_table.loc[responsive_cells_mask]\n",
    "\n",
    "buzzer_mask = (responsive_cells['Buzzer'] != 0)\n",
    "buzzer_cells = responsive_cells.loc[buzzer_mask]\n",
    "buzzer_cells = sort_by_response_number(buzzer_cells)\n",
    "\n",
    "non_buzzer_mask = np.logical_not(buzzer_mask)\n",
    "non_buzzer_cells = responsive_cells.loc[non_buzzer_mask]\n",
    "\n",
    "MO_mask = (non_buzzer_cells['MO'] != 0)\n",
    "MO_cells = non_buzzer_cells.loc[MO_mask]\n",
    "MO_cells = sort_by_response_number(MO_cells)\n",
    "\n",
    "non_MO_mask = np.logical_not(MO_mask)\n",
    "odor_responsive_cells = non_buzzer_cells.loc[non_MO_mask]\n",
    "\n",
    "excitatory_on_cells = get_and_sort_cells(odor_responsive_cells, [0, 2])   # 0 and 2 ONLY\n",
    "odor_responsive_cells = odor_responsive_cells.drop(excitatory_on_cells.index)\n",
    "\n",
    "excitatory_off_cells = get_and_sort_cells(odor_responsive_cells, [0, 4])   # 0 and 4 ONLY\n",
    "odor_responsive_cells = odor_responsive_cells.drop(excitatory_off_cells.index)\n",
    "\n",
    "excitatory_combo_cells = get_and_sort_cells(odor_responsive_cells, [0, 2, 4]) # 0, 2, AND 4 ONLY\n",
    "odor_responsive_cells = odor_responsive_cells.drop(excitatory_combo_cells.index)\n",
    "\n",
    "inhibitory_on_cells = get_and_sort_cells(odor_responsive_cells, [0, 1])  # 0 and 1 ONLY\n",
    "odor_responsive_cells = odor_responsive_cells.drop(inhibitory_on_cells.index)\n",
    "inhibitory_off_cells = get_and_sort_cells(odor_responsive_cells, [0, 3]) # 0 and 3 ONLY\n",
    "odor_responsive_cells = odor_responsive_cells.drop(inhibitory_off_cells.index)\n",
    "inhibitory_combo_cells = get_and_sort_cells(odor_responsive_cells, [0, 1, 3]) # 0, 1 AND 3 ONLY\n",
    "odor_responsive_cells = odor_responsive_cells.drop(inhibitory_combo_cells.index)\n",
    "\n",
    "any_combo_cells = sort_by_response_number(odor_responsive_cells)\n",
    "\n",
    "sorted_dataframe = pd.concat([nonresponsive_cells, excitatory_on_cells, excitatory_off_cells, excitatory_combo_cells, inhibitory_on_cells, inhibitory_off_cells, inhibitory_combo_cells, any_combo_cells, buzzer_cells, MO_cells])\n",
    "\n",
    "if IDENTITY_EXP:\n",
    "    _ID_ORDER = np.hstack([ID_ORDER, ['Buzzer', 'MO']])\n",
    "    sorted_by_odor = sorted_dataframe[_ID_ORDER]\n",
    "else:\n",
    "    _CONC_ORDER = np.hstack([CONC_ORDER, ['Buzzer', 'MO']])\n",
    "    sorted_by_odor = sorted_dataframe[_CONC_ORDER]\n",
    "\n",
    "sorted_sig_table_path = project_folder.analysis_dir.output_dir.path.joinpath('sorted_significance_table.xlsx')\n",
    "sorted_by_odor.to_excel(sorted_sig_table_path)+"
   ],
   "id": "31d9859f7934f5da",
   "outputs": [],
   "execution_count": null
  }
 ],
 "metadata": {
  "kernelspec": {
   "display_name": "Python 3",
   "language": "python",
   "name": "python3"
  },
  "language_info": {
   "codemirror_mode": {
    "name": "ipython",
    "version": 2
   },
   "file_extension": ".py",
   "mimetype": "text/x-python",
   "name": "python",
   "nbconvert_exporter": "python",
   "pygments_lexer": "ipython2",
   "version": "2.7.6"
  }
 },
 "nbformat": 4,
 "nbformat_minor": 5
}
