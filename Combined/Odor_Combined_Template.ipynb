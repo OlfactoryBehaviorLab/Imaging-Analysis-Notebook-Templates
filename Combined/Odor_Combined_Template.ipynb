{
 "cells": [
  {
   "metadata": {},
   "cell_type": "code",
   "source": [
    "%load_ext autoreload\n",
    "%autoreload 2"
   ],
   "id": "10e52bc7270dbb42",
   "outputs": [],
   "execution_count": null
  },
  {
   "metadata": {},
   "cell_type": "markdown",
   "source": [
    "# Dewan Lab Neuron Pseudopopulation Analysis\n",
    "## Import Dependencies"
   ],
   "id": "4330c72a8865d230"
  },
  {
   "metadata": {},
   "cell_type": "code",
   "source": [
    "import os\n",
    "os.environ['ISX'] = '0'\n",
    "\n",
    "import matplotlib.pyplot as plt\n",
    "import numpy as np\n",
    "import pandas as pd\n",
    "from scipy import stats\n",
    "\n",
    "from dewan_calcium.helpers.project_folder import ProjectFolder\n",
    "from dewan_calcium import classifiers\n",
    "pd.options.mode.copy_on_write = \"warn\"\n",
    "\n",
    "print('Finished importing required libraries!')"
   ],
   "id": "7871bc781c717bf9",
   "outputs": [],
   "execution_count": null
  },
  {
   "metadata": {},
   "cell_type": "markdown",
   "source": "## Load Data from Project Folder",
   "id": "6d2f21e844bebffc"
  },
  {
   "metadata": {},
   "cell_type": "code",
   "source": [
    "# Create Project Folder to Gather and Hold all the File Paths\n",
    "project_folder = ProjectFolder('ODOR', project_dir=r'/mnt/r/2_Inscopix/1_DTT/5_Combined/ID/VGLUT', combined=True)"
   ],
   "id": "d39f871d45f6cfbc",
   "outputs": [],
   "execution_count": null
  },
  {
   "metadata": {},
   "cell_type": "code",
   "source": [
    "# If this is the first time the project folder has been created,\n",
    "# move the files to the appropriate directories and then run this cell, otherwise skip this cell\n",
    "project_folder.get_data()"
   ],
   "id": "a86a090e52a56f5b",
   "outputs": [],
   "execution_count": null
  },
  {
   "metadata": {},
   "cell_type": "markdown",
   "source": "## Check that the data file exists",
   "id": "6b68a08ed8212066"
  },
  {
   "metadata": {
    "collapsed": false
   },
   "cell_type": "code",
   "source": [
    "cell_class = 'vglut'\n",
    "data_file = []\n",
    "sig_table = []\n",
    "if project_folder.raw_data_dir.combined_data_path:\n",
    "    if cell_class.lower() in str(project_folder.raw_data_dir.combined_data_path).lower():\n",
    "        data_file = project_folder.raw_data_dir.combined_data_path[0]\n",
    "else:\n",
    "    raise FileExistsError(f'No data file with class {cell_class} exists!')\n",
    "\n",
    "if project_folder.raw_data_dir.combined_sig_table_path:\n",
    "    if cell_class.lower() in str(project_folder.raw_data_dir.combined_sig_table_path).lower():\n",
    "        sig_table = project_folder.raw_data_dir.combined_sig_table_path[0]\n",
    "else:\n",
    "    raise FileExistsError(f'No significance table with class {cell_class} exists!')"
   ],
   "id": "a9f01416d24dbccc",
   "outputs": [],
   "execution_count": null
  },
  {
   "metadata": {},
   "cell_type": "markdown",
   "source": "## Load and Z-Score Data",
   "id": "d70f30d8a0344b0a"
  },
  {
   "metadata": {},
   "cell_type": "code",
   "source": [
    "def z_score_data(df):\n",
    "    cell_name = df.index.get_level_values(0).unique()\n",
    "    df = df.loc[cell_name]\n",
    "    return df.apply(stats.zscore)"
   ],
   "id": "7bafa65403a574e5",
   "outputs": [],
   "execution_count": null
  },
  {
   "cell_type": "code",
   "source": [
    "combined_data = pd.read_pickle(data_file, compression={'method': 'xz'})\n",
    "z_scored_combined_data = combined_data.T.groupby(level=0, group_keys=False).apply(z_score_data).T\n",
    "# Transform our dataframe to put the cells/odors as the index, group by level=0 (cell names), apply stats.zscore to each group, transform back\n",
    "\n",
    "cells = np.unique(combined_data.columns.get_level_values(0).values)"
   ],
   "metadata": {},
   "id": "c7351d4eb893fed8",
   "outputs": [],
   "execution_count": null
  },
  {
   "metadata": {},
   "cell_type": "markdown",
   "source": "## SVM Classifier\n",
   "id": "c2b37c77dfb15c9e"
  },
  {
   "metadata": {},
   "cell_type": "markdown",
   "source": "### Sliding Window Decoding",
   "id": "ebfad7ef3e4e4792"
  },
  {
   "metadata": {},
   "cell_type": "code",
   "source": [
    "WINDOW = 5\n",
    "mean_svm_scores, splits_v_repeat_df, all_confusion_mats, (true_labels, pred_labels) = classifiers.sliding_window_ensemble_decoding(z_scored_combined_data, window_size=WINDOW, num_splits=1000)\n",
    "\n",
    "output_dir = project_folder.analysis_dir.output_dir.path\n",
    "\n",
    "mean_score_df = pd.DataFrame(mean_svm_scores, np.arange(len(mean_svm_scores)))\n",
    "mean_score_df.insert(0, column='num_cells',value=len(cells))\n",
    "\n",
    "if WINDOW:\n",
    "    mean_score_df.insert(0, column='window_size', value=WINDOW)\n",
    "    output_dir = output_dir.joinpath(f'Window-{WINDOW}')\n",
    "    if not output_dir.exists():\n",
    "        output_dir.mkdir()\n",
    "\n",
    "mean_score_df.to_excel(output_dir.joinpath('mean_svm_scores.xlsx'))\n",
    "mean_scores_path = output_dir.joinpath('mean_svm_scores.pickle')\n",
    "pd.to_pickle(mean_svm_scores, mean_scores_path)\n",
    "splits_path = output_dir.joinpath('splits_v_repeat_df.pickle')\n",
    "pd.to_pickle(splits_v_repeat_df, splits_path)\n",
    "all_confusion_mat_path = output_dir.joinpath('all_confusion_mat.pickle')\n",
    "pd.to_pickle(all_confusion_mats, all_confusion_mat_path)\n",
    "labels_path = output_dir.joinpath('labels.pickle')\n",
    "pd.to_pickle((true_labels, pred_labels), labels_path)"
   ],
   "id": "a1d9f6dc52493f43",
   "outputs": [],
   "execution_count": null
  },
  {
   "metadata": {},
   "cell_type": "markdown",
   "source": "### Shuffled Sliding Window Decoding",
   "id": "4a03102fbaa7eda4"
  },
  {
   "metadata": {},
   "cell_type": "code",
   "source": [
    "shuffled_data = classifiers.shuffle_data(z_scored_combined_data)\n",
    "\n",
    "shuffled_mean_svm_scores, shuffled_splits_v_repeat_df, shuffled_all_confusion_mats, (shuffled_true_labels, shuffled_pred_labels) = classifiers.sliding_window_ensemble_decoding(shuffled_data, window_size=WINDOW, num_splits=1000)\n",
    "output_dir = project_folder.analysis_dir.output_dir.subdir(cell_class)\n",
    "\n",
    "shuffled_mean_score_df = pd.DataFrame(shuffled_mean_svm_scores, np.arange(len(shuffled_mean_svm_scores)))\n",
    "shuffled_mean_score_df.insert(0, column='num_cells',value=len(cells))\n",
    "\n",
    "if WINDOW:\n",
    "    shuffled_mean_score_df.insert(0, column='window_size', value=WINDOW)\n",
    "    output_dir = output_dir.joinpath(f'Window-{WINDOW}')\n",
    "    if not output_dir.exists():\n",
    "        output_dir.mkdir()\n",
    "        \n",
    "shuffled_mean_score_df.to_excel(output_dir.joinpath('shuffle_mean_svm_scores.xlsx'))\n",
    "shuffled_mean_scores_path = output_dir.joinpath('shuffle_mean_svm_scores.pickle')\n",
    "pd.to_pickle(shuffled_mean_svm_scores, shuffled_mean_scores_path)\n",
    "shuffled_splits_path = output_dir.joinpath('shuffle_splits_v_repeat_df.pickle')\n",
    "pd.to_pickle(shuffled_splits_v_repeat_df, shuffled_splits_path)\n",
    "shuffled_all_confusion_mat_path = output_dir.joinpath('shuffle_all_confusion_mat.pickle')\n",
    "pd.to_pickle(shuffled_all_confusion_mats, shuffled_all_confusion_mat_path)\n",
    "shuffled_labels_path = output_dir.joinpath('shuffle_labels.pickle')\n",
    "pd.to_pickle((shuffled_true_labels, shuffled_pred_labels), shuffled_labels_path)"
   ],
   "id": "9a42e5c4b9dbc641",
   "outputs": [],
   "execution_count": null
  },
  {
   "metadata": {},
   "cell_type": "markdown",
   "source": "### Plot SVM Performance",
   "id": "6681631f42fa5c3c"
  },
  {
   "metadata": {},
   "cell_type": "code",
   "source": [
    "mean_performance = [mean_svm_scores[key] for key in mean_svm_scores]\n",
    "shuffle_mean_performance = [shuffled_mean_svm_scores[key] for key in shuffled_mean_svm_scores]\n",
    "\n",
    "fig, ax = plt.subplots()\n",
    "x_vals = np.linspace(-2, 3.5, len(mean_performance), endpoint=True,) + 0.5\n",
    "ax.plot(x_vals, mean_performance, color='#04BBC9', linewidth=3, marker='o')\n",
    "ax.plot(x_vals, shuffle_mean_performance, color='#C500FF', linewidth=1)\n",
    "plt.xticks(x_vals)\n",
    "ax.vlines(x=0, ymin=-1, ymax=1, color='r')\n",
    "ax.hlines(y=0.15, xmin=-4, xmax=10, color='#FFEC00')\n",
    "ax.set_ylim([-0.05, 1])\n",
    "ax.set_xlim([-1.6, 4.1])\n",
    "plt.suptitle(f'vGLUT Conc SVM Classifier n={len(cells)}', fontsize=18, fontweight='bold')\n",
    "ax.set_ylabel('Classifier Performance', fontsize=12)\n",
    "ax.set_xlabel('Time Relative to Odor Onset (s)', fontsize=12)\n",
    "plt.savefig(output_dir.joinpath('vGLUT_Classifier.pdf'), dpi=600)"
   ],
   "id": "aa465a3703f91083",
   "outputs": [],
   "execution_count": null
  },
  {
   "metadata": {},
   "cell_type": "markdown",
   "source": "## Population and Lifetime Sparseness",
   "id": "eafbd6771d013558"
  },
  {
   "metadata": {},
   "cell_type": "markdown",
   "source": [
    "\n",
    "### Calculate Cell-Odor Means"
   ],
   "id": "2f7d2d212ab0e82d"
  },
  {
   "metadata": {},
   "cell_type": "code",
   "source": [
    "# Pop Sparseness -> per odor\n",
    "# Lifetime Sparseness -> per cell\n",
    "BASELINE_FRAMES = 20\n",
    "ODOR_FRAMES = 20\n",
    "POST_FRAMES = 20\n",
    "transposed_data = z_scored_combined_data.T\n",
    "\n",
    "cell_medians = {}\n",
    "cell_means = {}\n",
    "nonzero_cell_medians = {}\n",
    "\n",
    "cells = transposed_data.groupby('Cells')\n",
    "cell_odor_orders = []\n",
    "\n",
    "\n",
    "for cell_name, cell_df in cells:\n",
    "    medians = []\n",
    "    means = []\n",
    "    nonzero_medians = []\n",
    "    odor_order = []\n",
    "    odors = cell_df.groupby('Trials')\n",
    "\n",
    "    for name, odor_data in odors:\n",
    "        baseline_mean = odor_data.iloc[:, :BASELINE_FRAMES].mean(axis=1) # baseline means for each trial\n",
    "        odor_trial_means = odor_data.iloc[:, BASELINE_FRAMES: BASELINE_FRAMES + ODOR_FRAMES].mean(axis=1) # odor evoked means for each trial\n",
    "        diff = odor_trial_means.subtract(baseline_mean, axis=0)  # subtract the baseline from odor activity\n",
    "        _mean = diff.mean()\n",
    "        _median = diff.median()\n",
    "\n",
    "        nonzero_medians.append(_median)\n",
    "\n",
    "        # What happens if you zero the values BEFORE taking the mean?\n",
    "        if _mean < 0:\n",
    "            _mean = 0\n",
    "        if _median < 0:\n",
    "            _median = 0\n",
    "\n",
    "        means.append(_mean)\n",
    "        medians.append(_median)\n",
    "        odor_order.append(name)\n",
    "\n",
    "    cell_means[cell_name] = means\n",
    "    cell_medians[cell_name] = medians\n",
    "    nonzero_cell_medians[cell_name] = nonzero_medians\n",
    "    cell_odor_orders.append(odor_order)\n",
    "\n",
    "\n",
    "odors = cell_odor_orders[0]\n",
    "\n",
    "cell_means = pd.DataFrame(cell_means, index=odors)\n",
    "cell_medians = pd.DataFrame(cell_medians, index=odors)\n",
    "nonzero_cell_medians = pd.DataFrame(nonzero_cell_medians, index=odors)"
   ],
   "id": "254129d977d9b71b",
   "outputs": [],
   "execution_count": null
  },
  {
   "metadata": {},
   "cell_type": "markdown",
   "source": "## Population Sparseness",
   "id": "96d4670087f5feba"
  },
  {
   "metadata": {},
   "cell_type": "code",
   "source": [
    "from dewan_calcium.dewan_calcium.stats import sparseness\n",
    "\n",
    "pop_sparseness_values_means = {}\n",
    "pop_sparseness_values_medians = {}\n",
    "\n",
    "for odor_name, odor_data in cell_means.iterrows():\n",
    "    num_cells = odor_data.shape[0]\n",
    "    odor_data = odor_data.values\n",
    "    sparseness_value = sparseness(num_cells, odor_data)\n",
    "    pop_sparseness_values_means[odor_name] = sparseness_value\n",
    "\n",
    "for odor_name, odor_data in cell_medians.iterrows():\n",
    "    num_cells = odor_data.shape[0]\n",
    "    odor_data = odor_data.values\n",
    "    sparseness_value = sparseness(num_cells, odor_data)\n",
    "    pop_sparseness_values_medians[odor_name] = sparseness_value\n",
    "\n",
    "pop_sparseness_values_means = pd.DataFrame(pop_sparseness_values_means, index=[0])\n",
    "pop_sparseness_values_medians = pd.DataFrame(pop_sparseness_values_medians, index=[0])"
   ],
   "id": "78d47deedd03ad15",
   "outputs": [],
   "execution_count": null
  },
  {
   "metadata": {},
   "cell_type": "markdown",
   "source": "## Lifetime Sparseness",
   "id": "585cfae3a3d44258"
  },
  {
   "metadata": {},
   "cell_type": "code",
   "source": [
    "lifetime_sparseness_values_means = {}\n",
    "lifetime_sparseness_values_medians = {}\n",
    "\n",
    "for cell_name, cell_data in cell_means.items():\n",
    "    num_odors = cell_data.shape[0]\n",
    "    cell_data = cell_data.values\n",
    "    sparseness_values = sparseness(num_odors, cell_data)\n",
    "    lifetime_sparseness_values_means[cell_name] = sparseness_values\n",
    "\n",
    "for cell_name, cell_data in cell_medians.items():\n",
    "    num_odors = cell_data.shape[0]\n",
    "    cell_data = cell_data.values\n",
    "    sparseness_values = sparseness(num_odors, cell_data)\n",
    "    lifetime_sparseness_values_medians[cell_name] = sparseness_values\n",
    "\n",
    "lifetime_sparseness_values_means = pd.DataFrame(lifetime_sparseness_values_means, index=[0])\n",
    "lifetime_sparseness_values_medians = pd.DataFrame(lifetime_sparseness_values_medians, index=[0])\n"
   ],
   "id": "59c261a88e2f5c99",
   "outputs": [],
   "execution_count": null
  },
  {
   "metadata": {},
   "cell_type": "markdown",
   "source": "## Write to File",
   "id": "27144e881aa82e6f"
  },
  {
   "metadata": {},
   "cell_type": "code",
   "source": [
    "sparseness_path = project_folder.analysis_dir.output_dir.path.joinpath('sparseness.xlsx')\n",
    "\n",
    "with pd.ExcelWriter(sparseness_path, engine='xlsxwriter') as writer:\n",
    "    pop_sparseness_values_medians.to_excel(writer, sheet_name='Population Sparseness (Medians)')\n",
    "    pop_sparseness_values_means.to_excel(writer, sheet_name='Population Sparseness (Means)')\n",
    "    lifetime_sparseness_values_medians.to_excel(writer, sheet_name='Lifetime Sparseness (Medians)', index=[0])\n",
    "    lifetime_sparseness_values_means.to_excel(writer, sheet_name='Lifetime Sparseness (Means)', index=[0])\n",
    "    cell_means.to_excel(writer, sheet_name='Cell Means (Zeroed)')\n",
    "    cell_medians.to_excel(writer, sheet_name='Cell Medians (Zeroed)')"
   ],
   "id": "98e4cce33c743a60",
   "outputs": [],
   "execution_count": null
  },
  {
   "metadata": {},
   "cell_type": "markdown",
   "source": "## Correlations",
   "id": "4dc6abf503d01958"
  },
  {
   "metadata": {},
   "cell_type": "code",
   "source": [
    "import itertools\n",
    "odors = transposed_data.index.get_level_values(1).unique()\n",
    "odors = np.sort(odors)\n",
    "perms = list(itertools.permutations(odors, 2))\n",
    "\n",
    "correlations = pd.DataFrame(dtype=float, index=odors, columns=odors)  # Explicitly set dtype to float\n",
    "\n",
    "for odor1, odor2 in perms:\n",
    "    odor1_means = cell_means.loc[odor1]\n",
    "    odor2_means = cell_means.loc[odor2]\n",
    "\n",
    "    pearson_result = stats.pearsonr(odor1_means, odor2_means)\n",
    "\n",
    "    correlations.loc[odor1, odor2] = pearson_result.statistic\n",
    "\n",
    "correlations = correlations.fillna(1.0)\n",
    "correlations = 1 - correlations\n",
    "\n",
    "split_odors = np.array([(odor[0], odor[1:]) for odor in odors])\n",
    "sorted_odors = split_odors[np.argsort(split_odors[:, 1])]\n",
    "sorted_odors = [''.join(odor) for odor in sorted_odors]\n",
    "sorted_correlations = correlations.loc[sorted_odors, sorted_odors]\n",
    "\n",
    "correlation_path = project_folder.analysis_dir.output_dir.path.joinpath('correlations.xlsx')\n",
    "sorted_correlations.to_excel(correlation_path)"
   ],
   "id": "c878a3acedb2e7be",
   "outputs": [],
   "execution_count": null
  },
  {
   "metadata": {},
   "cell_type": "code",
   "source": "",
   "id": "4dc1d3a86081fffb",
   "outputs": [],
   "execution_count": null
  }
 ],
 "metadata": {
  "kernelspec": {
   "display_name": "Python 3",
   "language": "python",
   "name": "python3"
  },
  "language_info": {
   "codemirror_mode": {
    "name": "ipython",
    "version": 2
   },
   "file_extension": ".py",
   "mimetype": "text/x-python",
   "name": "python",
   "nbconvert_exporter": "python",
   "pygments_lexer": "ipython2",
   "version": "2.7.6"
  }
 },
 "nbformat": 4,
 "nbformat_minor": 5
}
