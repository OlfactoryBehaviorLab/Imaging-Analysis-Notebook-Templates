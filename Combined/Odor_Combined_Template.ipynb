{
 "cells": [
  {
   "metadata": {},
   "cell_type": "code",
   "source": [
    "%load_ext autoreload\n",
    "%autoreload 2"
   ],
   "id": "10e52bc7270dbb42",
   "outputs": [],
   "execution_count": null
  },
  {
   "metadata": {},
   "cell_type": "code",
   "source": [
    "import os\n",
    "os.environ['ISX'] = '0'\n",
    "\n",
    "import matplotlib.pyplot as plt\n",
    "import numpy as np\n",
    "import pandas as pd\n",
    "from scipy import stats\n",
    "\n",
    "from dewan_calcium.helpers.project_folder import ProjectFolder\n",
    "from dewan_calcium import classifiers\n",
    "pd.options.mode.copy_on_write = \"warn\"\n",
    "\n",
    "print('Finished importing required libraries!')"
   ],
   "id": "8a11535e8f0102e1",
   "outputs": [],
   "execution_count": null
  },
  {
   "metadata": {},
   "cell_type": "code",
   "source": [
    "# Create Project Folder to Gather and Hold all the File Paths\n",
    "project_folder = ProjectFolder('ODOR', project_dir=r'R:\\2_Inscopix\\1_DTT\\4_Combined\\Identity\\VGLUT', combined=True)"
   ],
   "id": "d39f871d45f6cfbc",
   "outputs": [],
   "execution_count": null
  },
  {
   "metadata": {},
   "cell_type": "code",
   "source": [
    "# If this is the first time the project folder has been created,\n",
    "# move the files to the appropriate directories and then run this cell, otherwise skip this cell\n",
    "project_folder.get_data()"
   ],
   "id": "a86a090e52a56f5b",
   "outputs": [],
   "execution_count": null
  },
  {
   "metadata": {
    "collapsed": false
   },
   "cell_type": "code",
   "source": [
    "cell_class = 'vglut'\n",
    "data_file = []\n",
    "for file in project_folder.raw_data_dir.combined_data_path:\n",
    "    if cell_class.lower() in str(file).lower():\n",
    "        data_file = file\n",
    "        break\n",
    "        \n",
    "if not data_file:\n",
    "    raise FileExistsError(f'No data file with class {cell_class} exists!')"
   ],
   "id": "a9f01416d24dbccc",
   "outputs": [],
   "execution_count": null
  },
  {
   "cell_type": "code",
   "source": [
    "combined_data = pd.read_pickle(data_file, compression={'method': 'xz'})\n",
    "z_scored_combined_data = combined_data.T.groupby(level=0, group_keys=False).apply(stats.zscore).T\n",
    "# Transform our dataframe to put the cells/odors as the index, group by level=0 (cell names), apply stats.zscore to each group, transform back\n",
    "\n",
    "cells = np.unique(combined_data.columns.get_level_values(0).values)"
   ],
   "metadata": {},
   "id": "c7351d4eb893fed8",
   "outputs": [],
   "execution_count": null
  },
  {
   "metadata": {},
   "cell_type": "code",
   "source": [
    "# Sliding Window Decoding\n",
    "WINDOW = 5\n",
    "mean_svm_scores, splits_v_repeat_df, all_confusion_mats, (true_labels, pred_labels) = classifiers.sliding_window_ensemble_decoding(z_scored_combined_data, window_size=WINDOW, num_splits=1000)\n",
    "output_dir = project_folder.analysis_dir.output_dir.path\n",
    "\n",
    "mean_score_df = pd.DataFrame(mean_svm_scores, np.arange(len(mean_svm_scores)))\n",
    "mean_score_df.insert(0, column='num_cells',value=len(cells))\n",
    "\n",
    "if WINDOW:\n",
    "    mean_score_df.insert(0, column='window_size', value=WINDOW)\n",
    "    output_dir = output_dir.joinpath(f'Window-{WINDOW}')\n",
    "    if not output_dir.exists():\n",
    "        output_dir.mkdir()\n",
    "\n",
    "mean_score_df.to_excel(output_dir.joinpath('mean_svm_scores.xlsx'))\n",
    "mean_scores_path = output_dir.joinpath('mean_svm_scores.pickle')\n",
    "pd.to_pickle(mean_svm_scores, mean_scores_path)\n",
    "splits_path = output_dir.joinpath('splits_v_repeat_df.pickle')\n",
    "pd.to_pickle(splits_v_repeat_df, splits_path)\n",
    "all_confusion_mat_path = output_dir.joinpath('all_confusion_mat.pickle')\n",
    "pd.to_pickle(all_confusion_mats, all_confusion_mat_path)\n",
    "labels_path = output_dir.joinpath('labels.pickle')\n",
    "pd.to_pickle((true_labels, pred_labels), labels_path)"
   ],
   "id": "a1d9f6dc52493f43",
   "outputs": [],
   "execution_count": null
  },
  {
   "metadata": {},
   "cell_type": "code",
   "source": [
    "# Sliding Window Decoding\n",
    "shuffled_data = classifiers.shuffle_data(z_scored_combined_data)\n",
    "\n",
    "shuffled_mean_svm_scores, shuffled_splits_v_repeat_df, shuffled_all_confusion_mats, (shuffled_true_labels, shuffled_pred_labels) = classifiers.sliding_window_ensemble_decoding(shuffled_data, window_size=WINDOW, num_splits=1000)\n",
    "output_dir = project_folder.analysis_dir.output_dir.subdir(cell_class)\n",
    "\n",
    "shuffled_mean_score_df = pd.DataFrame(shuffled_mean_svm_scores, np.arange(len(shuffled_mean_svm_scores)))\n",
    "shuffled_mean_score_df.insert(0, column='num_cells',value=len(cells))\n",
    "\n",
    "if WINDOW:\n",
    "    shuffled_mean_score_df.insert(0, column='window_size', value=WINDOW)\n",
    "    output_dir = output_dir.joinpath(f'Window-{WINDOW}')\n",
    "    if not output_dir.exists():\n",
    "        output_dir.mkdir()\n",
    "        \n",
    "shuffled_mean_score_df.to_excel(output_dir.joinpath('shuffle_mean_svm_scores.xlsx'))\n",
    "shuffled_mean_scores_path = output_dir.joinpath('shuffle_mean_svm_scores.pickle')\n",
    "pd.to_pickle(shuffled_mean_svm_scores, shuffled_mean_scores_path)\n",
    "shuffled_splits_path = output_dir.joinpath('shuffle_splits_v_repeat_df.pickle')\n",
    "pd.to_pickle(shuffled_splits_v_repeat_df, shuffled_splits_path)\n",
    "shuffled_all_confusion_mat_path = output_dir.joinpath('shuffle_all_confusion_mat.pickle')\n",
    "pd.to_pickle(shuffled_all_confusion_mats, shuffled_all_confusion_mat_path)\n",
    "shuffled_labels_path = output_dir.joinpath('shuffle_labels.pickle')\n",
    "pd.to_pickle((shuffled_true_labels, shuffled_pred_labels), shuffled_labels_path)"
   ],
   "id": "9a42e5c4b9dbc641",
   "outputs": [],
   "execution_count": null
  },
  {
   "metadata": {},
   "cell_type": "code",
   "source": [
    "mean_performance = [mean_svm_scores[key] for key in mean_svm_scores]\n",
    "shuffle_mean_performance = [shuffled_mean_svm_scores[key] for key in shuffled_mean_svm_scores]"
   ],
   "id": "c9d6398b307a0e21",
   "outputs": [],
   "execution_count": null
  },
  {
   "metadata": {},
   "cell_type": "code",
   "source": [
    "fig, ax = plt.subplots()\n",
    "x_vals = np.linspace(-2, 3.5, len(mean_performance), endpoint=True,) + 0.5\n",
    "ax.plot(x_vals, mean_performance, color='#04BBC9', linewidth=3, marker='o')\n",
    "ax.plot(x_vals, shuffle_mean_performance, color='#C500FF', linewidth=1)\n",
    "plt.xticks(x_vals)\n",
    "ax.vlines(x=0, ymin=-1, ymax=1, color='r')\n",
    "ax.hlines(y=0.15, xmin=-4, xmax=10, color='#FFEC00')\n",
    "ax.set_ylim([-0.05, 1])\n",
    "ax.set_xlim([-1.6, 4.1])\n",
    "plt.suptitle(f'vGLUT Conc SVM Classifier n={len(cells)}', fontsize=18, fontweight='bold')\n",
    "ax.set_ylabel('Classifier Performance', fontsize=12)\n",
    "ax.set_xlabel('Time Relative to Odor Onset (s)', fontsize=12)\n",
    "plt.savefig(output_dir.joinpath('vGLUT_Classifier.pdf'), dpi=600)"
   ],
   "id": "aa465a3703f91083",
   "outputs": [],
   "execution_count": null
  }
 ],
 "metadata": {
  "kernelspec": {
   "display_name": "Python 3",
   "language": "python",
   "name": "python3"
  },
  "language_info": {
   "codemirror_mode": {
    "name": "ipython",
    "version": 2
   },
   "file_extension": ".py",
   "mimetype": "text/x-python",
   "name": "python",
   "nbconvert_exporter": "python",
   "pygments_lexer": "ipython2",
   "version": "2.7.6"
  }
 },
 "nbformat": 4,
 "nbformat_minor": 5
}
