{
 "cells": [
  {
   "metadata": {
    "ExecuteTime": {
     "end_time": "2025-01-03T21:27:38.124402Z",
     "start_time": "2025-01-03T21:27:38.118252Z"
    }
   },
   "cell_type": "code",
   "source": [
    "%load_ext autoreload\n",
    "%autoreload 2"
   ],
   "id": "10e52bc7270dbb42",
   "outputs": [],
   "execution_count": 1
  },
  {
   "metadata": {
    "ExecuteTime": {
     "end_time": "2025-01-03T21:27:39.572644Z",
     "start_time": "2025-01-03T21:27:38.162805Z"
    }
   },
   "cell_type": "code",
   "source": [
    "import os\n",
    "os.environ['ISX'] = '0'\n",
    "\n",
    "import matplotlib.pyplot as plt\n",
    "import numpy as np\n",
    "import pandas as pd\n",
    "from scipy import stats\n",
    "\n",
    "from dewan_calcium.helpers.project_folder import ProjectFolder\n",
    "from dewan_calcium import classifiers\n",
    "pd.options.mode.copy_on_write = \"warn\"\n",
    "\n",
    "print('Finished importing required libraries!')"
   ],
   "id": "8a11535e8f0102e1",
   "outputs": [
    {
     "name": "stdout",
     "output_type": "stream",
     "text": [
      "Finished importing required libraries!\n"
     ]
    }
   ],
   "execution_count": 2
  },
  {
   "metadata": {
    "ExecuteTime": {
     "end_time": "2025-01-03T21:27:44.216805Z",
     "start_time": "2025-01-03T21:27:44.207290Z"
    }
   },
   "cell_type": "code",
   "source": [
    "# Create Project Folder to Gather and Hold all the File Paths\n",
    "project_folder = ProjectFolder('ODOR', project_dir=r'R:\\11_Data\\combined', combined=True)"
   ],
   "id": "d39f871d45f6cfbc",
   "outputs": [
    {
     "name": "stdout",
     "output_type": "stream",
     "text": [
      "{Odor List} not found in /home/austin/Combined/Identity/Raw_Data\n"
     ]
    }
   ],
   "execution_count": 4
  },
  {
   "metadata": {
    "ExecuteTime": {
     "end_time": "2025-01-03T21:27:44.712545Z",
     "start_time": "2025-01-03T21:27:44.702234Z"
    }
   },
   "cell_type": "code",
   "source": [
    "# If this is the first time the project folder has been created,\n",
    "# move the files to the appropriate directories and then run this cell, otherwise skip this cell\n",
    "project_folder.get_data()"
   ],
   "id": "a86a090e52a56f5b",
   "outputs": [
    {
     "name": "stdout",
     "output_type": "stream",
     "text": [
      "{Odor List} not found in /home/austin/Combined/Identity/Raw_Data\n"
     ]
    }
   ],
   "execution_count": 5
  },
  {
   "metadata": {
    "collapsed": false,
    "ExecuteTime": {
     "end_time": "2025-01-03T21:27:45.105056Z",
     "start_time": "2025-01-03T21:27:45.097236Z"
    }
   },
   "cell_type": "code",
   "source": [
    "cell_class = 'VGAT'\n",
    "data_file = []\n",
    "for file in project_folder.raw_data_dir.combined_data_path:\n",
    "    if cell_class.lower() in str(file).lower():\n",
    "        data_file = file\n",
    "        break\n",
    "        \n",
    "if not data_file:\n",
    "    raise FileExistsError(f'No data file with class {cell_class} exists!')"
   ],
   "id": "a9f01416d24dbccc",
   "outputs": [],
   "execution_count": 6
  },
  {
   "metadata": {
    "ExecuteTime": {
     "end_time": "2025-01-03T21:44:15.368038Z",
     "start_time": "2025-01-03T21:44:15.360442Z"
    }
   },
   "cell_type": "code",
   "source": [
    "from pathlib import Path\n",
    "data_file = Path('/mnt/r2d2/2_Inscopix/1_DTT/1_OdorAnalysis/2_Identity/VGLUT/VGLUT-27_RERUN/Analysis/Output/combined/VGLUT27_ID-8_15_24-combined_data_shift.pickle')\n",
    "#37 looks funky"
   ],
   "id": "3cfa5d38f4722a38",
   "outputs": [],
   "execution_count": 30
  },
  {
   "cell_type": "code",
   "source": [
    "combined_data = pd.read_pickle(data_file, compression={'method': 'xz'})\n",
    "z_scored_combined_data = combined_data.T.groupby(level=0, group_keys=False).apply(stats.zscore).T\n",
    "# Transform our dataframe to put the cells/odors as the index, group by level=0 (cell names), apply stats.zscore to each group, transform back\n",
    "\n",
    "cells = np.unique(combined_data.columns.get_level_values(0).values)"
   ],
   "metadata": {
    "ExecuteTime": {
     "end_time": "2025-01-03T21:44:19.637241Z",
     "start_time": "2025-01-03T21:44:15.871536Z"
    }
   },
   "id": "c7351d4eb893fed8",
   "outputs": [],
   "execution_count": 31
  },
  {
   "metadata": {
    "ExecuteTime": {
     "end_time": "2025-01-03T21:44:43.431963Z",
     "start_time": "2025-01-03T21:44:23.534801Z"
    }
   },
   "cell_type": "code",
   "source": [
    "# Sliding Window Decoding\n",
    "WINDOW = 5\n",
    "mean_svm_scores, splits_v_repeat_df, all_confusion_mats, (true_labels, pred_labels) = classifiers.sliding_window_ensemble_decoding(z_scored_combined_data, window_size=WINDOW, num_splits=1000)\n",
    "output_dir = project_folder.analysis_dir.output_dir.path\n",
    "\n",
    "mean_score_df = pd.DataFrame(mean_svm_scores, np.arange(len(mean_svm_scores)))\n",
    "mean_score_df.insert(0, column='num_cells',value=len(cells))\n",
    "\n",
    "if WINDOW:\n",
    "    mean_score_df.insert(0, column='window_size', value=WINDOW)\n",
    "    output_dir = output_dir.joinpath(f'Window-{WINDOW}')\n",
    "    if not output_dir.exists():\n",
    "        output_dir.mkdir()\n",
    "\n",
    "mean_score_df.to_excel(output_dir.joinpath('mean_svm_scores.xlsx'))\n",
    "mean_scores_path = output_dir.joinpath('mean_svm_scores.pickle')\n",
    "pd.to_pickle(mean_svm_scores, mean_scores_path)\n",
    "splits_path = output_dir.joinpath('splits_v_repeat_df.pickle')\n",
    "pd.to_pickle(splits_v_repeat_df, splits_path)\n",
    "all_confusion_mat_path = output_dir.joinpath('all_confusion_mat.pickle')\n",
    "pd.to_pickle(all_confusion_mats, all_confusion_mat_path)\n",
    "labels_path = output_dir.joinpath('labels.pickle')\n",
    "pd.to_pickle((true_labels, pred_labels), labels_path)"
   ],
   "id": "a1d9f6dc52493f43",
   "outputs": [
    {
     "data": {
      "text/plain": [
       "Sliding Window Ensemble Decoding:   0%|          | 0/12 [00:00<?, ?it/s]"
      ],
      "application/vnd.jupyter.widget-view+json": {
       "version_major": 2,
       "version_minor": 0,
       "model_id": "de31b9c84e3a40ab9d6c3a0ad147339d"
      }
     },
     "metadata": {},
     "output_type": "display_data"
    },
    {
     "data": {
      "text/plain": [
       "Randomly Sampling Cells for window size (np.int64(0), np.int64(5)):   0%|          | 0/123 [00:00<?, ?it/s]"
      ],
      "application/vnd.jupyter.widget-view+json": {
       "version_major": 2,
       "version_minor": 0,
       "model_id": "71c9be5b90df46b79eb9add41494ad3d"
      }
     },
     "metadata": {},
     "output_type": "display_data"
    },
    {
     "data": {
      "text/plain": [
       "Randomly Sampling Cells for window size (np.int64(5), np.int64(10)):   0%|          | 0/123 [00:00<?, ?it/s]"
      ],
      "application/vnd.jupyter.widget-view+json": {
       "version_major": 2,
       "version_minor": 0,
       "model_id": "2a32c986980449be8465d124a3c8e264"
      }
     },
     "metadata": {},
     "output_type": "display_data"
    },
    {
     "data": {
      "text/plain": [
       "Randomly Sampling Cells for window size (np.int64(10), np.int64(15)):   0%|          | 0/123 [00:00<?, ?it/s]"
      ],
      "application/vnd.jupyter.widget-view+json": {
       "version_major": 2,
       "version_minor": 0,
       "model_id": "66610d2ee0c649d7816052ea7e4d69ca"
      }
     },
     "metadata": {},
     "output_type": "display_data"
    },
    {
     "data": {
      "text/plain": [
       "Randomly Sampling Cells for window size (np.int64(15), np.int64(20)):   0%|          | 0/123 [00:00<?, ?it/s]"
      ],
      "application/vnd.jupyter.widget-view+json": {
       "version_major": 2,
       "version_minor": 0,
       "model_id": "e199d4c6171f4e428fb75ef6b1464c5f"
      }
     },
     "metadata": {},
     "output_type": "display_data"
    },
    {
     "data": {
      "text/plain": [
       "Randomly Sampling Cells for window size (np.int64(20), np.int64(25)):   0%|          | 0/123 [00:00<?, ?it/s]"
      ],
      "application/vnd.jupyter.widget-view+json": {
       "version_major": 2,
       "version_minor": 0,
       "model_id": "198b43837b57406e9c4c8930f3b55520"
      }
     },
     "metadata": {},
     "output_type": "display_data"
    },
    {
     "data": {
      "text/plain": [
       "Randomly Sampling Cells for window size (np.int64(25), np.int64(30)):   0%|          | 0/123 [00:00<?, ?it/s]"
      ],
      "application/vnd.jupyter.widget-view+json": {
       "version_major": 2,
       "version_minor": 0,
       "model_id": "6d758079b05d49a08e0ce5669fa7ceb1"
      }
     },
     "metadata": {},
     "output_type": "display_data"
    },
    {
     "data": {
      "text/plain": [
       "Randomly Sampling Cells for window size (np.int64(30), np.int64(35)):   0%|          | 0/123 [00:00<?, ?it/s]"
      ],
      "application/vnd.jupyter.widget-view+json": {
       "version_major": 2,
       "version_minor": 0,
       "model_id": "4e4b87dfead34128b5203103c4baada4"
      }
     },
     "metadata": {},
     "output_type": "display_data"
    },
    {
     "data": {
      "text/plain": [
       "Randomly Sampling Cells for window size (np.int64(35), np.int64(40)):   0%|          | 0/123 [00:00<?, ?it/s]"
      ],
      "application/vnd.jupyter.widget-view+json": {
       "version_major": 2,
       "version_minor": 0,
       "model_id": "783d2e351fa449f6a4351c121ef694a5"
      }
     },
     "metadata": {},
     "output_type": "display_data"
    },
    {
     "data": {
      "text/plain": [
       "Randomly Sampling Cells for window size (np.int64(40), np.int64(45)):   0%|          | 0/123 [00:00<?, ?it/s]"
      ],
      "application/vnd.jupyter.widget-view+json": {
       "version_major": 2,
       "version_minor": 0,
       "model_id": "0ba75874a72941b188465cbe30f3ee4c"
      }
     },
     "metadata": {},
     "output_type": "display_data"
    },
    {
     "data": {
      "text/plain": [
       "Randomly Sampling Cells for window size (np.int64(45), np.int64(50)):   0%|          | 0/123 [00:00<?, ?it/s]"
      ],
      "application/vnd.jupyter.widget-view+json": {
       "version_major": 2,
       "version_minor": 0,
       "model_id": "cece4ce3ceab4dd9845395777dcd1492"
      }
     },
     "metadata": {},
     "output_type": "display_data"
    },
    {
     "data": {
      "text/plain": [
       "Randomly Sampling Cells for window size (np.int64(50), np.int64(55)):   0%|          | 0/123 [00:00<?, ?it/s]"
      ],
      "application/vnd.jupyter.widget-view+json": {
       "version_major": 2,
       "version_minor": 0,
       "model_id": "3503e0cf93ea4800932ce11dff8f4175"
      }
     },
     "metadata": {},
     "output_type": "display_data"
    },
    {
     "data": {
      "text/plain": [
       "Randomly Sampling Cells for window size (np.int64(53), np.int64(58)):   0%|          | 0/123 [00:00<?, ?it/s]"
      ],
      "application/vnd.jupyter.widget-view+json": {
       "version_major": 2,
       "version_minor": 0,
       "model_id": "696e2064e87a46fa896e3c1b6dda4a77"
      }
     },
     "metadata": {},
     "output_type": "display_data"
    }
   ],
   "execution_count": 32
  },
  {
   "metadata": {},
   "cell_type": "code",
   "source": [
    "# Sliding Window Decoding\n",
    "shuffled_data = classifiers.shuffle_data(z_scored_combined_data)\n",
    "\n",
    "shuffled_mean_svm_scores, shuffled_splits_v_repeat_df, shuffled_all_confusion_mats, (shuffled_true_labels, shuffled_pred_labels) = classifiers.sliding_window_ensemble_decoding(z_scored_combined_data, window_size=WINDOW, num_splits=1000)\n",
    "output_dir = project_folder.analysis_dir.output_dir.subdir(cell_class)\n",
    "\n",
    "shuffled_mean_score_df = pd.DataFrame(shuffled_mean_svm_scores, np.arange(len(shuffled_mean_svm_scores)))\n",
    "shuffled_mean_score_df.insert(0, column='num_cells',value=len(cells))\n",
    "\n",
    "if WINDOW:\n",
    "    shuffled_mean_score_df.insert(0, column='window_size', value=WINDOW)\n",
    "    output_dir = output_dir.joinpath(f'Window-{WINDOW}')\n",
    "    if not output_dir.exists():\n",
    "        output_dir.mkdir()\n",
    "        \n",
    "shuffled_mean_score_df.to_excel(output_dir.joinpath('shuffle_mean_svm_scores.xlsx'))\n",
    "shuffled_mean_scores_path = output_dir.joinpath('shuffle_mean_svm_scores.pickle')\n",
    "pd.to_pickle(shuffled_mean_svm_scores, shuffled_mean_scores_path)\n",
    "shuffled_splits_path = output_dir.joinpath('shuffle_splits_v_repeat_df.pickle')\n",
    "pd.to_pickle(shuffled_splits_v_repeat_df, shuffled_splits_path)\n",
    "shuffled_all_confusion_mat_path = output_dir.joinpath('shuffle_all_confusion_mat.pickle')\n",
    "pd.to_pickle(shuffled_all_confusion_mats, shuffled_all_confusion_mat_path)\n",
    "shuffled_labels_path = output_dir.joinpath('shuffle_labels.pickle')\n",
    "pd.to_pickle((shuffled_true_labels, shuffled_pred_labels), shuffled_labels_path)"
   ],
   "id": "9a42e5c4b9dbc641",
   "outputs": [],
   "execution_count": null
  },
  {
   "metadata": {
    "ExecuteTime": {
     "end_time": "2025-01-03T21:44:46.400424Z",
     "start_time": "2025-01-03T21:44:46.390868Z"
    }
   },
   "cell_type": "code",
   "source": [
    "mean_performance = [mean_svm_scores[key] for key in mean_svm_scores]\n",
    "# shuffle_mean_performance = [shuffled_mean_svm_scores[key] for key in shuffled_mean_svm_scores]"
   ],
   "id": "c9d6398b307a0e21",
   "outputs": [],
   "execution_count": 33
  },
  {
   "metadata": {
    "ExecuteTime": {
     "end_time": "2025-01-03T21:44:46.775437Z",
     "start_time": "2025-01-03T21:44:46.694618Z"
    }
   },
   "cell_type": "code",
   "source": [
    "fig, ax = plt.subplots()\n",
    "x_vals = np.linspace(-2, 3.5, len(mean_performance), endpoint=True,) + 0.5\n",
    "ax.plot(x_vals, mean_performance, color='#04BBC9', linewidth=3, marker='o')\n",
    "ax.plot(x_vals, shuffle_mean_performance, color='#C500FF', linewidth=1)\n",
    "plt.xticks(x_vals)\n",
    "ax.vlines(x=0, ymin=-1, ymax=1, color='r')\n",
    "ax.hlines(y=0.15, xmin=-4, xmax=10, color='#FFEC00')\n",
    "ax.set_ylim([-0.05, 1])\n",
    "ax.set_xlim([-1.6, 4.1])\n",
    "plt.suptitle(f'vGLUT Conc SVM Classifier n={len(cells)}', fontsize=18, fontweight='bold')\n",
    "ax.set_ylabel('Classifier Performance', fontsize=12)\n",
    "ax.set_xlabel('Time Relative to Odor Onset (s)', fontsize=12)\n",
    "plt.savefig(output_dir.joinpath('vGLUT_Classifier.pdf'), dpi=600)"
   ],
   "id": "aa465a3703f91083",
   "outputs": [],
   "execution_count": null
  }
 ],
 "metadata": {
  "kernelspec": {
   "display_name": "Python 3",
   "language": "python",
   "name": "python3"
  },
  "language_info": {
   "codemirror_mode": {
    "name": "ipython",
    "version": 2
   },
   "file_extension": ".py",
   "mimetype": "text/x-python",
   "name": "python",
   "nbconvert_exporter": "python",
   "pygments_lexer": "ipython2",
   "version": "2.7.6"
  }
 },
 "nbformat": 4,
 "nbformat_minor": 5
}
