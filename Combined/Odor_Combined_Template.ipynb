{
 "cells": [
  {
   "metadata": {},
   "cell_type": "markdown",
   "source": "# Dewan Lab Image Analysis",
   "id": "ea9f4bafc93db6d2"
  },
  {
   "metadata": {
    "ExecuteTime": {
     "end_time": "2024-10-31T00:02:56.448764Z",
     "start_time": "2024-10-31T00:02:54.994695Z"
    }
   },
   "cell_type": "code",
   "source": [
    "import os\n",
    "os.environ['ISX'] = '0'\n",
    "\n",
    "from tqdm.notebook import tqdm\n",
    "import numpy as np\n",
    "import pandas as pd\n",
    "from dewan_calcium.helpers import IO, parse_json\n",
    "from dewan_calcium.helpers.project_folder import ProjectFolder\n",
    "from dewan_calcium import classifiers\n",
    "pd.options.mode.copy_on_write = \"warn\"\n",
    "\n",
    "print('Finished importing required libraries!')"
   ],
   "id": "8a11535e8f0102e1",
   "outputs": [],
   "execution_count": null
  },
  {
   "metadata": {},
   "cell_type": "code",
   "source": [
    "# Create Project Folder to Gather and Hold all the File Paths\n",
    "folder_dir = r'D:\\Test_Data\\Combined\\Identity'\n",
    "project_folder = ProjectFolder('ODOR', project_dir=folder_dir, combined=True)"
   ],
   "id": "d39f871d45f6cfbc",
   "outputs": [],
   "execution_count": null
  },
  {
   "metadata": {},
   "cell_type": "code",
   "source": [
    "# If this is the first time the project folder has been created,\n",
    "# move the files to the appropriate directories and then run this cell, otherwise skip this cell\n",
    "\n",
    "project_folder.get_data()"
   ],
   "id": "a86a090e52a56f5b",
   "outputs": [],
   "execution_count": null
  },
  {
   "metadata": {},
   "cell_type": "code",
   "source": [
    "combined_data = pd.read_pickle(project_folder.raw_data_dir.combined_data_path, compression={'method': 'xz'})\n",
    "cell_names = combined_data.columns.get_level_values(0).values\n",
    "trial_labels = np.unique(combined_data.columns.get_level_values(1).values)"
   ],
   "id": "c7351d4eb893fed8",
   "outputs": [],
   "execution_count": null
  },
  {
   "metadata": {},
   "cell_type": "code",
   "source": "mean_score_df, split_score_df, all_confusion_mats = classifiers.single_neuron_decoding(combined_data)",
   "id": "e65066c8815d748a",
   "outputs": [],
   "execution_count": null
  },
  {
   "metadata": {},
   "cell_type": "markdown",
   "source": "",
   "id": "311ed7f6c5d1b4f9"
  },
  {
   "metadata": {},
   "cell_type": "code",
   "source": [
    "from sklearn.metrics import ConfusionMatrixDisplay\n",
    "\n",
    "cm = all_confusion_mats[2]\n",
    "\n",
    "ConfusionMatrixDisplay(cm).plot()"
   ],
   "id": "fa92ca9c4e4f913",
   "outputs": [],
   "execution_count": null
  },
  {
   "metadata": {},
   "cell_type": "code",
   "source": "",
   "id": "26795b30c3a998f8",
   "outputs": [],
   "execution_count": null
  },
  {
   "metadata": {},
   "cell_type": "code",
   "source": "",
   "id": "427647601d2c251a",
   "outputs": [],
   "execution_count": null
  }
 ],
 "metadata": {
  "kernelspec": {
   "display_name": "Python 3",
   "language": "python",
   "name": "python3"
  },
  "language_info": {
   "codemirror_mode": {
    "name": "ipython",
    "version": 2
   },
   "file_extension": ".py",
   "mimetype": "text/x-python",
   "name": "python",
   "nbconvert_exporter": "python",
   "pygments_lexer": "ipython2",
   "version": "2.7.6"
  }
 },
 "nbformat": 4,
 "nbformat_minor": 5
}
