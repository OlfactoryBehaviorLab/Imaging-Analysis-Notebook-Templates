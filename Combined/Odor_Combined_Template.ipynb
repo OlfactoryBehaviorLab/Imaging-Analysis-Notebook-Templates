{
 "cells": [
  {
   "metadata": {},
   "cell_type": "code",
   "source": [
    "%load_ext autoreload\n",
    "%autoreload 2"
   ],
   "id": "9187ed8a1f660072",
   "outputs": [],
   "execution_count": null
  },
  {
   "metadata": {},
   "cell_type": "code",
   "source": [
    "import os\n",
    "os.environ['ISX'] = '0'\n",
    "\n",
    "import numpy as np\n",
    "import pandas as pd\n",
    "from scipy import stats\n",
    "\n",
    "from dewan_calcium.helpers.project_folder import ProjectFolder\n",
    "from dewan_calcium import classifiers\n",
    "pd.options.mode.copy_on_write = \"warn\"\n",
    "\n",
    "print('Finished importing required libraries!')"
   ],
   "id": "8a11535e8f0102e1",
   "outputs": [],
   "execution_count": null
  },
  {
   "metadata": {},
   "cell_type": "code",
   "source": [
    "# Create Project Folder to Gather and Hold all the File Paths\n",
    "project_folder = ProjectFolder('ODOR', combined=True)"
   ],
   "id": "d39f871d45f6cfbc",
   "outputs": [],
   "execution_count": null
  },
  {
   "metadata": {},
   "cell_type": "code",
   "source": [
    "# If this is the first time the project folder has been created,\n",
    "# move the files to the appropriate directories and then run this cell, otherwise skip this cell\n",
    "project_folder.get_data()"
   ],
   "id": "a86a090e52a56f5b",
   "outputs": [],
   "execution_count": null
  },
  {
   "metadata": {
    "collapsed": false
   },
   "cell_type": "code",
   "source": [
    "cell_class = 'VGAT'\n",
    "data_file = []\n",
    "for file in project_folder.raw_data_dir.combined_data_path:\n",
    "    if cell_class.lower() in str(file).lower():\n",
    "        data_file = file\n",
    "        break\n",
    "        \n",
    "if not data_file:\n",
    "    raise FileExistsError(f'No data file with class {cell_class} exists!')"
   ],
   "id": "a9f01416d24dbccc",
   "outputs": [],
   "execution_count": null
  },
  {
   "cell_type": "code",
   "outputs": [],
   "source": [
    "combined_data = pd.read_pickle(data_file, compression={'method': 'xz'})\n",
    "z_scored_combined_data = combined_data.T.groupby(level=0, group_keys=False).apply(stats.zscore).T\n",
    "# Transform our dataframe to put the cells/odors as the index, group by level=0 (cell names), apply stats.zscore to each group, transform back\n",
    "\n",
    "cells = np.unique(combined_data.columns.get_level_values(0).values)\n",
    "odors = np.unique(combined_data.columns.get_level_values(1).values)\n"
   ],
   "metadata": {},
   "id": "c7351d4eb893fed8",
   "execution_count": null
  },
  {
   "metadata": {},
   "cell_type": "code",
   "source": [
    "# Ensemble Decoding\n",
    "mean_svm_scores, splits_v_repeat_df, all_confusion_mats, (true_labels, pred_labels) = classifiers.ensemble_decoding(z_scored_combined_data, ensemble_averaging=False, n_repeats=5, num_splits=10)"
   ],
   "id": "f60bb59f564a1282",
   "outputs": [],
   "execution_count": null
  },
  {
   "metadata": {},
   "cell_type": "code",
   "source": [
    "# Sliding Window Decoding\n",
    "WINDOW = 2\n",
    "mean_svm_scores, splits_v_repeat_df, all_confusion_mats, (true_labels, pred_labels) = classifiers.sliding_window_ensemble_decoding(z_scored_combined_data, window_size=WINDOW)"
   ],
   "id": "cf0da57e4573cc71",
   "outputs": [],
   "execution_count": null
  },
  {
   "metadata": {},
   "cell_type": "code",
   "source": [
    "output_dir = project_folder.analysis_dir.output_dir\n",
    "if WINDOW:\n",
    "    output_dir = output_dir.subdir(f'Window-{WINDOW}')\n",
    "\n",
    "mean_scores_path = output_dir.joinpath('mean_svm_scores.pickle')\n",
    "pd.to_pickle(mean_svm_scores, mean_scores_path)\n",
    "splits_path = output_dir.joinpath('splits_v_repeat_df.pickle')\n",
    "pd.to_pickle(splits_v_repeat_df, splits_path)\n",
    "all_confusion_mat_path = output_dir.joinpath('all_confusion_mat.pickle')\n",
    "pd.to_pickle(all_confusion_mats, all_confusion_mat_path)\n",
    "labels_path = output_dir.joinpath('labels.pickle')\n",
    "pd.to_pickle((true_labels, pred_labels), labels_path)\n"
   ],
   "id": "a1d9f6dc52493f43",
   "outputs": [],
   "execution_count": null
  },
  {
   "metadata": {},
   "cell_type": "code",
   "source": [
    "import pandas as pd\n",
    "import numpy as np\n",
    "import matplotlib.pyplot as plt\n",
    "\n",
    "mean_svm_scores = pd.read_pickle(r'./Analysis/Output/VGLUT/Window-5/mean_svm_scores.pickle')\n"
   ],
   "id": "b268550180a93686",
   "outputs": [],
   "execution_count": null
  },
  {
   "metadata": {},
   "cell_type": "code",
   "source": [
    "fig, ax = plt.subplots()\n",
    "x_vals = np.round(np.linspace(-2, 7, len(mean_svm_scores)), 2)\n",
    "x_labels = np.arange(-2, 7)\n",
    "ax.plot(x_vals,mean_svm_scores)\n",
    "ax.title.set_text('SVM Score')\n",
    "ax.set_xlabel('Time (s)')\n",
    "ax.set_ylabel('SVM Performance')\n",
    "y_min = min(mean_svm_scores)*.95\n",
    "y_max = max(mean_svm_scores)*1.05\n",
    "ax.set_xlim([-2.5, 7.5])\n",
    "ax.set_ylim([y_min, y_max])\n",
    "# _ = ax.set_xticks(x_vals, rotation=45)\n",
    "ax.vlines(x=[0], ymin=y_min, ymax=y_max, color=(1,0,0)) # FV On\n",
    "ax.vlines(x=[2], ymin=y_min, ymax=y_max, color=(1,0,0)) # FV Off\n",
    "fig.savefig(output_dir.joinpath('figure.pdf'), dpi=600)"
   ],
   "id": "27418d3a0538651d",
   "outputs": [],
   "execution_count": null
  }
 ],
 "metadata": {
  "kernelspec": {
   "display_name": "Python 3",
   "language": "python",
   "name": "python3"
  },
  "language_info": {
   "codemirror_mode": {
    "name": "ipython",
    "version": 2
   },
   "file_extension": ".py",
   "mimetype": "text/x-python",
   "name": "python",
   "nbconvert_exporter": "python",
   "pygments_lexer": "ipython2",
   "version": "2.7.6"
  }
 },
 "nbformat": 4,
 "nbformat_minor": 5
}
