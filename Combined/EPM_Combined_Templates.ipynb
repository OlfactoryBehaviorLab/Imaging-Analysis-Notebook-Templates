{
 "cells": [
  {
   "metadata": {},
   "cell_type": "code",
   "source": [
    "import os\n",
    "os.environ['ISX'] = '0'  # Set to zero so we don't try to load the isx module\n",
    "import pickle\n",
    "import warnings\n",
    "warnings.filterwarnings('ignore')\n",
    "\n",
    "import numpy as np\n",
    "\n",
    "from dewan_calcium import AUROC, plotting\n",
    "from dewan_calcium.helpers import IO, EPM\n",
    "from dewan_calcium.helpers.project_folder import ProjectFolder\n",
    "\n",
    "print(\"Importing required packages complete!\")"
   ],
   "id": "49cf8e0ba7ef6193",
   "outputs": [],
   "execution_count": null
  },
  {
   "metadata": {},
   "cell_type": "code",
   "source": [
    "CELL_CLASS = 'CELL_CLASS_HERE' # vglut or vgat\n",
    "\n",
    "AUROC_NUM_PSEUDOTRIALS = 12\n",
    "ENTROPY = None\n",
    "TRIM_END_S = 0  # Number of seconds to remove from the end of the data; equivalent to data = data[:-(TRIM_END_S * FPS)]\n",
    "## ========== CONSTANTS ========== ##\n",
    "EXPERIMENT_TIME = 10 # minutes\n",
    "PSEUDOTRIAL_LEN_S = 3\n",
    "ENDOSCOPE_FRAMERATE = 10\n",
    "\n",
    "file_header = f'{CELL_CLASS}-combined'"
   ],
   "id": "6feb5a36e2c1312e",
   "outputs": [],
   "execution_count": null
  },
  {
   "metadata": {},
   "cell_type": "markdown",
   "source": "### STEP 1C: Load Project Folder",
   "id": "bfef6c3de8669d15"
  },
  {
   "metadata": {},
   "cell_type": "code",
   "source": [
    "# Create Project Folder to Gather and Hold all the File Paths\n",
    "project_folder = ProjectFolder('EPM', combined=True)"
   ],
   "id": "7a61d0dbbf2e25e8",
   "outputs": [],
   "execution_count": null
  },
  {
   "metadata": {},
   "cell_type": "code",
   "source": [
    "# If this is the first time the project folder has been created, move the files to the appropriate directories and then run this cell, otherwise skip this cell\n",
    "project_folder.get_data()"
   ],
   "id": "fcb0bc16981e060c",
   "outputs": [],
   "execution_count": null
  },
  {
   "metadata": {},
   "cell_type": "code",
   "source": [
    "if project_folder.raw_data_dir.combined_data_path:\n",
    "    if CELL_CLASS.lower() in str(project_folder.raw_data_dir.combined_data_path).lower():\n",
    "        data_file = project_folder.raw_data_dir.combined_data_path[0]\n",
    "    else:\n",
    "        raise FileExistsError(f'No combined data file for {CELL_CLASS} exists!')"
   ],
   "id": "ccc6e99511f8e632",
   "outputs": [],
   "execution_count": null
  },
  {
   "metadata": {},
   "cell_type": "code",
   "source": [
    "with open(data_file, 'rb') as reader:\n",
    "    combined_data = pickle.load(reader)"
   ],
   "id": "f10abc1451516717",
   "outputs": [],
   "execution_count": null
  },
  {
   "metadata": {},
   "cell_type": "code",
   "source": [
    "# Repack Data\n",
    "auroc_data = {}\n",
    "cells = []\n",
    "for cell_name, cell_data in combined_data.items():\n",
    "    cells.append(cell_name)\n",
    "    open1 = cell_data['open1']\n",
    "    open2 = cell_data['open2']\n",
    "    closed1 = cell_data['closed1']\n",
    "    closed2 = cell_data['closed2']\n",
    "    cell_pairs = {\n",
    "        'open': np.hstack([open1, open2]),\n",
    "        'closed': np.hstack([closed1, closed2]),\n",
    "        'c1': closed1.values,\n",
    "        'c2': closed2.values,\n",
    "        # 'o1': open1.values,\n",
    "        # 'o2': open2.values,\n",
    "    }\n",
    "    auroc_data[cell_name] = cell_pairs"
   ],
   "id": "c7076d5424d0b567",
   "outputs": [],
   "execution_count": null
  },
  {
   "metadata": {},
   "cell_type": "code",
   "source": "pseudotrial_means = EPM.new_get_pseudotrials(auroc_data, AUROC_NUM_PSEUDOTRIALS, 3, 10)",
   "id": "fc82ea3adeeda05b",
   "outputs": [],
   "execution_count": null
  },
  {
   "metadata": {},
   "cell_type": "code",
   "source": [
    "subsampled_pseudotrials = {}\n",
    "\n",
    "seed_sequence = np.random.SeedSequence(entropy=ENTROPY)\n",
    "print(f'Using {seed_sequence.entropy} as current entropy value...')\n",
    "\n",
    "for cell, cell_data in pseudotrial_means.items():\n",
    "    subsampled_pseudotrials[cell] = EPM.subsample_pseudotrials(cell_data, AUROC_NUM_PSEUDOTRIALS, seed_sequence)"
   ],
   "id": "c6911c9a2e64f21",
   "outputs": [],
   "execution_count": null
  },
  {
   "metadata": {},
   "cell_type": "code",
   "source": [
    "auroc_returns = AUROC.pooled_EPM_auroc(subsampled_pseudotrials, ('open', 'closed'))\n",
    "auroc_returns_closed = AUROC.pooled_EPM_auroc(subsampled_pseudotrials, ('c1', 'c2'))\n",
    "# auroc_returns_open = AUROC.pooled_EPM_auroc(subsampled_pseudotrials, ('o1', 'o2'))"
   ],
   "id": "f009be9472880db8",
   "outputs": [],
   "execution_count": null
  },
  {
   "metadata": {},
   "cell_type": "code",
   "source": [
    "\n",
    "EPM_df = EPM.parse_auroc_return(auroc_returns)\n",
    "EPM_df_closed = EPM.parse_auroc_return(auroc_returns_closed)\n",
    "# EPM_df_open = EPM.parse_auroc_return(auroc_returns_open)\n",
    "\n",
    "folder = project_folder.analysis_dir.output_dir\n",
    "# file_name = f'{file_header}HFvFM_data_output_subset.xlsx'\n",
    "file_name = f'{file_header}HFvFM_data_output.xlsx'\n",
    "file_path = folder.joinpath(file_name)\n",
    "EPM_df.to_excel(file_path)\n",
    "\n",
    "# file_name = f'{file_header}HFvFM_c1vc2_output_subset.xlsx'\n",
    "file_name = f'{file_header}HFvFM_c1vc2_output.xlsx'\n",
    "file_path = folder.joinpath(file_name)\n",
    "EPM_df_closed.to_excel(file_path)\n",
    "\n",
    "# file_name = f'{file_header}HFvFM_o1vo2_output_subset.xlsx'\n",
    "# file_path = folder.joinpath(file_name)\n",
    "# EPM_df_open.to_excel(file_path)\n"
   ],
   "id": "e22d770ee7aae852",
   "outputs": [],
   "execution_count": null
  }
 ],
 "metadata": {
  "kernelspec": {
   "display_name": "Python 3",
   "language": "python",
   "name": "python3"
  },
  "language_info": {
   "codemirror_mode": {
    "name": "ipython",
    "version": 2
   },
   "file_extension": ".py",
   "mimetype": "text/x-python",
   "name": "python",
   "nbconvert_exporter": "python",
   "pygments_lexer": "ipython2",
   "version": "2.7.6"
  }
 },
 "nbformat": 4,
 "nbformat_minor": 5
}
