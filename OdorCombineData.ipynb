{
 "cells": [
  {
   "cell_type": "code",
   "outputs": [],
   "source": [
    "%load_ext autoreload\n",
    "%autoreload 2"
   ],
   "metadata": {
    "collapsed": false,
    "ExecuteTime": {
     "end_time": "2024-03-18T19:34:45.337273900Z",
     "start_time": "2024-03-18T19:34:45.288275200Z"
    }
   },
   "execution_count": 2
  },
  {
   "cell_type": "code",
   "execution_count": 58,
   "metadata": {
    "ExecuteTime": {
     "end_time": "2024-03-19T02:01:38.347232800Z",
     "start_time": "2024-03-19T02:01:38.303233300Z"
    }
   },
   "outputs": [],
   "source": [
    "import numpy as np\n",
    "import pandas as pd\n",
    "from pathlib import Path\n",
    "from dewan_calcium.helpers import DewanCombineData"
   ]
  },
  {
   "cell_type": "code",
   "outputs": [],
   "source": [
    "# VGAT 4 Odor Data is in a strange order, for now, we're going to ignore it since 5 and 12 line up perfectly\n",
    "\n",
    "root_path = Path('Z:/2_Inscopix/1_DTT/1_OdorAnalysis/') # Root Data Path\n",
    "preprocess_paths, auroc_data_paths, odor_data_paths, experiment_folders = DewanCombineData.load_paths(root_path)\n",
    "experiment_names = [folder.name for folder in experiment_folders]\n",
    "ontime_auroc_paths, latent_auroc_paths = DewanCombineData.get_data_file_paths(auroc_data_paths)\n",
    "on_time_data, latent_data, odor_data = DewanCombineData.load_raw_data(ontime_auroc_paths, latent_auroc_paths, odor_data_paths)"
   ],
   "metadata": {
    "collapsed": false,
    "ExecuteTime": {
     "end_time": "2024-03-19T02:29:03.958373500Z",
     "start_time": "2024-03-19T02:29:02.247867500Z"
    }
   },
   "execution_count": 95
  },
  {
   "cell_type": "code",
   "outputs": [],
   "source": [
    "# for VGAT 4 only\n",
    "odor_data[0] = np.unique(odor_data[0])\n",
    "odor_data[1] = np.unique(odor_data[1])\n",
    "unique_odors = [np.unique(odor_data[0]), np.unique(odor_data[1])]"
   ],
   "metadata": {
    "collapsed": false,
    "ExecuteTime": {
     "end_time": "2024-03-19T02:23:57.587962300Z",
     "start_time": "2024-03-19T02:23:57.529794600Z"
    }
   },
   "execution_count": 85
  },
  {
   "cell_type": "code",
   "outputs": [],
   "source": [
    "# For everything BUT VGAT 4\n",
    "# This is a fix for the ID data in index 1 of Odor Data\n",
    "new_odors = []\n",
    "\n",
    "for odor in odor_data[1]:\n",
    "    if odor == 'Buzzer' or odor == 'MO':\n",
    "        new_odors.append(odor)\n",
    "        continue\n",
    "    \n",
    "    for index, char in enumerate(odor):\n",
    "        if char.isdigit():\n",
    "            first_split = odor[:index+1]\n",
    "            second_split = odor[index+1:]\n",
    "            new_odor = f'{first_split}-{second_split}'\n",
    "            new_odors.append(new_odor)  \n",
    "            \n",
    "odor_data[1] = new_odors\n",
    "new_odor_indexes, unique_odors = DewanCombineData.get_new_odor_indexes(odor_data)"
   ],
   "metadata": {
    "collapsed": false,
    "ExecuteTime": {
     "end_time": "2024-03-18T19:34:52.463177400Z",
     "start_time": "2024-03-18T19:34:52.394178400Z"
    }
   },
   "execution_count": 6
  },
  {
   "cell_type": "code",
   "outputs": [],
   "source": [
    "# For each experiment, we collect all cells into one array per experiment\n",
    "stacked_on_time_data = DewanCombineData.coalesce_cells(on_time_data)\n",
    "stacked_latent_data = DewanCombineData.coalesce_cells(latent_data)"
   ],
   "metadata": {
    "collapsed": false,
    "ExecuteTime": {
     "end_time": "2024-03-19T02:23:58.303089400Z",
     "start_time": "2024-03-19T02:23:58.254089200Z"
    }
   },
   "execution_count": 86
  },
  {
   "cell_type": "code",
   "outputs": [],
   "source": [
    "# Remove Nonzero Cells\n",
    "filtered_on_time_data = DewanCombineData.remove_nonzero_cells(stacked_on_time_data)\n",
    "filtered_latent_data = DewanCombineData.remove_nonzero_cells(stacked_latent_data)"
   ],
   "metadata": {
    "collapsed": false,
    "ExecuteTime": {
     "end_time": "2024-03-19T02:23:58.650240500Z",
     "start_time": "2024-03-19T02:23:58.601241100Z"
    }
   },
   "execution_count": 87
  },
  {
   "cell_type": "code",
   "outputs": [],
   "source": [
    "# Reorder data by new odor indexes \n",
    "odor_sorted_on_time_data = DewanCombineData.sort_data_by_odor_indexes(filtered_on_time_data, new_odor_indexes)\n",
    "odor_sorted_latent_data = DewanCombineData.sort_data_by_odor_indexes(filtered_latent_data, new_odor_indexes)"
   ],
   "metadata": {
    "collapsed": false,
    "ExecuteTime": {
     "end_time": "2024-03-19T02:23:58.982903400Z",
     "start_time": "2024-03-19T02:23:58.924483800Z"
    }
   },
   "execution_count": 88
  },
  {
   "cell_type": "code",
   "outputs": [],
   "source": [
    "# Sort into 3 groups, excititory, both, inhibitory\n",
    "sorted_on_time_data = DewanCombineData.sort_by_responses(filtered_on_time_data)\n",
    "sorted_latent_data = DewanCombineData.sort_by_responses(filtered_latent_data)"
   ],
   "metadata": {
    "collapsed": false,
    "ExecuteTime": {
     "end_time": "2024-03-19T02:24:00.478259300Z",
     "start_time": "2024-03-19T02:24:00.437324500Z"
    }
   },
   "execution_count": 89
  },
  {
   "cell_type": "code",
   "outputs": [],
   "source": [
    "# Relabel latent data and combine it with the ontime data\n",
    "relabeled_latent_data = DewanCombineData.relabel_latent_data(sorted_latent_data)"
   ],
   "metadata": {
    "collapsed": false,
    "ExecuteTime": {
     "end_time": "2024-03-19T02:24:02.078430500Z",
     "start_time": "2024-03-19T02:24:02.040429900Z"
    }
   },
   "execution_count": 90
  },
  {
   "cell_type": "code",
   "outputs": [],
   "source": [
    "combined_data = DewanCombineData.combine_data(sorted_on_time_data, relabeled_latent_data)"
   ],
   "metadata": {
    "collapsed": false,
    "ExecuteTime": {
     "end_time": "2024-03-19T02:24:02.476439400Z",
     "start_time": "2024-03-19T02:24:02.437447300Z"
    }
   },
   "execution_count": 91
  },
  {
   "cell_type": "code",
   "outputs": [],
   "source": [
    "len_sorted_combined_data = DewanCombineData.sort_by_length(combined_data)"
   ],
   "metadata": {
    "collapsed": false,
    "ExecuteTime": {
     "end_time": "2024-03-19T02:24:04.306675500Z",
     "start_time": "2024-03-19T02:24:04.254673300Z"
    }
   },
   "execution_count": 92
  },
  {
   "cell_type": "code",
   "outputs": [],
   "source": [
    "cell_types = ['Excitatory', 'Inhibitory', 'Combo']\n",
    "time_types = ['On-Time', 'Latent']\n",
    "\n",
    "\n",
    "for i, each in enumerate(experiment_names):\n",
    "    experiment_data = combined_data[i]\n",
    "    with pd.ExcelWriter(f'{each}-V4-Data.xlsx', engine='openpyxl') as writer:\n",
    "        for j, cell_type in enumerate(cell_types):\n",
    "            data_to_write = []\n",
    "            labels = []\n",
    "            for k, time_type in enumerate(time_types):\n",
    "                data = combined_data[i][j][k]\n",
    "                data_to_write.extend(data)\n",
    "                labels.extend(len(data) * [time_type])\n",
    "    \n",
    "            sheet_dataframe = pd.DataFrame(data_to_write, columns=unique_odors[i])\n",
    "            sheet_dataframe.insert(0, 'Time', labels)\n",
    "            \n",
    "            sheet_dataframe.to_excel(writer, sheet_name=cell_type)"
   ],
   "metadata": {
    "collapsed": false,
    "ExecuteTime": {
     "end_time": "2024-03-19T02:24:06.401904500Z",
     "start_time": "2024-03-19T02:24:06.260207600Z"
    }
   },
   "execution_count": 94
  },
  {
   "cell_type": "code",
   "outputs": [],
   "source": [
    "# Calculate Cell Totals\n",
    "total_on_time_conc_cells, total_on_time_num_ID_cells = [len(experiment) for experiment in stacked_on_time_data]\n",
    "total_latent_conc_cells, total_latent_ID_cells = [len(experiment) for experiment in stacked_latent_data]\n",
    "significant_on_time_conc_cells, significant_on_time_num_ID_cells = [len(experiment) for experiment in filtered_on_time_data]\n",
    "significant_latent_conc_cells, significant_latent_ID_cells = [len(experiment) for experiment in filtered_latent_data]\n",
    "num_conc_cells, num_ID_cells = [np.sum([len(row) for row in experiment]) for experiment in combined_data]"
   ],
   "metadata": {
    "collapsed": false,
    "ExecuteTime": {
     "end_time": "2024-03-19T02:24:05.960207500Z",
     "start_time": "2024-03-19T02:24:05.921207100Z"
    }
   },
   "execution_count": 93
  },
  {
   "cell_type": "code",
   "execution_count": null,
   "metadata": {},
   "outputs": [],
   "source": [
    "# DewanCombineData.plot_matrix(sum_sorted_on_time_data, unique_odors, experiment_names, 'On-Time-V4') # On-Time Plots\n",
    "# DewanCombineData.plot_matrix(sum_sorted_latent_data, unique_odors, experiment_names, 'Latent-V4') # Latent Plots\n",
    "# DewanCombineData.plot_matrix(sum_sorted_combined_data, unique_odors, experiment_names, 'Combo') # Combined Plots\n",
    "\n",
    "# # Sort and compile data for plotting\n",
    "# \n",
    "# data = cell_data_by_cluster\n",
    "# plot_names = [[f'Cluster{i}'] for i in range(len(data))]\n",
    "# unique_odors = np.unique(odor_data)\n",
    "# num_unique_odors = len(unique_odors)\n",
    "# ratios = tuple([len(cell)/len(data[0]) for cell in data])\n",
    "# \n",
    "# import matplotlib as mpl\n",
    "# import matplotlib.pyplot as plt\n",
    "# from matplotlib.colors import ListedColormap\n",
    "# \n",
    "# mpl.rcParams['font.family'] = 'Arial'\n",
    "# colormap = ListedColormap(['yellow', 'red', 'green'])\n",
    "# \n",
    "# fig, ax = plt.subplot_mosaic(plot_names, gridspec_kw={'height_ratios': ratios, 'hspace': 0}, sharex=True, figsize=(5, 8))\n",
    "# # This took HOURS. We calculate radios based off the number of cells so everything is scaled to the first set of data\n",
    "# # One, common x axis and no space between subplots\n",
    "# \n",
    "# for i, label in enumerate(ax): # Loop through each axis (experiment-animal pairing)\n",
    "#     each = ax[label]\n",
    "#     num_cells = len(data[i])\n",
    "# \n",
    "#     each.imshow(data[i], cmap=colormap, extent=(0, num_unique_odors, num_cells, 0))\n",
    "# \n",
    "#     each.set_yticks(np.arange(num_cells), labels=[]) # Set major ticks but leave them unlabeled\n",
    "#     each.set_xticks(np.arange(num_unique_odors), labels=[])\n",
    "#     each.set_yticks(np.arange(0.5, num_cells + 0.5, 1), labels=[], minor=True, fontsize=6) # Set minor ticks (offset by 0.5) and label them\n",
    "# \n",
    "#     each.set_ylabel(plot_names[i][0], fontsize=7, fontweight='bold') # Set y-axis label to animal-experiment pairing\n",
    "# \n",
    "#     each.grid(which='major') # Show the major grid to make nice little squares\n",
    "# \n",
    "# bottom_ax = ax[plot_names[-1][0]] # Grab the last axis (we will label the x-axis on this one)\n",
    "# bottom_ax.set_xticks(np.arange(0.5, num_unique_odors + 0.5, 1), rotation=90, ha='center', labels=unique_odors, minor=True, fontsize=6, fontweight='bold') # Label the bottommost x-axis with the odors\n",
    "# bottom_ax.set_xlabel('Odors', fontweight = 'bold', fontsize=10)\n",
    "# \n",
    "# \n",
    "# #plt.suptitle('Latent \\n Cell v. Odor Significance Matrix', fontsize=16, fontweight='bold') # Set the main title\n",
    "# plt.tight_layout(rect=(0, 0, 1, 0.98)) # Squish the graphs into a box just 'slightly' smaller than max, so theres room for the title\n",
    "# #plt.show()\n",
    "# plt.savefig('Clusters.pdf', dpi=900) # Save in *Sportscaster Voice* HIGH DEFINITION"
   ]
  }
 ],
 "metadata": {
  "kernelspec": {
   "display_name": "dev",
   "language": "python",
   "name": "python3"
  },
  "language_info": {
   "codemirror_mode": {
    "name": "ipython",
    "version": 3
   },
   "file_extension": ".py",
   "mimetype": "text/x-python",
   "name": "python",
   "nbconvert_exporter": "python",
   "pygments_lexer": "ipython3",
   "version": "3.10.0"
  }
 },
 "nbformat": 4,
 "nbformat_minor": 2
}
