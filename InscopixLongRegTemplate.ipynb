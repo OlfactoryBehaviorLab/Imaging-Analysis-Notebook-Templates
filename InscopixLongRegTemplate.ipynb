{
 "cells": [
  {
   "metadata": {
    "ExecuteTime": {
     "end_time": "2024-05-29T00:11:45.697815Z",
     "start_time": "2024-05-29T00:11:45.651803Z"
    }
   },
   "cell_type": "code",
   "source": [
    "%load_ext autoreload\n",
    "%autoreload 2"
   ],
   "id": "d12ce3c0665e8d49",
   "outputs": [],
   "execution_count": 26
  },
  {
   "metadata": {
    "ExecuteTime": {
     "end_time": "2024-05-29T00:18:12.843069Z",
     "start_time": "2024-05-29T00:18:12.804757Z"
    }
   },
   "cell_type": "code",
   "source": [
    "import isx\n",
    "from pathlib import Path\n",
    "from dewan_calcium.helpers import DewanIOhandler"
   ],
   "id": "initial_id",
   "outputs": [],
   "execution_count": 51
  },
  {
   "metadata": {
    "ExecuteTime": {
     "end_time": "2024-05-29T00:18:13.199949Z",
     "start_time": "2024-05-29T00:18:13.154382Z"
    }
   },
   "cell_type": "code",
   "source": [
    "main_path = 'Z:/2_Inscopix/1_DTT/'\n",
    "main_path = Path(main_path)"
   ],
   "id": "a751de61680b3b0c",
   "outputs": [],
   "execution_count": 52
  },
  {
   "metadata": {
    "ExecuteTime": {
     "end_time": "2024-05-29T00:18:13.587686Z",
     "start_time": "2024-05-29T00:18:13.446571Z"
    }
   },
   "cell_type": "code",
   "source": [
    "project_dirs = list(main_path.iterdir())\n",
    "project_dirs = project_dirs[1:3]"
   ],
   "id": "7665f110d5daf9ac",
   "outputs": [],
   "execution_count": 53
  },
  {
   "metadata": {
    "ExecuteTime": {
     "end_time": "2024-05-29T00:38:40.969910Z",
     "start_time": "2024-05-29T00:38:40.790611Z"
    }
   },
   "cell_type": "code",
   "source": [
    "animal_paths = []\n",
    "data_paths = []\n",
    "data_files = []\n",
    "\n",
    "# For now we are gonna practice with VGAT37\n",
    "for each in project_dirs:\n",
    "    animal_paths.extend(list(each.glob('*37')))  \n",
    "    \n",
    "# Get the Data Analysis Folder\n",
    "for each in animal_paths:\n",
    "    data_paths.extend(list(each.rglob('DataAnalysis')))\n",
    "    \n",
    "# Get the CNMFE Files\n",
    "for i, each in enumerate(data_paths):\n",
    "    data_files.extend(list(each.rglob('*CNMFE*.isxd')))\n",
    "    #data_files.append(each.joinpath(f'CNMFE_FILE_{i}.isxd'))"
   ],
   "id": "de6b3125ca79bc94",
   "outputs": [],
   "execution_count": 85
  },
  {
   "metadata": {
    "ExecuteTime": {
     "end_time": "2024-05-29T00:40:19.374261Z",
     "start_time": "2024-05-29T00:40:19.337993Z"
    }
   },
   "cell_type": "code",
   "source": [
    "isx_data_paths = [str(path) for path in data_files]\n",
    "\n",
    "debug_output_path = 'A:\\\\Long_Reg_Test'\n",
    "debug_output_path = Path(debug_output_path)\n",
    "debug_output_path.mkdir(exist_ok=True)\n",
    "\n",
    "isx_output_paths = DewanIOhandler.make_isx_path(isx_data_paths, str(debug_output_path))\n",
    "csv_path = debug_output_path.joinpath('output.csv')\n",
    "transform_csv_path = debug_output_path.joinpath('transform.csv')\n",
    "crop_csv_path = debug_output_path.joinpath('crop.csv')"
   ],
   "id": "30ffb88cd618ee4d",
   "outputs": [],
   "execution_count": 91
  },
  {
   "metadata": {
    "ExecuteTime": {
     "end_time": "2024-05-29T00:41:35.524247Z",
     "start_time": "2024-05-29T00:41:21.338454Z"
    }
   },
   "cell_type": "code",
   "source": "isx.longitudinal_registration(isx_data_paths, isx_output_paths, csv_file=str(csv_path), transform_csv_file=str(transform_csv_path), crop_csv_file=str(crop_csv_path))",
   "id": "2df989ec33fb99dd",
   "outputs": [],
   "execution_count": 93
  },
  {
   "metadata": {},
   "cell_type": "code",
   "outputs": [],
   "execution_count": null,
   "source": "",
   "id": "fadeada01fdfad25"
  }
 ],
 "metadata": {
  "kernelspec": {
   "display_name": "Python 3",
   "language": "python",
   "name": "python3"
  },
  "language_info": {
   "codemirror_mode": {
    "name": "ipython",
    "version": 2
   },
   "file_extension": ".py",
   "mimetype": "text/x-python",
   "name": "python",
   "nbconvert_exporter": "python",
   "pygments_lexer": "ipython2",
   "version": "2.7.6"
  }
 },
 "nbformat": 4,
 "nbformat_minor": 5
}
