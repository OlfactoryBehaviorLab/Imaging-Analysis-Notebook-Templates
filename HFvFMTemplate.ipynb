{
 "cells": [
  {
   "cell_type": "markdown",
   "source": "# Dewan Lab EPM Analysis",
   "metadata": {
    "collapsed": false
   },
   "id": "1471a0c2b0c3e8ed"
  },
  {
   "cell_type": "markdown",
   "source": [
    "## STEP 1: Always Execute! Load Libraries and User Settings\n",
    "### STEP 1A: Import Libraries"
   ],
   "metadata": {
    "collapsed": false
   },
   "id": "7f5d20e6bdd90448"
  },
  {
   "metadata": {
    "ExecuteTime": {
     "end_time": "2024-10-01T01:02:43.031970Z",
     "start_time": "2024-10-01T01:02:43.000157Z"
    }
   },
   "cell_type": "code",
   "source": [
    "%load_ext autoreload\n",
    "%autoreload 2"
   ],
   "id": "d045dffaf291d989",
   "outputs": [],
   "execution_count": 1
  },
  {
   "cell_type": "code",
   "source": [
    "import os\n",
    "os.environ['ISX'] = '0'  # Set to zero so we don't try to load the isx module\n",
    "\n",
    "import numpy as np\n",
    "import pandas as pd\n",
    "\n",
    "from tqdm import tqdm, trange\n",
    "\n",
    "from dewan_calcium import plotting\n",
    "from dewan_calcium.helpers import IO, parse_json, HFvFM\n",
    "from dewan_calcium.helpers.project_folder import ProjectFolder\n",
    "\n",
    "print(\"Importing required packages complete!\")"
   ],
   "metadata": {
    "collapsed": false,
    "ExecuteTime": {
     "end_time": "2024-10-01T01:02:45.107039Z",
     "start_time": "2024-10-01T01:02:44.219094Z"
    }
   },
   "id": "initial_id",
   "outputs": [
    {
     "name": "stdout",
     "output_type": "stream",
     "text": [
      "Importing required packages complete!\n"
     ]
    }
   ],
   "execution_count": 2
  },
  {
   "cell_type": "markdown",
   "source": [
    "### STEP 1B: User Configurables"
   ],
   "metadata": {
    "collapsed": false
   },
   "id": "2cbadb82b6bdf09c"
  },
  {
   "cell_type": "code",
   "source": [
    "animal = 'ANIMAL_GOES_HERE'\n",
    "date = 'DATE_GOES_HERE'\n",
    "\n",
    "HF_first = True\n",
    "\n",
    "PSEUDOTRIAL_LEN_S = 2\n",
    "ENDOSCOPE_FRAMERATE = 10"
   ],
   "metadata": {
    "collapsed": false
   },
   "id": "d17c61cc38601c39",
   "outputs": [],
   "execution_count": null
  },
  {
   "metadata": {},
   "cell_type": "markdown",
   "source": "### STEP 1C: Load Project Folder",
   "id": "743384ae8afd7f4a"
  },
  {
   "cell_type": "code",
   "source": [
    "# Create Project Folder to Gather and Hold all the File Paths\n",
    "test_data = \"D:\\\\Test_Data\\\\HFvFM\"\n",
    "project_folder = ProjectFolder('HFvFM', project_dir=test_data)\n",
    "file_header = animal + '-' + date + '-'"
   ],
   "metadata": {
    "collapsed": false,
    "ExecuteTime": {
     "end_time": "2024-09-30T03:25:26.926047Z",
     "start_time": "2024-09-30T03:25:26.895175Z"
    }
   },
   "id": "b153d57361969394",
   "outputs": [
    {
     "name": "stdout",
     "output_type": "stream",
     "text": [
      "{session.json} not found in D:\\Test_Data\\HFvFM\\Raw_Data\n",
      "{Raw GPIO} not found in D:\\Test_Data\\HFvFM\\Raw_Data\n",
      "{Raw Recordings} not found in D:\\Test_Data\\HFvFM\\Raw_Data\n",
      "{Experiment H5 File} not found in D:\\Test_Data\\HFvFM\\Raw_Data\n"
     ]
    }
   ],
   "execution_count": 4
  },
  {
   "metadata": {},
   "cell_type": "code",
   "source": [
    "# If this is the first time the project folder has been created,\n",
    "# move the files to the appropriate directories and then run this cell, otherwise skip this cel\n",
    "project_folder.get_data()"
   ],
   "id": "8335d89603fe71ef",
   "outputs": [],
   "execution_count": null
  },
  {
   "metadata": {},
   "cell_type": "code",
   "source": [
    "# Get settings from imaging session and display them for the user\n",
    "\n",
    "gain, LED_power, focal_planes = parse_json.get_session_settings(project_folder.raw_data_dir.session_json_path)\n",
    "\n",
    "print(f'Recording Gain: {gain}')\n",
    "print(f'LED Power: {LED_power}')\n",
    "print(f'Focal Plane(s): {focal_planes}')"
   ],
   "id": "4181d09c235c41ad",
   "outputs": [],
   "execution_count": null
  },
  {
   "metadata": {},
   "cell_type": "markdown",
   "source": "## 2A: Import and pre-process the raw data",
   "id": "b8e0375d9126c67a"
  },
  {
   "cell_type": "code",
   "source": [
    "#STEP 2A.2: LOAD INSCOPIX DATA\n",
    "\n",
    "cell_trace_data = pd.read_csv(project_folder.inscopix_dir.cell_trace_path, engine='pyarrow')\n",
    "GPIO_data = pd.read_csv(project_folder.inscopix_dir.GPIO_path, header=0, engine='pyarrow')\n",
    "all_cell_props = pd.read_csv(project_folder.inscopix_dir.props_path, header=0, engine='pyarrow')\n",
    "cell_outlines = parse_json.get_outline_coordinates(project_folder.inscopix_dir.contours_path)"
   ],
   "metadata": {
    "collapsed": false,
    "ExecuteTime": {
     "end_time": "2024-09-30T03:26:15.108885Z",
     "start_time": "2024-09-30T03:26:13.708377Z"
    }
   },
   "id": "abd14e642db457ce",
   "outputs": [],
   "execution_count": 5
  },
  {
   "cell_type": "code",
   "source": [
    "# STEP 2A.3: PREPROCESSING\n",
    "\n",
    "# STEP 2A.3.1: Drop the first row which contains all 'undecided' labels which is the Inscopix default label.\n",
    "cell_trace_data = cell_trace_data.drop([0])\n",
    "\n",
    "# STEP 2A.3.2: Force all dF/F values to be numbers and round times to 2 decimal places\n",
    "cell_trace_data = cell_trace_data.apply(pd.to_numeric, errors='coerce')\n",
    "\n",
    "# Set the times as the index so the listed data is all dF/F values\n",
    "cell_trace_data[cell_trace_data.columns[0]] = cell_trace_data[cell_trace_data.columns[0]].round(2)\n",
    "cell_trace_data = cell_trace_data.set_index(cell_trace_data.columns[0]) \n",
    "\n",
    "# STEP 2A.3.3: Remove spaces from column names and contents\n",
    "cell_trace_data.columns = cell_trace_data.columns.str.replace(\" \", \"\")\n",
    "GPIO_data.columns = GPIO_data.columns.str.replace(\" \", \"\")\n",
    "GPIO_data['ChannelName'] = GPIO_data['ChannelName'].str.replace(\" \", \"\")\n",
    "\n",
    "# STEP 2A.3.4: Reduce properties to only include the cells with only one component\n",
    "all_cell_props = all_cell_props[all_cell_props['NumComponents']==1]  # We only want cells that have one component\n",
    "all_cell_props = all_cell_props.drop(columns='Status').reset_index(drop=True)\n",
    "cell_names = all_cell_props['Name'].values\n",
    "\n",
    "# STEP 2A.3.5: PARSE GPIO DATA\n",
    "sniff_data = GPIO_data[GPIO_data['ChannelName'] == \"GPIO-1\"].reset_index(drop=True)\n",
    "FV_data = GPIO_data[GPIO_data['ChannelName'] == \"GPIO-2\"].reset_index(drop=True)\n",
    "\n",
    "# OPTIONAL UNUSED DATA\n",
    "# running_data = GPIO_data[GPIO_data['ChannelName'] == \"GPIO-3\"]  # Running Wheel Data\n",
    "# lick_data = GPIO_data[GPIO_data['ChannelName'] == \"GPIO-4\"]  # Lick Data"
   ],
   "metadata": {
    "collapsed": false,
    "ExecuteTime": {
     "end_time": "2024-09-30T03:32:02.072284Z",
     "start_time": "2024-09-30T03:31:58.879674Z"
    }
   },
   "id": "1c367711c48588a",
   "outputs": [],
   "execution_count": 6
  },
  {
   "cell_type": "markdown",
   "source": "## STEP 2B: Manual Curation",
   "metadata": {
    "collapsed": false
   },
   "id": "e21d1f96278b274b"
  },
  {
   "cell_type": "code",
   "source": [
    "from dewan_manual_curation import dewan_manual_curation\n",
    "\n",
    "curated_cells = dewan_manual_curation.launch_gui(project_folder_override=project_folder, cell_trace_data_override=cell_trace_data, cell_props_override=all_cell_props, cell_contours_override=cell_outlines)\n",
    "if curated_cells is None:\n",
    "    print('Error, no good cells selected!')"
   ],
   "metadata": {
    "collapsed": false,
    "ExecuteTime": {
     "end_time": "2024-09-30T03:33:08.632611Z",
     "start_time": "2024-09-30T03:32:40.618983Z"
    }
   },
   "id": "e6d6c2c8fc4f07b6",
   "outputs": [],
   "execution_count": 7
  },
  {
   "cell_type": "markdown",
   "source": [
    "### STEP 2C: Apply Manual Curation Results and Additional Preprocessing"
   ],
   "metadata": {
    "collapsed": false
   },
   "id": "aba514ce06958860"
  },
  {
   "cell_type": "code",
   "source": [
    "# STEP 2C.1: Filter all data by the GoodCells identified in ManualCuration\n",
    "\n",
    "curated_cell_props = all_cell_props[all_cell_props['Name'].isin(curated_cells)].reset_index(drop=True)\n",
    "curated_trace_data = cell_trace_data[curated_cells]\n",
    "cell_names = curated_cell_props['Name']"
   ],
   "metadata": {
    "collapsed": false,
    "ExecuteTime": {
     "end_time": "2024-09-30T03:33:19.978713Z",
     "start_time": "2024-09-30T03:33:19.894441Z"
    }
   },
   "id": "6d4ee4dc735b1d81",
   "outputs": [],
   "execution_count": 8
  },
  {
   "cell_type": "markdown",
   "source": [
    "### STEP 2D: Pickle and Save all preprocessed data"
   ],
   "metadata": {
    "collapsed": false
   },
   "id": "bec801c85b27c1bb"
  },
  {
   "cell_type": "code",
   "source": [
    "# Pickle the reorganized CellTraceData incase its needed later\n",
    "# Saves Cell Traces, GPIO, Odor List, Sniff, FV data, Good Cell Properties, Good Cells, and the labeled max projection\n",
    "# Once these have been saved, they don't need to be re-run on the same data again unless the data itself is changed\n",
    "\n",
    "folder = project_folder.analysis_dir.preprocess_dir.path\n",
    "\n",
    "IO.save_data_to_disk(curated_trace_data, 'curated_trace_data', file_header, folder)\n",
    "IO.save_data_to_disk(GPIO_data, 'GPIO_data', file_header, folder)\n",
    "IO.save_data_to_disk(FV_data, 'FV_data', file_header, folder)\n",
    "IO.save_data_to_disk(curated_cell_props, 'curated_cell_props', file_header, folder)\n",
    "IO.save_data_to_disk(sniff_data, 'sniff_table', file_header, folder)"
   ],
   "metadata": {
    "collapsed": false,
    "ExecuteTime": {
     "end_time": "2024-09-30T03:33:50.403606Z",
     "start_time": "2024-09-30T03:33:46.664479Z"
    }
   },
   "id": "176c5be1ba73ca5e",
   "outputs": [
    {
     "name": "stdout",
     "output_type": "stream",
     "text": [
      "ANIMAL_GOES_HERE-DATE_GOES_HERE-curated_trace_data has been saved!\n",
      "ANIMAL_GOES_HERE-DATE_GOES_HERE-GPIO_data has been saved!\n",
      "ANIMAL_GOES_HERE-DATE_GOES_HERE-FV_data has been saved!\n",
      "ANIMAL_GOES_HERE-DATE_GOES_HERE-curated_cell_props has been saved!\n",
      "ANIMAL_GOES_HERE-DATE_GOES_HERE-sniff_table has been saved!\n"
     ]
    }
   ],
   "execution_count": 10
  },
  {
   "metadata": {},
   "cell_type": "markdown",
   "source": "### Checkpoint 1",
   "id": "64e5643e669a0877"
  },
  {
   "cell_type": "code",
   "source": [
    "# Opens the saved pickle files.  If the files have already been saved, code can be re-run\n",
    "# starting from this point\n",
    "\n",
    "folder = project_folder.analysis_dir.preprocess_dir.path\n",
    "\n",
    "curated_trace_data = IO.load_data_from_disk('curated_trace_data', file_header, folder)\n",
    "GPIO_data = IO.load_data_from_disk('GPIO_data', file_header, folder)\n",
    "FV_data = IO.load_data_from_disk('FV_data', file_header, folder)\n",
    "curated_cell_props = IO.load_data_from_disk('curated_cell_props', file_header, folder)\n",
    "\n",
    "cell_names = curated_cell_props['Name']  # List of cells, referenced periodically"
   ],
   "metadata": {
    "collapsed": false
   },
   "id": "6c706c8b64d42488",
   "outputs": [],
   "execution_count": null
  },
  {
   "metadata": {},
   "cell_type": "markdown",
   "source": "### STEP 4: Isolate dF/F Data for Experiment",
   "id": "818076415b2bc312"
  },
  {
   "cell_type": "code",
   "source": [
    "# STEP 4A: Parses the final valve data to identify when the final valve is open vs when it is closed based on TTL pulse from Arduino.\n",
    "# In the EPM experiment, there is no final valve. However, we are using the same sync signal as used in the odor experiments to signal when the LED is triggered\n",
    "\n",
    "FV_values = FV_data['Value'].astype(float).values # Get FV Values\n",
    "num_values = len(FV_values)\n",
    "valve_status = 0\n",
    "FV_on_indexes = []\n",
    "FV_off_indexes = []\n",
    "for i in trange((num_values - 1), desc=\"Processing: \"):\n",
    "    valve_val_diff = FV_values[i + 1] - FV_values[i]\n",
    "\n",
    "    if valve_status == 0:    # Start with valve off\n",
    "        if valve_val_diff > 10000: # If the difference is a very large positive number, the valve opened\n",
    "            FV_on_indexes.append(i + 1)\n",
    "            valve_status = 1 # Set valve state to open\n",
    "    else:\n",
    "        if valve_val_diff < -10000: # If the difference is a very laarge negative number, the valve closed\n",
    "            FV_off_indexes.append(i)\n",
    "            valve_status = 0 # Set valve state to closed\n",
    "\n",
    "FV_indexes = pd.DataFrame(zip(FV_on_indexes, FV_off_indexes), columns=['On', 'Off'])"
   ],
   "metadata": {
    "collapsed": false,
    "ExecuteTime": {
     "end_time": "2024-09-30T03:37:07.656046Z",
     "start_time": "2024-09-30T03:37:06.170539Z"
    }
   },
   "id": "5505d5ba98ede822",
   "outputs": [
    {
     "name": "stderr",
     "output_type": "stream",
     "text": [
      "Processing: 100%|██████████| 1665653/1665653 [00:01<00:00, 1220554.08it/s]\n"
     ]
    }
   ],
   "execution_count": 12
  },
  {
   "metadata": {
    "ExecuteTime": {
     "end_time": "2024-09-30T05:11:26.401254Z",
     "start_time": "2024-09-30T05:11:26.385907Z"
    }
   },
   "cell_type": "code",
   "source": [
    "# STEP 3B.1: Find trial start and end times with the pre/post trial offsets\n",
    "time_points = FV_data['Time(s)']\n",
    "\n",
    "FV_on_times = time_points.iloc[FV_indexes['On']]\n",
    "FV_off_times = time_points.iloc[FV_indexes['Off']]\n",
    "\n",
    "trial_times = pd.DataFrame(zip(FV_on_times, FV_off_times), columns=['On', 'Off'])"
   ],
   "id": "8a8d3e2a267dbce9",
   "outputs": [],
   "execution_count": 59
  },
  {
   "metadata": {},
   "cell_type": "code",
   "source": [
    "# STEP 4B: Trim dF/F data to the FV On and Off Times\n",
    "\n",
    "time_points = curated_trace_data.index.values\n",
    "\n",
    "cell_trace_start_indices = []\n",
    "cell_trace_stop_indices = []\n",
    "\n",
    "for name, (trial_start_time, trial_end_time) in trial_times.iterrows():\n",
    "    cell_trace_start_indices.append(np.where(time_points <= trial_start_time)[0][-1]) # Find first value less than/= the start time. We would always rather start 1 frame early than late\n",
    "    cell_trace_stop_indices.append(np.where(time_points >= trial_end_time)[0][0]) # Find the first value greater than/= the end time. We would always rather stop 1 frame late than early\n",
    "\n",
    "cell_trace_indices = pd.DataFrame(zip(cell_trace_start_indices, cell_trace_stop_indices), columns = ['Start', 'Stop'])"
   ],
   "id": "60552b9f3540b418",
   "outputs": [],
   "execution_count": null
  },
  {
   "metadata": {},
   "cell_type": "code",
   "source": [
    "num_trials = trial_times.shape[0]\n",
    "num_HF = 0\n",
    "num_FM = 0\n",
    "\n",
    "if num_trials % 2 == 0:\n",
    "    num_HF = num_FM = int(num_trials/2)\n",
    "else:\n",
    "    smaller_num = int((num_trials-1)/2)\n",
    "    larger_num = smaller_num + 1\n",
    "    if HF_first:\n",
    "        num_HF = larger_num\n",
    "        num_FM = smaller_num\n",
    "    else:\n",
    "        num_HF = smaller_num\n",
    "        num_FM = larger_num"
   ],
   "id": "c7953944b5baee84",
   "outputs": [],
   "execution_count": null
  },
   "cell_type": "code",
   "source": [
    "index = []\n",
    "labels = ['HF', 'FM']\n",
    "num_trials = trial_times.shape[0]\n",
    "for i in range(num_trials):\n",
    "    is_odd =  i % 2\n",
    "    label_to_add = is_odd\n",
    "    if not HF_first:\n",
    "        label_to_add = int(np.logical_not(is_odd))\n",
    "\n",
    "    index.append(labels[label_to_add])\n",
    "\n",
    "trial_times.index = index"
   ],
   "id": "72ff6bb5e40f173c",
   "outputs": [],
   "execution_count": 60
  },
  {
   "metadata": {},
   "cell_type": "code",
   "source": [
    "# STEP 4B: Trim dF/F data to the FV On and Off Times\n",
    "\n",
    "cell_trace_times = curated_trace_data.index.values\n",
    "for name, trial_start_time, trial_end_time in trial_times.iterrows():\n",
    "    cell_trace_on_index = np.where(cell_trace_times <= trial_start_time)[0][-1]\n",
    "    cell_trace_off_index = np.where(cell_trace_times <= trial_end_time)[0][-1]  # We can't overshoot otherwise the coordinate will not match, so we may drop a single frame\n",
    "\n",
    "    trimmed_trace_data = curated_trace_data.iloc[cell_trace_on_index:cell_trace_off_index, :]\n",
    "\n",
    "    trimmed_cell_trace_times = trimmed_trace_data.index.values\n",
    "    shifted_cell_trace_times = np.subtract(trimmed_cell_trace_times, trimmed_cell_trace_times[0])\n",
    "    rounded_cell_trace_times = np.round(shifted_cell_trace_times, 2)\n",
    "\n",
    "    trimmed_trace_data.index = rounded_cell_trace_times\n"
   ],
   "id": "60552b9f3540b418",
   "outputs": [],
   "execution_count": null
  },
  {
   "metadata": {},
   "cell_type": "markdown",
   "source": "## Step 4D: Save trace data",
   "id": "761558840c3623c8"
  },
  {
   "cell_type": "code",
   "source": [
    "## Save the paired coordinates - trace data\n",
    "\n",
    "folder = project_folder.analysis_dir.preprocess_dir.path\n",
    "\n",
    "IO.save_data_to_disk(trimmed_trace_data, 'trimmed_trace_data', file_header, folder)"
   ],
   "metadata": {
    "collapsed": false
   },
   "id": "a2c8dc5974fbab93",
   "outputs": [],
   "execution_count": null
  },
  {
   "metadata": {},
   "cell_type": "markdown",
   "source": "## CHECKPOINT 2",
   "id": "af0575ecbec706d7"
  },
  {
   "metadata": {},
   "cell_type": "code",
   "source": [
    "## Load the ROIs and image\n",
    "\n",
    "folder = project_folder.analysis_dir.preprocess_dir.subdir('EPM_ROI')\n",
    "arm_coordinates = IO.load_data_from_disk('arm_coordinates', file_header, folder)\n",
    "individual_regions = IO.load_data_from_disk('individual_regions', file_header, folder)\n",
    "original_regions = IO.load_data_from_disk('original_regions', file_header, folder)\n",
    "background_image = IO.load_data_from_disk('background_image', file_header, folder)\n",
    "\n",
    "folder = project_folder.analysis_dir.preprocess_dir.path\n",
    "trimmed_trace_data = IO.load_data_from_disk('trimmed_trace_data', file_header, folder)\n",
    "curated_cell_props = IO.load_data_from_disk('curated_cell_props', file_header, folder)\n",
    "cell_names = curated_cell_props['Name']"
   ],
   "id": "dc876c81d6ffe3a3",
   "outputs": [],
   "execution_count": null
  },
  {
   "metadata": {},
   "cell_type": "markdown",
   "source": "## STEP 5: Associate coordinates with arms",
   "id": "fa2a483aef115aac"
  },
  {
   "metadata": {},
   "cell_type": "markdown",
   "source": "## STEP 6: Create 'PSEUDOTRIALS'",
   "id": "2c4a8e4824cf9546"
  },
  {
   "metadata": {},
   "cell_type": "code",
   "source": [
    "## STEP 6A: Find transitions from region -> region\n",
    "# Gather all visits per each region\n",
    "# Calculate some statistics about our 'pseudotrials'\n",
    "\n",
    "animal_locations = trimmed_trace_data['Location']\n",
    "transitions, arm_indexes = EPM.find_region_transitions(animal_locations)"
   ],
   "id": "609992a8e527d75f",
   "outputs": [],
   "execution_count": null
  },
  {
   "metadata": {},
   "cell_type": "code",
   "source": [
    "## STEP 6B.1: Segment transitions into trials that meet the PSEUDOTRIAL_LEN_S length criteria\n",
    "\n",
    "pseudotrials, trial_stats = EPM.get_pseudotrials(arm_indexes, transitions, PSEUDOTRIAL_LEN_S, ENDOSCOPE_FRAMERATE)\n",
    "## STEP 6B.2: Print PSEUDOTRIAL Stats\n",
    "pseudotrial_stats = EPM.calc_pseudotrial_stats(pseudotrials, trial_stats)\n",
    "\n",
    "EPM.print_pseudotrial_stats(pseudotrial_stats)\n",
    "EPM.save_pseudotrial_stats(pseudotrial_stats, project_folder)"
   ],
   "id": "e4fa56fc7f4c1d09",
   "outputs": [],
   "execution_count": null
  },
  {
   "metadata": {},
   "cell_type": "code",
   "source": [
    "## STEP 6C: Gather the dF/F values for each pseudotrial\n",
    "\n",
    "pseudotrial_traces = {\n",
    "    'open1': [],\n",
    "    'open2': [],\n",
    "    'closed1': [],\n",
    "    'closed2': []\n",
    "}\n",
    "\n",
    "frames_per_pseudotrial = int(np.floor(PSEUDOTRIAL_LEN_S * ENDOSCOPE_FRAMERATE)) \n",
    "\n",
    "for arm in pseudotrials:\n",
    "    arm_visits = pseudotrials[arm]\n",
    "    \n",
    "    for visit in arm_visits:\n",
    "        start_index = visit['start']\n",
    "        end_index = start_index + frames_per_pseudotrial\n",
    "        traces = trimmed_trace_data[cell_names].iloc[start_index:end_index]\n",
    "        # We first grab the columns for the cells and then grab the rows for our trial\n",
    "        pseudotrial_traces[arm].append(traces)"
   ],
   "id": "49f63580fa9f64bc",
   "outputs": [],
   "execution_count": null
  },
  {
   "metadata": {},
   "cell_type": "code",
   "source": [
    "## STEP 6D: Get mean dF/F values for each trial\n",
    "\n",
    "pseudotrial_means = {\n",
    "    'open1': pd.DataFrame(),\n",
    "    'open2': pd.DataFrame(),\n",
    "    'closed1': pd.DataFrame(),\n",
    "    'closed2': pd.DataFrame(),\n",
    "}\n",
    "\n",
    "for arm in pseudotrial_means:\n",
    "    for trial in pseudotrial_traces[arm]:\n",
    "        pseudotrial_means[arm] = pd.concat((pseudotrial_means[arm], trial.mean(axis=0)), axis=1)\n",
    "    \n",
    "    pseudotrial_means[arm] = pseudotrial_means[arm].T\n",
    "    pseudotrial_means[arm] = pseudotrial_means[arm].reset_index(drop=True)"
   ],
   "id": "6fe4ab81d041f50b",
   "outputs": [],
   "execution_count": null
  },
  {
   "metadata": {},
   "cell_type": "markdown",
   "source": "## Step 6E: Save PSUEDOTRIALS",
   "id": "fa22524eb56db3bd"
  },
  {
   "metadata": {},
   "cell_type": "code",
   "source": [
    "folder = project_folder.analysis_dir.output_dir.subdir('pseudotrials')\n",
    "\n",
    "IO.save_data_to_disk(pseudotrials, 'pseudotrials', file_header, folder)\n",
    "IO.save_data_to_disk(trial_stats, 'trial_stats', file_header, folder)\n",
    "IO.save_data_to_disk(transitions, 'transitions', file_header, folder)\n",
    "IO.save_data_to_disk(arm_indexes, 'arm_indexes', file_header, folder)\n",
    "IO.save_data_to_disk(pseudotrial_traces, 'pseudotrial_traces', file_header, folder)\n",
    "IO.save_data_to_disk(pseudotrial_means, 'pseudotrial_means', file_header, folder)"
   ],
   "id": "3153e57c56bd5167",
   "outputs": [],
   "execution_count": null
  },
  {
   "metadata": {},
   "cell_type": "markdown",
   "source": "### Checkpoint 3",
   "id": "5b9b43be0de9c854"
  },
  {
   "metadata": {},
   "cell_type": "code",
   "source": [
    "folder = project_folder.analysis_dir.output_dir.subdir('pseudotrials')\n",
    "\n",
    "pseudotrials = IO.load_data_from_disk('pseudotrials', file_header, folder)\n",
    "trial_stats = IO.load_data_from_disk('trial_stats', file_header, folder)\n",
    "transitions = IO.load_data_from_disk('transitions', file_header, folder)\n",
    "arm_indexes = IO.load_data_from_disk('arm_indexes', file_header, folder)\n",
    "pseudotrial_traces = IO.load_data_from_disk('pseudotrial_traces', file_header, folder)\n",
    "pseudotrial_means = IO.load_data_from_disk('pseudotrial_means', file_header, folder)\n",
    "\n",
    "folder = project_folder.analysis_dir.preprocess_dir.path\n",
    "curated_cell_props = IO.load_data_from_disk('curated_cell_props', file_header, folder)\n",
    "cell_names = curated_cell_props['Name']"
   ],
   "id": "f4365867fa62742c",
   "outputs": [],
   "execution_count": null
  },
  {
   "metadata": {},
   "cell_type": "markdown",
   "source": "## Step 7A: auROC Analysis",
   "id": "9f02a7a57145eb85"
  },
  {
   "metadata": {},
   "cell_type": "code",
   "source": [
    "from dewan_calcium import AUROC\n",
    "\n",
    "groups = (['open1', 'open2'], ['closed1', 'closed2'])\n",
    "AUROC_results = AUROC.pooled_EPM_auroc(pseudotrial_means, groups, num_workers=20)"
   ],
   "id": "df34f94f78c20585",
   "outputs": [],
   "execution_count": null
  },
  {
   "metadata": {},
   "cell_type": "markdown",
   "source": "## Step 7B: Save auROC output",
   "id": "a4884745553d835e"
  },
  {
   "metadata": {},
   "cell_type": "code",
   "source": [
    "folder = project_folder.analysis_dir.output_dir.subdir('AUROC')\n",
    "IO.save_data_to_disk(AUROC_results, 'AUROC_results', file_header, folder)"
   ],
   "id": "b13254ce9ce8cfd6",
   "outputs": [],
   "execution_count": null
  },
  {
   "metadata": {},
   "cell_type": "markdown",
   "source": "### Checkpoint 4",
   "id": "62deabc38b90e98d"
  },
  {
   "metadata": {},
   "cell_type": "code",
   "source": [
    "folder = project_folder.analysis_dir.output_dir.subdir('AUROC')\n",
    "AUROC_results = IO.load_data_from_disk('AUROC_results', file_header, folder)\n",
    "\n",
    "folder = project_folder.analysis_dir.preprocess_dir.path\n",
    "curated_cell_props = IO.load_data_from_disk('curated_cell_props', file_header, folder)\n",
    "cell_names = curated_cell_props['Name']\n",
    "trimmed_trace_data = IO.load_data_from_disk('trimmed_trace_data', file_header, folder)\n",
    "folder = project_folder.analysis_dir.preprocess_dir.subdir('EPM_ROI')\n",
    "background_image = IO.load_data_from_disk('background_image', file_header, folder)\n"
   ],
   "id": "9e607a4555a1c16",
   "outputs": [],
   "execution_count": null
  },
  {
   "metadata": {},
   "cell_type": "markdown",
   "source": "## Step 8: Output and Graph Results",
   "id": "a97f4ded090e85d9"
  },
  {
   "metadata": {},
   "cell_type": "code",
   "source": [
    "## STEP 8A: Output auROC results\n",
    "\n",
    "auroc_output = []\n",
    "for data in AUROC_results:\n",
    "   \n",
    "    direction_index = round(2 * (data['auroc'] - 0.5), 2)\n",
    "    auroc = round(data['auroc'], 2)\n",
    "    bounds = (data['lb'], data['ub'])\n",
    "    significance = data['significance']\n",
    "\n",
    "    new_row = [auroc, direction_index, bounds, significance]\n",
    "    auroc_output.append(new_row)\n",
    "    \n",
    "auroc_output = pd.DataFrame(auroc_output, index=cell_names, columns=['auROC', 'direction_index', 'bounds', 'significant'])\n",
    "folder = project_folder.analysis_dir.output_dir.path\n",
    "file_name = f'{file_header}EPM_data_output.xlsx'\n",
    "file_path = folder.joinpath(file_name)\n",
    "auroc_output.to_excel(file_path)"
   ],
   "id": "1eb4e6126b4cf096",
   "outputs": [],
   "execution_count": null
  },
  {
   "metadata": {},
   "cell_type": "code",
   "source": [
    "## STEP 8B: Graph shuffle histograms and auROC histograms\n",
    "\n",
    "coordinates = trimmed_trace_data['Coordinates'].values\n",
    "line_coordinates = EPM.generate_position_lines(coordinates)\n",
    "plotting.plot_EPM_auroc_histograms(AUROC_results, project_folder)\n",
    "plotting.plot_epm_shuffles(AUROC_results, project_folder)\n",
    "plotting.plot_animal_track(line_coordinates, background_image, project_folder) "
   ],
   "id": "e45a7a8fef8c3bb9",
   "outputs": [],
   "execution_count": null
  }
 ],
 "metadata": {
  "kernelspec": {
   "display_name": "Python 3",
   "language": "python",
   "name": "python3"
  },
  "language_info": {
   "codemirror_mode": {
    "name": "ipython",
    "version": 2
   },
   "file_extension": ".py",
   "mimetype": "text/x-python",
   "name": "python",
   "nbconvert_exporter": "python",
   "pygments_lexer": "ipython2",
   "version": "2.7.6"
  }
 },
 "nbformat": 4,
 "nbformat_minor": 5
}
