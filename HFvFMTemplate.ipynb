{
 "cells": [
  {
   "cell_type": "code",
   "execution_count": null,
   "metadata": {},
   "outputs": [],
   "source": [
    "from dewan_calcium.helpers import DewanIOhandler\n",
    "DewanIOhandler.create_project_framework('HF-FM')"
   ]
  },
  {
   "cell_type": "code",
   "execution_count": 1,
   "metadata": {},
   "outputs": [],
   "source": [
    "%load_ext autoreload\n",
    "%autoreload 2"
   ]
  },
  {
   "cell_type": "code",
   "execution_count": 2,
   "metadata": {},
   "outputs": [],
   "source": [
    "import numpy as np\n",
    "import pandas as pd\n",
    "\n",
    "from pathlib import Path\n",
    "from tqdm import trange, tqdm\n",
    "\n",
    "from dewan_calcium import DewanManualCuration, DewanDeconv\n",
    "from dewan_calcium.helpers import DewanIOhandler"
   ]
  },
  {
   "cell_type": "code",
   "execution_count": 3,
   "metadata": {},
   "outputs": [],
   "source": [
    "animal = 'ANIMAL_GOES_HERE'\n",
    "date = 'DATE_GOES_HERE'\n",
    "\n",
    "fileHeader = animal + '-' + date + '-'"
   ]
  },
  {
   "cell_type": "code",
   "execution_count": 51,
   "metadata": {},
   "outputs": [],
   "source": [
    "#STEP 2A.1: LOAD ALL DATA\n",
    "# Read in data for processing.  Needs Cell Traces, and GPIO file.\n",
    "folder_path = Path(*['HF_FM_Analysis','RawData'])\n",
    "CellTraceData = pd.read_csv(folder_path.joinpath('CellTraces.csv'), engine='pyarrow')\n",
    "GPIOData = pd.read_csv(folder_path.joinpath('GPIO.csv'), header=None, engine='pyarrow')\n",
    "AllCellProps = pd.read_csv(folder_path.joinpath('Props.csv'), header=0, engine='pyarrow') # header = 0 because row 0 has all the property names\n",
    "CellKeys, CellOutlines = DewanIOhandler.get_outline_coordinates(folder_path.joinpath('Cell_Contours.json')) # Load cell outlines from JSON file\n",
    "MaxProjectionImagePath = folder_path.joinpath('Max_Projection.tiff') # Create path for Max Projection image for later"
   ]
  },
  {
   "cell_type": "code",
   "execution_count": 52,
   "metadata": {},
   "outputs": [],
   "source": [
    "# STEP 2A.2: PREPROCESSING\n",
    "\n",
    "# STEP 2A.2.1: Drop the first row which contains all 'undecided' labels which is the Inscopix default label.\n",
    "CellTraceData.drop([0], inplace=True)\n",
    "\n",
    "# STEP 2A.2.2: Force all dF/F values to be numbers and round times to 2 decimal places\n",
    "CellTraceData = CellTraceData.apply(pd.to_numeric, errors='coerce')\n",
    "# Set the times as the index so the listed data is all dF/F values\n",
    "CellTraceData[CellTraceData.columns[0]] = CellTraceData[CellTraceData.columns[0]].round(2)\n",
    "CellTraceData.set_index(CellTraceData.columns[0], inplace=True)\n",
    "\n",
    "# STEP 2A.2.3: Remove spaces from column names\n",
    "CellTraceData.columns = [key.replace(' ', '') for key in CellTraceData.columns.values]\n",
    "\n",
    "# STEP 2A.2.4: REMOVE ALL MULTI-COMPONENT CELLS\n",
    "# Generate a list of cell numbers based off the number of cells\n",
    "CellList = np.arange(len(AllCellProps['NumComponents'])) # Example Cell Numbers: 0, 1, 2, 3, 4\n",
    "# Get indices where there are only one cell part\n",
    "OnePieceCells = np.where(AllCellProps['NumComponents'] == 1)[0] # Example One-Component Indexes: 0, 1, 4\n",
    "# Filter out all the multi-component cells, leaving only the one-piece cells\n",
    "CellList = CellList[OnePieceCells] # Example Filtered Cell Numbers: 0, 1 ,4\n",
    "CellKeys = CellKeys[OnePieceCells] # Example Filtered Cell Keys, C00, C01, C04\n",
    "AllCellProps = AllCellProps.iloc[OnePieceCells] # Filter out two-piece cells as above\n",
    "\n",
    "\n",
    "# STEP 2A.2.5: PARSE GPIO DATA\n",
    "GPIOData.iloc[:, 1] = GPIOData.iloc[:, 1].str.replace(' ', '')  # Remove Random Spaces in Data\n",
    "#GPIO1 = np.array(GPIOData.iloc[:, 1] == \"GPIO-1\")  # Get Sniff Sensor Data Truth Table\n",
    "GPIO2 = np.array(GPIOData.iloc[:, 1] == \"GPIO-2\")  # Get FV Actuation Data Truth Table\n",
    "#SniffTable = np.array(GPIOData.iloc[GPIO1,:]) # Create an array with Sniff values only\n",
    "FVData = np.array(GPIOData.iloc[GPIO2, :]) # Create an array with FV values only\n",
    "\n",
    "# STEP 2A.2.6: Make all numeric values floats and remove nullbytes\n",
    "\n",
    "remove_null_bytes = lambda item: item.split('\\x00')[0]\n",
    "# For some reason the data will occassionally contain a very long string of null bytes '\\\\x00'\n",
    "# this will remove everything after the null bytes,\n",
    "\n",
    "# Iterate over each item and remove the nullbytes; simultaneously cast values to floats\n",
    "FVData[:, 0] = np.fromiter(map(remove_null_bytes, FVData[:, 0]), 'float')\n",
    "FVData[:, 2] = np.fromiter(map(remove_null_bytes, FVData[:, 2]), 'float')"
   ]
  },
  {
   "cell_type": "code",
   "execution_count": 53,
   "metadata": {},
   "outputs": [],
   "source": [
    "# STEP 2B.1: Load the Maximum Projection Image, draw the cell outlines and labels, and output labeled image\n",
    "MaxProjectionImage = DewanManualCuration.generate_max_projection(MaxProjectionImagePath, AllCellProps, CellKeys, CellOutlines, return_raw_image=False)\n",
    "# generate_max_projection(ImagePath, AllCellProps, CellKeys, CellOutlines, return_raw_iamge, is_downsampled=False, downsample_factor=4, brightness=1.5, contrast=1.5, font_size=24, text_color='red', outline_color='yellow', outline_width=2):\n",
    "# Optional configuration values that are set by default, change as desired\n",
    "# Note: Set save_image=True to output a max projection with all cells detected by CNMFE regardless if they are good cells or not\n",
    "\n",
    "# STEP 2B.2: Run ManualCuration GUI\n",
    "GoodCells = DewanManualCuration.manual_curation_gui(CellList, CellTraceData, MaxProjectionImage)\n",
    "if GoodCells is None:\n",
    "    print('Error, no good cells selected!')"
   ]
  },
  {
   "cell_type": "code",
   "execution_count": 54,
   "metadata": {},
   "outputs": [],
   "source": [
    "# STEP 2C.1: Filter all data by the GoodCells identified in ManualCuration\n",
    "GoodCellProperties = AllCellProps.iloc[GoodCells,:]\n",
    "GoodCellProperties.reset_index() # Resets index to 0 -> len(GoodCellProperties)\n",
    "CellList = CellList[GoodCells]\n",
    "CellKeys = CellKeys[GoodCells]\n",
    "GoodCellTraceData = CellTraceData.iloc[:, GoodCells]"
   ]
  },
  {
   "cell_type": "code",
   "execution_count": 55,
   "metadata": {},
   "outputs": [],
   "source": [
    "# STEP 2C.2: OUTPUT MAX PROJECTION IMAGE WITH CONTOURS OF GOOD CELLS\n",
    "image = DewanManualCuration.generate_max_projection(MaxProjectionImagePath, GoodCellProperties, CellKeys, CellOutlines, return_raw_image=True)\n",
    "# generate_max_projection(ImagePath, AllCellProps, CellKeys, CellOutlines, return_raw_image, brightness=1.5, contrast=1.5, font_size=24, text_color='red', outline_color='yellow', outline_width=2):\n",
    "# Optional configuration values that are set by default, change as desired\n"
   ]
  },
  {
   "cell_type": "code",
   "execution_count": 56,
   "metadata": {},
   "outputs": [
    {
     "name": "stdout",
     "output_type": "stream",
     "text": [
      "ANIMAL_GOES_HERE-DATE_GOES_HERE-GoodCellTraceData has been saved!\n",
      "ANIMAL_GOES_HERE-DATE_GOES_HERE-GPIOData has been saved!\n",
      "ANIMAL_GOES_HERE-DATE_GOES_HERE-FVdata has been saved!\n",
      "ANIMAL_GOES_HERE-DATE_GOES_HERE-GoodCellProperties has been saved!\n",
      "ANIMAL_GOES_HERE-DATE_GOES_HERE-CellList has been saved!\n"
     ]
    }
   ],
   "source": [
    "# Pickle the reorganized CellTraceData incase its needed later\n",
    "# Saves Cell Traces, GPIO, Odor List, Sniff, FV data, Good Cell Properties, Good Cells, and the labeled max projection\n",
    "# Once these have been saved, they don't need to be re-run on the same data again unless the data itself is changed\n",
    "\n",
    "folder = ['HF_FM_Analysis', 'PreProcessedData']\n",
    "\n",
    "DewanManualCuration.save_image(image, folder)\n",
    "DewanIOhandler.save_data_to_disk(GoodCellTraceData, 'GoodCellTraceData', fileHeader, folder)\n",
    "DewanIOhandler.save_data_to_disk(GPIOData, 'GPIOData', fileHeader, folder)\n",
    "DewanIOhandler.save_data_to_disk(FVData, 'FVdata', fileHeader, folder)\n",
    "DewanIOhandler.save_data_to_disk(GoodCellProperties, 'GoodCellProperties', fileHeader, folder)\n",
    "DewanIOhandler.save_data_to_disk(CellList, 'CellList', fileHeader, folder)"
   ]
  },
  {
   "cell_type": "code",
   "execution_count": 19,
   "metadata": {},
   "outputs": [
    {
     "name": "stdout",
     "output_type": "stream",
     "text": [
      "ANIMAL_GOES_HERE-DATE_GOES_HERE-GoodCellTraceData has loaded successfully!\n",
      "ANIMAL_GOES_HERE-DATE_GOES_HERE-FVData has loaded successfully!\n",
      "ANIMAL_GOES_HERE-DATE_GOES_HERE-GPIOData has loaded successfully!\n",
      "ANIMAL_GOES_HERE-DATE_GOES_HERE-GoodCellProperties has loaded successfully!\n",
      "ANIMAL_GOES_HERE-DATE_GOES_HERE-CellList has loaded successfully!\n"
     ]
    }
   ],
   "source": [
    "# Opens the saved pickle files.  If the files have already been saved, code can be re-run\n",
    "# starting from this point\n",
    "\n",
    "folder = ['HF_FM_Analysis', 'PreProcessedData']\n",
    "\n",
    "CellTraceData = DewanIOhandler.load_data_from_disk('GoodCellTraceData', fileHeader, folder)\n",
    "FVData = DewanIOhandler.load_data_from_disk('FVData', fileHeader, folder)\n",
    "GPIOData = DewanIOhandler.load_data_from_disk('GPIOData', fileHeader, folder)\n",
    "GoodCellProperties = DewanIOhandler.load_data_from_disk('GoodCellProperties', fileHeader, folder)\n",
    "CellList = DewanIOhandler.load_data_from_disk('CellList', fileHeader, folder)\n"
   ]
  },
  {
   "cell_type": "code",
   "execution_count": 57,
   "metadata": {},
   "outputs": [
    {
     "name": "stderr",
     "output_type": "stream",
     "text": [
      "Processing: 100%|██████████| 1573515/1573515 [00:01<00:00, 1542126.15it/s]\n",
      "Trial: 100%|██████████| 3/3 [00:00<?, ?it/s]\n"
     ]
    }
   ],
   "source": [
    "# STEP 3A: Parses the final valve data to identify when the final valve is open vs when it is closed based on TTL pulse from Arduino.\n",
    "FinalValveValues = FVData[:, 2].astype(float) # Get FV Values\n",
    "NumberOfValues = len(FinalValveValues)\n",
    "ValveStatus = 0\n",
    "FinalValveOffIndex = []\n",
    "FinalValveOnIndex = []\n",
    "for i in trange((NumberOfValues - 1), desc=\"Processing: \"):\n",
    "    ValveDataDiff = FinalValveValues[i + 1] - FinalValveValues[i]\n",
    "\n",
    "    if ValveStatus == 0:    # Start with valve off\n",
    "        if ValveDataDiff > 10000: # If the difference is a very large positive number, the valve opened\n",
    "            FinalValveOnIndex.append(i + 1)\n",
    "            ValveStatus = 1 # Set valve state to open\n",
    "    else:\n",
    "        if ValveDataDiff < -10000: # If the difference is a very large negative number, the valve closed\n",
    "            FinalValveOffIndex.append(i)\n",
    "            ValveStatus = 0 # Set valve state to closed\n",
    "\n",
    "FinalValveOffIndex = np.array(FinalValveOffIndex)  # convert list to np array\n",
    "FinalValveOnIndex = np.array(FinalValveOnIndex)\n",
    "\n",
    "# # STEP 3B.1: Find trial start and end times with the pre/post trial offsets\n",
    "TrialStartTimes = FVData[FinalValveOnIndex, 0].astype(float)\n",
    "TrialEndTimes = FVData[FinalValveOffIndex, 0].astype(float)\n",
    "\n",
    "# STEP 3B.2: Find the start/end indexes for the CellTrace data based on the closest time points for each trial\n",
    "# NOTE: Needed because the sample rate of the GPIO and the Endoscope are different, so the time points do not always perfectly line up\n",
    "# Occasionally, you will get trials that are 1 longer/shorter than each other due to this mismatch\n",
    "CellTraceOnIndexes = []\n",
    "CellTraceOffIndexes = []\n",
    "\n",
    "time_points = CellTraceData.index.values\n",
    "\n",
    "for i, each in enumerate(tqdm(TrialStartTimes, desc=\"Trial: \")):\n",
    "    if time_points[-1] < TrialEndTimes[-1] and i == len(TrialStartTimes)-1:\n",
    "        # This is an edge case for when the last trial got cut off early or the experiment crashed\n",
    "        # It checks to see if the EndTime occured after the last available time point\n",
    "        continue\n",
    "    CellTraceOnIndexes.append(np.where(time_points <= each)[0][-1]) # Find first index less than/= the start time. We would always rather start 1 frame early than late\n",
    "    CellTraceOffIndexes.append(np.where(time_points >= TrialEndTimes[i])[0][0]) # Find the first index greater than/= the end time. We would always rather stop 1 frame late than early\n"
   ]
  },
  {
   "cell_type": "code",
   "execution_count": 58,
   "metadata": {},
   "outputs": [
    {
     "name": "stderr",
     "output_type": "stream",
     "text": [
      "Cell: 100%|██████████| 26/26 [00:00<00:00, 2357.11it/s]\n",
      "Trial: 100%|██████████| 3/3 [00:00<00:00, 2993.08it/s]\n"
     ]
    }
   ],
   "source": [
    "# STEP 4A: COMBINE ALL OF THE CELL TRACE DATA INTO A CELL X TRIAL X FRAMES ARRAY\n",
    "longest_trial = np.abs(np.max(np.subtract(CellTraceOffIndexes, CellTraceOnIndexes))).astype(int) # We need to find the longest trial to make an array that can fit all the data\n",
    "CombinedDataArray = np.zeros((len(CellList), len(CellTraceOffIndexes), longest_trial)) # Create an array of zeros that can fit all of the data\n",
    "\n",
    "row_lengths = []\n",
    "\n",
    "for cell in trange(len(CellList), desc=\"Cell: \"): # Loop through each cell\n",
    "    for trial in range(len(CellTraceOnIndexes)): # Loop through each trial\n",
    "        DataSize = (CellTraceOffIndexes[trial] - CellTraceOnIndexes[trial]).astype(int)  # Get length of particular cell-trial combo\n",
    "        row_lengths.append(DataSize) # Save that length\n",
    "        start_index = CellTraceOnIndexes[trial].astype(int)\n",
    "        end_index = CellTraceOffIndexes[trial].astype(int)\n",
    "        CombinedDataArray[cell, trial, :DataSize] = CellTraceData.iloc[start_index:end_index, cell] # Save the data for a particular cell-trial combo into our combined array\n",
    "\n",
    "# STEP 4B: CROP THE ARRAY TO THE SHORTEST TRIAL TO GET RID OF TRAILING ZEROS\n",
    "crop_value = np.min(row_lengths) # Find the shortest trial\n",
    "CombinedDataArray = CombinedDataArray[:, :, :crop_value] # Drop any columns past the crop_value\n",
    "\n",
    "# STEP 4C: BASELINE SHIFT THE DATA SO THERE ARE NO NEGATIVE NUMBERS\n",
    "Combined_Baseline_Shift_Data = CombinedDataArray + abs(np.min(CombinedDataArray))\n",
    "\n",
    "# STEP 4D: GET TIMESTAMPS FOR EACH TRIAL\n",
    "# Note: There are two lists of timestamps.\n",
    "# List 1) FinalValveTimeMap ranges from preTrialTime -> Final Valve On Time -> postTrialTime then the Final Valve On Time is subtracted from the whole list to set the FVOnTime to zero (e.g -3.5 -> 0 -> 3.5)\n",
    "# List 2) All the raw time values in Unix Time Form (Inscopix time output)\n",
    "FinalValveTimeMap = np.zeros((len(CellTraceOffIndexes), longest_trial)) # Map of trial times relative to startTrial time\n",
    "UnixTimeArray = np.zeros((len(CellTraceOffIndexes), longest_trial)) # Map of times per trial in unix time for AUROC\n",
    "\n",
    "for trial in trange(len(CellTraceOffIndexes), desc=\"Trial: \"): # Loop through each trial\n",
    "    DataSize = (CellTraceOffIndexes[trial] - CellTraceOnIndexes[trial]) # Get length of time for this trial\n",
    "    start_index = CellTraceOnIndexes[trial].astype(int)\n",
    "    end_index = CellTraceOffIndexes[trial].astype(int)\n",
    "    CellTraceTimes = np.array(CellTraceData.index.values[start_index:end_index]).astype(float) # Get time range for trial\n",
    "\n",
    "    offset = float(FVData[FinalValveOnIndex[trial], 0]) # Get the FV on Time for this trial to use as an offset value\n",
    "    row = DataSize.astype(int) # get row length as an int\n",
    "\n",
    "    FinalValveTimeMap[trial, :row] = CellTraceTimes - offset # Save the trial times offset by the final valve on time (0s)\n",
    "    UnixTimeArray[trial, :row] = CellTraceTimes # Save the UNIX times for the trial without the offset\n",
    "\n",
    "# STEP 4E: CROP THE ARRAYs TO THE SHORTEST TRIAL TO GET RID OF TRAILING ZEROS\n",
    "FinalValveTimeMap = FinalValveTimeMap[:, :crop_value] # Drop any column past the crop value\n",
    "UnixTimeArray = UnixTimeArray[:, :crop_value] # Drop any column past the crop value\n"
   ]
  },
  {
   "cell_type": "code",
   "execution_count": 59,
   "metadata": {},
   "outputs": [
    {
     "name": "stderr",
     "output_type": "stream",
     "text": [
      "Writing Cell: 100%|██████████| 26/26 [00:08<00:00,  3.00it/s]\n"
     ]
    }
   ],
   "source": [
    "# STEP 5B: CREATE TABLE OF CONTENTS FOR CELL DESCRIPTORS\n",
    "columnNames = ['CentroidX', 'CentroidY', 'NumComponents', 'Size']\n",
    "TableOfContents = pd.DataFrame(GoodCellProperties.iloc[:, 5:9], index = CellList, columns=columnNames)\n",
    "\n",
    "# STEP 5C: SET FILE PATH AND CREATE EXCEL-SHEET WRITER\n",
    "folder = ['HF_FM_Analysis', 'CombinedData']\n",
    "file_name = f'{fileHeader}CombinedData.xlsx'\n",
    "path = Path(*folder).joinpath(file_name)\n",
    "\n",
    "writer = pd.ExcelWriter(path, engine='xlsxwriter')\n",
    "\n",
    "# STEP 5D: WRITE TABLE OF CONTENTS\n",
    "TableOfContents.to_excel(writer, sheet_name='TOC')\n",
    "\n",
    "# STEP 5E: WRITE FINAL VALVE TIME MAP FOR ALL TRIALS\n",
    "timeColumns = np.arange(FinalValveTimeMap.shape[1]) # Columns are 0 -> n frames\n",
    "timeIndex = np.arange(1, FinalValveTimeMap.shape[0] + 1) # Rows are 1 -> number Trials\n",
    "TimeMapSheet = pd.DataFrame(FinalValveTimeMap, index = timeIndex, columns=timeColumns)\n",
    "TimeMapSheet.to_excel(writer, sheet_name='TimeMap')\n",
    "\n",
    "# STEP 5F: WRITE ALL CELL TRACE DATA\n",
    "for i in trange(len(CellList), desc=\"Writing Cell: \"):\n",
    "    DataDF = pd.DataFrame(Combined_Baseline_Shift_Data[i][:][:])\n",
    "    DataDF.to_excel(writer, sheet_name='Cell %d' % CellList[i])\n",
    "\n",
    "writer.close()"
   ]
  },
  {
   "cell_type": "code",
   "execution_count": 60,
   "metadata": {},
   "outputs": [],
   "source": [
    "z_scored_data = DewanDeconv.z_score_data(Combined_Baseline_Shift_Data)"
   ]
  },
  {
   "cell_type": "code",
   "execution_count": 75,
   "metadata": {},
   "outputs": [],
   "source": [
    "peak_args = {\n",
    "    'width': 400, #ms\n",
    "    'distance': 100, #ms\n",
    "    'height': 1 # SD\n",
    "}\n",
    "\n",
    "denoised_data, peaks = DewanDeconv.deconvolve_traces(z_scored_data, 20, peak_args)"
   ]
  },
  {
   "cell_type": "code",
   "execution_count": 70,
   "metadata": {},
   "outputs": [],
   "source": [
    "import matplotlib.pyplot as plt"
   ]
  },
  {
   "cell_type": "code",
   "execution_count": 76,
   "metadata": {},
   "outputs": [
    {
     "ename": "AttributeError",
     "evalue": "'Figure' object has no attribute 'close'",
     "output_type": "error",
     "traceback": [
      "\u001b[1;31m---------------------------------------------------------------------------\u001b[0m",
      "\u001b[1;31mAttributeError\u001b[0m                            Traceback (most recent call last)",
      "Cell \u001b[1;32mIn[76], line 6\u001b[0m\n\u001b[0;32m      4\u001b[0m ax[j]\u001b[38;5;241m.\u001b[39mplot(trace)\n\u001b[0;32m      5\u001b[0m fig\u001b[38;5;241m.\u001b[39msavefig(\u001b[38;5;124mf\u001b[39m\u001b[38;5;124m'\u001b[39m\u001b[38;5;124mHF_FM_Analysis\u001b[39m\u001b[38;5;130;01m\\\\\u001b[39;00m\u001b[38;5;132;01m{\u001b[39;00mi\u001b[38;5;132;01m}\u001b[39;00m\u001b[38;5;124m.png\u001b[39m\u001b[38;5;124m'\u001b[39m)\n\u001b[1;32m----> 6\u001b[0m \u001b[43mfig\u001b[49m\u001b[38;5;241;43m.\u001b[39;49m\u001b[43mclose\u001b[49m()\n",
      "\u001b[1;31mAttributeError\u001b[0m: 'Figure' object has no attribute 'close'"
     ]
    },
    {
     "data": {
      "image/png": "[encoded data removed]",
      "text/plain": [
       "<Figure size 640x480 with 3 Axes>"
      ]
     },
     "metadata": {},
     "output_type": "display_data"
    }
   ],
   "source": [
    "for i, each in enumerate(z_scored_data):\n",
    "    fig, ax = plt.subplots(3)\n",
    "    for j, trace in enumerate(each):\n",
    "        ax[j].plot(trace)\n",
    "        fig.savefig(f'HF_FM_Analysis\\\\{i}.png')\n"
   ]
  },
  {
   "cell_type": "code",
   "execution_count": null,
   "metadata": {},
   "outputs": [],
   "source": []
  }
 ],
 "metadata": {
  "kernelspec": {
   "display_name": "dev",
   "language": "python",
   "name": "python3"
  },
  "language_info": {
   "codemirror_mode": {
    "name": "ipython",
    "version": 3
   },
   "file_extension": ".py",
   "mimetype": "text/x-python",
   "name": "python",
   "nbconvert_exporter": "python",
   "pygments_lexer": "ipython3",
   "version": "3.10.13"
  }
 },
 "nbformat": 4,
 "nbformat_minor": 2
}
