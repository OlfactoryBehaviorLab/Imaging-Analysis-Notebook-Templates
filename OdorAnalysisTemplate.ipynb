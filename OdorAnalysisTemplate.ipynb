{
 "cells": [
  {
   "cell_type": "markdown",
   "id": "1daf917d-f5f9-42ea-baaa-08fcf28b43ce",
   "metadata": {
    "tags": []
   },
   "source": [
    "\n",
    "# Dewan Lab Image Analysis"
   ]
  },
  {
   "attachments": {},
   "cell_type": "markdown",
   "id": "917d0bf4-3426-4326-911d-9a9e0cd1ed80",
   "metadata": {
    "tags": []
   },
   "source": [
    "## 0: Run once to create all needed directories at beginning of a project"
   ]
  },
  {
   "cell_type": "code",
   "execution_count": null,
   "id": "c884c75e-38a9-431e-8e99-0d8f9fdd85d4",
   "metadata": {},
   "outputs": [],
   "source": [
    "from dewan_calcium.helpers import DewanIOhandler\n",
    "DewanIOhandler.create_project_framework()"
   ]
  },
  {
   "attachments": {},
   "cell_type": "markdown",
   "id": "a1ba1747-903f-4eac-8a48-84b44728f3e7",
   "metadata": {
    "tags": []
   },
   "source": [
    "## STEP 1: Always Execute! Load Libraries and User Settings"
   ]
  },
  {
   "attachments": {},
   "cell_type": "markdown",
   "id": "6d1aec8e-a365-49a6-b3ab-d67525a65bdb",
   "metadata": {
    "tags": []
   },
   "source": [
    "### STEP 1A: Import Libraries"
   ]
  },
  {
   "cell_type": "code",
   "execution_count": null,
   "id": "48174929-fd1b-48cc-ab99-9ff1bcd9f06e",
   "metadata": {
    "tags": []
   },
   "outputs": [],
   "source": [
    "import numpy as np\n",
    "import pandas as pd\n",
    "from pathlib import Path\n",
    "from tqdm import tqdm, trange\n",
    "from dewan_calcium.helpers import DewanDataStore, DewanIOhandler\n",
    "from dewan_calcium import DewanAUROC, DewanPlotting, DewanStats, DewanManualCuration"
   ]
  },
  {
   "attachments": {},
   "cell_type": "markdown",
   "id": "d57a7bb0-be75-4f25-b35d-6732d0ea7dfa",
   "metadata": {
    "tags": []
   },
   "source": [
    "### STEP 1B: User Configurables"
   ]
  },
  {
   "cell_type": "code",
   "execution_count": null,
   "id": "5d8f7883-7544-4c8d-a2e3-32da1e3ee795",
   "metadata": {},
   "outputs": [],
   "source": [
    "animal = 'ANIMAL_GOES_HERE'\n",
    "date = 'DATE_GOES_HERE'\n",
    "\n",
    "# Settings from Inscopix box\n",
    "LED_power = 1\n",
    "GAIN = 2.2\n",
    "FOCUS = 250\n",
    "\n",
    "PreTrialTime = 3.5  # Imaging time before the final valve opens\n",
    "PostTrialTime = 3.5  # Imaging time after final valve closes\n",
    "\n",
    "\n",
    "# Configurables for AUROC\n",
    "baselineDuration = 2  # number of seconds before the FV turns on\n",
    "responseDuration = 2  # number of seconds after the FV turns off\n",
    "PlotFigures = True\n",
    "\n",
    "fileHeader = animal + '-' + date + '-'\n"
   ]
  },
  {
   "attachments": {},
   "cell_type": "markdown",
   "id": "333708ce-48b1-4382-9e74-a6ae099f190c",
   "metadata": {
    "tags": []
   },
   "source": [
    "## STEP 2: Data Import and Preprocessing"
   ]
  },
  {
   "attachments": {},
   "cell_type": "markdown",
   "id": "85f73484-fb78-4bef-8328-bd312d9abbc3",
   "metadata": {
    "tags": []
   },
   "source": [
    "### 2A: Import and pre-process the raw data\n",
    "#### Copy output of InscopixProcessing -> ImagingAnalysis\\RawData and rename the files as below\n",
    "##### Copy: video-TRACES.csv, video-props.csv, video-CONTOURS.json, video-GPIO.csv, video-HD-MAX_PROJ.tiff, OdorList.xlxs\n",
    "##### Rename Files Respectively: CellTraces.csv, Props.csv, Cell_Contours.json, GPIO.csv, Max_Projection.tiff, OdorList.xlxs"
   ]
  },
  {
   "cell_type": "code",
   "execution_count": null,
   "id": "bf362d85b9787336",
   "metadata": {
    "collapsed": false
   },
   "outputs": [],
   "source": [
    "#STEP 2A.1: LOAD ALL DATA\n",
    "# Read in data for processing.  Needs Cell Traces, Odor List, and GPIO file.\n",
    "folder_path = Path(*['ImagingAnalysis','RawData'])\n",
    "\n",
    "CellTraceData = pd.read_csv(folder_path.joinpath('CellTraces.csv'), engine='pyarrow')\n",
    "OdorData = np.array(pd.read_excel(folder_path.joinpath('OdorList.xlsx'), usecols=[0], header=None)) # usecols=[0] because we only care about the first column which has the odornames, row number == trial number\n",
    "GPIOData = pd.read_csv(folder_path.joinpath('GPIO.csv'), header=None, engine='pyarrow')\n",
    "AllCellProps = pd.read_csv(folder_path.joinpath('Props.csv'), header=0, engine='pyarrow') # header = 0 because row 0 has all the property names\n",
    "CellKeys, CellOutlines = DewanIOhandler.get_outline_coordinates(folder_path.joinpath('Cell_Contours.json')) # Load cell outlines from JSON file\n",
    "MaxProjectionImagePath = folder_path.joinpath('Max_Projection.tiff') # Create path for Max Projection image for later"
   ]
  },
  {
   "cell_type": "code",
   "execution_count": 90,
   "id": "564869ab794b4e59",
   "metadata": {
    "collapsed": false
   },
   "outputs": [],
   "source": [
    "# STEP 2A.2: PREPROCESSING\n",
    "\n",
    "# STEP 2A.2.1: Drop the first row which contains all 'undecided' labels which is the Inscopix default label.\n",
    "CellTraceData.drop([0], inplace=True)\n",
    "\n",
    "# STEP 2A.2.2: Force all dF/F values to be numbers and round times to 2 decimal places\n",
    "CellTraceData = CellTraceData.apply(pd.to_numeric, errors='coerce')\n",
    "# Set the times as the index so the listed data is all dF/F values\n",
    "CellTraceData[CellTraceData.columns[0]] = CellTraceData[CellTraceData.columns[0]].round(2)\n",
    "CellTraceData.set_index(CellTraceData.columns[0], inplace=True)\n",
    "\n",
    "# STEP 2A.2.3: Remove spaces from column names\n",
    "CellTraceData.columns = [key.replace(' ', '') for key in CellTraceData.columns.values]\n",
    "\n",
    "# STEP 2A.2.4: REMOVE ALL MULTI-COMPONENT CELLS\n",
    "# Generate a list of cell numbers based off the number of cells\n",
    "CellList = np.arange(len(AllCellProps['NumComponents'])) # Example Cell Numbers: 0, 1, 2, 3, 4\n",
    "# Get indices where there are only one cell part\n",
    "OnePieceCells = np.where(AllCellProps['NumComponents'] == 1)[0] # Example One-Component Indexes: 0, 1, 4\n",
    "# Filter out all the multi-component cells, leaving only the one-piece cells\n",
    "CellList = CellList[OnePieceCells] # Example Filtered Cell Numbers: 0, 1 ,4\n",
    "CellKeys = CellKeys[OnePieceCells] # Example Filtered Cell Keys, C00, C01, C04\n",
    "AllCellProps = AllCellProps.iloc[OnePieceCells] # Filter out two-piece cells as above\n",
    "\n",
    "# STEP 2A.2.5: PARSE GPIO DATA\n",
    "GPIOData.iloc[:, 1] = GPIOData.iloc[:, 1].str.replace(' ', '')  # Remove Random Spaces in Data\n",
    "GPIO1 = np.array(GPIOData.iloc[:, 1] == \"GPIO-1\")  # Get Sniff Sensor Data Truth Table\n",
    "GPIO2 = np.array(GPIOData.iloc[:, 1] == \"GPIO-2\")  # Get FV Actuation Data Truth Table\n",
    "SniffTable = np.array(GPIOData.iloc[GPIO1,:]) # Create an array with Sniff values only\n",
    "FVData = np.array(GPIOData.iloc[GPIO2,:]) # Create an array with FV values only\n",
    "\n",
    "# STEP 2A.2.6: Make all numeric values floats and remove nullbytes\n",
    "\n",
    "remove_null_bytes = lambda item: item.split('\\x00')[0]\n",
    "# For some reason the data will occassionally contain a very long string of null bytes '\\\\x00'\n",
    "# this will remove everything after the null bytes,\n",
    "\n",
    "# Iterate over each item and remove the nullbytes; simultaneously cast values to floats\n",
    "FVData[:, 0] = np.fromiter(map(remove_null_bytes, FVData[:, 0]), 'float')\n",
    "FVData[:, 2] = np.fromiter(map(remove_null_bytes, FVData[:, 2]), 'float')\n",
    "\n",
    "SniffTable[:, 0] = np.fromiter(map(remove_null_bytes, SniffTable[:, 0]), 'float')\n",
    "SniffTable[:, 2] = np.fromiter(map(remove_null_bytes, SniffTable[:, 2]), 'float')\n",
    "\n",
    "# OPTIONAL UNUSED DATA\n",
    "# GPIO3 = np.array(GPIOData.iloc[:,1] == \"GPIO-3\")  # Running Wheel Data\n",
    "# GPIO4 = np.array(GPIOData.iloc[:,1] == \"GPIO-4\")  # Lick Data"
   ]
  },
  {
   "cell_type": "markdown",
   "id": "1bc73833cc7640d5",
   "metadata": {
    "collapsed": false
   },
   "source": [
    "### STEP 2B: Manual Curation"
   ]
  },
  {
   "cell_type": "code",
   "execution_count": 6,
   "id": "de8e82bd-0c23-432f-a462-69835dce5805",
   "metadata": {
    "collapsed": false
   },
   "outputs": [],
   "source": [
    "# STEP 2B.1: Load the Maximum Projection Image, draw the cell outlines and labels, and output labeled image\n",
    "MaxProjectionImage = DewanManualCuration.generate_max_projection(MaxProjectionImagePath, AllCellProps, CellKeys, CellOutlines, return_raw_image=False)\n",
    "# generate_max_projection(ImagePath, AllCellProps, CellKeys, CellOutlines, return_raw_iamge, is_downsampled=False, downsample_factor=4, brightness=1.5, contrast=1.5, font_size=24, text_color='red', outline_color='yellow', outline_width=2):\n",
    "# Optional configuration values that are set by default, change as desired\n",
    "# Note: Set save_image=True to output a max projection with all cells detected by CNMFE regardless if they are good cells or not\n",
    "\n",
    "# STEP 2B.2: Run ManualCuration GUI\n",
    "GoodCells = DewanManualCuration.manual_curation_gui(CellList, CellTraceData, MaxProjectionImage)\n",
    "if GoodCells is None:\n",
    "    print('Error, no good cells selected!')"
   ]
  },
  {
   "cell_type": "markdown",
   "id": "aaa47058cc676612",
   "metadata": {
    "collapsed": false
   },
   "source": [
    "### STEP 2C: Apply Manual Curation Results and Additional Preprocessing"
   ]
  },
  {
   "cell_type": "code",
   "execution_count": 7,
   "id": "cbe5b11c0eab4fd1",
   "metadata": {
    "collapsed": false
   },
   "outputs": [],
   "source": [
    "# STEP 2C.1: Filter all data by the GoodCells identified in ManualCuration\n",
    "GoodCellProperties = AllCellProps.iloc[GoodCells,:]\n",
    "GoodCellProperties.reset_index() # Resets index to 0 -> len(GoodCellProperties)\n",
    "CellList = CellList[GoodCells]\n",
    "CellKeys = CellKeys[GoodCells]\n",
    "GoodCellTraceData = CellTraceData.iloc[:, GoodCells]\n"
   ]
  },
  {
   "cell_type": "code",
   "execution_count": 20,
   "id": "73ebf45a",
   "metadata": {},
   "outputs": [],
   "source": [
    "# STEP 2C.2: OUTPUT MAX PROJECTION IMAGE WITH CONTOURS OF GOOD CELLS\n",
    "image = DewanManualCuration.generate_max_projection(MaxProjectionImagePath, GoodCellProperties, CellKeys, CellOutlines, return_raw_image=True)\n",
    "# generate_max_projection(ImagePath, AllCellProps, CellKeys, CellOutlines, return_raw_image, brightness=1.5, contrast=1.5, font_size=24, text_color='red', outline_color='yellow', outline_width=2):\n",
    "# Optional configuration values that are set by default, change as desired\n"
   ]
  },
  {
   "cell_type": "markdown",
   "id": "8676610888de842e",
   "metadata": {
    "collapsed": false
   },
   "source": [
    "### STEP 2D: Pickle and Save all preprocessed data"
   ]
  },
  {
   "cell_type": "code",
   "execution_count": null,
   "id": "4022ffb995a28bb8",
   "metadata": {
    "collapsed": false
   },
   "outputs": [],
   "source": [
    "# Pickle the reorganized CellTraceData incase its needed later\n",
    "# Saves Cell Traces, GPIO, Odor List, Sniff, FV data, Good Cell Properties, and the list of Good Cells\n",
    "# Once these have been saved, they don't need to be re-run on the same data again unless the data itself is changed\n",
    "\n",
    "folder = ['ImagingAnalysis', 'PreProcessedData']\n",
    "\n",
    "DewanIOhandler.save_data_to_disk(GoodCellTraceData, 'GoodCellTraceData', fileHeader, folder)\n",
    "DewanIOhandler.save_data_to_disk(GPIOData, 'GPIOData', fileHeader, folder)\n",
    "DewanIOhandler.save_data_to_disk(OdorData, 'OdorData', fileHeader, folder)\n",
    "DewanIOhandler.save_data_to_disk(FVData, 'FVdata', fileHeader, folder)\n",
    "DewanIOhandler.save_data_to_disk(GoodCellProperties, 'GoodCellProperties', fileHeader, folder)\n",
    "DewanIOhandler.save_data_to_disk(CellList, 'CellList', fileHeader, folder)\n",
    "DewanIOhandler.save_data_to_disk(SniffTable, 'SniffTable', fileHeader, folder)"
   ]
  },
  {
   "attachments": {},
   "cell_type": "markdown",
   "id": "1ba952d5-9392-413e-bf3a-49086c6a583f",
   "metadata": {
    "tags": []
   },
   "source": [
    "### Checkpoint 1: Load Preprocessed Data"
   ]
  },
  {
   "cell_type": "code",
   "execution_count": null,
   "id": "0e1a40e5-f3cc-432c-a415-0dbc157caa00",
   "metadata": {},
   "outputs": [],
   "source": [
    "# Opens the saved pickle files.  If the files have already been saved, code can be re-run\n",
    "# starting from this point\n",
    "\n",
    "folder = ['ImagingAnalysis', 'PreProcessedData']\n",
    "\n",
    "CellTraceData = DewanIOhandler.load_data_from_disk('GoodCellTraceData', fileHeader, folder)\n",
    "FVData = DewanIOhandler.load_data_from_disk('FVData', fileHeader, folder)\n",
    "GPIOData = DewanIOhandler.load_data_from_disk('GPIOData', fileHeader, folder)\n",
    "OdorData = DewanIOhandler.load_data_from_disk('OdorData', fileHeader, folder)\n",
    "SniffTable = DewanIOhandler.load_data_from_disk('SniffTable', fileHeader, folder)\n",
    "GoodCellProperties = DewanIOhandler.load_data_from_disk('GoodCellProperties', fileHeader, folder)\n",
    "CellList = DewanIOhandler.load_data_from_disk('CellList', fileHeader, folder)\n"
   ]
  },
  {
   "attachments": {},
   "cell_type": "markdown",
   "id": "945f4f52",
   "metadata": {},
   "source": [
    "## STEP 3: Indexing and Aligning FV/Sniff/CellTrace Data"
   ]
  },
  {
   "cell_type": "code",
   "execution_count": null,
   "id": "5379c99c58c3fb3",
   "metadata": {
    "collapsed": false
   },
   "outputs": [],
   "source": [
    "# STEP 3A: Parses the final valve data to identify when the final valve is open vs when it is closed based on TTL pulse from Arduino.\n",
    "FinalValveValues = FVData[:, 2].astype(float) # Get FV Values\n",
    "NumberOfValues = len(FinalValveValues)\n",
    "ValveStatus = 0\n",
    "FinalValveOffIndex = []\n",
    "FinalValveOnIndex = []\n",
    "for i in trange((NumberOfValues - 1), desc=\"Processing: \"):\n",
    "    ValveDataDiff = FinalValveValues[i + 1] - FinalValveValues[i]\n",
    "\n",
    "    if ValveStatus == 0:    # Start with valve off\n",
    "        if ValveDataDiff > 10000: # If the difference is a very large positive number, the valve opened\n",
    "            FinalValveOnIndex.append(i + 1)\n",
    "            ValveStatus = 1 # Set valve state to open\n",
    "    else:\n",
    "        if ValveDataDiff < -10000: # If the difference is a very large negative number, the valve closed\n",
    "            FinalValveOffIndex.append(i)\n",
    "            ValveStatus = 0 # Set valve state to closed\n",
    "\n",
    "FinalValveOffIndex = np.array(FinalValveOffIndex)  # convert list to np array\n",
    "FinalValveOnIndex = np.array(FinalValveOnIndex)\n",
    "\n",
    "# STEP 3B.1: Find trial start and end times with the pre/post trial offsets\n",
    "TrialStartTimes = np.subtract(FVData[FinalValveOnIndex, 0].astype(float), PreTrialTime)\n",
    "TrialEndTimes = np.add(FVData[FinalValveOffIndex, 0].astype(float), PostTrialTime)\n",
    "\n",
    "# STEP 3B.2: Find the start/end indexes for the CellTrace data based on the closest time points for each trial\n",
    "# NOTE: Needed because the sample rate of the GPIO and the Endoscope are different, so the time points do not always perfectly line up\n",
    "# Occasionally, you will get trials that are 1 longer/shorter than each other due to this mismatch\n",
    "CellTraceOnIndexes = []\n",
    "CellTraceOffIndexes = []\n",
    "\n",
    "time_points = CellTraceData.index.values\n",
    "\n",
    "for i, each in enumerate(tqdm(TrialStartTimes, desc=\"Trial: \")):\n",
    "    if time_points[-1] < TrialEndTimes[-1] and i == len(TrialStartTimes)-1:\n",
    "        # This is an edge case for when the last trial got cut off early or the experiment crashed\n",
    "        # It checks to see if the EndTime occured after the last available time point\n",
    "        continue\n",
    "    CellTraceOnIndexes.append(np.where(time_points <= each)[0][-1]) # Find first index less than/= the start time. We would always rather start 1 frame early than late\n",
    "    CellTraceOffIndexes.append(np.where(time_points >= TrialEndTimes[i])[0][0]) # Find the first index greater than/= the end time. We would always rather stop 1 frame late than early\n",
    "\n",
    "# STEP 3C: Find the start/end indexes for the SNIFF data based on the closest time points for each trial\n",
    "# # Compiles data for sniffing from good trialss\n",
    "SniffingStartIndexes = []\n",
    "SniffingEndIndexes = []\n",
    "\n",
    "time_points = SniffTable[:,0].astype(float) # Dunno why, but converting these floats -> floats makes this run way faster?\n",
    "\n",
    "for i in trange(len(FinalValveOnIndex), desc=\"Sniff Trial: \"):\n",
    "    if time_points[-1] < TrialEndTimes[-1] and i == len(TrialStartTimes)-1:\n",
    "        # This is an edge case for when the last trial got cut off early or the experiment crashed\n",
    "        # It checks to see if the EndTime occured after the last available time point\n",
    "        continue\n",
    "    SniffingStartIndexes.append(np.where(time_points <= TrialStartTimes[i])[0][-1]) # Find first index less than/= the start time. We would always rather start 1 frame early than late\n",
    "    SniffingEndIndexes.append(np.where(time_points >= TrialEndTimes[i])[0][0]) # Find the first index greater than/= the end time. We would always rather stop 1 frame late than early\n",
    "\n",
    "# STEP 3D: TRIM ODOR LIST\n",
    "OdorData = OdorData[:len(CellTraceOnIndexes)] # If any trials on the end are cut off, we need to trim them from the list\n",
    "\n",
    "# STEP 3E: SAVE SNIFF DATA INTO SEPARATE FILE, CURRENTLY BROKEN, DON'T USE\n",
    "# SniffData = np.zeros((NumSniffPoints.astype(int), len(SniffingStartIndexes)))\n",
    "#\n",
    "# for j in trange(len(SniffingStartIndexes), desc=\"Trial: \"):\n",
    "#     SniffLength = SniffingEndIndexes[j] - SniffingStartIndexes[j]\n",
    "#     SniffData[0:int(SniffLength), j] = SniffTable[SniffingStartIndexes[j].astype(int):SniffingEndIndexes[j].astype(int), 2]\n",
    "#\n",
    "# DewanIOhandler.saveDataToDisk(\n",
    "#     SniffData, 'SniffData', fileHeader, 'PreProcessedData')\n"
   ]
  },
  {
   "attachments": {},
   "cell_type": "markdown",
   "id": "1ff6cfc3-3ede-47d2-a77f-5ef5bf1e6d66",
   "metadata": {
    "tags": []
   },
   "source": [
    "## STEP 4: Gather all cell v. time v. trial data into single array"
   ]
  },
  {
   "cell_type": "code",
   "execution_count": null,
   "id": "717ce6fea5b975fe",
   "metadata": {
    "collapsed": false
   },
   "outputs": [],
   "source": [
    "# STEP 4A: COMBINE ALL OF THE CELL TRACE DATA INTO A CELL X TRIAL X FRAMES ARRAY\n",
    "longest_trial = np.abs(np.max(np.subtract(CellTraceOffIndexes, CellTraceOnIndexes))).astype(int) # We need to find the longest trial to make an array that can fit all the data\n",
    "CombinedDataArray = np.zeros((len(CellList), len(CellTraceOffIndexes), longest_trial)) # Create an array of zeros that can fit all of the data\n",
    "\n",
    "row_lengths = []\n",
    "\n",
    "for cell in trange(len(CellList), desc=\"Cell: \"): # Loop through each cell\n",
    "    for trial in range(len(CellTraceOnIndexes)): # Loop through each trial\n",
    "        DataSize = (CellTraceOffIndexes[trial] - CellTraceOnIndexes[trial]).astype(int)  # Get length of particular cell-trial combo\n",
    "        row_lengths.append(DataSize) # Save that length\n",
    "        start_index = CellTraceOnIndexes[trial].astype(int)\n",
    "        end_index = CellTraceOffIndexes[trial].astype(int)\n",
    "        CombinedDataArray[cell, trial, :DataSize] = CellTraceData.iloc[start_index:end_index, cell] # Save the data for a particular cell-trial combo into our combined array\n",
    "\n",
    "# STEP 4B: CROP THE ARRAY TO THE SHORTEST TRIAL TO GET RID OF TRAILING ZEROS\n",
    "crop_value = np.min(row_lengths) # Find the shortest trial\n",
    "CombinedDataArray = CombinedDataArray[:, :, :crop_value] # Drop any columns past the crop_value\n",
    "\n",
    "# STEP 4C: BASELINE SHIFT THE DATA SO THERE ARE NO NEGATIVE NUMBERS\n",
    "Combined_Baseline_Shift_Data = CombinedDataArray + abs(np.min(CombinedDataArray))\n",
    "\n",
    "# STEP 4D: GET TIMESTAMPS FOR EACH TRIAL\n",
    "# Note: There are two lists of timestamps.\n",
    "# List 1) FinalValveTimeMap ranges from preTrialTime -> Final Valve On Time -> postTrialTime then the Final Valve On Time is subtracted from the whole list to set the FVOnTime to zero (e.g -3.5 -> 0 -> 3.5)\n",
    "# List 2) All the raw time values in Unix Time Form (Inscopix time output)\n",
    "FinalValveTimeMap = np.zeros((len(CellTraceOffIndexes), longest_trial)) # Map of trial times relative to startTrial time\n",
    "UnixTimeArray = np.zeros((len(CellTraceOffIndexes), longest_trial)) # Map of times per trial in unix time for AUROC\n",
    "\n",
    "for trial in trange(len(CellTraceOffIndexes), desc=\"Trial: \"): # Loop through each trial\n",
    "    DataSize = (CellTraceOffIndexes[trial] - CellTraceOnIndexes[trial]) # Get length of time for this trial\n",
    "    start_index = CellTraceOnIndexes[trial].astype(int)\n",
    "    end_index = CellTraceOffIndexes[trial].astype(int)\n",
    "    CellTraceTimes = np.array(CellTraceData.index.values[start_index:end_index]).astype(float) # Get time range for trial\n",
    "\n",
    "    offset = float(FVData[FinalValveOnIndex[trial], 0]) # Get the FV on Time for this trial to use as an offset value\n",
    "    row = DataSize.astype(int) # get row length as an int\n",
    "\n",
    "    FinalValveTimeMap[trial, :row] = CellTraceTimes - offset # Save the trial times offset by the final valve on time (0s)\n",
    "    UnixTimeArray[trial, :row] = CellTraceTimes # Save the UNIX times for the trial without the offset\n",
    "\n",
    "# STEP 4E: CROP THE ARRAYs TO THE SHORTEST TRIAL TO GET RID OF TRAILING ZEROS\n",
    "FinalValveTimeMap = FinalValveTimeMap[:, :crop_value] # Drop any column past the crop value\n",
    "UnixTimeArray = UnixTimeArray[:, :crop_value] # Drop any column past the crop value\n"
   ]
  },
  {
   "cell_type": "markdown",
   "id": "b87d73f861d55020",
   "metadata": {
    "collapsed": false
   },
   "source": [
    "## STEP 5: SAVE THE COMBINED DATA\n",
    "##### The combined data file contains a Table of Contents with the contour information for each cell, a TimeStamp map (rows -> trial; columns -> frames), and then a tab for each cell with the rows labeled with the odor for that particular trial, and columns are frames."
   ]
  },
  {
   "cell_type": "code",
   "execution_count": null,
   "id": "216dbef78f303fc6",
   "metadata": {
    "collapsed": false
   },
   "outputs": [],
   "source": [
    "# STEP 5A: CREATE LIST OF ODORS TO WRITE TO FILE\n",
    "last_odor_index = Combined_Baseline_Shift_Data.shape[1] # If any trials at the end got skipped, we need to crop the odor list as well\n",
    "Odors = [odor[0] for odor in OdorData[:last_odor_index]]\n",
    "\n",
    "# STEP 5B: CREATE TABLE OF CONTENTS FOR CELL DESCRIPTORS\n",
    "columnNames = ['CentroidX', 'CentroidY', 'NumComponents', 'Size']\n",
    "TableOfContents = pd.DataFrame(GoodCellProperties.iloc[:, 5:9], index = CellList, columns=columnNames)\n",
    "\n",
    "# STEP 5C: SET FILE PATH AND CREATE EXCEL-SHEET WRITER\n",
    "folder = ['ImagingAnalysis', 'CombinedData']\n",
    "file_name = f'{fileHeader}CombinedData.xlsx'\n",
    "path = Path(*folder).joinpath(file_name)\n",
    "\n",
    "writer = pd.ExcelWriter(path, engine='xlsxwriter')\n",
    "\n",
    "# STEP 5D: WRITE TABLE OF CONTENTS\n",
    "TableOfContents.to_excel(writer, sheet_name='TOC')\n",
    "\n",
    "# STEP 5E: WRITE FINAL VALVE TIME MAP FOR ALL TRIALS\n",
    "timeColumns = np.arange(FinalValveTimeMap.shape[1]) # Columns are 0 -> n frames\n",
    "timeIndex = np.arange(1, FinalValveTimeMap.shape[0] + 1) # Rows are 1 -> number Trials\n",
    "TimeMapSheet = pd.DataFrame(FinalValveTimeMap, index = timeIndex, columns=timeColumns)\n",
    "TimeMapSheet.to_excel(writer, sheet_name='TimeMap')\n",
    "\n",
    "# STEP 5F: WRITE ALL CELL TRACE DATA\n",
    "for i in trange(len(CellList), desc=\"Writing Cell: \"):\n",
    "    DataDF = pd.DataFrame(Combined_Baseline_Shift_Data[i][:][:], Odors)\n",
    "    DataDF.to_excel(writer, sheet_name='Cell %d' % CellList[i])\n",
    "\n",
    "writer.close()\n",
    "\n",
    "# STEP 5G: ORGANIZE AND WRITE SNIFF DATA TO FILE\n",
    "# headers = []\n",
    "# for i in range(len(SniffData[0,:])):\n",
    "#     headers.append('Trial ' + str(i))\n",
    "#     SniffDF = pd.DataFrame(SniffData)\n",
    "#     sniff_path = f'./CombinedData/{fileHeader}/SniffData.xlsx'\n",
    "#     SniffDF.to_excel(sniff_path, sheet_name = 'Data', header=headers)"
   ]
  },
  {
   "cell_type": "markdown",
   "id": "875be4dfc910f64",
   "metadata": {
    "collapsed": false
   },
   "source": [
    "### STEP 5H: Save information needed for AUROC\n",
    "##### The combined data excel sheet is saved to __./ImagingAnalysis/CombinedData/__\n",
    "##### Any data needed for the AUROC analysis that has not been saved will be saved in __./ImagingAnalysis/AUROCImports__"
   ]
  },
  {
   "cell_type": "code",
   "execution_count": null,
   "id": "d191fea68a3354a4",
   "metadata": {
    "collapsed": false
   },
   "outputs": [],
   "source": [
    "folder = ['ImagingAnalysis', 'CombinedData']\n",
    "DewanIOhandler.save_data_to_disk(CombinedDataArray, 'CombinedData', fileHeader, folder)\n",
    "\n",
    "folder = ['ImagingAnalysis', 'AUROCImports']\n",
    "DewanIOhandler.save_data_to_disk(FinalValveOnIndex, 'FVonIdx', fileHeader, folder)\n",
    "DewanIOhandler.save_data_to_disk(UnixTimeArray, 'UnixTimeArray', fileHeader, folder)\n",
    "DewanIOhandler.save_data_to_disk(FinalValveTimeMap, 'FVTimeMap', fileHeader, folder)\n",
    "DewanIOhandler.save_data_to_disk(OdorData, 'OdorData', fileHeader, folder)\n",
    "DewanIOhandler.save_data_to_disk(Combined_Baseline_Shift_Data, 'Combined_Baseline_Shift_Data', fileHeader, folder)\n"
   ]
  },
  {
   "cell_type": "markdown",
   "id": "37c32f72c0e57286",
   "metadata": {
    "collapsed": false
   },
   "source": []
  },
  {
   "attachments": {},
   "cell_type": "markdown",
   "id": "5785a0e7-4c69-41a6-94f5-7f82b4373234",
   "metadata": {
    "tags": []
   },
   "source": [
    "### Checkpoint 2: Load Data for AUROC"
   ]
  },
  {
   "cell_type": "code",
   "execution_count": null,
   "id": "f51f5276-994e-440c-96fe-93b04ff0c21d",
   "metadata": {},
   "outputs": [],
   "source": [
    "# CombinedDataArray = DewanIOhandler.load_data_from_disk('CombinedData', fileHeader, './ImagingAnalysis/CombinedData')\n",
    "\n",
    "folder = ['ImagingAnalysis', 'PreProcessedData']\n",
    "FVData = DewanIOhandler.load_data_from_disk('FVData', fileHeader, folder)\n",
    "CellList = DewanIOhandler.load_data_from_disk('CellList', fileHeader, folder)\n",
    "\n",
    "folder = ['ImagingAnalysis', 'AUROCImports']\n",
    "FinalValveOnIndex = DewanIOhandler.load_data_from_disk('FVonIdx', fileHeader, folder)\n",
    "UnixTimeArray = DewanIOhandler.load_data_from_disk('UnixTimeArray', fileHeader, folder)\n",
    "OdorData = DewanIOhandler.load_data_from_disk('OdorData', fileHeader, folder)\n",
    "FinalValveTimeMap = DewanIOhandler.load_data_from_disk('FVTimeMap', fileHeader, folder)\n",
    "Combined_Baseline_Shift_Data = DewanIOhandler.load_data_from_disk('Combined_Baseline_Shift_Data', fileHeader, folder)\n"
   ]
  },
  {
   "cell_type": "markdown",
   "id": "e453f7ece5780b7",
   "metadata": {
    "collapsed": false
   },
   "source": [
    "## STEP 6: AUROC\n",
    "### STEP 6A: RUN AUROC"
   ]
  },
  {
   "cell_type": "code",
   "execution_count": null,
   "id": "cc3a36d326fd742",
   "metadata": {
    "collapsed": false
   },
   "outputs": [],
   "source": [
    "# STEP 6A.1: CREATE DATA STORAGE OBJECT FOR ALL THE DATA NEEDED FOR AUROC\n",
    "AUROCData = DewanDataStore.AUROCdataStore(Combined_Baseline_Shift_Data, CellList, OdorData, FVData, fileHeader, FinalValveOnIndex,\n",
    "                                          UnixTimeArray, baselineDuration, responseDuration, PlotFigures)\n",
    "# STEP 6A.2: RUN AUROC FOR ON-TIME CELLS\n",
    "# Note: On time cells are those that respond during the stimulus window (0s-2s)\n",
    "onTimeReturnValues = DewanAUROC.multithread_AUROC(AUROCData, 8, False) # This takes a long time!\n",
    "\n",
    "# # STEP 6A.3: RUN AUROC FOR LATENT CELLS\n",
    "# Note: Latent cells are those that respond immediately after the stimulus window (2s-4s)\n",
    "latentReturnValues = DewanAUROC.multithread_AUROC(AUROCData, 8, True)"
   ]
  },
  {
   "cell_type": "markdown",
   "id": "ee0737f71a49d8b6",
   "metadata": {
    "collapsed": false
   },
   "source": [
    "### STEP 6B: PARSE AUROC OUTPUT"
   ]
  },
  {
   "cell_type": "code",
   "execution_count": null,
   "id": "ac54d824-f7d2-4eba-98e2-df7bc10162c2",
   "metadata": {},
   "outputs": [],
   "source": [
    "# Create empty lists to unpack data\n",
    "onTimeAUROCSignificanceTable = []\n",
    "onTimeAUROCValueTable = []\n",
    "onTimeAUROC_Ubounds = []\n",
    "onTimeAUROC_Lbounds = []\n",
    "onTimeAUROC_prctile = []\n",
    "\n",
    "latentAUROCSignificanceTable = []\n",
    "latentAUROCValueTable = []\n",
    "latentAUROC_Ubounds = []\n",
    "latentAUROC_Lbounds = []\n",
    "latentAUROC_prctile = []\n",
    "\n",
    "# These values are for plotting\n",
    "baseline_start_indexes = []\n",
    "baseline_end_indexes = []\n",
    "ontime_evoked_start_indexes = []\n",
    "ontime_evoked_end_indexes = []\n",
    "latent_evoked_start_indexes = []\n",
    "latent_evoked_end_indexes = []\n",
    "\n",
    "# STEP 6B.1: Unpack on time (reponds between 0s-2s) AUROC data\n",
    "for returns in onTimeReturnValues: # Loop through each return object and unpack the data\n",
    "    onTimeAUROCSignificanceTable.append(returns.response_chart)\n",
    "    onTimeAUROCValueTable.append(returns.auroc_values)\n",
    "    onTimeAUROC_Ubounds.append(returns.all_upper_bounds)\n",
    "    onTimeAUROC_Lbounds.append(returns.all_lower_bounds)\n",
    "    onTimeAUROC_prctile.append(returns.percentiles)\n",
    "    baseline_start_indexes.append(returns.baseline_start_indexes)\n",
    "    baseline_end_indexes.append(returns.baseline_end_indexes)\n",
    "    ontime_evoked_start_indexes.append(returns.evoked_start_indexes)\n",
    "    ontime_evoked_end_indexes.append(returns.evoked_end_indexes)\n",
    "\n",
    "# STEP 6B.2: Unpack latent (reponds between 2s-4s) AUROC data\n",
    "for returns in latentReturnValues: # Loop through each return object and unpack the data\n",
    "    latentAUROCSignificanceTable.append(returns.response_chart)\n",
    "    latentAUROCValueTable.append(returns.auroc_values)\n",
    "    latentAUROC_Ubounds.append(returns.all_upper_bounds)\n",
    "    latentAUROC_Lbounds.append(returns.all_lower_bounds)\n",
    "    latentAUROC_prctile.append(returns.percentiles)\n",
    "    latent_evoked_start_indexes.append(returns.evoked_start_indexes)\n",
    "    latent_evoked_end_indexes.append(returns.evoked_end_indexes)\n",
    "\n",
    "# Convert to numpy arrays and make all values floats\n",
    "onTimeAUROCSignificanceTable = np.array(onTimeAUROCSignificanceTable)\n",
    "latentAUROCSignificanceTable = np.array(latentAUROCSignificanceTable)\n",
    "onTimeAUROCSignificanceTable = onTimeAUROCSignificanceTable.astype(float)\n",
    "latentAUROCSignificanceTable = latentAUROCSignificanceTable.astype(float)\n",
    "\n",
    "# STEP 6B.3: Any cell that responds both during and after the stimulus window is defined as an on time cell\n",
    "# Those on time cells are removed from the latent responses\n",
    "for rows in range(len(latentAUROCSignificanceTable)):\n",
    "    on_time_responses = np.nonzero(onTimeAUROCSignificanceTable[rows] != 0)\n",
    "    latentAUROCSignificanceTable[rows][on_time_responses] = 0"
   ]
  },
  {
   "attachments": {},
   "cell_type": "markdown",
   "id": "586dc7e3-f0b5-4fca-8137-014f3f253fd1",
   "metadata": {},
   "source": [
    "### STEP 6C: Save AUROC Output"
   ]
  },
  {
   "cell_type": "code",
   "execution_count": null,
   "id": "112e160a-a8af-40e4-8a2f-c5a5ec201a2c",
   "metadata": {},
   "outputs": [],
   "source": [
    "folder = ['ImagingAnalysis', 'AUROCData']\n",
    "\n",
    "DewanIOhandler.save_data_to_disk(\n",
    "    onTimeAUROCSignificanceTable, 'onTimeAUROCSignificanceTable', fileHeader, folder)\n",
    "DewanIOhandler.save_data_to_disk(\n",
    "    onTimeAUROCValueTable, 'onTimeAUROCValueTable', fileHeader, folder)\n",
    "DewanIOhandler.save_data_to_disk(\n",
    "    onTimeAUROC_Lbounds, 'onTimeAUROC_Lbounds', fileHeader, folder)\n",
    "DewanIOhandler.save_data_to_disk(\n",
    "    onTimeAUROC_Ubounds, 'onTimeAUROC_Ubounds', fileHeader, folder)\n",
    "DewanIOhandler.save_data_to_disk(\n",
    "    onTimeAUROC_prctile, 'onTimeAUROC_prctile', fileHeader, folder)\n",
    "\n",
    "DewanIOhandler.save_data_to_disk(\n",
    "    baseline_start_indexes, 'baseline_start_indexes', fileHeader, folder)\n",
    "DewanIOhandler.save_data_to_disk(\n",
    "    baseline_end_indexes, 'baseline_end_indexes', fileHeader, folder)\n",
    "DewanIOhandler.save_data_to_disk(\n",
    "    ontime_evoked_start_indexes, 'ontime_evoked_start_indexes', fileHeader, folder)\n",
    "DewanIOhandler.save_data_to_disk(\n",
    "    ontime_evoked_end_indexes, 'ontime_evoked_end_indexes', fileHeader, folder)\n",
    "\n",
    "DewanIOhandler.save_data_to_disk(\n",
    "    latentAUROCSignificanceTable, 'latentAUROCSignificanceTable', fileHeader, folder)\n",
    "DewanIOhandler.save_data_to_disk(\n",
    "    latentAUROCValueTable, 'latentAUROCValueTable', fileHeader, folder)\n",
    "DewanIOhandler.save_data_to_disk(\n",
    "    latentAUROC_Lbounds, 'latentAUROC_Lbounds', fileHeader, folder)\n",
    "DewanIOhandler.save_data_to_disk(\n",
    "    latentAUROC_Ubounds, 'latentAUROC_Ubounds', fileHeader, folder)\n",
    "DewanIOhandler.save_data_to_disk(\n",
    "    latentAUROC_prctile, 'latentAUROC_prctile', fileHeader, folder)\n",
    "\n",
    "DewanIOhandler.save_data_to_disk(\n",
    "    latent_evoked_start_indexes, 'latent_evoked_start_indexes', fileHeader, folder)\n",
    "DewanIOhandler.save_data_to_disk(\n",
    "    latent_evoked_end_indexes, 'latent_evoked_end_indexes', fileHeader, folder)"
   ]
  },
  {
   "attachments": {},
   "cell_type": "markdown",
   "id": "afb6f565",
   "metadata": {},
   "source": [
    "### Checkpoint 3: Load Data for Plotting"
   ]
  },
  {
   "cell_type": "code",
   "execution_count": null,
   "id": "581d2227-89b4-44cb-8eef-2360b42c869c",
   "metadata": {},
   "outputs": [],
   "source": [
    "folder = ['ImagingAnalysis', 'AUROCData']\n",
    "\n",
    "onTimeAUROCSignificanceTable = DewanIOhandler.load_data_from_disk(\n",
    "    'onTimeAUROCSignificanceTable', fileHeader, folder)\n",
    "onTimeAUROCValueTable = DewanIOhandler.load_data_from_disk(\n",
    "    'onTimeAUROCValueTable', fileHeader, folder)\n",
    "onTimeAUROC_Lbounds = DewanIOhandler.load_data_from_disk(\n",
    "    'onTimeAUROC_Lbounds', fileHeader, folder)\n",
    "onTimeAUROC_Ubounds = DewanIOhandler.load_data_from_disk(\n",
    "    'onTimeAUROC_Ubounds', fileHeader, folder)\n",
    "onTimeAUROC_prctile = DewanIOhandler.load_data_from_disk(\n",
    "    'onTimeAUROC_prctile', fileHeader, folder)\n",
    "\n",
    "latentAUROCSignificanceTable = DewanIOhandler.load_data_from_disk(\n",
    "    'latentAUROCSignificanceTable', fileHeader, folder)\n",
    "latentAUROCValueTable = DewanIOhandler.load_data_from_disk(\n",
    "    'latentAUROCValueTable', fileHeader, folder)\n",
    "latentAUROC_Lbounds = DewanIOhandler.load_data_from_disk(\n",
    "    'latentAUROC_Lbounds', fileHeader, folder)\n",
    "latentAUROC_Ubounds = DewanIOhandler.load_data_from_disk(\n",
    "    'latentAUROC_Ubounds', fileHeader, folder)\n",
    "latentAUROC_prctile = DewanIOhandler.load_data_from_disk(\n",
    "    'latentAUROC_prctile', fileHeader, folder)\n",
    "\n",
    "baseline_start_indexes = DewanIOhandler.load_data_from_disk(\n",
    "    'baseline_start_indexes', fileHeader, folder)\n",
    "baseline_end_indexes = DewanIOhandler.load_data_from_disk(\n",
    "    'baseline_end_indexes', fileHeader, folder)\n",
    "ontime_evoked_start_indexes = DewanIOhandler.load_data_from_disk(\n",
    "    'ontime_evoked_start_indexes', fileHeader, folder)\n",
    "ontime_evoked_end_indexes = DewanIOhandler.load_data_from_disk(\n",
    "    'ontime_evoked_end_indexes', fileHeader, folder)\n",
    "latent_evoked_start_indexes = DewanIOhandler.load_data_from_disk(\n",
    "    'latent_evoked_start_indexes', fileHeader, folder)\n",
    "latent_evoked_end_indexes = DewanIOhandler.load_data_from_disk(\n",
    "    'latent_evoked_end_indexes', fileHeader, folder)\n",
    "\n",
    "# CombinedDataArray = DewanIOhandler.load_data_from_disk(\n",
    "#     'CombinedData', fileHeader, 'ImagingAnalysis/CombinedData')\n",
    "\n",
    "folder = ['ImagingAnalysis', 'PreProcessedData']\n",
    "FVData = DewanIOhandler.load_data_from_disk('FVData', fileHeader, folder)\n",
    "CellList = DewanIOhandler.load_data_from_disk('CellList', fileHeader, folder)\n",
    "\n",
    "folder = ['ImagingAnalysis', 'AUROCImports']\n",
    "FinalValveOnIndex = DewanIOhandler.load_data_from_disk('FVonIdx', fileHeader, folder)\n",
    "UnixTimeArray = DewanIOhandler.load_data_from_disk(\n",
    "    'UnixTimeArray', fileHeader, folder)\n",
    "OdorData = DewanIOhandler.load_data_from_disk('OdorData', fileHeader, folder)\n",
    "FinalValveTimeMap = DewanIOhandler.load_data_from_disk('FVTimeMap', fileHeader, folder)\n",
    "\n",
    "Combined_Baseline_Shift_Data = DewanIOhandler.load_data_from_disk(\n",
    "    'Combined_Baseline_Shift_Data', fileHeader, folder)\n"
   ]
  },
  {
   "cell_type": "markdown",
   "id": "60179e8ae9dc5576",
   "metadata": {
    "collapsed": false
   },
   "source": [
    "## STEP 7: Plotting"
   ]
  },
  {
   "cell_type": "code",
   "execution_count": null,
   "id": "dde0df439fec3078",
   "metadata": {},
   "outputs": [],
   "source": [
    "# STEP 7A: Create DataStores for onTime and Latent data for plotting\n",
    "onTimePlottingData = DewanDataStore.PlottingDataStore(Combined_Baseline_Shift_Data, CellList, OdorData, FVData, fileHeader, FinalValveTimeMap, FinalValveOnIndex, UnixTimeArray, baselineDuration, responseDuration, onTimeAUROCSignificanceTable, onTimeAUROC_Lbounds, onTimeAUROC_Ubounds, onTimeAUROC_prctile, baseline_start_indexes, baseline_end_indexes, ontime_evoked_start_indexes, ontime_evoked_end_indexes)\n",
    "\n",
    "latentPlottingData = DewanDataStore.PlottingDataStore(Combined_Baseline_Shift_Data, CellList, OdorData, FVData, fileHeader, FinalValveTimeMap, FinalValveOnIndex, UnixTimeArray, baselineDuration, responseDuration, latentAUROCSignificanceTable, latentAUROC_Lbounds, latentAUROC_Ubounds, latentAUROC_prctile, baseline_start_indexes, baseline_end_indexes, latent_evoked_start_indexes, latent_evoked_end_indexes)"
   ]
  },
  {
   "cell_type": "code",
   "execution_count": null,
   "id": "559f2088",
   "metadata": {
    "collapsed": false
   },
   "outputs": [],
   "source": [
    "# STEP 7B: Plot Cell v Odor Significance Matricies \n",
    "# Note: One Optional Argument: 1) latentCellsOnly\n",
    "# False by default, pass True to create matrix for latent cells\n",
    "DewanPlotting.plot_significance_matricies(onTimePlottingData) # OnTime\n",
    "DewanPlotting.plot_significance_matricies(latentPlottingData, True) # Latent"
   ]
  },
  {
   "cell_type": "code",
   "execution_count": null,
   "id": "089eada6",
   "metadata": {
    "collapsed": false
   },
   "outputs": [],
   "source": [
    "# STEP 7C: Plot Significant Cell Traces\n",
    "# Plot significant cells v odors\n",
    "# Note: two optional arguemnts 1) latentCellsOnly 2) plotAll\n",
    "# Both are False by default; example lines for plotting all cells are included below\n",
    "DewanPlotting.plot_cells(onTimePlottingData)\n",
    "DewanPlotting.plot_cells(latentPlottingData, True)\n",
    "# Uncomment to plot All Cells\n",
    "# DewanPlotting.plot_cells(onTimePlottingData, latentCellsOnly = False, plotAll = True) \n",
    "# DewanPlotting.plot_cells(latentPlottingData, latentCellsOnly = True, plotAll = True) \n",
    "\n",
    "# Note 2: Parameter names are included for clarity, but only the boolean values are required when running the function"
   ]
  },
  {
   "cell_type": "code",
   "execution_count": null,
   "id": "0db10c67",
   "metadata": {},
   "outputs": [],
   "source": [
    "# STEP 7D: Plot Trial Variances\n",
    "# Creates vertical scatter plots showing the change in flourescence for all trials for each cell-odor pairing\n",
    "trialScatterData = DewanDataStore.AUROCdataStore(Combined_Baseline_Shift_Data, CellList, OdorData, FVData, fileHeader, FinalValveOnIndex, UnixTimeArray, baselineDuration, responseDuration, False)\n",
    "\n",
    "# Note: One Optional Argument: 1) latentCellsOnly\n",
    "# False by default, pass True to create plots for latent cells\n",
    "DewanPlotting.plot_trial_variances(trialScatterData, onTimeAUROCSignificanceTable)\n",
    "DewanPlotting.plot_trial_variances(trialScatterData, onTimeAUROCSignificanceTable, True)"
   ]
  },
  {
   "cell_type": "markdown",
   "id": "43516d18568d02a8",
   "metadata": {
    "collapsed": false
   },
   "source": [
    "## STEP 8. Statistics\n",
    "### Checkpoint 4: Load Data for Statistics"
   ]
  },
  {
   "cell_type": "code",
   "execution_count": null,
   "id": "5499fb5cdc1dd5e5",
   "metadata": {
    "collapsed": false
   },
   "outputs": [],
   "source": [
    "folder = ['ImagingAnalysis', 'AUROCImports']\n",
    "\n",
    "Combined_Baseline_Shift_Data = DewanIOhandler.load_data_from_disk('Combined_Baseline_Shift_Data', fileHeader, folder)\n",
    "FinalValveOnIndex = DewanIOhandler.load_data_from_disk('FVonIdx', fileHeader, folder)\n",
    "UnixTimeArray = DewanIOhandler.load_data_from_disk('UnixTimeArray', fileHeader, folder)\n",
    "OdorData = DewanIOhandler.load_data_from_disk('OdorData', fileHeader, folder)\n",
    "\n",
    "folder = ['ImagingAnalysis', 'AUROCData']\n",
    "onTimeAUROCSignificanceTable = DewanIOhandler.load_data_from_disk('onTimeAUROCSignificanceTable', fileHeader, folder)\n",
    "\n",
    "folder = ['ImagingAnalysis', 'PreProcessedData']\n",
    "\n",
    "CellList = DewanIOhandler.load_data_from_disk('CellList', fileHeader, folder)\n",
    "FVData = DewanIOhandler.load_data_from_disk('FVData', fileHeader, folder)\n",
    "GoodCellProps = DewanIOhandler.load_data_from_disk('GoodCellProperties', fileHeader, folder)"
   ]
  },
  {
   "cell_type": "markdown",
   "id": "82fea9dd6256af0c",
   "metadata": {
    "collapsed": false
   },
   "source": [
    "### STEP 8A: Chemotopic Correlations\n",
    "#### Figure plotting pairwise distance correlation (y axis) v. physical cell-cell distance (x-axis)"
   ]
  },
  {
   "cell_type": "code",
   "execution_count": null,
   "id": "ddeb5b98e0d1d396",
   "metadata": {
    "collapsed": false
   },
   "outputs": [],
   "source": [
    "#8A.1 Remove Buzzer and MO from odors\n",
    "buzzer_index = np.where(OdorData == 'Buzzer')[0]\n",
    "#mo_index = np.where(OdorData == 'MO')[0]\n",
    "#indices_to_delete = np.hstack((buzzer_index, mo_index))\n",
    "\n",
    "StatsOdorData = np.delete(OdorData, buzzer_index) # Only remove buzzer cells\n",
    "\n",
    "significant_ontime_cells = np.unique(np.nonzero(onTimeAUROCSignificanceTable > 1)[0])  # Get indexes of only the cells that had >= 1 significant response\n",
    "stats_data = DewanDataStore.AUROCdataStore(Combined_Baseline_Shift_Data, CellList, StatsOdorData, FVData, fileHeader, FinalValveOnIndex, UnixTimeArray, baselineDuration, responseDuration, False)\n",
    "\n",
    "#8A.2 Gather trial-averaged odor responses per cell\n",
    "trial_averaged_responses_matrix = DewanStats.trial_averaged_odor_responses(stats_data, significant_ontime_cells)\n",
    "\n",
    "#8A.3 Z-score trial-averaged responses and calculated pairwise distances\n",
    "odor_pairwise_distances, cell_pairwise_distances = DewanStats.calculate_pairwise_distances(trial_averaged_responses_matrix, stats_data.unique_odors)\n",
    "\n",
    "#8A.4 Plot correlation matricies\n",
    "DewanPlotting.pairwise_correlation_distances(odor_pairwise_distances, cell_pairwise_distances, stats_data.unique_odors)\n",
    "\n",
    "#8A.5 Convert Averaged Responses to PD Dataframe\n",
    "trial_averaged_responses_matrix = pd.DataFrame(trial_averaged_responses_matrix, index=significant_ontime_cells, columns=stats_data.unique_odors) # Attach odor names to columns for cross-experiment alignment"
   ]
  },
  {
   "cell_type": "markdown",
   "id": "33a7227da2bceb47",
   "metadata": {
    "collapsed": false
   },
   "source": [
    "### STEP 8B: Gather cell-cell physical distances"
   ]
  },
  {
   "cell_type": "code",
   "execution_count": null,
   "id": "6ecd7cd878c15d45",
   "metadata": {
    "collapsed": false
   },
   "outputs": [],
   "source": [
    "#8B.1: Get centroids for significant cells\n",
    "Centroids = GoodCellProps[['CentroidX', 'CentroidY']]\n",
    "Centroids = Centroids.iloc[significant_ontime_cells, :]\n",
    "\n",
    "unique_distance_v_correlation = DewanStats.cell_v_correlation(Centroids, cell_pairwise_distances) "
   ]
  },
  {
   "cell_type": "markdown",
   "id": "a830fb6084f6f07d",
   "metadata": {
    "collapsed": false
   },
   "source": [
    "### STEP 8C: Plot distance v correlation"
   ]
  },
  {
   "cell_type": "code",
   "execution_count": null,
   "id": "b9d263062bf7165c",
   "metadata": {
    "collapsed": false
   },
   "outputs": [],
   "source": [
    "DewanPlotting.plot_distance_v_correlation(unique_distance_v_correlation) #TODO: Save Figures Properly"
   ]
  },
  {
   "cell_type": "markdown",
   "id": "b461509c10dadf59",
   "metadata": {
    "collapsed": false
   },
   "source": [
    "### STEP 8D: Save Combined Distance v. Correlation Data"
   ]
  },
  {
   "cell_type": "code",
   "execution_count": null,
   "id": "78d8d02989a0669",
   "metadata": {
    "collapsed": false
   },
   "outputs": [],
   "source": [
    "folder = ['ImagingAnalysis', 'CombinedData']\n",
    "\n",
    "DewanIOhandler.save_data_to_disk(\n",
    "    trial_averaged_responses_matrix, 'trial_averaged_responses_matrix', fileHeader, folder)\n",
    "\n",
    "DewanIOhandler.save_data_to_disk(\n",
    "    unique_distance_v_correlation, 'unique_distance_v_correlation', fileHeader, folder)"
   ]
  },
  {
   "cell_type": "markdown",
   "id": "90d34386bbe56bc8",
   "metadata": {
    "collapsed": false
   },
   "source": [
    "## STEP 9: Lifetime and Population Sparseness\n",
    "### STEP 9A: Remove MO and Buzzer Cells, Get Significant Cells, Gather & Average Trial Data"
   ]
  },
  {
   "cell_type": "code",
   "execution_count": null,
   "id": "78c634e6fc67a5c1",
   "metadata": {
    "collapsed": false
   },
   "outputs": [],
   "source": [
    "cells_lifetime_sparseness = []\n",
    "\n",
    "sparseness_data = DewanDataStore.AUROCdataStore(Combined_Baseline_Shift_Data, CellList, OdorData, FVData, fileHeader, FinalValveOnIndex, UnixTimeArray, baselineDuration, responseDuration, False)\n",
    "\n",
    "significant_ontime_cells = np.unique(np.nonzero(onTimeAUROCSignificanceTable > 1)[0])  # Get indexes of only the cells that had >= 1 significant positive response\n",
    "zeroed_trial_averaged_responses_matrix = trial_averaged_responses_matrix.copy()\n",
    "zeroed_trial_averaged_responses_matrix[zeroed_trial_averaged_responses_matrix < 0] = 0\n",
    "zeroed_trial_averaged_responses_matrix = zeroed_trial_averaged_responses_matrix.loc[significant_ontime_cells]"
   ]
  },
  {
   "cell_type": "markdown",
   "id": "8127de5932e68f2d",
   "metadata": {
    "collapsed": false
   },
   "source": [
    "### STEP 9B: Calculate Lifetime and Population Sparseness"
   ]
  },
  {
   "cell_type": "code",
   "execution_count": null,
   "id": "c1d60f03f5136660",
   "metadata": {
    "collapsed": false
   },
   "outputs": [],
   "source": [
    "lifetime_sparseness_DF = DewanStats.lifetime_sparseness(zeroed_trial_averaged_responses_matrix, significant_ontime_cells, stats_data.Cell_List)\n",
    "population_sparseness_DF = DewanStats.population_sparseness(zeroed_trial_averaged_responses_matrix, significant_ontime_cells, stats_data.unique_odors)"
   ]
  },
  {
   "cell_type": "markdown",
   "id": "907224ecf3b47d73",
   "metadata": {
    "collapsed": false
   },
   "source": [
    "### STEP 9C: Save Spraseness Data"
   ]
  },
  {
   "cell_type": "code",
   "execution_count": null,
   "id": "2af85eeaa8a9fd96",
   "metadata": {
    "collapsed": false
   },
   "outputs": [],
   "source": [
    "folder = ['ImagingAnalysis', 'Statistics']\n",
    "folder_path = Path(*folder)\n",
    "\n",
    "lifetime_sparseness_excel_path = folder_path.joinpath(f'{fileHeader}lifetime_sparseness.xlsx')\n",
    "population_sparseness_excel_path = folder_path.joinpath(f'{fileHeader}population_sparseness.xlsx')\n",
    "\n",
    "lifetime_sparseness_DF.to_excel(lifetime_sparseness_excel_path, na_rep='NaN')\n",
    "population_sparseness_DF.to_excel(population_sparseness_excel_path, na_rep='NaN')\n",
    "DewanIOhandler.save_data_to_disk(lifetime_sparseness_DF, 'lifetime_sparseness_DF', fileHeader, folder)\n",
    "DewanIOhandler.save_data_to_disk(population_sparseness_DF, 'population_sparseness_DF', fileHeader, folder)"
   ]
  }
 ],
 "metadata": {
  "kernelspec": {
   "display_name": "ImagingAnalysis",
   "language": "python",
   "name": "python3"
  },
  "language_info": {
   "codemirror_mode": {
    "name": "ipython",
    "version": 3
   },
   "file_extension": ".py",
   "mimetype": "text/x-python",
   "name": "python",
   "nbconvert_exporter": "python",
   "pygments_lexer": "ipython3",
   "version": "3.10.0"
  },
  "vscode": {
   "interpreter": {
    "hash": "977baf04aa409d7582f6e94b1f1f1d2e9ac45da44046a9cec7b1a770a676514b"
   }
  }
 },
 "nbformat": 4,
 "nbformat_minor": 5
}
