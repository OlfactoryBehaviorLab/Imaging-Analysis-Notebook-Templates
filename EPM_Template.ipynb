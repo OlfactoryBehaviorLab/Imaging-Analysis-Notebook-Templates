{
 "cells": [
  {
   "cell_type": "code",
   "execution_count": null,
   "id": "initial_id",
   "metadata": {
    "collapsed": true
   },
   "outputs": [],
   "source": [
    "import cv2\n",
    "import numpy as np\n",
    "import pandas as pd\n",
    "\n",
    "from pathlib import Path\n",
    "\n",
    "from dewan_calcium.helpers import DewanEPM"
   ]
  },
  {
   "cell_type": "code",
   "outputs": [],
   "source": [
    "data_dir = Path('C:\\Projects\\EPM_Data') \n",
    "\n",
    "video_path = data_dir.joinpath('video.mkv')\n",
    "points_path = data_dir.joinpath('points.h5')\n",
    "image_path = data_dir.joinpath('labeled_image.jpg')"
   ],
   "metadata": {
    "collapsed": false
   },
   "id": "a9b3d146c77c791e",
   "execution_count": null
  },
  {
   "cell_type": "code",
   "outputs": [],
   "source": [
    "points = pd.read_hdf(points_path) # Read the points\n",
    "cols = ['mouse_x', 'mouse_y', 'mouse_p', 'led_x', 'led_y', 'led_p']  # Reset the column names to something sensible\n",
    "points.columns = cols \n",
    "\n",
    "# There may be an instance where the model erroneously identified the LED for very short time periods\n",
    "# find_led_start bins the possible LED on times (anywhere led_p > 0.98)\n",
    "# We then find the bin with the largest size, which means it has the most frames where the LED is identified\n",
    "# This is most likely the period where the experimenter turned on the LED\n",
    "led_bins = np.array(DewanEPM.find_led_start(points))\n",
    "true_led_bin = np.argmax(np.subtract(led_bins[:, 1], led_bins[:,0]))\n",
    "\n",
    "led_on = led_bins[true_led_bin][0] # Find first row where the LED is 'on'\n",
    "good_points = points.iloc[led_on:-1] # Delete all data before the LED is 'on'\n",
    "good_points.reset_index(drop=True, inplace=True) # Reset the index\n",
    "\n",
    "# Get X, Y coordinates, cast to int, and combine them into tuples\n",
    "head_x = good_points['mouse_x'].astype(int)\n",
    "head_y = good_points['mouse_y'].astype(int)\n",
    "coordinates = list(zip(head_x, head_y))"
   ],
   "metadata": {
    "collapsed": false
   },
   "id": "3c77b4569ed5cad3",
   "execution_count": null
  },
  {
   "cell_type": "code",
   "outputs": [],
   "source": [
    "video = cv2.VideoCapture(str(video_path))  # Load Video\n",
    "_ = video.set(cv2.CAP_PROP_POS_FRAMES, led_on)  # Set the first frame to the first LED frame\n",
    "_, frame = video.read() # Read said frame\n",
    "\n",
    "for pair in coordinates:  # Loop through each coordinate and draw a red point\n",
    "    cv2.circle(frame, pair, 0, (0,0,255), -1)\n",
    "\n",
    "_ = cv2.imwrite(str(image_path), frame) # Save image"
   ],
   "metadata": {
    "collapsed": false
   },
   "id": "a4a2d5bb9e31ac7d",
   "execution_count": null
  }
 ],
 "metadata": {
  "kernelspec": {
   "display_name": "Python 3",
   "language": "python",
   "name": "python3"
  },
  "language_info": {
   "codemirror_mode": {
    "name": "ipython",
    "version": 2
   },
   "file_extension": ".py",
   "mimetype": "text/x-python",
   "name": "python",
   "nbconvert_exporter": "python",
   "pygments_lexer": "ipython2",
   "version": "2.7.6"
  }
 },
 "nbformat": 4,
 "nbformat_minor": 5
}
