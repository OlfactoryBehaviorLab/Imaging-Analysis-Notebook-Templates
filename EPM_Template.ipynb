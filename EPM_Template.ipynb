{
 "cells": [
  {
   "cell_type": "code",
   "execution_count": 1,
   "id": "initial_id",
   "metadata": {
    "collapsed": true,
    "ExecuteTime": {
     "end_time": "2024-04-11T01:15:55.849563Z",
     "start_time": "2024-04-11T01:15:55.462564Z"
    }
   },
   "outputs": [],
   "source": [
    "import cv2\n",
    "import cv2 as cv\n",
    "import numpy as np\n",
    "import pandas as pd\n",
    "\n",
    "from pathlib import Path"
   ]
  },
  {
   "cell_type": "code",
   "outputs": [],
   "source": [
    "def find_led_start(points):\n",
    "    indexes = points.index[points['led_p'] > 0.98].values\n",
    "    bins = []\n",
    "    temp_bin = []\n",
    "    for i in range(len(indexes)-1):\n",
    "        i1 = indexes[i]\n",
    "        i2 = indexes[i + 1]\n",
    "        \n",
    "        diff = i2 - i1\n",
    "        if not temp_bin:\n",
    "            temp_bin.append(i1)\n",
    "        else:\n",
    "            if i == len(indexes)-2:  # End is len - 1, and then -1 again for the zero indexes\n",
    "                temp_bin.append(i2)\n",
    "                bins.append(temp_bin)\n",
    "                temp_bin = []\n",
    "            elif diff == 1:\n",
    "                continue\n",
    "            elif diff > 1:\n",
    "                temp_bin.append(i1)\n",
    "                bins.append(temp_bin)\n",
    "                temp_bin = []\n",
    "            \n",
    "\n",
    "    return bins\n",
    "        "
   ],
   "metadata": {
    "collapsed": false,
    "ExecuteTime": {
     "end_time": "2024-04-11T01:16:01.235566Z",
     "start_time": "2024-04-11T01:16:01.219566Z"
    }
   },
   "id": "ffeab29e184882c",
   "execution_count": 2
  },
  {
   "cell_type": "code",
   "outputs": [],
   "source": [
    "data_dir = Path('C:\\Projects\\EPM_Data') "
   ],
   "metadata": {
    "collapsed": false,
    "ExecuteTime": {
     "end_time": "2024-04-11T01:16:01.535564Z",
     "start_time": "2024-04-11T01:16:01.522565Z"
    }
   },
   "id": "1761064bf4b7e981",
   "execution_count": 3
  },
  {
   "cell_type": "code",
   "outputs": [],
   "source": [
    "video_path = data_dir.joinpath('video.mkv')\n",
    "points_path = data_dir.joinpath('points.h5')"
   ],
   "metadata": {
    "collapsed": false,
    "ExecuteTime": {
     "end_time": "2024-04-11T01:31:14.656765Z",
     "start_time": "2024-04-11T01:31:14.652766Z"
    }
   },
   "id": "a9b3d146c77c791e",
   "execution_count": 46
  },
  {
   "cell_type": "code",
   "outputs": [],
   "source": [
    "points = pd.read_hdf(points_path) # Read the points\n",
    "cols = ['mouse_x', 'mouse_y', 'mouse_p', 'led_x', 'led_y', 'led_p']  # Reset the column names to something sensible\n",
    "points.columns = cols \n",
    "\n",
    "# There may be an instance where the model erroneously identified the LED for very short time periods\n",
    "# find_led_start bins the possible LED on times (anywhere led_p > 0.98)\n",
    "# We then find the bin with the largest size, which means it has the most frames where the LED is identified\n",
    "# This is most likely the period where the experimenter turned on the LED\n",
    "led_bins = np.array(find_led_start(points))\n",
    "true_led_bin = np.argmax(np.subtract(led_bins[:, 1], led_bins[:,0]))\n",
    "\n",
    "led_on = led_bins[true_led_bin][0] # Find first row where the LED is 'on'\n",
    "good_points = points.iloc[led_on:-1] # Delete all data before the LED is 'on'\n",
    "good_points.reset_index(drop=True, inplace=True) # Reset the index\n",
    "\n",
    "# Get X, Y coordinates and combine them into tuples\n",
    "head_x = good_points['mouse_x'].astype(int)\n",
    "head_y = good_points['mouse_y'].astype(int)\n",
    "coordinates = list(zip(head_x, head_y))"
   ],
   "metadata": {
    "collapsed": false,
    "ExecuteTime": {
     "end_time": "2024-04-11T01:31:15.377766Z",
     "start_time": "2024-04-11T01:31:15.352764Z"
    }
   },
   "id": "3c77b4569ed5cad3",
   "execution_count": 47
  },
  {
   "cell_type": "code",
   "outputs": [],
   "source": [
    "video = cv2.VideoCapture(str(video_path))  # Load Video\n",
    "_ = video.set(cv2.CAP_PROP_POS_FRAMES, led_on)  # Set the first frame to the first LED frame\n",
    "_, frame = video.read() # Read said frame\n",
    "_ = cv2.imwrite('image.jpg', frame) # Save it as a jpg"
   ],
   "metadata": {
    "collapsed": false,
    "ExecuteTime": {
     "end_time": "2024-04-11T01:31:15.932810Z",
     "start_time": "2024-04-11T01:31:15.800811Z"
    }
   },
   "id": "e8486bfab4be45d0",
   "execution_count": 48
  },
  {
   "cell_type": "code",
   "outputs": [],
   "source": [
    "for pair in coordinates:\n",
    "    cv2.circle(frame, pair, 1, (0,0,255))"
   ],
   "metadata": {
    "collapsed": false,
    "ExecuteTime": {
     "end_time": "2024-04-11T01:35:07.466977Z",
     "start_time": "2024-04-11T01:35:07.437981Z"
    }
   },
   "id": "6d43be265a60af8a",
   "execution_count": 53
  },
  {
   "cell_type": "code",
   "outputs": [],
   "source": [
    "_ = cv2.imwrite('for_Sam.jpg', frame)"
   ],
   "metadata": {
    "collapsed": false,
    "ExecuteTime": {
     "end_time": "2024-04-11T01:35:07.826976Z",
     "start_time": "2024-04-11T01:35:07.812976Z"
    }
   },
   "id": "a4a2d5bb9e31ac7d",
   "execution_count": 54
  },
  {
   "cell_type": "code",
   "outputs": [],
   "source": [],
   "metadata": {
    "collapsed": false
   },
   "id": "240e1a0ffa40dc82"
  }
 ],
 "metadata": {
  "kernelspec": {
   "display_name": "Python 3",
   "language": "python",
   "name": "python3"
  },
  "language_info": {
   "codemirror_mode": {
    "name": "ipython",
    "version": 2
   },
   "file_extension": ".py",
   "mimetype": "text/x-python",
   "name": "python",
   "nbconvert_exporter": "python",
   "pygments_lexer": "ipython2",
   "version": "2.7.6"
  }
 },
 "nbformat": 4,
 "nbformat_minor": 5
}
