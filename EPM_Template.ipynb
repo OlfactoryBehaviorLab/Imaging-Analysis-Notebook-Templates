{
 "cells": [
  {
   "cell_type": "code",
   "execution_count": 2,
   "id": "initial_id",
   "metadata": {
    "collapsed": true,
    "ExecuteTime": {
     "end_time": "2024-04-11T00:08:58.255559Z",
     "start_time": "2024-04-11T00:08:58.243558Z"
    }
   },
   "outputs": [],
   "source": [
    "import cv2 as cv\n",
    "import numpy as np\n",
    "import pandas as pd\n",
    "\n",
    "from pathlib import Path"
   ]
  },
  {
   "cell_type": "code",
   "outputs": [],
   "source": [
    "data_dir = Path('C:\\Projects\\EPM_Data') "
   ],
   "metadata": {
    "collapsed": false,
    "ExecuteTime": {
     "end_time": "2024-04-11T00:09:07.062537Z",
     "start_time": "2024-04-11T00:09:07.045538Z"
    }
   },
   "id": "1761064bf4b7e981",
   "execution_count": 3
  },
  {
   "cell_type": "code",
   "outputs": [],
   "source": [
    "video_path = data_dir.joinpath('video.mp4')\n",
    "points_path = data_dir.joinpath('points.h5')"
   ],
   "metadata": {
    "collapsed": false,
    "ExecuteTime": {
     "end_time": "2024-04-11T00:30:27.120710Z",
     "start_time": "2024-04-11T00:30:27.107711Z"
    }
   },
   "id": "a9b3d146c77c791e",
   "execution_count": 38
  },
  {
   "cell_type": "code",
   "outputs": [],
   "source": [
    "points = pd.read_hdf(points_path) # Read the points\n",
    "cols = ['mouse_x', 'mouse_y', 'mouse_p', 'led_x', 'led_y', 'led_p']  # Reset the column names to something sensible\n",
    "points.columns = cols \n",
    "\n",
    "led_on = points.index[points['led_p'] > 0.98][0] # Find first row where the LED is 'on\"\n",
    "good_points = points.iloc[led_on:-1] # Delete all data before the LED is 'on'\n",
    "good_points.reset_index(drop=True, inplace=True) # Reset the index\n",
    "\n",
    "# Get X, Y coordinates and combine them into tuples\n",
    "head_x = good_points['mouse_x']\n",
    "head_y = good_points['mouse_y']\n",
    "coordinates = list(zip(head_x, head_y))"
   ],
   "metadata": {
    "collapsed": false,
    "ExecuteTime": {
     "end_time": "2024-04-11T00:31:52.027334Z",
     "start_time": "2024-04-11T00:31:52.015334Z"
    }
   },
   "id": "3c77b4569ed5cad3",
   "execution_count": 41
  }
 ],
 "metadata": {
  "kernelspec": {
   "display_name": "Python 3",
   "language": "python",
   "name": "python3"
  },
  "language_info": {
   "codemirror_mode": {
    "name": "ipython",
    "version": 2
   },
   "file_extension": ".py",
   "mimetype": "text/x-python",
   "name": "python",
   "nbconvert_exporter": "python",
   "pygments_lexer": "ipython2",
   "version": "2.7.6"
  }
 },
 "nbformat": 4,
 "nbformat_minor": 5
}
