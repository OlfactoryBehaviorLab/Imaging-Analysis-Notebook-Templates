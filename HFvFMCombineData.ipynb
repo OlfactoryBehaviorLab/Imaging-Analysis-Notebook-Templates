{
 "cells": [
  {
   "cell_type": "code",
   "outputs": [],
   "source": [
    "import matplotlib.pyplot as plt\n",
    "import numpy as np\n",
    "\n",
    "from pathlib import Path\n",
    "from dewan_calcium.helpers import DewanCombineData"
   ],
   "metadata": {
    "collapsed": false,
    "ExecuteTime": {
     "end_time": "2024-03-22T20:54:36.890132500Z",
     "start_time": "2024-03-22T20:54:36.878089700Z"
    }
   },
   "id": "8a7c2cdf53ac088a",
   "execution_count": 17
  },
  {
   "cell_type": "code",
   "outputs": [],
   "source": [
    "root_path = Path('Z:\\\\2_Inscopix\\\\1_DTT\\\\2_FMvHF')\n",
    "experiments = list(root_path.iterdir())\n",
    "\n",
    "data_folders = []\n",
    "for each in experiments:\n",
    "    data_path = each.joinpath('HF_FM_Analysis/CombinedData')\n",
    "    data_folders.append(data_path)\n",
    "\n",
    "spike_paths = []\n",
    "denoised_data_paths = []\n",
    "\n",
    "for each in data_folders:\n",
    "    spike_file = list(each.glob('*spikes.pickle'))\n",
    "    denoised_data_file = list(each.glob('*denoised_data.pickle'))\n",
    "    spike_paths.extend(spike_file)\n",
    "    denoised_data_paths.extend(denoised_data_file)"
   ],
   "metadata": {
    "collapsed": false,
    "ExecuteTime": {
     "end_time": "2024-03-22T21:00:33.083233700Z",
     "start_time": "2024-03-22T21:00:32.252042700Z"
    }
   },
   "id": "934b13f741431d07",
   "execution_count": 32
  },
  {
   "cell_type": "code",
   "outputs": [],
   "source": [
    "combined_spike_data = [DewanCombineData.load_data(file) for file in spike_paths]\n",
    "comnbined_denoised_data = [DewanCombineData.load_data(file) for file in denoised_data_paths]"
   ],
   "metadata": {
    "collapsed": false,
    "ExecuteTime": {
     "end_time": "2024-03-22T21:01:08.966181200Z",
     "start_time": "2024-03-22T21:01:05.937226400Z"
    }
   },
   "id": "e13e8de27530da8f",
   "execution_count": 34
  },
  {
   "cell_type": "code",
   "outputs": [],
   "source": [
    "combined_spike_data_stacked = []\n",
    "combined_denoised_data_stacked = []\n",
    "for each in combined_spike_data:\n",
    "    combined_spike_data_stacked.extend(each)\n",
    "    \n",
    "for each in comnbined_denoised_data:\n",
    "    combined_denoised_data_stacked.extend(each)"
   ],
   "metadata": {
    "collapsed": false,
    "ExecuteTime": {
     "end_time": "2024-03-22T21:01:42.250732700Z",
     "start_time": "2024-03-22T21:01:42.233732500Z"
    }
   },
   "id": "7b56f45518321625",
   "execution_count": 35
  },
  {
   "cell_type": "code",
   "execution_count": null,
   "id": "55d8e628da397c48",
   "metadata": {
    "collapsed": false
   },
   "outputs": [],
   "source": [
    "data_length = np.max([len(each) for each in combined_denoised_data_stacked])\n",
    "\n",
    "fm_start = data_length / 3\n",
    "fm_end = fm_start * 2\n",
    "\n",
    "spike_ratios = []  # 1 -> All FM; 0 -> All Head Fixed\n",
    "\n",
    "for i, each in enumerate(combined_spike_data_stacked):\n",
    "    total_spikes = len(each)\n",
    "    num_fm_spikes = len(np.where(np.logical_and(each >= fm_start, each < fm_end))[0])\n",
    "    ratio = round(num_fm_spikes / total_spikes, 5)\n",
    "    spike_ratios.append(ratio)\n",
    "\n",
    "new_order = np.flip(np.argsort(spike_ratios))\n",
    "\n",
    "sorted_peaks = []\n",
    "sorted_ratios = []\n",
    "for index in new_order:\n",
    "    sorted_peaks.append(combined_spike_data_stacked[index])\n",
    "    sorted_ratios.append(spike_ratios[index])\n",
    "    "
   ]
  },
  {
   "cell_type": "code",
   "outputs": [],
   "source": [
    "bins = [0.98, 0.84, 0.16, .02]\n",
    "\n",
    "cells_per_bin = []\n",
    "bin_indexes = []\n",
    "\n",
    "for bin_value in bins:\n",
    "    cell_indexes = np.where(np.greater_equal(sorted_ratios, bin_value))[0]\n",
    "    cells_per_bin.append(len(cell_indexes))\n",
    "    line_index = cell_indexes[-1] + 0.5\n",
    "    bin_indexes.append(line_index)"
   ],
   "metadata": {
    "collapsed": false,
    "ExecuteTime": {
     "end_time": "2024-03-22T21:08:53.170032Z",
     "start_time": "2024-03-22T21:08:53.160034200Z"
    }
   },
   "id": "4d167b98967324ae",
   "execution_count": 48
  },
  {
   "cell_type": "code",
   "outputs": [
    {
     "data": {
      "text/plain": "[3, 9, 85, 93]"
     },
     "execution_count": 49,
     "metadata": {},
     "output_type": "execute_result"
    }
   ],
   "source": [
    "cells_per_bin"
   ],
   "metadata": {
    "collapsed": false,
    "ExecuteTime": {
     "end_time": "2024-03-22T21:08:57.204022800Z",
     "start_time": "2024-03-22T21:08:57.188022200Z"
    }
   },
   "id": "d815e5f91e716a36",
   "execution_count": 49
  },
  {
   "cell_type": "code",
   "outputs": [
    {
     "data": {
      "text/plain": "<Figure size 640x480 with 1 Axes>",
      "image/png": "[encoded data removed]"
     },
     "metadata": {},
     "output_type": "display_data"
    }
   ],
   "source": [
    "fig, ax = plt.subplots()\n",
    "\n",
    "x_lim_min = -data_length * 0.01\n",
    "x_lim_max = data_length * 1.01\n",
    "\n",
    "for i, peaks in enumerate(sorted_peaks):\n",
    "    y_vals = [i] * len(peaks)\n",
    "    ax.scatter(peaks, y_vals, marker=\"_\", c='k', s=0.5)\n",
    "\n",
    "ax.vlines([3000, 6000], ymin=-1, ymax=len(sorted_peaks) + 1, color='k', lw=1)\n",
    "ax.hlines(bin_indexes, xmin=x_lim_min, xmax=x_lim_max, color='g', lw=0.5)\n",
    "\n",
    "ax.set_xticks(np.arange(0, 10000, 1000))\n",
    "ax.set_yticks([])\n",
    "\n",
    "ax.set_xlabel('Time (ms)')\n",
    "\n",
    "ax.set_ylim([-1, len(sorted_peaks) + 1])\n",
    "ax.set_xlim([(-data_length * .01), (data_length * 1.01)])\n",
    "\n",
    "plt.suptitle(\"HF v. Freely Moving Cells\")\n",
    "\n",
    "fig.savefig('test.pdf')"
   ],
   "metadata": {
    "collapsed": true,
    "ExecuteTime": {
     "end_time": "2024-03-22T21:07:21.671255600Z",
     "start_time": "2024-03-22T21:07:21.392255500Z"
    }
   },
   "id": "initial_id",
   "execution_count": 46
  }
 ],
 "metadata": {
  "kernelspec": {
   "display_name": "Python 3",
   "language": "python",
   "name": "python3"
  },
  "language_info": {
   "codemirror_mode": {
    "name": "ipython",
    "version": 2
   },
   "file_extension": ".py",
   "mimetype": "text/x-python",
   "name": "python",
   "nbconvert_exporter": "python",
   "pygments_lexer": "ipython2",
   "version": "2.7.6"
  }
 },
 "nbformat": 4,
 "nbformat_minor": 5
}
