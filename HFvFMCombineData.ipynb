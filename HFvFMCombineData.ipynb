{
 "cells": [
  {
   "cell_type": "code",
   "execution_count": null,
   "id": "initial_id",
   "metadata": {
    "collapsed": true
   },
   "outputs": [],
   "source": [
    "fm_start = len(denoised_data[0]) / 3\n",
    "fm_end = fm_start * 2\n",
    "\n",
    "spike_ratios = []  # 1 -> All FM; 0 -> All Head Fixed\n",
    "\n",
    "for i, each in enumerate(peaks):\n",
    "    total_spikes = len(each)\n",
    "    num_fm_spikes = len(np.where(np.logical_and(each >= fm_start, each < fm_end))[0])\n",
    "    ratio = round(num_fm_spikes / total_spikes, 5)\n",
    "    spike_ratios.append(ratio)\n",
    "\n",
    "new_order = np.flip(np.argsort(spike_ratios))\n",
    "\n",
    "sorted_peaks = []\n",
    "sorted_ratios = []\n",
    "for index in new_order:\n",
    "    sorted_peaks.append(peaks[index])\n",
    "    sorted_ratios.append(spike_ratios[index])\n",
    "bins = [0.98, 0.84, 0.16, .02]\n",
    "\n",
    "bin_indexes = []\n",
    "\n",
    "for bin_value in bins:\n",
    "    index = np.where(np.greater_equal(sorted_ratios, bin_value))[0][-1] + 0.5\n",
    "    bin_indexes.append(index)\n",
    "\n",
    "fig, ax = plt.subplots()\n",
    "\n",
    "for i, peaks in enumerate(sorted_peaks):\n",
    "    y_vals = [i] * len(peaks)\n",
    "    ax.scatter(peaks, y_vals, marker=\"_\", c='k', s=0.5)\n",
    "\n",
    "ax.set_xticks(np.arange(0, 10000, 1000))\n",
    "ax.set_xlabel('Time (ms)')\n",
    "ax.vlines([3000, 6000], ymin=-1, ymax=len(sorted_peaks) + 1, color='k', lw=1)\n",
    "ax.hlines(bin_indexes, xmin=-1, xmax=10000, color='g', lw=1)\n",
    "ax.set_yticks([])\n",
    "ax.set_ylim([-1, len(sorted_peaks) + 1])\n",
    "ax.set_xlim([-20, 9020])\n",
    "fig.savefig('test.pdf')"
   ]
  }
 ],
 "metadata": {
  "kernelspec": {
   "display_name": "Python 3",
   "language": "python",
   "name": "python3"
  },
  "language_info": {
   "codemirror_mode": {
    "name": "ipython",
    "version": 2
   },
   "file_extension": ".py",
   "mimetype": "text/x-python",
   "name": "python",
   "nbconvert_exporter": "python",
   "pygments_lexer": "ipython2",
   "version": "2.7.6"
  }
 },
 "nbformat": 4,
 "nbformat_minor": 5
}
